{
  "cells": [
    {
      "cell_type": "markdown",
      "metadata": {},
      "source": [
        "[![Open In Colab](https://colab.research.google.com/assets/colab-badge.svg)](https://colab.research.google.com/github/sparks-baird/xtal2png/blob/cnn-classification/notebooks/2.1-xtal2png-cnn-regression.ipynb)"
      ]
    },
    {
      "cell_type": "markdown",
      "metadata": {
        "id": "5lMmi520_wHU"
      },
      "source": [
        "# Regression on `matbench_mp_e_form` using `xtal2png` representation of crystal structures\n",
        "\n",
        "## Description\n",
        "In this notebook, a convolutional neural network is applied to the `matbench_mp_e_form` regression task using [`xtal2png`](https://xtal2png.readthedocs.io/en/latest/) representations of crystal structures. Crystal structures are encoded as grayscale PNG images, but because the conversion operations are restricted to structures with fewer than 52 sites, the network is only trained on structures with `num_sites <= 52`. For structures in the test set with more than 52 sites, we simply predict the mean of the training outputs (i.e. the mean of `y_train`, where `X_train` and `y_train` correspond to training inputs and outputs respectively, with `num_sites <= 52`).\n",
        "\n",
        "## Benchmark Name\n",
        "Matbench v0.1\n",
        "\n",
        "## Package Versions\n",
        "- [matbench](https://anaconda.org/conda-forge/matbench)==0.5.0\n",
        "- [xtal2png](https://anaconda.org/conda-forge/xtal2png)==0.7.0\n",
        "- [pytorch](https://anaconda.org/pytorch/pytorch)==1.11.0\n",
        "- [skorch](https://anaconda.org/conda-forge/skorch)==0.11.0\n",
        "- [pytorch-lightning](https://anaconda.org/conda-forge/pytorch-lightning)==1.6.4\n",
        "- [mosaicml](https://anaconda.org/mosaicml/mosaicml)==0.8.0\n",
        "\n",
        "## Algorithm Description\n",
        "A fairly simple CNN is created in vanilla PyTorch, very loosely following the PyTorch implementation of [AlexNet](https://github.com/pytorch/vision/blob/main/torchvision/models/alexnet.py). Model surgery is then performed on the max-pooling and certain convolutional layers using MosaicML's [Composer](https://github.com/mosaicml/composer) library.\n",
        "\n",
        "### Imports"
      ]
    },
    {
      "cell_type": "code",
      "execution_count": null,
      "metadata": {
        "colab": {
          "base_uri": "https://localhost:8080/",
          "height": 1000
        },
        "id": "lLNR91hF_wHW",
        "outputId": "ac608469-2c92-4b20-9322-8638699eb932"
      },
      "outputs": [
        {
          "name": "stdout",
          "output_type": "stream",
          "text": [
            "Looking in indexes: https://pypi.org/simple, https://us-python.pkg.dev/colab-wheels/public/simple/\n",
            "Collecting matbench\n",
            "  Downloading matbench-0.5-py3-none-any.whl (9.9 MB)\n",
            "\u001b[K     |████████████████████████████████| 9.9 MB 7.1 MB/s \n",
            "\u001b[?25hCollecting skorch\n",
            "  Downloading skorch-0.11.0-py3-none-any.whl (155 kB)\n",
            "\u001b[K     |████████████████████████████████| 155 kB 62.0 MB/s \n",
            "\u001b[?25hCollecting xtal2png\n",
            "  Downloading xtal2png-0.8.0-py3-none-any.whl (30 kB)\n",
            "Collecting pytorch-lightning\n",
            "  Downloading pytorch_lightning-1.6.4-py3-none-any.whl (585 kB)\n",
            "\u001b[K     |████████████████████████████████| 585 kB 80.7 MB/s \n",
            "\u001b[?25hCollecting mosaicml\n",
            "  Downloading mosaicml-0.8.0-py3-none-any.whl (548 kB)\n",
            "\u001b[K     |████████████████████████████████| 548 kB 52.1 MB/s \n",
            "\u001b[?25hCollecting scikit-learn==1.0\n",
            "  Downloading scikit_learn-1.0-cp37-cp37m-manylinux_2_12_x86_64.manylinux2010_x86_64.whl (23.1 MB)\n",
            "\u001b[K     |████████████████████████████████| 23.1 MB 1.0 MB/s \n",
            "\u001b[?25hCollecting monty==2021.8.17\n",
            "  Downloading monty-2021.8.17-py3-none-any.whl (65 kB)\n",
            "\u001b[K     |████████████████████████████████| 65 kB 4.5 MB/s \n",
            "\u001b[?25hCollecting matminer==0.7.4\n",
            "  Downloading matminer-0.7.4-py3-none-any.whl (1.4 MB)\n",
            "\u001b[K     |████████████████████████████████| 1.4 MB 54.9 MB/s \n",
            "\u001b[?25hCollecting requests>=2.26.0\n",
            "  Downloading requests-2.28.1-py3-none-any.whl (62 kB)\n",
            "\u001b[K     |████████████████████████████████| 62 kB 1.7 MB/s \n",
            "\u001b[?25hRequirement already satisfied: pandas>=1.3.1 in /usr/local/lib/python3.7/dist-packages (from matminer==0.7.4->matbench) (1.3.5)\n",
            "Requirement already satisfied: tqdm>=4.62.0 in /usr/local/lib/python3.7/dist-packages (from matminer==0.7.4->matbench) (4.64.0)\n",
            "Collecting pymatgen>=2022.0.11\n",
            "  Downloading pymatgen-2022.0.17.tar.gz (40.6 MB)\n",
            "\u001b[K     |████████████████████████████████| 40.6 MB 137.8 MB/s \n",
            "\u001b[?25h  Installing build dependencies ... \u001b[?25l\u001b[?25hdone\n",
            "  Getting requirements to build wheel ... \u001b[?25l\u001b[?25hdone\n",
            "  Installing backend dependencies ... \u001b[?25l\u001b[?25hdone\n",
            "    Preparing wheel metadata ... \u001b[?25l\u001b[?25hdone\n",
            "Collecting six>=1.16.0\n",
            "  Downloading six-1.16.0-py2.py3-none-any.whl (11 kB)\n",
            "Collecting pint>=0.17\n",
            "  Downloading Pint-0.18-py2.py3-none-any.whl (209 kB)\n",
            "\u001b[K     |████████████████████████████████| 209 kB 78.7 MB/s \n",
            "\u001b[?25hCollecting future>=0.18.2\n",
            "  Downloading future-0.18.2.tar.gz (829 kB)\n",
            "\u001b[K     |████████████████████████████████| 829 kB 79.7 MB/s \n",
            "\u001b[?25hRequirement already satisfied: jsonschema>=3.2.0 in /usr/local/lib/python3.7/dist-packages (from matminer==0.7.4->matbench) (4.3.3)\n",
            "Requirement already satisfied: numpy>=1.21.1 in /usr/local/lib/python3.7/dist-packages (from matminer==0.7.4->matbench) (1.21.6)\n",
            "Requirement already satisfied: pymongo>=3.12.0 in /usr/local/lib/python3.7/dist-packages (from matminer==0.7.4->matbench) (4.1.1)\n",
            "Collecting sympy>=1.8\n",
            "  Downloading sympy-1.10.1-py3-none-any.whl (6.4 MB)\n",
            "\u001b[K     |████████████████████████████████| 6.4 MB 58.1 MB/s \n",
            "\u001b[?25hRequirement already satisfied: joblib>=0.11 in /usr/local/lib/python3.7/dist-packages (from scikit-learn==1.0->matbench) (1.1.0)\n",
            "Requirement already satisfied: threadpoolctl>=2.0.0 in /usr/local/lib/python3.7/dist-packages (from scikit-learn==1.0->matbench) (3.1.0)\n",
            "Requirement already satisfied: scipy>=1.1.0 in /usr/local/lib/python3.7/dist-packages (from scikit-learn==1.0->matbench) (1.4.1)\n",
            "Requirement already satisfied: attrs>=17.4.0 in /usr/local/lib/python3.7/dist-packages (from jsonschema>=3.2.0->matminer==0.7.4->matbench) (21.4.0)\n",
            "Requirement already satisfied: importlib-resources>=1.4.0 in /usr/local/lib/python3.7/dist-packages (from jsonschema>=3.2.0->matminer==0.7.4->matbench) (5.7.1)\n",
            "Requirement already satisfied: typing-extensions in /usr/local/lib/python3.7/dist-packages (from jsonschema>=3.2.0->matminer==0.7.4->matbench) (4.1.1)\n",
            "Requirement already satisfied: importlib-metadata in /usr/local/lib/python3.7/dist-packages (from jsonschema>=3.2.0->matminer==0.7.4->matbench) (4.11.4)\n",
            "Requirement already satisfied: pyrsistent!=0.17.0,!=0.17.1,!=0.17.2,>=0.14.0 in /usr/local/lib/python3.7/dist-packages (from jsonschema>=3.2.0->matminer==0.7.4->matbench) (0.18.1)\n",
            "Requirement already satisfied: zipp>=3.1.0 in /usr/local/lib/python3.7/dist-packages (from importlib-resources>=1.4.0->jsonschema>=3.2.0->matminer==0.7.4->matbench) (3.8.0)\n",
            "Requirement already satisfied: python-dateutil>=2.7.3 in /usr/local/lib/python3.7/dist-packages (from pandas>=1.3.1->matminer==0.7.4->matbench) (2.8.2)\n",
            "Requirement already satisfied: pytz>=2017.3 in /usr/local/lib/python3.7/dist-packages (from pandas>=1.3.1->matminer==0.7.4->matbench) (2022.1)\n",
            "Requirement already satisfied: packaging in /usr/local/lib/python3.7/dist-packages (from pint>=0.17->matminer==0.7.4->matbench) (21.3)\n",
            "Requirement already satisfied: networkx>=2.2 in /usr/local/lib/python3.7/dist-packages (from pymatgen>=2022.0.11->matminer==0.7.4->matbench) (2.6.3)\n",
            "Requirement already satisfied: matplotlib>=1.5 in /usr/local/lib/python3.7/dist-packages (from pymatgen>=2022.0.11->matminer==0.7.4->matbench) (3.2.2)\n",
            "Collecting uncertainties>=3.1.4\n",
            "  Downloading uncertainties-3.1.7-py2.py3-none-any.whl (98 kB)\n",
            "\u001b[K     |████████████████████████████████| 98 kB 10.9 MB/s \n",
            "\u001b[?25hRequirement already satisfied: plotly>=4.5.0 in /usr/local/lib/python3.7/dist-packages (from pymatgen>=2022.0.11->matminer==0.7.4->matbench) (5.5.0)\n",
            "Collecting spglib>=1.9.9.44\n",
            "  Downloading spglib-1.16.5-cp37-cp37m-manylinux_2_17_x86_64.manylinux2014_x86_64.whl (325 kB)\n",
            "\u001b[K     |████████████████████████████████| 325 kB 61.6 MB/s \n",
            "\u001b[?25hCollecting ruamel.yaml>=0.15.6\n",
            "  Downloading ruamel.yaml-0.17.21-py3-none-any.whl (109 kB)\n",
            "\u001b[K     |████████████████████████████████| 109 kB 88.0 MB/s \n",
            "\u001b[?25hRequirement already satisfied: palettable>=3.1.1 in /usr/local/lib/python3.7/dist-packages (from pymatgen>=2022.0.11->matminer==0.7.4->matbench) (3.3.0)\n",
            "Collecting scipy>=1.1.0\n",
            "  Downloading scipy-1.7.3-cp37-cp37m-manylinux_2_12_x86_64.manylinux2010_x86_64.whl (38.1 MB)\n",
            "\u001b[K     |████████████████████████████████| 38.1 MB 1.3 MB/s \n",
            "\u001b[?25hRequirement already satisfied: tabulate in /usr/local/lib/python3.7/dist-packages (from pymatgen>=2022.0.11->matminer==0.7.4->matbench) (0.8.9)\n",
            "Requirement already satisfied: cycler>=0.10 in /usr/local/lib/python3.7/dist-packages (from matplotlib>=1.5->pymatgen>=2022.0.11->matminer==0.7.4->matbench) (0.11.0)\n",
            "Requirement already satisfied: pyparsing!=2.0.4,!=2.1.2,!=2.1.6,>=2.0.1 in /usr/local/lib/python3.7/dist-packages (from matplotlib>=1.5->pymatgen>=2022.0.11->matminer==0.7.4->matbench) (3.0.9)\n",
            "Requirement already satisfied: kiwisolver>=1.0.1 in /usr/local/lib/python3.7/dist-packages (from matplotlib>=1.5->pymatgen>=2022.0.11->matminer==0.7.4->matbench) (1.4.3)\n",
            "Requirement already satisfied: tenacity>=6.2.0 in /usr/local/lib/python3.7/dist-packages (from plotly>=4.5.0->pymatgen>=2022.0.11->matminer==0.7.4->matbench) (8.0.1)\n",
            "Requirement already satisfied: idna<4,>=2.5 in /usr/local/lib/python3.7/dist-packages (from requests>=2.26.0->matminer==0.7.4->matbench) (2.10)\n",
            "Requirement already satisfied: urllib3<1.27,>=1.21.1 in /usr/local/lib/python3.7/dist-packages (from requests>=2.26.0->matminer==0.7.4->matbench) (1.24.3)\n",
            "Requirement already satisfied: charset-normalizer<3,>=2 in /usr/local/lib/python3.7/dist-packages (from requests>=2.26.0->matminer==0.7.4->matbench) (2.1.0)\n",
            "Requirement already satisfied: certifi>=2017.4.17 in /usr/local/lib/python3.7/dist-packages (from requests>=2.26.0->matminer==0.7.4->matbench) (2022.6.15)\n",
            "Collecting ruamel.yaml.clib>=0.2.6\n",
            "  Downloading ruamel.yaml.clib-0.2.6-cp37-cp37m-manylinux1_x86_64.whl (546 kB)\n",
            "\u001b[K     |████████████████████████████████| 546 kB 62.9 MB/s \n",
            "\u001b[?25hRequirement already satisfied: mpmath>=0.19 in /usr/local/lib/python3.7/dist-packages (from sympy>=1.8->matminer==0.7.4->matbench) (1.2.1)\n",
            "Collecting kaleido\n",
            "  Downloading kaleido-0.2.1-py2.py3-none-manylinux1_x86_64.whl (79.9 MB)\n",
            "\u001b[K     |████████████████████████████████| 79.9 MB 78 kB/s \n",
            "\u001b[?25hCollecting xtal2png\n",
            "  Downloading xtal2png-0.7.1-py3-none-any.whl (30 kB)\n",
            "  Downloading xtal2png-0.7.0-py3-none-any.whl (26 kB)\n",
            "Requirement already satisfied: pillow in /usr/local/lib/python3.7/dist-packages (from xtal2png) (7.1.2)\n",
            "Collecting torchmetrics>=0.4.1\n",
            "  Downloading torchmetrics-0.9.2-py3-none-any.whl (419 kB)\n",
            "\u001b[K     |████████████████████████████████| 419 kB 93.2 MB/s \n",
            "\u001b[?25hRequirement already satisfied: protobuf<=3.20.1 in /usr/local/lib/python3.7/dist-packages (from pytorch-lightning) (3.17.3)\n",
            "Requirement already satisfied: torch>=1.8.* in /usr/local/lib/python3.7/dist-packages (from pytorch-lightning) (1.11.0+cu113)\n",
            "Collecting PyYAML>=5.4\n",
            "  Downloading PyYAML-6.0-cp37-cp37m-manylinux_2_5_x86_64.manylinux1_x86_64.manylinux_2_12_x86_64.manylinux2010_x86_64.whl (596 kB)\n",
            "\u001b[K     |████████████████████████████████| 596 kB 77.5 MB/s \n",
            "\u001b[?25hRequirement already satisfied: tensorboard>=2.2.0 in /usr/local/lib/python3.7/dist-packages (from pytorch-lightning) (2.8.0)\n",
            "Collecting fsspec[http]!=2021.06.0,>=2021.05.0\n",
            "  Downloading fsspec-2022.5.0-py3-none-any.whl (140 kB)\n",
            "\u001b[K     |████████████████████████████████| 140 kB 82.6 MB/s \n",
            "\u001b[?25hCollecting pyDeprecate>=0.3.1\n",
            "  Downloading pyDeprecate-0.3.2-py3-none-any.whl (10 kB)\n",
            "Collecting aiohttp\n",
            "  Downloading aiohttp-3.8.1-cp37-cp37m-manylinux_2_5_x86_64.manylinux1_x86_64.manylinux_2_12_x86_64.manylinux2010_x86_64.whl (1.1 MB)\n",
            "\u001b[K     |████████████████████████████████| 1.1 MB 46.5 MB/s \n",
            "\u001b[?25hRequirement already satisfied: google-auth-oauthlib<0.5,>=0.4.1 in /usr/local/lib/python3.7/dist-packages (from tensorboard>=2.2.0->pytorch-lightning) (0.4.6)\n",
            "Requirement already satisfied: tensorboard-plugin-wit>=1.6.0 in /usr/local/lib/python3.7/dist-packages (from tensorboard>=2.2.0->pytorch-lightning) (1.8.1)\n",
            "Requirement already satisfied: setuptools>=41.0.0 in /usr/local/lib/python3.7/dist-packages (from tensorboard>=2.2.0->pytorch-lightning) (57.4.0)\n",
            "Requirement already satisfied: tensorboard-data-server<0.7.0,>=0.6.0 in /usr/local/lib/python3.7/dist-packages (from tensorboard>=2.2.0->pytorch-lightning) (0.6.1)\n",
            "Requirement already satisfied: wheel>=0.26 in /usr/local/lib/python3.7/dist-packages (from tensorboard>=2.2.0->pytorch-lightning) (0.37.1)\n",
            "Requirement already satisfied: markdown>=2.6.8 in /usr/local/lib/python3.7/dist-packages (from tensorboard>=2.2.0->pytorch-lightning) (3.3.7)\n",
            "Requirement already satisfied: google-auth<3,>=1.6.3 in /usr/local/lib/python3.7/dist-packages (from tensorboard>=2.2.0->pytorch-lightning) (1.35.0)\n",
            "Requirement already satisfied: grpcio>=1.24.3 in /usr/local/lib/python3.7/dist-packages (from tensorboard>=2.2.0->pytorch-lightning) (1.46.3)\n",
            "Requirement already satisfied: werkzeug>=0.11.15 in /usr/local/lib/python3.7/dist-packages (from tensorboard>=2.2.0->pytorch-lightning) (1.0.1)\n",
            "Requirement already satisfied: absl-py>=0.4 in /usr/local/lib/python3.7/dist-packages (from tensorboard>=2.2.0->pytorch-lightning) (1.1.0)\n",
            "Requirement already satisfied: pyasn1-modules>=0.2.1 in /usr/local/lib/python3.7/dist-packages (from google-auth<3,>=1.6.3->tensorboard>=2.2.0->pytorch-lightning) (0.2.8)\n",
            "Requirement already satisfied: cachetools<5.0,>=2.0.0 in /usr/local/lib/python3.7/dist-packages (from google-auth<3,>=1.6.3->tensorboard>=2.2.0->pytorch-lightning) (4.2.4)\n",
            "Requirement already satisfied: rsa<5,>=3.1.4 in /usr/local/lib/python3.7/dist-packages (from google-auth<3,>=1.6.3->tensorboard>=2.2.0->pytorch-lightning) (4.8)\n",
            "Requirement already satisfied: requests-oauthlib>=0.7.0 in /usr/local/lib/python3.7/dist-packages (from google-auth-oauthlib<0.5,>=0.4.1->tensorboard>=2.2.0->pytorch-lightning) (1.3.1)\n",
            "Requirement already satisfied: pyasn1<0.5.0,>=0.4.6 in /usr/local/lib/python3.7/dist-packages (from pyasn1-modules>=0.2.1->google-auth<3,>=1.6.3->tensorboard>=2.2.0->pytorch-lightning) (0.4.8)\n",
            "Requirement already satisfied: oauthlib>=3.0.0 in /usr/local/lib/python3.7/dist-packages (from requests-oauthlib>=0.7.0->google-auth-oauthlib<0.5,>=0.4.1->tensorboard>=2.2.0->pytorch-lightning) (3.2.0)\n",
            "Collecting torch-optimizer<0.2,>=0.1.0\n",
            "  Downloading torch_optimizer-0.1.0-py3-none-any.whl (72 kB)\n",
            "\u001b[K     |████████████████████████████████| 72 kB 1.3 MB/s \n",
            "\u001b[?25hCollecting coolname<2,>=1.1.0\n",
            "  Downloading coolname-1.1.0-py2.py3-none-any.whl (35 kB)\n",
            "Collecting torchmetrics>=0.4.1\n",
            "  Downloading torchmetrics-0.7.3-py3-none-any.whl (398 kB)\n",
            "\u001b[K     |████████████████████████████████| 398 kB 47.9 MB/s \n",
            "\u001b[?25hCollecting py-cpuinfo>=8.0.0\n",
            "  Downloading py-cpuinfo-8.0.0.tar.gz (99 kB)\n",
            "\u001b[K     |████████████████████████████████| 99 kB 12.1 MB/s \n",
            "\u001b[?25hCollecting psutil<6,>=5.8.0\n",
            "  Downloading psutil-5.9.1-cp37-cp37m-manylinux_2_12_x86_64.manylinux2010_x86_64.manylinux_2_17_x86_64.manylinux2014_x86_64.whl (281 kB)\n",
            "\u001b[K     |████████████████████████████████| 281 kB 71.9 MB/s \n",
            "\u001b[?25hRequirement already satisfied: torchvision>=0.10.0 in /usr/local/lib/python3.7/dist-packages (from mosaicml) (0.12.0+cu113)\n",
            "Collecting yahp<0.2,>=0.1.1\n",
            "  Downloading yahp-0.1.1-py3-none-any.whl (42 kB)\n",
            "\u001b[K     |████████████████████████████████| 42 kB 1.7 MB/s \n",
            "\u001b[?25hCollecting pytorch-ranger>=0.1.1\n",
            "  Downloading pytorch_ranger-0.1.1-py3-none-any.whl (14 kB)\n",
            "Collecting docstring-parser<=0.15,>=0.14.1\n",
            "  Downloading docstring_parser-0.14.1-py3-none-any.whl (33 kB)\n",
            "Collecting multidict<7.0,>=4.5\n",
            "  Downloading multidict-6.0.2-cp37-cp37m-manylinux_2_17_x86_64.manylinux2014_x86_64.whl (94 kB)\n",
            "\u001b[K     |████████████████████████████████| 94 kB 3.6 MB/s \n",
            "\u001b[?25hCollecting frozenlist>=1.1.1\n",
            "  Downloading frozenlist-1.3.0-cp37-cp37m-manylinux_2_5_x86_64.manylinux1_x86_64.manylinux_2_17_x86_64.manylinux2014_x86_64.whl (144 kB)\n",
            "\u001b[K     |████████████████████████████████| 144 kB 77.2 MB/s \n",
            "\u001b[?25hCollecting async-timeout<5.0,>=4.0.0a3\n",
            "  Downloading async_timeout-4.0.2-py3-none-any.whl (5.8 kB)\n",
            "Collecting asynctest==0.13.0\n",
            "  Downloading asynctest-0.13.0-py3-none-any.whl (26 kB)\n",
            "Collecting aiosignal>=1.1.2\n",
            "  Downloading aiosignal-1.2.0-py3-none-any.whl (8.2 kB)\n",
            "Collecting yarl<2.0,>=1.0\n",
            "  Downloading yarl-1.7.2-cp37-cp37m-manylinux_2_5_x86_64.manylinux1_x86_64.manylinux_2_12_x86_64.manylinux2010_x86_64.whl (271 kB)\n",
            "\u001b[K     |████████████████████████████████| 271 kB 82.6 MB/s \n",
            "\u001b[?25hBuilding wheels for collected packages: future, pymatgen, py-cpuinfo\n",
            "  Building wheel for future (setup.py) ... \u001b[?25l\u001b[?25hdone\n",
            "  Created wheel for future: filename=future-0.18.2-py3-none-any.whl size=491070 sha256=2686ebabd35146ec68c78e7f952c5294a869a21296bdd5af444c677ed4af7744\n",
            "  Stored in directory: /root/.cache/pip/wheels/56/b0/fe/4410d17b32f1f0c3cf54cdfb2bc04d7b4b8f4ae377e2229ba0\n",
            "  Building wheel for pymatgen (PEP 517) ... \u001b[?25l\u001b[?25hdone\n",
            "  Created wheel for pymatgen: filename=pymatgen-2022.0.17-cp37-cp37m-linux_x86_64.whl size=41840984 sha256=e7ac164620f7583200549db320895c67c9a9c5d1790a97ed566aa20076f4b162\n",
            "  Stored in directory: /root/.cache/pip/wheels/cf/f6/22/58a9be23c5f1b452770e02ff42047175eaf0f9c2f15219fc76\n",
            "  Building wheel for py-cpuinfo (setup.py) ... \u001b[?25l\u001b[?25hdone\n",
            "  Created wheel for py-cpuinfo: filename=py_cpuinfo-8.0.0-py3-none-any.whl size=22257 sha256=8e4b22fef016c2bd62a021f4f1eb35225af69dd9731ba6f0786bb11c3ea62a0b\n",
            "  Stored in directory: /root/.cache/pip/wheels/d2/f1/1f/041add21dc9c4220157f1bd2bd6afe1f1a49524c3396b94401\n",
            "Successfully built future pymatgen py-cpuinfo\n",
            "Installing collected packages: six, ruamel.yaml.clib, requests, multidict, future, frozenlist, yarl, uncertainties, sympy, spglib, scipy, ruamel.yaml, monty, asynctest, async-timeout, aiosignal, scikit-learn, PyYAML, pytorch-ranger, pymatgen, pyDeprecate, pint, fsspec, docstring-parser, aiohttp, yahp, torchmetrics, torch-optimizer, py-cpuinfo, psutil, matminer, kaleido, coolname, xtal2png, skorch, pytorch-lightning, mosaicml, matbench\n",
            "  Attempting uninstall: six\n",
            "    Found existing installation: six 1.15.0\n",
            "    Uninstalling six-1.15.0:\n",
            "      Successfully uninstalled six-1.15.0\n",
            "  Attempting uninstall: requests\n",
            "    Found existing installation: requests 2.23.0\n",
            "    Uninstalling requests-2.23.0:\n",
            "      Successfully uninstalled requests-2.23.0\n",
            "  Attempting uninstall: future\n",
            "    Found existing installation: future 0.16.0\n",
            "    Uninstalling future-0.16.0:\n",
            "      Successfully uninstalled future-0.16.0\n",
            "  Attempting uninstall: sympy\n",
            "    Found existing installation: sympy 1.7.1\n",
            "    Uninstalling sympy-1.7.1:\n",
            "      Successfully uninstalled sympy-1.7.1\n",
            "  Attempting uninstall: scipy\n",
            "    Found existing installation: scipy 1.4.1\n",
            "    Uninstalling scipy-1.4.1:\n",
            "      Successfully uninstalled scipy-1.4.1\n",
            "  Attempting uninstall: scikit-learn\n",
            "    Found existing installation: scikit-learn 1.0.2\n",
            "    Uninstalling scikit-learn-1.0.2:\n",
            "      Successfully uninstalled scikit-learn-1.0.2\n",
            "  Attempting uninstall: PyYAML\n",
            "    Found existing installation: PyYAML 3.13\n",
            "    Uninstalling PyYAML-3.13:\n",
            "      Successfully uninstalled PyYAML-3.13\n",
            "  Attempting uninstall: psutil\n",
            "    Found existing installation: psutil 5.4.8\n",
            "    Uninstalling psutil-5.4.8:\n",
            "      Successfully uninstalled psutil-5.4.8\n",
            "\u001b[31mERROR: pip's dependency resolver does not currently take into account all the packages that are installed. This behaviour is the source of the following dependency conflicts.\n",
            "google-colab 1.0.0 requires requests~=2.23.0, but you have requests 2.28.1 which is incompatible.\n",
            "google-colab 1.0.0 requires six~=1.15.0, but you have six 1.16.0 which is incompatible.\n",
            "datascience 0.10.6 requires folium==0.2.1, but you have folium 0.8.3 which is incompatible.\n",
            "albumentations 0.1.12 requires imgaug<0.2.7,>=0.2.5, but you have imgaug 0.2.9 which is incompatible.\u001b[0m\n",
            "Successfully installed PyYAML-6.0 aiohttp-3.8.1 aiosignal-1.2.0 async-timeout-4.0.2 asynctest-0.13.0 coolname-1.1.0 docstring-parser-0.14.1 frozenlist-1.3.0 fsspec-2022.5.0 future-0.18.2 kaleido-0.2.1 matbench-0.5 matminer-0.7.4 monty-2021.8.17 mosaicml-0.8.0 multidict-6.0.2 pint-0.18 psutil-5.9.1 py-cpuinfo-8.0.0 pyDeprecate-0.3.2 pymatgen-2022.0.17 pytorch-lightning-1.6.4 pytorch-ranger-0.1.1 requests-2.28.1 ruamel.yaml-0.17.21 ruamel.yaml.clib-0.2.6 scikit-learn-1.0 scipy-1.7.3 six-1.16.0 skorch-0.11.0 spglib-1.16.5 sympy-1.10.1 torch-optimizer-0.1.0 torchmetrics-0.7.3 uncertainties-3.1.7 xtal2png-0.7.0 yahp-0.1.1 yarl-1.7.2\n"
          ]
        },
        {
          "data": {
            "application/vnd.colab-display-data+json": {
              "pip_warning": {
                "packages": [
                  "psutil",
                  "six"
                ]
              }
            }
          },
          "metadata": {},
          "output_type": "display_data"
        }
      ],
      "source": [
        "%pip install matbench skorch xtal2png pytorch-lightning mosaicml"
      ]
    },
    {
      "cell_type": "code",
      "execution_count": null,
      "metadata": {
        "colab": {
          "base_uri": "https://localhost:8080/"
        },
        "id": "_KGr6gwtV-NF",
        "outputId": "b2ae4094-7112-40f5-f3d6-28ae3daed48a"
      },
      "outputs": [
        {
          "name": "stderr",
          "output_type": "stream",
          "text": [
            "Global seed set to 18012019\n"
          ]
        },
        {
          "data": {
            "text/plain": [
              "18012019"
            ]
          },
          "execution_count": 2,
          "metadata": {},
          "output_type": "execute_result"
        }
      ],
      "source": [
        "import composer.functional as cf\n",
        "import numpy as np\n",
        "import pandas as pd\n",
        "import pytorch_lightning as pl\n",
        "import torch\n",
        "import torch.optim as optim\n",
        "import torchvision.transforms as T\n",
        "import torchvision.transforms.functional as TF\n",
        "from matbench.bench import MatbenchBenchmark\n",
        "from skorch.callbacks import EarlyStopping\n",
        "from skorch.regressor import NeuralNetRegressor\n",
        "from torch import nn\n",
        "from xtal2png.core import XtalConverter\n",
        "\n",
        "# Set all random seeds as specified by Matbench\n",
        "pl.seed_everything(18012019)"
      ]
    },
    {
      "cell_type": "markdown",
      "metadata": {
        "id": "96o5lP7l_wHX"
      },
      "source": [
        "### CNN Architecture\n",
        "For the vanilla PyTorch model, the architecture of the convolutional layers is as follows:\n",
        "```python\n",
        "self.convolutions = nn.Sequential(\n",
        "    nn.Conv2d(1, 8, kernel_size=3, padding=1),  # (64, 64, 1) --> (64, 64, 8)\n",
        "    nn.BatchNorm2d(8),\n",
        "    nn.Mish(inplace=True),\n",
        "    nn.MaxPool2d(kernel_size=3, stride=2),          # --> (31, 31, 8)\n",
        "\n",
        "    nn.Conv2d(8, 16, kernel_size=3, padding=1),     # --> (31, 31, 16)\n",
        "    nn.BatchNorm2d(16),\n",
        "    nn.Mish(inplace=True),\n",
        "    nn.MaxPool2d(kernel_size=3, stride=2),          # --> (15, 15, 16)\n",
        "    \n",
        "    nn.Conv2d(16, 32, kernel_size=3, padding=1),    # --> (15, 15, 32)\n",
        "    nn.BatchNorm2d(32),\n",
        "    nn.Mish(inplace=True),\n",
        "    nn.MaxPool2d(kernel_size=3, stride=2),          # --> (7, 7, 32)\n",
        ")\n",
        "```\n",
        "The full `CNNRegressor` class is defined below:"
      ]
    },
    {
      "cell_type": "code",
      "execution_count": null,
      "metadata": {
        "id": "wxIziopEuuoU"
      },
      "outputs": [],
      "source": [
        "class CNNRegressor(nn.Module):\n",
        "    def __init__(self, dropout: float = 0.5) -> None:\n",
        "        super().__init__()\n",
        "        self.convolutions = nn.Sequential(\n",
        "            nn.Conv2d(1, 8, kernel_size=3, padding=1),\n",
        "            nn.BatchNorm2d(8),\n",
        "            nn.Mish(inplace=True),\n",
        "            nn.MaxPool2d(kernel_size=3, stride=2),\n",
        "            nn.Conv2d(8, 16, kernel_size=3, padding=1),\n",
        "            nn.BatchNorm2d(16),\n",
        "            nn.Mish(inplace=True),\n",
        "            nn.MaxPool2d(kernel_size=3, stride=2),\n",
        "            nn.Conv2d(16, 32, kernel_size=3, padding=1),\n",
        "            nn.BatchNorm2d(32),\n",
        "            nn.Mish(inplace=True),\n",
        "            nn.MaxPool2d(kernel_size=3, stride=2),\n",
        "        )\n",
        "        self.fullyconnected = nn.Sequential(\n",
        "            nn.Linear(7 * 7 * 32, 512),\n",
        "            nn.Mish(inplace=True),\n",
        "            nn.Dropout(p=dropout),\n",
        "            nn.Linear(512, 256),\n",
        "            nn.Mish(inplace=True),\n",
        "            nn.Dropout(p=dropout),\n",
        "            nn.Linear(256, 256),\n",
        "            nn.Mish(inplace=True),\n",
        "            nn.Linear(256, 1),\n",
        "        )\n",
        "\n",
        "    def forward(self, x: torch.Tensor) -> torch.Tensor:\n",
        "        x = self.convolutions(x)\n",
        "        x = torch.flatten(x, 1)  # flatten all but batch dim\n",
        "        x = self.fullyconnected(x)\n",
        "        return x"
      ]
    },
    {
      "cell_type": "markdown",
      "metadata": {
        "id": "udmoaw6t_wHX"
      },
      "source": [
        "To get slightly better generalization performance, [BlurPool](https://docs.mosaicml.com/en/latest/method_cards/blurpool.html) and [squeeze-and-excite](https://docs.mosaicml.com/en/latest/method_cards/squeeze_excite.html) operations were applied to the model using Composer. BlurPool layers replace all max pooling layers, and squeeze-excite layers replace certain convolutional layers with channels above a threshold. Below is the full architecture of the model:\n",
        "\n",
        "```python\n",
        ">>> model = CNNRegressor()\n",
        ">>> composer.functional.apply_squeeze_excite(model, min_channels=16)\n",
        ">>> composer.functional.apply_blurpool(model)\n",
        "```\n",
        "```\n",
        "CNNRegressor(\n",
        "  (convolutions): Sequential(\n",
        "    (0): Conv2d(1, 8, kernel_size=(3, 3), stride=(1, 1), padding=(1, 1))\n",
        "    (1): BatchNorm2d(8, eps=1e-05, momentum=0.1, affine=True, track_running_stats=True)\n",
        "    (2): Mish(inplace=True)\n",
        "    (3): BlurMaxPool2d(kernel_size=3, stride=2, padding=0, dilation=1, ceil_mode=False)\n",
        "    (4): Conv2d(8, 16, kernel_size=(3, 3), stride=(1, 1), padding=(1, 1))\n",
        "    (5): BatchNorm2d(16, eps=1e-05, momentum=0.1, affine=True, track_running_stats=True)\n",
        "    (6): Mish(inplace=True)\n",
        "    (7): BlurMaxPool2d(kernel_size=3, stride=2, padding=0, dilation=1, ceil_mode=False)\n",
        "    (8): SqueezeExciteConv2d(\n",
        "      (conv): Conv2d(16, 32, kernel_size=(3, 3), stride=(1, 1), padding=(1, 1))\n",
        "      (se): SqueezeExcite2d(\n",
        "        (pool_and_mlp): Sequential(\n",
        "          (0): AdaptiveAvgPool2d(output_size=1)\n",
        "          (1): Flatten(start_dim=1, end_dim=-1)\n",
        "          (2): Linear(in_features=32, out_features=64, bias=False)\n",
        "          (3): ReLU()\n",
        "          (4): Linear(in_features=64, out_features=32, bias=False)\n",
        "          (5): Sigmoid()\n",
        "        )\n",
        "      )\n",
        "    )\n",
        "    (9): BatchNorm2d(32, eps=1e-05, momentum=0.1, affine=True, track_running_stats=True)\n",
        "    (10): Mish(inplace=True)\n",
        "    (11): BlurMaxPool2d(kernel_size=3, stride=2, padding=0, dilation=1, ceil_mode=False)\n",
        "  )\n",
        "  (fullyconnected): Sequential(\n",
        "    (0): Linear(in_features=1568, out_features=512, bias=True)\n",
        "    (1): Mish(inplace=True)\n",
        "    (2): Dropout(p=0.5, inplace=False)\n",
        "    (3): Linear(in_features=512, out_features=256, bias=True)\n",
        "    (4): Mish(inplace=True)\n",
        "    (5): Dropout(p=0.5, inplace=False)\n",
        "    (6): Linear(in_features=256, out_features=256, bias=True)\n",
        "    (7): Mish(inplace=True)\n",
        "    (8): Linear(in_features=256, out_features=1, bias=True)\n",
        "  )\n",
        ")\n",
        "```\n",
        "\n",
        "## Benchmark on Matbench Folds\n",
        "Training is done using [skorch](https://skorch.readthedocs.io/en/stable/) to abstract away the typical training loop and need for DataLoaders. Images are preprocessed in the following manner:\n",
        "- Convert from `PIL.Image` to `torch.Tensor` and scale all pixel values to `[0.0, 1.0]`.\n",
        "- Compute the mean and standard deviation of scaled pixel values, then normalize to zero-mean, unit variance.\n",
        "\n",
        "For normalization, note that the mean and standard deviations of pixel values are calculated separately per training fold. In each fold, the statistics of the training set are also used to normalize the respective test set. \n",
        "\n",
        "The matbench benchmark is run below. To save all image representations created by the `xtal2png` function during crystal to image conversion, set the `save` flag to `True`."
      ]
    },
    {
      "cell_type": "code",
      "execution_count": null,
      "metadata": {
        "id": "jZejEbjX_wHY",
        "outputId": "2168bab1-1980-4da7-8753-dce9b78c5a69"
      },
      "outputs": [
        {
          "name": "stdout",
          "output_type": "stream",
          "text": [
            "2022-07-08 10:23:47 INFO     Initialized benchmark 'matbench_v0.1' with 1 tasks: \n",
            "['matbench_mp_e_form']\n",
            "2022-07-08 10:23:47 INFO     Loading dataset 'matbench_mp_e_form'...\n",
            "2022-07-08 10:25:49 INFO     Dataset 'matbench_mp_e_form loaded.\n"
          ]
        },
        {
          "name": "stderr",
          "output_type": "stream",
          "text": [
            "100%|██████████| 90001/90001 [07:48<00:00, 191.94it/s]\n",
            "c:\\Users\\khanm\\anaconda3\\envs\\xtal2png\\lib\\site-packages\\xtal2png\\core.py:268: UserWarning: lower RGB value(s) OOB (-91 less than 0). thresholding to 0.. may throw off crystal structure parameters (e.g. if lattice parameters are thresholded)\n",
            "  warn(\n",
            "c:\\Users\\khanm\\anaconda3\\envs\\xtal2png\\lib\\site-packages\\xtal2png\\core.py:274: UserWarning: upper RGB value(s) OOB (3415 greater than 255). thresholding to 255.. may throw off crystal structure parameters (e.g. if lattice parameters are thresholded)\n",
            "  warn(\n"
          ]
        },
        {
          "name": "stdout",
          "output_type": "stream",
          "text": [
            "  epoch    train_loss    valid_loss      dur\n",
            "-------  ------------  ------------  -------\n",
            "      1        \u001b[36m0.0020\u001b[0m       \u001b[32m18.1529\u001b[0m  16.5975\n",
            "      2        0.0384       \u001b[32m16.6310\u001b[0m  12.7425\n",
            "      3        0.0571       \u001b[32m13.4103\u001b[0m  12.5390\n",
            "      4        0.0488       17.7011  12.5970\n",
            "      5        0.0672       15.5128  12.5975\n",
            "      6        0.0577       18.6461  12.7355\n",
            "      7        0.0623        \u001b[32m9.9081\u001b[0m  12.6740\n",
            "      8        0.0439       19.2510  12.5930\n",
            "      9        0.0970       16.8708  12.5310\n",
            "     10        0.0977       17.6505  12.7025\n",
            "     11        0.0878       19.2228  12.7420\n",
            "     12        0.0969       19.1816  12.5340\n",
            "     13        0.1103       14.6279  12.5715\n",
            "     14        0.0729       18.5980  12.7015\n",
            "     15        0.1059       15.6332  12.7890\n",
            "     16        0.0925       19.1866  12.5650\n",
            "Stopping since valid_loss has not improved in the last 10 epochs.\n"
          ]
        },
        {
          "name": "stderr",
          "output_type": "stream",
          "text": [
            "100%|██████████| 22544/22544 [02:01<00:00, 185.47it/s]\n",
            "c:\\Users\\khanm\\anaconda3\\envs\\xtal2png\\lib\\site-packages\\xtal2png\\core.py:268: UserWarning: lower RGB value(s) OOB (-251 less than 0). thresholding to 0.. may throw off crystal structure parameters (e.g. if lattice parameters are thresholded)\n",
            "  warn(\n",
            "c:\\Users\\khanm\\anaconda3\\envs\\xtal2png\\lib\\site-packages\\xtal2png\\core.py:274: UserWarning: upper RGB value(s) OOB (1940 greater than 255). thresholding to 255.. may throw off crystal structure parameters (e.g. if lattice parameters are thresholded)\n",
            "  warn(\n"
          ]
        },
        {
          "name": "stdout",
          "output_type": "stream",
          "text": [
            "2022-07-08 10:40:15 INFO     Recorded fold matbench_mp_e_form-0 successfully.\n"
          ]
        },
        {
          "name": "stderr",
          "output_type": "stream",
          "text": [
            "100%|██████████| 89991/89991 [07:43<00:00, 194.27it/s]\n",
            "c:\\Users\\khanm\\anaconda3\\envs\\xtal2png\\lib\\site-packages\\xtal2png\\core.py:268: UserWarning: lower RGB value(s) OOB (-251 less than 0). thresholding to 0.. may throw off crystal structure parameters (e.g. if lattice parameters are thresholded)\n",
            "  warn(\n",
            "c:\\Users\\khanm\\anaconda3\\envs\\xtal2png\\lib\\site-packages\\xtal2png\\core.py:274: UserWarning: upper RGB value(s) OOB (2470 greater than 255). thresholding to 255.. may throw off crystal structure parameters (e.g. if lattice parameters are thresholded)\n",
            "  warn(\n"
          ]
        },
        {
          "name": "stdout",
          "output_type": "stream",
          "text": [
            "  epoch    train_loss    valid_loss      dur\n",
            "-------  ------------  ------------  -------\n",
            "      1        \u001b[36m0.0020\u001b[0m       \u001b[32m18.0537\u001b[0m  13.0495\n",
            "      2        0.0811        \u001b[32m4.6638\u001b[0m  12.8200\n",
            "      3        0.1273        5.8073  12.6550\n",
            "      4        0.0562        8.6943  12.4255\n",
            "      5        0.0634       17.0132  12.4490\n",
            "      6        0.1046       15.2822  12.8110\n",
            "      7        0.0698       18.2485  12.6245\n",
            "      8        0.2897        9.3080  12.4105\n",
            "      9        0.0727       13.5770  12.3755\n",
            "     10        0.0946       11.2782  12.6520\n",
            "     11        0.0806       14.0032  12.6285\n",
            "Stopping since valid_loss has not improved in the last 10 epochs.\n"
          ]
        },
        {
          "name": "stderr",
          "output_type": "stream",
          "text": [
            "100%|██████████| 22554/22554 [02:07<00:00, 176.59it/s]\n",
            "c:\\Users\\khanm\\anaconda3\\envs\\xtal2png\\lib\\site-packages\\xtal2png\\core.py:268: UserWarning: lower RGB value(s) OOB (-57 less than 0). thresholding to 0.. may throw off crystal structure parameters (e.g. if lattice parameters are thresholded)\n",
            "  warn(\n",
            "c:\\Users\\khanm\\anaconda3\\envs\\xtal2png\\lib\\site-packages\\xtal2png\\core.py:274: UserWarning: upper RGB value(s) OOB (3415 greater than 255). thresholding to 255.. may throw off crystal structure parameters (e.g. if lattice parameters are thresholded)\n",
            "  warn(\n"
          ]
        },
        {
          "name": "stdout",
          "output_type": "stream",
          "text": [
            "2022-07-08 10:53:38 INFO     Recorded fold matbench_mp_e_form-1 successfully.\n"
          ]
        },
        {
          "name": "stderr",
          "output_type": "stream",
          "text": [
            "100%|██████████| 90126/90126 [07:45<00:00, 193.56it/s]\n",
            "c:\\Users\\khanm\\anaconda3\\envs\\xtal2png\\lib\\site-packages\\xtal2png\\core.py:268: UserWarning: lower RGB value(s) OOB (-251 less than 0). thresholding to 0.. may throw off crystal structure parameters (e.g. if lattice parameters are thresholded)\n",
            "  warn(\n",
            "c:\\Users\\khanm\\anaconda3\\envs\\xtal2png\\lib\\site-packages\\xtal2png\\core.py:274: UserWarning: upper RGB value(s) OOB (3415 greater than 255). thresholding to 255.. may throw off crystal structure parameters (e.g. if lattice parameters are thresholded)\n",
            "  warn(\n"
          ]
        },
        {
          "name": "stdout",
          "output_type": "stream",
          "text": [
            "  epoch    train_loss    valid_loss      dur\n",
            "-------  ------------  ------------  -------\n",
            "      1        \u001b[36m0.0023\u001b[0m       \u001b[32m18.4915\u001b[0m  12.7550\n",
            "      2        0.3970       \u001b[32m13.9041\u001b[0m  12.5605\n",
            "      3        0.0381       \u001b[32m12.5564\u001b[0m  12.7695\n",
            "      4        0.0578       14.3654  12.8330\n",
            "      5        0.0591       14.5919  12.4445\n",
            "      6        0.0659       18.4184  12.5425\n",
            "      7        0.1046       16.4346  12.5675\n",
            "      8        0.0981       19.0178  12.6730\n",
            "      9        0.1246       14.1160  12.5770\n",
            "     10        0.0980       19.1989  12.5265\n",
            "     11        0.1265       18.0837  12.5975\n",
            "     12        0.1625       18.9763  12.6950\n",
            "Stopping since valid_loss has not improved in the last 10 epochs.\n"
          ]
        },
        {
          "name": "stderr",
          "output_type": "stream",
          "text": [
            "100%|██████████| 22419/22419 [02:02<00:00, 182.73it/s]\n",
            "c:\\Users\\khanm\\anaconda3\\envs\\xtal2png\\lib\\site-packages\\xtal2png\\core.py:268: UserWarning: lower RGB value(s) OOB (-43 less than 0). thresholding to 0.. may throw off crystal structure parameters (e.g. if lattice parameters are thresholded)\n",
            "  warn(\n",
            "c:\\Users\\khanm\\anaconda3\\envs\\xtal2png\\lib\\site-packages\\xtal2png\\core.py:274: UserWarning: upper RGB value(s) OOB (1481 greater than 255). thresholding to 255.. may throw off crystal structure parameters (e.g. if lattice parameters are thresholded)\n",
            "  warn(\n"
          ]
        },
        {
          "name": "stdout",
          "output_type": "stream",
          "text": [
            "2022-07-08 11:07:08 INFO     Recorded fold matbench_mp_e_form-2 successfully.\n"
          ]
        },
        {
          "name": "stderr",
          "output_type": "stream",
          "text": [
            "100%|██████████| 90052/90052 [07:24<00:00, 202.47it/s]\n",
            "c:\\Users\\khanm\\anaconda3\\envs\\xtal2png\\lib\\site-packages\\xtal2png\\core.py:268: UserWarning: lower RGB value(s) OOB (-251 less than 0). thresholding to 0.. may throw off crystal structure parameters (e.g. if lattice parameters are thresholded)\n",
            "  warn(\n",
            "c:\\Users\\khanm\\anaconda3\\envs\\xtal2png\\lib\\site-packages\\xtal2png\\core.py:274: UserWarning: upper RGB value(s) OOB (3415 greater than 255). thresholding to 255.. may throw off crystal structure parameters (e.g. if lattice parameters are thresholded)\n",
            "  warn(\n"
          ]
        },
        {
          "name": "stdout",
          "output_type": "stream",
          "text": [
            "  epoch    train_loss    valid_loss      dur\n",
            "-------  ------------  ------------  -------\n",
            "      1        \u001b[36m0.0020\u001b[0m       \u001b[32m17.8750\u001b[0m  12.7195\n",
            "      2        0.0663        \u001b[32m7.2680\u001b[0m  12.6040\n",
            "      3        0.0881        \u001b[32m6.6167\u001b[0m  12.6110\n",
            "      4        0.0372       15.9711  12.8515\n",
            "      5        0.0948       10.5767  12.5495\n",
            "      6        0.0560       16.6127  12.4895\n",
            "      7        0.0500       17.3700  12.7215\n",
            "      8        0.0639       17.7506  12.7755\n",
            "      9        0.0673       10.0282  12.7170\n",
            "     10        0.0600       10.4584  12.5055\n",
            "     11        0.0693       13.6575  12.6980\n",
            "     12        0.0726       18.2052  12.6100\n",
            "Stopping since valid_loss has not improved in the last 10 epochs.\n"
          ]
        },
        {
          "name": "stderr",
          "output_type": "stream",
          "text": [
            "100%|██████████| 22493/22493 [02:03<00:00, 182.77it/s]\n",
            "c:\\Users\\khanm\\anaconda3\\envs\\xtal2png\\lib\\site-packages\\xtal2png\\core.py:268: UserWarning: lower RGB value(s) OOB (-91 less than 0). thresholding to 0.. may throw off crystal structure parameters (e.g. if lattice parameters are thresholded)\n",
            "  warn(\n",
            "c:\\Users\\khanm\\anaconda3\\envs\\xtal2png\\lib\\site-packages\\xtal2png\\core.py:274: UserWarning: upper RGB value(s) OOB (2470 greater than 255). thresholding to 255.. may throw off crystal structure parameters (e.g. if lattice parameters are thresholded)\n",
            "  warn(\n"
          ]
        },
        {
          "name": "stdout",
          "output_type": "stream",
          "text": [
            "2022-07-08 11:20:17 INFO     Recorded fold matbench_mp_e_form-3 successfully.\n"
          ]
        },
        {
          "name": "stderr",
          "output_type": "stream",
          "text": [
            "100%|██████████| 90010/90010 [07:47<00:00, 192.36it/s]\n",
            "c:\\Users\\khanm\\anaconda3\\envs\\xtal2png\\lib\\site-packages\\xtal2png\\core.py:268: UserWarning: lower RGB value(s) OOB (-251 less than 0). thresholding to 0.. may throw off crystal structure parameters (e.g. if lattice parameters are thresholded)\n",
            "  warn(\n",
            "c:\\Users\\khanm\\anaconda3\\envs\\xtal2png\\lib\\site-packages\\xtal2png\\core.py:274: UserWarning: upper RGB value(s) OOB (3415 greater than 255). thresholding to 255.. may throw off crystal structure parameters (e.g. if lattice parameters are thresholded)\n",
            "  warn(\n"
          ]
        },
        {
          "name": "stdout",
          "output_type": "stream",
          "text": [
            "  epoch    train_loss    valid_loss      dur\n",
            "-------  ------------  ------------  -------\n",
            "      1        \u001b[36m0.0022\u001b[0m       \u001b[32m15.7354\u001b[0m  12.6700\n",
            "      2        0.0365       16.7053  12.5100\n",
            "      3        0.0465       \u001b[32m14.8574\u001b[0m  12.4960\n",
            "      4        0.7193        \u001b[32m5.7185\u001b[0m  12.7445\n",
            "      5        0.1320        9.2095  12.5350\n",
            "      6        0.0843       11.2550  12.5955\n",
            "      7        0.1094       11.4567  12.6630\n",
            "      8        0.1172       14.5114  12.6105\n",
            "      9        0.1468       14.0634  12.4440\n",
            "     10        0.0780        9.5807  12.5160\n",
            "     11        0.0816       13.3103  12.6220\n",
            "     12        0.1415       13.7865  12.5745\n",
            "     13        0.1483       14.7646  12.8135\n",
            "Stopping since valid_loss has not improved in the last 10 epochs.\n"
          ]
        },
        {
          "name": "stderr",
          "output_type": "stream",
          "text": [
            "100%|██████████| 22535/22535 [02:02<00:00, 183.91it/s]\n",
            "c:\\Users\\khanm\\anaconda3\\envs\\xtal2png\\lib\\site-packages\\xtal2png\\core.py:268: UserWarning: lower RGB value(s) OOB (-36 less than 0). thresholding to 0.. may throw off crystal structure parameters (e.g. if lattice parameters are thresholded)\n",
            "  warn(\n",
            "c:\\Users\\khanm\\anaconda3\\envs\\xtal2png\\lib\\site-packages\\xtal2png\\core.py:274: UserWarning: upper RGB value(s) OOB (2195 greater than 255). thresholding to 255.. may throw off crystal structure parameters (e.g. if lattice parameters are thresholded)\n",
            "  warn(\n"
          ]
        },
        {
          "name": "stdout",
          "output_type": "stream",
          "text": [
            "2022-07-08 11:33:57 INFO     Recorded fold matbench_mp_e_form-4 successfully.\n",
            "2022-07-08 11:33:58 INFO     Successfully wrote MatbenchBenchmark to file 'reg-results.json.gz'.\n"
          ]
        }
      ],
      "source": [
        "xc = XtalConverter()\n",
        "mb = MatbenchBenchmark(autoload=False, subset=[\"matbench_mp_e_form\"])\n",
        "save = False  # xtal2png(data, save=save)\n",
        "\n",
        "for task in mb.tasks:\n",
        "    task.load()\n",
        "    for fold in task.folds:\n",
        "        # Get training data\n",
        "        train_inputs, train_outputs = task.get_train_and_val_data(fold)\n",
        "\n",
        "        # Train on structures with num_sites <= 52\n",
        "        site_counter = lambda x: x.num_sites\n",
        "        idx = train_inputs.apply(site_counter) <= 52\n",
        "        X_train = train_inputs[idx]\n",
        "        y_train = train_outputs[idx]\n",
        "\n",
        "        # Convert crystal structures to images\n",
        "        X_train = xc.xtal2png(X_train, save=False)\n",
        "\n",
        "        # Convert PIL Images to torch.Tensor\n",
        "        # Note that this scales from [0, 255] to [0.0, 1.0]\n",
        "        X_train = [TF.to_tensor(img) for img in X_train]\n",
        "        # Normalize images (subtract mean, divide by std)\n",
        "        mean = torch.cat(X_train).mean()\n",
        "        std = torch.cat(X_train).std()\n",
        "        X_train = [TF.normalize(i, mean=mean, std=std) for i in X_train]\n",
        "\n",
        "        # Change X from a list of tensors to a single tensor\n",
        "        # Change shape of y from 1D to 2D for skorch regressor\n",
        "        X_train = torch.stack(X_train)\n",
        "        y_train = y_train.values.reshape(-1, 1).astype(np.float32)\n",
        "\n",
        "        # Apply Composer methods to vanilla PyTorch regressor before training\n",
        "        model = CNNRegressor()\n",
        "        cf.apply_squeeze_excite(model, min_channels=16)\n",
        "        cf.apply_blurpool(model)\n",
        "\n",
        "        # Train and validate classifier with skorch\n",
        "        net = NeuralNetRegressor(\n",
        "            model,\n",
        "            criterion=nn.MSELoss,\n",
        "            max_epochs=50,\n",
        "            optimizer=optim.AdamW,\n",
        "            optimizer__amsgrad=True,\n",
        "            optimizer__lr=0.0005,\n",
        "            callbacks=[EarlyStopping(patience=10)],\n",
        "            device=\"cuda\" if torch.cuda.is_available() else \"cpu\",\n",
        "            batch_size=64,\n",
        "        )\n",
        "        net.fit(X_train, y_train)\n",
        "\n",
        "        # Get test data and keep structures with num_sites <= 52\n",
        "        test_inputs, test_outputs = task.get_test_data(fold, include_target=True)\n",
        "        idx = test_inputs.apply(site_counter) <= 52\n",
        "        X_test = test_inputs[idx]\n",
        "\n",
        "        # Convert to images, preprocess using mean and std from training data\n",
        "        X_test = xc.xtal2png(X_test, save=False)\n",
        "        preprocess = T.Compose([T.ToTensor(), T.Normalize(mean, std),])\n",
        "        X_test = torch.stack([preprocess(img) for img in X_test])\n",
        "\n",
        "        # Predict on X_test\n",
        "        # For structures with num_sites > 52, predict mean of y_train\n",
        "        y_pred = net.predict(X_test)\n",
        "        y_pred_full = np.empty(test_inputs.size)\n",
        "        y_pred_full[idx] = y_pred.flatten()\n",
        "        y_pred_full[~idx] = y_train.mean()\n",
        "\n",
        "        # Record data\n",
        "        task.record(fold, y_pred_full)\n",
        "\n",
        "# Save benchmark results\n",
        "mb.to_file(\"reg-results.json.gz\")"
      ]
    },
    {
      "cell_type": "code",
      "execution_count": null,
      "metadata": {
        "id": "pvgpmRLX_wHZ",
        "outputId": "dce09de4-1fa6-4dbd-ce12-57bae6dc7c72"
      },
      "outputs": [
        {
          "name": "stdout",
          "output_type": "stream",
          "text": [
            "is valid: True\n",
            "{'matbench_mp_e_form': {'mae': {'max': 2.526535151128166,\n",
            "                                'mean': 2.247677549178041,\n",
            "                                'min': 1.9270280884437816,\n",
            "                                'std': 0.2173278846449626},\n",
            "                        'mape': {'max': 34.1503729497845,\n",
            "                                 'mean': 26.723119633126373,\n",
            "                                 'min': 18.471787525063075,\n",
            "                                 'std': 5.6747174033422},\n",
            "                        'max_error': {'max': 6.6549069282540625,\n",
            "                                      'mean': 6.286157434377406,\n",
            "                                      'min': 5.898015143570556,\n",
            "                                      'std': 0.26371023086119855},\n",
            "                        'rmse': {'max': 2.8384010692391595,\n",
            "                                 'mean': 2.5576678160617874,\n",
            "                                 'min': 2.242694598448991,\n",
            "                                 'std': 0.21454607521353117}}}\n",
            "2022-07-08 11:33:58 INFO     \n",
            "Matbench package 0.5 running benchmark 'matbench_v0.1'\n",
            "\tis complete: False\n",
            "\tis recorded: True\n",
            "\tis valid: True\n",
            "\n",
            "Results:\n",
            "\t- 'matbench_mp_e_form' MAE mean: 2.247677549178041\n"
          ]
        }
      ],
      "source": [
        "# Make sure our benchmark is valid\n",
        "valid = mb.is_valid\n",
        "print(f\"is valid: {valid}\")\n",
        "\n",
        "# Check out how our algorithm is doing using scores\n",
        "import pprint\n",
        "pprint.pprint(mb.scores)\n",
        "\n",
        "# Get some more info about the benchmark\n",
        "mb.get_info()"
      ]
    }
  ],
  "metadata": {
    "accelerator": "GPU",
    "colab": {
      "collapsed_sections": [],
      "machine_shape": "hm",
      "name": "xtal2png-reg.ipynb",
      "provenance": []
    },
    "gpuClass": "standard",
    "kernelspec": {
      "display_name": "Python 3.9.12 ('xtal2png')",
      "language": "python",
      "name": "python3"
    },
    "language_info": {
      "codemirror_mode": {
        "name": "ipython",
        "version": 3
      },
      "file_extension": ".py",
      "mimetype": "text/x-python",
      "name": "python",
      "nbconvert_exporter": "python",
      "pygments_lexer": "ipython3",
      "version": "3.9.12"
    },
    "vscode": {
      "interpreter": {
        "hash": "68a95c04e91534c4566322db6c89b37a5e1cfc4b14174acea73f263436d4e32b"
      }
    }
  },
  "nbformat": 4,
  "nbformat_minor": 0
}
