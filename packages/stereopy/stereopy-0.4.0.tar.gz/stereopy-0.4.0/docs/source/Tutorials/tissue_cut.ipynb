{
 "cells": [
  {
   "cell_type": "markdown",
   "id": "a167180a",
   "metadata": {},
   "source": [
    "# TissueCut Segmentation\n",
    "\n",
    "This example shows how to use the function of tissue cut."
   ]
  },
  {
   "cell_type": "markdown",
   "id": "a89974ba",
   "metadata": {},
   "source": [
    "We support class `stereo.image.tissue_cut.SingleStrandDNATissueCut` for cut `ssDNA` from tif image, and\n",
    "class `from stereo.image.tissue_cut.RNATissueCut` for segment `RNA` from gef/gem(txt) file.\n",
    "\n",
    "We provide two methods for the `ssDNA` segmentation.\n",
    "When the value of `seg_method` is `stereo.image.tissue_cut.pipeline.DEEP`, use the deep learning method.\n",
    "\n",
    "NOTE:Using `deep-learning` method, you need to download the [model](https://pan.genomics.cn/ucdisk/s/ai22e2) from to\n",
    "your local directory.It is assumed that the local storage path of the model is './weight_tissue_cut_tool_220304.hdf5'.\n",
    "\n",
    "When the `seg_method` value is `stereo.image.tissue_cut.pipeline.INTENSITY`, the intensity method is used.\n",
    "\n",
    "Show using the deep learning method to segment a ssDNA-type image:"
   ]
  },
  {
   "cell_type": "code",
   "execution_count": 2,
   "id": "fdd2e409",
   "metadata": {
    "ExecuteTime": {
     "end_time": "2021-12-31T03:34:29.102603Z",
     "start_time": "2021-12-31T03:33:14.372647Z"
    },
    "pycharm": {
     "name": "#%%\n"
    }
   },
   "outputs": [
    {
     "name": "stdout",
     "output_type": "stream",
     "text": [
      "16 uint16\n"
     ]
    },
    {
     "data": {
      "text/plain": [
       "1"
      ]
     },
     "execution_count": 2,
     "metadata": {},
     "output_type": "execute_result"
    }
   ],
   "source": [
    "# import TissueCut class, source-img-type enum `ssDNA` and segmentation-method enum `DEEP`\n",
    "from stereo.image.tissue_cut import SingleStrandDNATissueCut, DEEP\n",
    "\n",
    "# Initial the TissueCut object\n",
    "ssDNA_tissue_cut = SingleStrandDNATissueCut(\n",
    "    seg_method=DEEP,\n",
    "    src_img_path='../demo_data/SS200000135TL_D1_regist_new.tif',\n",
    "    dst_img_path='../demo_data/res_dna/',\n",
    "    model_path=\"./weight_tissue_cut_tool_220304.hdf5\"  # don't forget to download it, when using deep-learning method\n",
    ")\n",
    "# Real do the image transforming\n",
    "ssDNA_tissue_cut.tissue_seg()"
   ]
  },
  {
   "cell_type": "markdown",
   "id": "ab1ae61e",
   "metadata": {
    "collapsed": false
   },
   "source": [
    "Show using the intensity method(default way, can not use deep-learning now) to segment from the RNA file--gef/gem(txt):"
   ]
  },
  {
   "cell_type": "code",
   "execution_count": null,
   "id": "207196d3",
   "metadata": {
    "collapsed": false,
    "pycharm": {
     "name": "#%%\n"
    }
   },
   "outputs": [],
   "source": [
    "# import RNAFileTissueCut class\n",
    "from stereo.image.tissue_cut import RNATissueCut\n",
    "\n",
    "# Initial the RNAFileTissueCut object, which default to intensity-method inside\n",
    "rna_cut_from_gef = RNATissueCut(\n",
    "    dst_img_path=\"../demo_data/res_rna/\",\n",
    "    gef_path=\"./SS200000135TL_D1.gef\"  # or you can set a gem file as gem_path\n",
    ")\n",
    "# Real do the image transforming\n",
    "rna_cut_from_gef.tissue_seg()"
   ]
  }
 ],
 "metadata": {
  "kernelspec": {
   "display_name": "st38_image",
   "language": "python",
   "name": "st38_image"
  },
  "language_info": {
   "codemirror_mode": {
    "name": "ipython",
    "version": 3
   },
   "file_extension": ".py",
   "mimetype": "text/x-python",
   "name": "python",
   "nbconvert_exporter": "python",
   "pygments_lexer": "ipython3",
   "version": "3.8.0"
  },
  "toc": {
   "base_numbering": 1,
   "nav_menu": {},
   "number_sections": true,
   "sideBar": true,
   "skip_h1_title": false,
   "title_cell": "Table of Contents",
   "title_sidebar": "Contents",
   "toc_cell": false,
   "toc_position": {},
   "toc_section_display": true,
   "toc_window_display": false
  },
  "varInspector": {
   "cols": {
    "lenName": 16,
    "lenType": 16,
    "lenVar": 40
   },
   "kernels_config": {
    "python": {
     "delete_cmd_postfix": "",
     "delete_cmd_prefix": "del ",
     "library": "var_list.py",
     "varRefreshCmd": "print(var_dic_list())"
    },
    "r": {
     "delete_cmd_postfix": ") ",
     "delete_cmd_prefix": "rm(",
     "library": "var_list.r",
     "varRefreshCmd": "cat(var_dic_list()) "
    }
   },
   "types_to_exclude": [
    "module",
    "function",
    "builtin_function_or_method",
    "instance",
    "_Feature"
   ],
   "window_display": false
  }
 },
 "nbformat": 4,
 "nbformat_minor": 5
}
