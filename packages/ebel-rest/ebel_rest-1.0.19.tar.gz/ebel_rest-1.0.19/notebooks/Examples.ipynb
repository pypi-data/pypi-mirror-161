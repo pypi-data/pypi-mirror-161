{
 "cells": [
  {
   "cell_type": "markdown",
   "metadata": {},
   "source": [
    "# e(BE:L) RESTful API client\n",
    "\n",
    "## Summary:\n",
    "\n",
    "This notebooks demonstrates the potential of the e(BE:L) RESTful API client. This client allows to query a database storing BEL and and eBEL statement. Statistics gives a general overview on the database.\n",
    "\n",
    "#### Import Note!\n",
    "For this notebook to function properly, you must have graphviz installed. For more information, visit https://graphviz.gitlab.io/download/"
   ]
  },
  {
   "cell_type": "code",
   "execution_count": 1,
   "metadata": {
    "ExecuteTime": {
     "end_time": "2020-10-28T14:12:47.908475Z",
     "start_time": "2020-10-28T14:12:46.783187Z"
    }
   },
   "outputs": [],
   "source": [
    "from ebel_rest import connect, query, statistics\n",
    "%matplotlib inline"
   ]
  },
  {
   "cell_type": "markdown",
   "metadata": {},
   "source": [
    "## Example Database\n",
    "To demonstrate how one can use this package to obtain information from a given database, we will use the COVID-19 Knowledge Graph available at http://graphstore.scai.fraunhofer.de/.  "
   ]
  },
  {
   "cell_type": "code",
   "execution_count": 2,
   "metadata": {
    "ExecuteTime": {
     "end_time": "2020-10-28T14:12:47.913575Z",
     "start_time": "2020-10-28T14:12:47.910163Z"
    }
   },
   "outputs": [],
   "source": [
    "# Database settings\n",
    "server = \"https://graphstore.scai.fraunhofer.de\"\n",
    "password = 'covid'\n",
    "user = 'covid_user'\n",
    "db_name = \"covid\"\n",
    "print_url = True\n",
    "\n",
    "# Connect to database\n",
    "connect(user, password, server, db_name, print_url)"
   ]
  },
  {
   "cell_type": "markdown",
   "metadata": {},
   "source": [
    "## Statistics\n",
    "\n",
    "### Display\n",
    "All statistics can be shown as\n",
    "1. table (pandas.DataFrame)\n",
    "3. _data (python object)"
   ]
  },
  {
   "cell_type": "code",
   "execution_count": 3,
   "metadata": {
    "ExecuteTime": {
     "end_time": "2020-10-28T14:12:52.086359Z",
     "start_time": "2020-10-28T14:12:47.916303Z"
    }
   },
   "outputs": [
    {
     "name": "stdout",
     "output_type": "stream",
     "text": [
      "https://graphstore.scai.fraunhofer.de/function/covid/bel_statistics_publication_by_year/\n"
     ]
    }
   ],
   "source": [
    "s = statistics.publication_by_year()"
   ]
  },
  {
   "cell_type": "markdown",
   "metadata": {},
   "source": [
    "As a pandas DataFrame:"
   ]
  },
  {
   "cell_type": "code",
   "execution_count": 4,
   "metadata": {
    "ExecuteTime": {
     "end_time": "2020-10-28T14:12:52.185029Z",
     "start_time": "2020-10-28T14:12:52.093189Z"
    }
   },
   "outputs": [
    {
     "data": {
      "text/html": [
       "<div>\n",
       "<style scoped>\n",
       "    .dataframe tbody tr th:only-of-type {\n",
       "        vertical-align: middle;\n",
       "    }\n",
       "\n",
       "    .dataframe tbody tr th {\n",
       "        vertical-align: top;\n",
       "    }\n",
       "\n",
       "    .dataframe thead th {\n",
       "        text-align: right;\n",
       "    }\n",
       "</style>\n",
       "<table border=\"1\" class=\"dataframe\">\n",
       "  <thead>\n",
       "    <tr style=\"text-align: right;\">\n",
       "      <th></th>\n",
       "      <th>publication_year</th>\n",
       "      <th>number_of_publications</th>\n",
       "    </tr>\n",
       "  </thead>\n",
       "  <tbody>\n",
       "    <tr>\n",
       "      <th>0</th>\n",
       "      <td>2365</td>\n",
       "      <td>1</td>\n",
       "    </tr>\n",
       "    <tr>\n",
       "      <th>1</th>\n",
       "      <td>2020</td>\n",
       "      <td>128</td>\n",
       "    </tr>\n",
       "    <tr>\n",
       "      <th>2</th>\n",
       "      <td>2019</td>\n",
       "      <td>46</td>\n",
       "    </tr>\n",
       "    <tr>\n",
       "      <th>3</th>\n",
       "      <td>2018</td>\n",
       "      <td>21</td>\n",
       "    </tr>\n",
       "    <tr>\n",
       "      <th>4</th>\n",
       "      <td>2017</td>\n",
       "      <td>25</td>\n",
       "    </tr>\n",
       "    <tr>\n",
       "      <th>5</th>\n",
       "      <td>2016</td>\n",
       "      <td>23</td>\n",
       "    </tr>\n",
       "    <tr>\n",
       "      <th>6</th>\n",
       "      <td>2015</td>\n",
       "      <td>17</td>\n",
       "    </tr>\n",
       "    <tr>\n",
       "      <th>7</th>\n",
       "      <td>2014</td>\n",
       "      <td>19</td>\n",
       "    </tr>\n",
       "    <tr>\n",
       "      <th>8</th>\n",
       "      <td>2013</td>\n",
       "      <td>17</td>\n",
       "    </tr>\n",
       "    <tr>\n",
       "      <th>9</th>\n",
       "      <td>2012</td>\n",
       "      <td>17</td>\n",
       "    </tr>\n",
       "    <tr>\n",
       "      <th>10</th>\n",
       "      <td>2011</td>\n",
       "      <td>29</td>\n",
       "    </tr>\n",
       "    <tr>\n",
       "      <th>11</th>\n",
       "      <td>2010</td>\n",
       "      <td>33</td>\n",
       "    </tr>\n",
       "    <tr>\n",
       "      <th>12</th>\n",
       "      <td>2009</td>\n",
       "      <td>36</td>\n",
       "    </tr>\n",
       "    <tr>\n",
       "      <th>13</th>\n",
       "      <td>2008</td>\n",
       "      <td>42</td>\n",
       "    </tr>\n",
       "    <tr>\n",
       "      <th>14</th>\n",
       "      <td>2007</td>\n",
       "      <td>38</td>\n",
       "    </tr>\n",
       "    <tr>\n",
       "      <th>15</th>\n",
       "      <td>2006</td>\n",
       "      <td>61</td>\n",
       "    </tr>\n",
       "    <tr>\n",
       "      <th>16</th>\n",
       "      <td>2005</td>\n",
       "      <td>41</td>\n",
       "    </tr>\n",
       "    <tr>\n",
       "      <th>17</th>\n",
       "      <td>2004</td>\n",
       "      <td>49</td>\n",
       "    </tr>\n",
       "    <tr>\n",
       "      <th>18</th>\n",
       "      <td>2003</td>\n",
       "      <td>46</td>\n",
       "    </tr>\n",
       "    <tr>\n",
       "      <th>19</th>\n",
       "      <td>2002</td>\n",
       "      <td>35</td>\n",
       "    </tr>\n",
       "  </tbody>\n",
       "</table>\n",
       "</div>"
      ],
      "text/plain": [
       "    publication_year  number_of_publications\n",
       "0               2365                       1\n",
       "1               2020                     128\n",
       "2               2019                      46\n",
       "3               2018                      21\n",
       "4               2017                      25\n",
       "5               2016                      23\n",
       "6               2015                      17\n",
       "7               2014                      19\n",
       "8               2013                      17\n",
       "9               2012                      17\n",
       "10              2011                      29\n",
       "11              2010                      33\n",
       "12              2009                      36\n",
       "13              2008                      42\n",
       "14              2007                      38\n",
       "15              2006                      61\n",
       "16              2005                      41\n",
       "17              2004                      49\n",
       "18              2003                      46\n",
       "19              2002                      35"
      ]
     },
     "execution_count": 4,
     "metadata": {},
     "output_type": "execute_result"
    }
   ],
   "source": [
    "s.table[:20]"
   ]
  },
  {
   "cell_type": "markdown",
   "metadata": {},
   "source": [
    "As a python dictionary:"
   ]
  },
  {
   "cell_type": "code",
   "execution_count": 5,
   "metadata": {
    "ExecuteTime": {
     "end_time": "2020-10-28T14:12:52.216810Z",
     "start_time": "2020-10-28T14:12:52.202607Z"
    }
   },
   "outputs": [
    {
     "data": {
      "text/plain": [
       "[{'publication_year': 2365, 'number_of_publications': 1},\n",
       " {'publication_year': 2020, 'number_of_publications': 128},\n",
       " {'publication_year': 2019, 'number_of_publications': 46},\n",
       " {'publication_year': 2018, 'number_of_publications': 21},\n",
       " {'publication_year': 2017, 'number_of_publications': 25},\n",
       " {'publication_year': 2016, 'number_of_publications': 23},\n",
       " {'publication_year': 2015, 'number_of_publications': 17},\n",
       " {'publication_year': 2014, 'number_of_publications': 19},\n",
       " {'publication_year': 2013, 'number_of_publications': 17},\n",
       " {'publication_year': 2012, 'number_of_publications': 17},\n",
       " {'publication_year': 2011, 'number_of_publications': 29},\n",
       " {'publication_year': 2010, 'number_of_publications': 33},\n",
       " {'publication_year': 2009, 'number_of_publications': 36},\n",
       " {'publication_year': 2008, 'number_of_publications': 42},\n",
       " {'publication_year': 2007, 'number_of_publications': 38},\n",
       " {'publication_year': 2006, 'number_of_publications': 61},\n",
       " {'publication_year': 2005, 'number_of_publications': 41},\n",
       " {'publication_year': 2004, 'number_of_publications': 49},\n",
       " {'publication_year': 2003, 'number_of_publications': 46},\n",
       " {'publication_year': 2002, 'number_of_publications': 35},\n",
       " {'publication_year': 2001, 'number_of_publications': 25},\n",
       " {'publication_year': 2000, 'number_of_publications': 26},\n",
       " {'publication_year': 1999, 'number_of_publications': 22},\n",
       " {'publication_year': 1998, 'number_of_publications': 12},\n",
       " {'publication_year': 1997, 'number_of_publications': 5},\n",
       " {'publication_year': 1996, 'number_of_publications': 10},\n",
       " {'publication_year': 1995, 'number_of_publications': 1},\n",
       " {'publication_year': 1994, 'number_of_publications': 2},\n",
       " {'publication_year': 1991, 'number_of_publications': 1},\n",
       " {'publication_year': 1990, 'number_of_publications': 1},\n",
       " {'publication_year': 1989, 'number_of_publications': 1},\n",
       " {'publication_year': 1976, 'number_of_publications': 3}]"
      ]
     },
     "execution_count": 5,
     "metadata": {},
     "output_type": "execute_result"
    }
   ],
   "source": [
    "s.data"
   ]
  },
  {
   "cell_type": "markdown",
   "metadata": {},
   "source": [
    "### Use pandas to visualize ebel_rest tables "
   ]
  },
  {
   "cell_type": "markdown",
   "metadata": {},
   "source": [
    "Because tables in `ebel_rest` are pandas tables, all [pandas visualization](https://pandas.pydata.org/pandas-docs/stable/user_guide/visualization.html) options are available. Here are 2 examples:"
   ]
  },
  {
   "cell_type": "code",
   "execution_count": 6,
   "metadata": {
    "ExecuteTime": {
     "end_time": "2020-10-28T14:12:52.636869Z",
     "start_time": "2020-10-28T14:12:52.219399Z"
    }
   },
   "outputs": [
    {
     "data": {
      "image/png": "[encoded data removed]",
      "text/plain": [
       "<Figure size 1440x360 with 1 Axes>"
      ]
     },
     "metadata": {
      "needs_background": "light"
     },
     "output_type": "display_data"
    }
   ],
   "source": [
    "_=s.table.set_index('publication_year').plot.bar(figsize=(20,5))"
   ]
  },
  {
   "cell_type": "code",
   "execution_count": 7,
   "metadata": {
    "ExecuteTime": {
     "end_time": "2020-10-28T14:12:52.806958Z",
     "start_time": "2020-10-28T14:12:52.638811Z"
    }
   },
   "outputs": [
    {
     "data": {
      "image/png": "[encoded data removed]",
      "text/plain": [
       "<Figure size 504x504 with 1 Axes>"
      ]
     },
     "metadata": {},
     "output_type": "display_data"
    }
   ],
   "source": [
    "_=s.table[1:20].set_index('publication_year').plot.pie(y='number_of_publications', figsize=(7, 7),legend=None)"
   ]
  },
  {
   "cell_type": "markdown",
   "metadata": {},
   "source": [
    "## Methods"
   ]
  },
  {
   "cell_type": "markdown",
   "metadata": {},
   "source": [
    "To keep it simple on the first row for all statistic methods are shown."
   ]
  },
  {
   "cell_type": "markdown",
   "metadata": {},
   "source": [
    "### Total Number of Curated Publications"
   ]
  },
  {
   "cell_type": "code",
   "execution_count": 8,
   "metadata": {
    "ExecuteTime": {
     "end_time": "2020-10-28T14:12:55.838991Z",
     "start_time": "2020-10-28T14:12:52.809649Z"
    }
   },
   "outputs": [
    {
     "name": "stdout",
     "output_type": "stream",
     "text": [
      "https://graphstore.scai.fraunhofer.de/function/covid/bel_statistics_total_publications/\n"
     ]
    },
    {
     "data": {
      "text/plain": [
       "{'number_of_pubs': 834}"
      ]
     },
     "execution_count": 8,
     "metadata": {},
     "output_type": "execute_result"
    }
   ],
   "source": [
    "statistics.total_publications().data[0]"
   ]
  },
  {
   "cell_type": "markdown",
   "metadata": {},
   "source": [
    "### Total Number of Curated BEL Statements"
   ]
  },
  {
   "cell_type": "code",
   "execution_count": 9,
   "metadata": {
    "ExecuteTime": {
     "end_time": "2020-10-28T14:12:56.067996Z",
     "start_time": "2020-10-28T14:12:55.853229Z"
    }
   },
   "outputs": [
    {
     "name": "stdout",
     "output_type": "stream",
     "text": [
      "https://graphstore.scai.fraunhofer.de/function/covid/bel_statistics_total_stmts/\n"
     ]
    },
    {
     "data": {
      "text/plain": [
       "{'number_of_stmts': 143825}"
      ]
     },
     "execution_count": 9,
     "metadata": {},
     "output_type": "execute_result"
    }
   ],
   "source": [
    "statistics.total_bel_edges().data[0]"
   ]
  },
  {
   "cell_type": "markdown",
   "metadata": {},
   "source": [
    "### Total Number of BEL Nodes from Curated Statements"
   ]
  },
  {
   "cell_type": "code",
   "execution_count": 10,
   "metadata": {
    "ExecuteTime": {
     "end_time": "2020-10-28T14:12:56.279884Z",
     "start_time": "2020-10-28T14:12:56.086579Z"
    }
   },
   "outputs": [
    {
     "name": "stdout",
     "output_type": "stream",
     "text": [
      "https://graphstore.scai.fraunhofer.de/function/covid/bel_statistics_total_bel_nodes/\n"
     ]
    },
    {
     "data": {
      "text/plain": [
       "{'number_of_bel_nodes': 39752}"
      ]
     },
     "execution_count": 10,
     "metadata": {},
     "output_type": "execute_result"
    }
   ],
   "source": [
    "statistics.total_bel_nodes().data[0]"
   ]
  },
  {
   "cell_type": "markdown",
   "metadata": {},
   "source": [
    "### Publications by year"
   ]
  },
  {
   "cell_type": "code",
   "execution_count": 11,
   "metadata": {
    "ExecuteTime": {
     "end_time": "2020-10-28T14:13:00.349062Z",
     "start_time": "2020-10-28T14:12:56.282025Z"
    }
   },
   "outputs": [
    {
     "name": "stdout",
     "output_type": "stream",
     "text": [
      "https://graphstore.scai.fraunhofer.de/function/covid/bel_statistics_publication_by_year/\n"
     ]
    },
    {
     "data": {
      "text/html": [
       "<div>\n",
       "<style scoped>\n",
       "    .dataframe tbody tr th:only-of-type {\n",
       "        vertical-align: middle;\n",
       "    }\n",
       "\n",
       "    .dataframe tbody tr th {\n",
       "        vertical-align: top;\n",
       "    }\n",
       "\n",
       "    .dataframe thead th {\n",
       "        text-align: right;\n",
       "    }\n",
       "</style>\n",
       "<table border=\"1\" class=\"dataframe\">\n",
       "  <thead>\n",
       "    <tr style=\"text-align: right;\">\n",
       "      <th></th>\n",
       "      <th>publication_year</th>\n",
       "      <th>number_of_publications</th>\n",
       "    </tr>\n",
       "  </thead>\n",
       "  <tbody>\n",
       "    <tr>\n",
       "      <th>0</th>\n",
       "      <td>2365</td>\n",
       "      <td>1</td>\n",
       "    </tr>\n",
       "    <tr>\n",
       "      <th>1</th>\n",
       "      <td>2020</td>\n",
       "      <td>128</td>\n",
       "    </tr>\n",
       "  </tbody>\n",
       "</table>\n",
       "</div>"
      ],
      "text/plain": [
       "   publication_year  number_of_publications\n",
       "0              2365                       1\n",
       "1              2020                     128"
      ]
     },
     "execution_count": 11,
     "metadata": {},
     "output_type": "execute_result"
    }
   ],
   "source": [
    "statistics.publication_by_year().table[:2]"
   ]
  },
  {
   "cell_type": "markdown",
   "metadata": {},
   "source": [
    "### Publication by number of statements"
   ]
  },
  {
   "cell_type": "code",
   "execution_count": 12,
   "metadata": {
    "ExecuteTime": {
     "end_time": "2020-10-28T14:13:04.142056Z",
     "start_time": "2020-10-28T14:13:00.365511Z"
    }
   },
   "outputs": [
    {
     "name": "stdout",
     "output_type": "stream",
     "text": [
      "https://graphstore.scai.fraunhofer.de/function/covid/bel_statistics_publication_by_number_of_statements/\n"
     ]
    },
    {
     "data": {
      "text/html": [
       "<div>\n",
       "<style scoped>\n",
       "    .dataframe tbody tr th:only-of-type {\n",
       "        vertical-align: middle;\n",
       "    }\n",
       "\n",
       "    .dataframe tbody tr th {\n",
       "        vertical-align: top;\n",
       "    }\n",
       "\n",
       "    .dataframe thead th {\n",
       "        text-align: right;\n",
       "    }\n",
       "</style>\n",
       "<table border=\"1\" class=\"dataframe\">\n",
       "  <thead>\n",
       "    <tr style=\"text-align: right;\">\n",
       "      <th></th>\n",
       "      <th>pmid</th>\n",
       "      <th>last_author</th>\n",
       "      <th>title</th>\n",
       "      <th>journal</th>\n",
       "      <th>publication_date</th>\n",
       "      <th>number_of_statements</th>\n",
       "    </tr>\n",
       "  </thead>\n",
       "  <tbody>\n",
       "    <tr>\n",
       "      <th>0</th>\n",
       "      <td>32408336</td>\n",
       "      <td>Münch C</td>\n",
       "      <td>Proteomics of SARS-CoV-2-infected host cells r...</td>\n",
       "      <td>Nature</td>\n",
       "      <td>2020-07-21</td>\n",
       "      <td>3348</td>\n",
       "    </tr>\n",
       "  </tbody>\n",
       "</table>\n",
       "</div>"
      ],
      "text/plain": [
       "       pmid last_author                                              title  \\\n",
       "0  32408336     Münch C  Proteomics of SARS-CoV-2-infected host cells r...   \n",
       "\n",
       "  journal publication_date  number_of_statements  \n",
       "0  Nature       2020-07-21                  3348  "
      ]
     },
     "execution_count": 12,
     "metadata": {},
     "output_type": "execute_result"
    }
   ],
   "source": [
    "statistics.publication_by_number_of_statements().table[:1]"
   ]
  },
  {
   "cell_type": "markdown",
   "metadata": {},
   "source": [
    "### Last author by number of publications"
   ]
  },
  {
   "cell_type": "code",
   "execution_count": 13,
   "metadata": {
    "ExecuteTime": {
     "end_time": "2020-10-28T14:13:07.972718Z",
     "start_time": "2020-10-28T14:13:04.143823Z"
    }
   },
   "outputs": [
    {
     "name": "stdout",
     "output_type": "stream",
     "text": [
      "https://graphstore.scai.fraunhofer.de/function/covid/bel_statistics_last_author_by_number_of_publications/\n"
     ]
    },
    {
     "data": {
      "text/html": [
       "<div>\n",
       "<style scoped>\n",
       "    .dataframe tbody tr th:only-of-type {\n",
       "        vertical-align: middle;\n",
       "    }\n",
       "\n",
       "    .dataframe tbody tr th {\n",
       "        vertical-align: top;\n",
       "    }\n",
       "\n",
       "    .dataframe thead th {\n",
       "        text-align: right;\n",
       "    }\n",
       "</style>\n",
       "<table border=\"1\" class=\"dataframe\">\n",
       "  <thead>\n",
       "    <tr style=\"text-align: right;\">\n",
       "      <th></th>\n",
       "      <th>last_author</th>\n",
       "      <th>number_of_publications</th>\n",
       "    </tr>\n",
       "  </thead>\n",
       "  <tbody>\n",
       "    <tr>\n",
       "      <th>0</th>\n",
       "      <td>Münch C</td>\n",
       "      <td>3348</td>\n",
       "    </tr>\n",
       "  </tbody>\n",
       "</table>\n",
       "</div>"
      ],
      "text/plain": [
       "  last_author  number_of_publications\n",
       "0     Münch C                    3348"
      ]
     },
     "execution_count": 13,
     "metadata": {},
     "output_type": "execute_result"
    }
   ],
   "source": [
    "statistics.last_author_by_number_of_publications().table[:1]"
   ]
  },
  {
   "cell_type": "markdown",
   "metadata": {},
   "source": [
    "### Author by number of statements"
   ]
  },
  {
   "cell_type": "code",
   "execution_count": 14,
   "metadata": {
    "ExecuteTime": {
     "end_time": "2020-10-28T14:13:11.954654Z",
     "start_time": "2020-10-28T14:13:07.976113Z"
    }
   },
   "outputs": [
    {
     "name": "stdout",
     "output_type": "stream",
     "text": [
      "https://graphstore.scai.fraunhofer.de/function/covid/bel_statistics_last_author_by_number_of_statements/\n"
     ]
    },
    {
     "data": {
      "text/html": [
       "<div>\n",
       "<style scoped>\n",
       "    .dataframe tbody tr th:only-of-type {\n",
       "        vertical-align: middle;\n",
       "    }\n",
       "\n",
       "    .dataframe tbody tr th {\n",
       "        vertical-align: top;\n",
       "    }\n",
       "\n",
       "    .dataframe thead th {\n",
       "        text-align: right;\n",
       "    }\n",
       "</style>\n",
       "<table border=\"1\" class=\"dataframe\">\n",
       "  <thead>\n",
       "    <tr style=\"text-align: right;\">\n",
       "      <th></th>\n",
       "      <th>last_author</th>\n",
       "      <th>number_of_bel_statements</th>\n",
       "    </tr>\n",
       "  </thead>\n",
       "  <tbody>\n",
       "    <tr>\n",
       "      <th>0</th>\n",
       "      <td>Münch C</td>\n",
       "      <td>3348</td>\n",
       "    </tr>\n",
       "  </tbody>\n",
       "</table>\n",
       "</div>"
      ],
      "text/plain": [
       "  last_author  number_of_bel_statements\n",
       "0     Münch C                      3348"
      ]
     },
     "execution_count": 14,
     "metadata": {},
     "output_type": "execute_result"
    }
   ],
   "source": [
    "statistics.last_author_by_number_of_statements().table[:1]"
   ]
  },
  {
   "cell_type": "markdown",
   "metadata": {},
   "source": [
    "### Node namespace ordered by count"
   ]
  },
  {
   "cell_type": "code",
   "execution_count": 15,
   "metadata": {
    "ExecuteTime": {
     "end_time": "2020-10-28T14:13:13.728127Z",
     "start_time": "2020-10-28T14:13:11.958265Z"
    }
   },
   "outputs": [
    {
     "name": "stdout",
     "output_type": "stream",
     "text": [
      "https://graphstore.scai.fraunhofer.de/function/covid/bel_statistics_node_namespace_order_by_count/\n"
     ]
    },
    {
     "data": {
      "text/html": [
       "<div>\n",
       "<style scoped>\n",
       "    .dataframe tbody tr th:only-of-type {\n",
       "        vertical-align: middle;\n",
       "    }\n",
       "\n",
       "    .dataframe tbody tr th {\n",
       "        vertical-align: top;\n",
       "    }\n",
       "\n",
       "    .dataframe thead th {\n",
       "        text-align: right;\n",
       "    }\n",
       "</style>\n",
       "<table border=\"1\" class=\"dataframe\">\n",
       "  <thead>\n",
       "    <tr style=\"text-align: right;\">\n",
       "      <th></th>\n",
       "      <th>node_class</th>\n",
       "      <th>namespace</th>\n",
       "      <th>count</th>\n",
       "    </tr>\n",
       "  </thead>\n",
       "  <tbody>\n",
       "    <tr>\n",
       "      <th>0</th>\n",
       "      <td>protein</td>\n",
       "      <td>HGNC</td>\n",
       "      <td>8503</td>\n",
       "    </tr>\n",
       "  </tbody>\n",
       "</table>\n",
       "</div>"
      ],
      "text/plain": [
       "  node_class namespace  count\n",
       "0    protein      HGNC   8503"
      ]
     },
     "execution_count": 15,
     "metadata": {},
     "output_type": "execute_result"
    }
   ],
   "source": [
    "statistics.node_namespace_order_by_count().table[:1]"
   ]
  },
  {
   "cell_type": "markdown",
   "metadata": {},
   "source": [
    "### Node namespace ordered by namespace"
   ]
  },
  {
   "cell_type": "code",
   "execution_count": 16,
   "metadata": {
    "ExecuteTime": {
     "end_time": "2020-10-28T14:13:15.377289Z",
     "start_time": "2020-10-28T14:13:13.731429Z"
    }
   },
   "outputs": [
    {
     "name": "stdout",
     "output_type": "stream",
     "text": [
      "https://graphstore.scai.fraunhofer.de/function/covid/bel_statistics_node_namespace_order_by_namespace/\n"
     ]
    },
    {
     "data": {
      "text/html": [
       "<div>\n",
       "<style scoped>\n",
       "    .dataframe tbody tr th:only-of-type {\n",
       "        vertical-align: middle;\n",
       "    }\n",
       "\n",
       "    .dataframe tbody tr th {\n",
       "        vertical-align: top;\n",
       "    }\n",
       "\n",
       "    .dataframe thead th {\n",
       "        text-align: right;\n",
       "    }\n",
       "</style>\n",
       "<table border=\"1\" class=\"dataframe\">\n",
       "  <thead>\n",
       "    <tr style=\"text-align: right;\">\n",
       "      <th></th>\n",
       "      <th>node_class</th>\n",
       "      <th>namespace</th>\n",
       "      <th>count</th>\n",
       "    </tr>\n",
       "  </thead>\n",
       "  <tbody>\n",
       "    <tr>\n",
       "      <th>0</th>\n",
       "      <td>abundance</td>\n",
       "      <td>ADO</td>\n",
       "      <td>1</td>\n",
       "    </tr>\n",
       "  </tbody>\n",
       "</table>\n",
       "</div>"
      ],
      "text/plain": [
       "  node_class namespace  count\n",
       "0  abundance       ADO      1"
      ]
     },
     "execution_count": 16,
     "metadata": {},
     "output_type": "execute_result"
    }
   ],
   "source": [
    "statistics.node_namespace_order_by_namespace().table[:1]"
   ]
  },
  {
   "cell_type": "markdown",
   "metadata": {},
   "source": [
    "### Edge classes"
   ]
  },
  {
   "cell_type": "code",
   "execution_count": 17,
   "metadata": {
    "ExecuteTime": {
     "end_time": "2020-10-28T14:13:18.727033Z",
     "start_time": "2020-10-28T14:13:15.381539Z"
    }
   },
   "outputs": [
    {
     "name": "stdout",
     "output_type": "stream",
     "text": [
      "https://graphstore.scai.fraunhofer.de/function/covid/bel_statistics_edges/\n"
     ]
    },
    {
     "data": {
      "text/html": [
       "<div>\n",
       "<style scoped>\n",
       "    .dataframe tbody tr th:only-of-type {\n",
       "        vertical-align: middle;\n",
       "    }\n",
       "\n",
       "    .dataframe tbody tr th {\n",
       "        vertical-align: top;\n",
       "    }\n",
       "\n",
       "    .dataframe thead th {\n",
       "        text-align: right;\n",
       "    }\n",
       "</style>\n",
       "<table border=\"1\" class=\"dataframe\">\n",
       "  <thead>\n",
       "    <tr style=\"text-align: right;\">\n",
       "      <th></th>\n",
       "      <th>number_of_edges</th>\n",
       "      <th>edge_class</th>\n",
       "    </tr>\n",
       "  </thead>\n",
       "  <tbody>\n",
       "    <tr>\n",
       "      <th>0</th>\n",
       "      <td>55466</td>\n",
       "      <td>positive_correlation</td>\n",
       "    </tr>\n",
       "  </tbody>\n",
       "</table>\n",
       "</div>"
      ],
      "text/plain": [
       "   number_of_edges            edge_class\n",
       "0            55466  positive_correlation"
      ]
     },
     "execution_count": 17,
     "metadata": {},
     "output_type": "execute_result"
    }
   ],
   "source": [
    "statistics.edges().table[:1]"
   ]
  },
  {
   "cell_type": "markdown",
   "metadata": {},
   "source": [
    "### Node classes"
   ]
  },
  {
   "cell_type": "code",
   "execution_count": 18,
   "metadata": {
    "ExecuteTime": {
     "end_time": "2020-10-28T14:13:19.828635Z",
     "start_time": "2020-10-28T14:13:18.736164Z"
    }
   },
   "outputs": [
    {
     "name": "stdout",
     "output_type": "stream",
     "text": [
      "https://graphstore.scai.fraunhofer.de/function/covid/bel_statistics_nodes/\n"
     ]
    },
    {
     "data": {
      "text/html": [
       "<div>\n",
       "<style scoped>\n",
       "    .dataframe tbody tr th:only-of-type {\n",
       "        vertical-align: middle;\n",
       "    }\n",
       "\n",
       "    .dataframe tbody tr th {\n",
       "        vertical-align: top;\n",
       "    }\n",
       "\n",
       "    .dataframe thead th {\n",
       "        text-align: right;\n",
       "    }\n",
       "</style>\n",
       "<table border=\"1\" class=\"dataframe\">\n",
       "  <thead>\n",
       "    <tr style=\"text-align: right;\">\n",
       "      <th></th>\n",
       "      <th>number_of_nodes</th>\n",
       "      <th>node_class</th>\n",
       "    </tr>\n",
       "  </thead>\n",
       "  <tbody>\n",
       "    <tr>\n",
       "      <th>0</th>\n",
       "      <td>11321</td>\n",
       "      <td>gene</td>\n",
       "    </tr>\n",
       "  </tbody>\n",
       "</table>\n",
       "</div>"
      ],
      "text/plain": [
       "   number_of_nodes node_class\n",
       "0            11321       gene"
      ]
     },
     "execution_count": 18,
     "metadata": {},
     "output_type": "execute_result"
    }
   ],
   "source": [
    "statistics.nodes().table[:1]"
   ]
  },
  {
   "cell_type": "markdown",
   "metadata": {},
   "source": [
    "## Graphs\n",
    "\n",
    "All graph data can be retrieved as\n",
    "1. edges (python object => list of dictionaries)\n",
    "2. table (pandas.DataFrame)\n",
    "2. table_all_columns (pandas.DataFrame)\n",
    "\n",
    "See below the graph view possibilities."
   ]
  },
  {
   "cell_type": "markdown",
   "metadata": {},
   "source": [
    "### Graph queries"
   ]
  },
  {
   "cell_type": "code",
   "execution_count": 19,
   "metadata": {
    "ExecuteTime": {
     "end_time": "2020-10-28T14:13:23.126293Z",
     "start_time": "2020-10-28T14:13:19.833836Z"
    }
   },
   "outputs": [
    {
     "name": "stdout",
     "output_type": "stream",
     "text": [
      "https://graphstore.scai.fraunhofer.de/function/covid/bel_by_annotation/MeSHAnatomy/Lysosomes\n"
     ]
    },
    {
     "data": {
      "text/plain": [
       "{'subject_bel': 'act(p(PFAM:\"Hydrolase\"),ma(GO:\"hydrolase activity\"))',\n",
       " 'subject_involved_genes': ['Hydrolase'],\n",
       " 'subject_involved_other': ['hydrolase activity'],\n",
       " 'subject_class': 'activity',\n",
       " 'subject_id': '#234:5',\n",
       " 'relation': 'increases',\n",
       " 'pmid': 31394830,\n",
       " 'edge_id': '#560:466',\n",
       " 'evidence': 'The acidic hydrolases present in the lysosomal lumen lyse proteins that are degraded for recycling, or that are transferred to the late endosomal MHC class II compartment (MIIC) to be loaded onto MHCII molecules and subsequently presented in this context to CD4+ T cells [25,26,27,28].',\n",
       " 'last_author': 'Muller S',\n",
       " 'title': 'HSPA8/HSC70 in Immune Disorders: A Molecular Rheostat that Adjusts Chaperone-Mediated Autophagy Substrates.',\n",
       " 'publication_date': '2020-05-11',\n",
       " 'annotation': {'MeSHAnatomy': ['Lysosomes'],\n",
       "  'PublicationStatus': ['Published'],\n",
       "  'PublicationType': ['Review'],\n",
       "  'Section': ['Full Text'],\n",
       "  'mesh': ['Animals',\n",
       "   'Chaperone-Mediated Autophagy',\n",
       "   'HSC70 Heat-Shock Proteins',\n",
       "   'Humans',\n",
       "   'Immune System Diseases',\n",
       "   'Mice',\n",
       "   'Rats'],\n",
       "  'substances': ['HSC70 Heat-Shock Proteins', 'HSPA8 protein, human']},\n",
       " 'object_bel': 'bp(GO:\"lysosomal protein catabolic process\")',\n",
       " 'object_involved_genes': [],\n",
       " 'object_involved_other': ['lysosomal protein catabolic process'],\n",
       " 'object_class': 'biological_process',\n",
       " 'object_id': '#89:73'}"
      ]
     },
     "execution_count": 19,
     "metadata": {},
     "output_type": "execute_result"
    }
   ],
   "source": [
    "query.annotation('MeSHAnatomy', 'Lysosomes').edges[0]"
   ]
  },
  {
   "cell_type": "markdown",
   "metadata": {},
   "source": [
    "#### Ouery by last author"
   ]
  },
  {
   "cell_type": "code",
   "execution_count": 20,
   "metadata": {
    "ExecuteTime": {
     "end_time": "2020-10-28T14:13:26.638165Z",
     "start_time": "2020-10-28T14:13:23.133560Z"
    }
   },
   "outputs": [
    {
     "name": "stdout",
     "output_type": "stream",
     "text": [
      "https://graphstore.scai.fraunhofer.de/function/covid/bel_by_last_author/Denison%20MR///\n"
     ]
    },
    {
     "data": {
      "text/html": [
       "<div>\n",
       "<style scoped>\n",
       "    .dataframe tbody tr th:only-of-type {\n",
       "        vertical-align: middle;\n",
       "    }\n",
       "\n",
       "    .dataframe tbody tr th {\n",
       "        vertical-align: top;\n",
       "    }\n",
       "\n",
       "    .dataframe thead th {\n",
       "        text-align: right;\n",
       "    }\n",
       "</style>\n",
       "<table border=\"1\" class=\"dataframe\">\n",
       "  <thead>\n",
       "    <tr style=\"text-align: right;\">\n",
       "      <th></th>\n",
       "      <th>subject_bel</th>\n",
       "      <th>relation</th>\n",
       "      <th>object_bel</th>\n",
       "      <th>pmid</th>\n",
       "    </tr>\n",
       "    <tr>\n",
       "      <th>edge_id</th>\n",
       "      <th></th>\n",
       "      <th></th>\n",
       "      <th></th>\n",
       "      <th></th>\n",
       "    </tr>\n",
       "  </thead>\n",
       "  <tbody>\n",
       "    <tr>\n",
       "      <th>#554:420</th>\n",
       "      <td>p(UNIPROT:\"P0C6X7\",frag(\"1_180\"))</td>\n",
       "      <td>increases</td>\n",
       "      <td>p(HGNC:\"CXCL10\")</td>\n",
       "      <td>17397959</td>\n",
       "    </tr>\n",
       "  </tbody>\n",
       "</table>\n",
       "</div>"
      ],
      "text/plain": [
       "                                subject_bel   relation        object_bel  \\\n",
       "edge_id                                                                    \n",
       "#554:420  p(UNIPROT:\"P0C6X7\",frag(\"1_180\"))  increases  p(HGNC:\"CXCL10\")   \n",
       "\n",
       "              pmid  \n",
       "edge_id             \n",
       "#554:420  17397959  "
      ]
     },
     "execution_count": 20,
     "metadata": {},
     "output_type": "execute_result"
    }
   ],
   "source": [
    "query.last_author('Denison MR').table[:1]"
   ]
  },
  {
   "cell_type": "markdown",
   "metadata": {},
   "source": [
    "#### Query by PubMed identifier"
   ]
  },
  {
   "cell_type": "code",
   "execution_count": 21,
   "metadata": {
    "ExecuteTime": {
     "end_time": "2020-10-28T14:13:26.937725Z",
     "start_time": "2020-10-28T14:13:26.641917Z"
    }
   },
   "outputs": [
    {
     "name": "stdout",
     "output_type": "stream",
     "text": [
      "https://graphstore.scai.fraunhofer.de/function/covid/bel_by_pmid/32129518\n"
     ]
    },
    {
     "data": {
      "text/html": [
       "<div>\n",
       "<style scoped>\n",
       "    .dataframe tbody tr th:only-of-type {\n",
       "        vertical-align: middle;\n",
       "    }\n",
       "\n",
       "    .dataframe tbody tr th {\n",
       "        vertical-align: top;\n",
       "    }\n",
       "\n",
       "    .dataframe thead th {\n",
       "        text-align: right;\n",
       "    }\n",
       "</style>\n",
       "<table border=\"1\" class=\"dataframe\">\n",
       "  <thead>\n",
       "    <tr style=\"text-align: right;\">\n",
       "      <th></th>\n",
       "      <th>subject_bel</th>\n",
       "      <th>relation</th>\n",
       "      <th>object_bel</th>\n",
       "      <th>pmid</th>\n",
       "    </tr>\n",
       "    <tr>\n",
       "      <th>edge_id</th>\n",
       "      <th></th>\n",
       "      <th></th>\n",
       "      <th></th>\n",
       "      <th></th>\n",
       "    </tr>\n",
       "  </thead>\n",
       "  <tbody>\n",
       "    <tr>\n",
       "      <th>#669:850</th>\n",
       "      <td>act(p(HGNC:\"ACE2\"))</td>\n",
       "      <td>negative_correlation</td>\n",
       "      <td>path(MESH:\"Lung Injury\")</td>\n",
       "      <td>32129518</td>\n",
       "    </tr>\n",
       "  </tbody>\n",
       "</table>\n",
       "</div>"
      ],
      "text/plain": [
       "                  subject_bel              relation                object_bel  \\\n",
       "edge_id                                                                         \n",
       "#669:850  act(p(HGNC:\"ACE2\"))  negative_correlation  path(MESH:\"Lung Injury\")   \n",
       "\n",
       "              pmid  \n",
       "edge_id             \n",
       "#669:850  32129518  "
      ]
     },
     "execution_count": 21,
     "metadata": {},
     "output_type": "execute_result"
    }
   ],
   "source": [
    "query.pmid(32129518).table[:1]"
   ]
  },
  {
   "cell_type": "markdown",
   "metadata": {},
   "source": [
    "#### Causal & correlative relations by gene symbol"
   ]
  },
  {
   "cell_type": "code",
   "execution_count": 22,
   "metadata": {
    "ExecuteTime": {
     "end_time": "2020-10-28T14:13:28.208118Z",
     "start_time": "2020-10-28T14:13:26.941431Z"
    }
   },
   "outputs": [
    {
     "name": "stdout",
     "output_type": "stream",
     "text": [
      "https://graphstore.scai.fraunhofer.de/function/covid/bel_causal_correlative_by_gene/ACE2\n"
     ]
    },
    {
     "data": {
      "text/html": [
       "<div>\n",
       "<style scoped>\n",
       "    .dataframe tbody tr th:only-of-type {\n",
       "        vertical-align: middle;\n",
       "    }\n",
       "\n",
       "    .dataframe tbody tr th {\n",
       "        vertical-align: top;\n",
       "    }\n",
       "\n",
       "    .dataframe thead th {\n",
       "        text-align: right;\n",
       "    }\n",
       "</style>\n",
       "<table border=\"1\" class=\"dataframe\">\n",
       "  <thead>\n",
       "    <tr style=\"text-align: right;\">\n",
       "      <th></th>\n",
       "      <th>subject_bel</th>\n",
       "      <th>relation</th>\n",
       "      <th>object_bel</th>\n",
       "      <th>pmid</th>\n",
       "    </tr>\n",
       "    <tr>\n",
       "      <th>edge_id</th>\n",
       "      <th></th>\n",
       "      <th></th>\n",
       "      <th></th>\n",
       "      <th></th>\n",
       "    </tr>\n",
       "  </thead>\n",
       "  <tbody>\n",
       "    <tr>\n",
       "      <th>#589:346</th>\n",
       "      <td>complex(a(CHEBI:\"allyl methyl disulfide\"),p(HG...</td>\n",
       "      <td>decreases</td>\n",
       "      <td>act(p(HGNC:\"ACE2\"))</td>\n",
       "      <td>0</td>\n",
       "    </tr>\n",
       "  </tbody>\n",
       "</table>\n",
       "</div>"
      ],
      "text/plain": [
       "                                                subject_bel   relation  \\\n",
       "edge_id                                                                  \n",
       "#589:346  complex(a(CHEBI:\"allyl methyl disulfide\"),p(HG...  decreases   \n",
       "\n",
       "                   object_bel  pmid  \n",
       "edge_id                              \n",
       "#589:346  act(p(HGNC:\"ACE2\"))     0  "
      ]
     },
     "execution_count": 22,
     "metadata": {},
     "output_type": "execute_result"
    }
   ],
   "source": [
    "query.causal_correlative_by_gene('ACE2').table[:1]"
   ]
  },
  {
   "cell_type": "markdown",
   "metadata": {},
   "source": [
    "#### All causal paths from gene 1 to gene 2 with causal relations "
   ]
  },
  {
   "cell_type": "code",
   "execution_count": 23,
   "metadata": {
    "ExecuteTime": {
     "end_time": "2020-10-28T14:23:27.330111Z",
     "start_time": "2020-10-28T14:23:00.062780Z"
    }
   },
   "outputs": [
    {
     "name": "stdout",
     "output_type": "stream",
     "text": [
      "https://graphstore.scai.fraunhofer.de/function/covid/bel_path/FURIN/COVID-19/1-2\n"
     ]
    },
    {
     "data": {
      "text/html": [
       "<div>\n",
       "<style scoped>\n",
       "    .dataframe tbody tr th:only-of-type {\n",
       "        vertical-align: middle;\n",
       "    }\n",
       "\n",
       "    .dataframe tbody tr th {\n",
       "        vertical-align: top;\n",
       "    }\n",
       "\n",
       "    .dataframe thead th {\n",
       "        text-align: right;\n",
       "    }\n",
       "</style>\n",
       "<table border=\"1\" class=\"dataframe\">\n",
       "  <thead>\n",
       "    <tr style=\"text-align: right;\">\n",
       "      <th></th>\n",
       "      <th>subject_bel</th>\n",
       "      <th>relation</th>\n",
       "      <th>object_bel</th>\n",
       "      <th>pmid</th>\n",
       "    </tr>\n",
       "    <tr>\n",
       "      <th>edge_id</th>\n",
       "      <th></th>\n",
       "      <th></th>\n",
       "      <th></th>\n",
       "      <th></th>\n",
       "    </tr>\n",
       "  </thead>\n",
       "  <tbody>\n",
       "    <tr>\n",
       "      <th>#555:756</th>\n",
       "      <td>complex(p(HGNC:\"ACE2\"),p(UNIPROT:\"P0DTC2\"))</td>\n",
       "      <td>increases</td>\n",
       "      <td>path(DO:\"COVID-19\")</td>\n",
       "      <td>32227090</td>\n",
       "    </tr>\n",
       "    <tr>\n",
       "      <th>#569:708</th>\n",
       "      <td>p(HGNC:\"FURIN\")</td>\n",
       "      <td>increases</td>\n",
       "      <td>complex(p(HGNC:\"ACE2\"),p(UNIPROT:\"P0DTC2\"))</td>\n",
       "      <td>0</td>\n",
       "    </tr>\n",
       "    <tr>\n",
       "      <th>#566:88</th>\n",
       "      <td>complex(p(HGNC:\"ACE2\"),p(UNIPROT:\"P0DTC2\"))</td>\n",
       "      <td>increases</td>\n",
       "      <td>path(DO:\"COVID-19\")</td>\n",
       "      <td>32186711</td>\n",
       "    </tr>\n",
       "  </tbody>\n",
       "</table>\n",
       "</div>"
      ],
      "text/plain": [
       "                                          subject_bel   relation  \\\n",
       "edge_id                                                            \n",
       "#555:756  complex(p(HGNC:\"ACE2\"),p(UNIPROT:\"P0DTC2\"))  increases   \n",
       "#569:708                              p(HGNC:\"FURIN\")  increases   \n",
       "#566:88   complex(p(HGNC:\"ACE2\"),p(UNIPROT:\"P0DTC2\"))  increases   \n",
       "\n",
       "                                           object_bel      pmid  \n",
       "edge_id                                                          \n",
       "#555:756                          path(DO:\"COVID-19\")  32227090  \n",
       "#569:708  complex(p(HGNC:\"ACE2\"),p(UNIPROT:\"P0DTC2\"))         0  \n",
       "#566:88                           path(DO:\"COVID-19\")  32186711  "
      ]
     },
     "execution_count": 23,
     "metadata": {},
     "output_type": "execute_result"
    }
   ],
   "source": [
    "query.path(source='FURIN',target='COVID-19',min_edges=1,max_edges=2).table[:3]"
   ]
  },
  {
   "cell_type": "markdown",
   "metadata": {},
   "source": [
    "#### BELish"
   ]
  },
  {
   "cell_type": "code",
   "execution_count": 24,
   "metadata": {
    "ExecuteTime": {
     "end_time": "2020-10-28T14:23:31.674461Z",
     "start_time": "2020-10-28T14:23:27.333963Z"
    }
   },
   "outputs": [
    {
     "name": "stdout",
     "output_type": "stream",
     "text": [
      "https://graphstore.scai.fraunhofer.de/function/covid/belish_helper/p%28HGNC%3A%22IFNB1%22%29%20%3F%20%3F\n"
     ]
    },
    {
     "data": {
      "text/html": [
       "<div>\n",
       "<style scoped>\n",
       "    .dataframe tbody tr th:only-of-type {\n",
       "        vertical-align: middle;\n",
       "    }\n",
       "\n",
       "    .dataframe tbody tr th {\n",
       "        vertical-align: top;\n",
       "    }\n",
       "\n",
       "    .dataframe thead th {\n",
       "        text-align: right;\n",
       "    }\n",
       "</style>\n",
       "<table border=\"1\" class=\"dataframe\">\n",
       "  <thead>\n",
       "    <tr style=\"text-align: right;\">\n",
       "      <th></th>\n",
       "      <th>subject_bel</th>\n",
       "      <th>relation</th>\n",
       "      <th>object_bel</th>\n",
       "      <th>pmid</th>\n",
       "    </tr>\n",
       "    <tr>\n",
       "      <th>edge_id</th>\n",
       "      <th></th>\n",
       "      <th></th>\n",
       "      <th></th>\n",
       "      <th></th>\n",
       "    </tr>\n",
       "  </thead>\n",
       "  <tbody>\n",
       "    <tr>\n",
       "      <th>#556:140</th>\n",
       "      <td>p(HGNC:\"IFNB1\")</td>\n",
       "      <td>increases</td>\n",
       "      <td>complex(p(HGNC:\"IFNAR1\"),p(HGNC:\"IFNB1\"))</td>\n",
       "      <td>0</td>\n",
       "    </tr>\n",
       "    <tr>\n",
       "      <th>#557:407</th>\n",
       "      <td>p(HGNC:\"IFNB1\")</td>\n",
       "      <td>increases</td>\n",
       "      <td>bp(GOBP:\"regulation of autophagy\")</td>\n",
       "      <td>0</td>\n",
       "    </tr>\n",
       "    <tr>\n",
       "      <th>#558:678</th>\n",
       "      <td>p(HGNC:\"IFNB1\")</td>\n",
       "      <td>increases</td>\n",
       "      <td>p(HGNC:\"TIRAP\")</td>\n",
       "      <td>19029990</td>\n",
       "    </tr>\n",
       "    <tr>\n",
       "      <th>#565:11</th>\n",
       "      <td>p(HGNC:\"IFNB1\")</td>\n",
       "      <td>increases</td>\n",
       "      <td>bp(GOBP:\"macrophage activation\")</td>\n",
       "      <td>19029990</td>\n",
       "    </tr>\n",
       "    <tr>\n",
       "      <th>#593:284</th>\n",
       "      <td>p(HGNC:\"IFNB1\")</td>\n",
       "      <td>decreases</td>\n",
       "      <td>path(DO:\"COVID-19\")</td>\n",
       "      <td>0</td>\n",
       "    </tr>\n",
       "    <tr>\n",
       "      <th>...</th>\n",
       "      <td>...</td>\n",
       "      <td>...</td>\n",
       "      <td>...</td>\n",
       "      <td>...</td>\n",
       "    </tr>\n",
       "    <tr>\n",
       "      <th>#697:3177</th>\n",
       "      <td>p(HGNC:\"IFNB1\")</td>\n",
       "      <td>positive_correlation</td>\n",
       "      <td>p(HGNC:\"MPL\")</td>\n",
       "      <td>0</td>\n",
       "    </tr>\n",
       "    <tr>\n",
       "      <th>#697:3242</th>\n",
       "      <td>p(HGNC:\"IFNB1\")</td>\n",
       "      <td>positive_correlation</td>\n",
       "      <td>bp(GOBP:\"macrophage activation\")</td>\n",
       "      <td>0</td>\n",
       "    </tr>\n",
       "    <tr>\n",
       "      <th>#697:3335</th>\n",
       "      <td>p(HGNC:\"IFNB1\")</td>\n",
       "      <td>positive_correlation</td>\n",
       "      <td>p(HGNC:\"TP53\")</td>\n",
       "      <td>0</td>\n",
       "    </tr>\n",
       "    <tr>\n",
       "      <th>#703:266</th>\n",
       "      <td>p(HGNC:\"IFNB1\")</td>\n",
       "      <td>association</td>\n",
       "      <td>p(HGNC:\"MMP9\")</td>\n",
       "      <td>0</td>\n",
       "    </tr>\n",
       "    <tr>\n",
       "      <th>#707:686</th>\n",
       "      <td>p(HGNC:\"IFNB1\")</td>\n",
       "      <td>association</td>\n",
       "      <td>a(CHEBI:\"hydrogen peroxide\")</td>\n",
       "      <td>0</td>\n",
       "    </tr>\n",
       "  </tbody>\n",
       "</table>\n",
       "<p>788 rows × 4 columns</p>\n",
       "</div>"
      ],
      "text/plain": [
       "               subject_bel              relation  \\\n",
       "edge_id                                            \n",
       "#556:140   p(HGNC:\"IFNB1\")             increases   \n",
       "#557:407   p(HGNC:\"IFNB1\")             increases   \n",
       "#558:678   p(HGNC:\"IFNB1\")             increases   \n",
       "#565:11    p(HGNC:\"IFNB1\")             increases   \n",
       "#593:284   p(HGNC:\"IFNB1\")             decreases   \n",
       "...                    ...                   ...   \n",
       "#697:3177  p(HGNC:\"IFNB1\")  positive_correlation   \n",
       "#697:3242  p(HGNC:\"IFNB1\")  positive_correlation   \n",
       "#697:3335  p(HGNC:\"IFNB1\")  positive_correlation   \n",
       "#703:266   p(HGNC:\"IFNB1\")           association   \n",
       "#707:686   p(HGNC:\"IFNB1\")           association   \n",
       "\n",
       "                                          object_bel      pmid  \n",
       "edge_id                                                         \n",
       "#556:140   complex(p(HGNC:\"IFNAR1\"),p(HGNC:\"IFNB1\"))         0  \n",
       "#557:407          bp(GOBP:\"regulation of autophagy\")         0  \n",
       "#558:678                             p(HGNC:\"TIRAP\")  19029990  \n",
       "#565:11             bp(GOBP:\"macrophage activation\")  19029990  \n",
       "#593:284                         path(DO:\"COVID-19\")         0  \n",
       "...                                              ...       ...  \n",
       "#697:3177                              p(HGNC:\"MPL\")         0  \n",
       "#697:3242           bp(GOBP:\"macrophage activation\")         0  \n",
       "#697:3335                             p(HGNC:\"TP53\")         0  \n",
       "#703:266                              p(HGNC:\"MMP9\")         0  \n",
       "#707:686                a(CHEBI:\"hydrogen peroxide\")         0  \n",
       "\n",
       "[788 rows x 4 columns]"
      ]
     },
     "execution_count": 24,
     "metadata": {},
     "output_type": "execute_result"
    }
   ],
   "source": [
    "query.belish('p(HGNC:\"IFNB1\") ? ?').table"
   ]
  },
  {
   "cell_type": "markdown",
   "metadata": {},
   "source": [
    "### Graph display"
   ]
  },
  {
   "cell_type": "code",
   "execution_count": 25,
   "metadata": {
    "ExecuteTime": {
     "end_time": "2020-10-28T14:23:31.942114Z",
     "start_time": "2020-10-28T14:23:31.676813Z"
    }
   },
   "outputs": [
    {
     "name": "stdout",
     "output_type": "stream",
     "text": [
      "https://graphstore.scai.fraunhofer.de/function/covid/bel_by_pmid/32129518\n"
     ]
    }
   ],
   "source": [
    "g = query.pmid(32129518)"
   ]
  },
  {
   "cell_type": "markdown",
   "metadata": {},
   "source": [
    "#### Table"
   ]
  },
  {
   "cell_type": "code",
   "execution_count": 26,
   "metadata": {
    "ExecuteTime": {
     "end_time": "2020-10-28T14:23:31.958156Z",
     "start_time": "2020-10-28T14:23:31.943974Z"
    }
   },
   "outputs": [
    {
     "data": {
      "text/html": [
       "<div>\n",
       "<style scoped>\n",
       "    .dataframe tbody tr th:only-of-type {\n",
       "        vertical-align: middle;\n",
       "    }\n",
       "\n",
       "    .dataframe tbody tr th {\n",
       "        vertical-align: top;\n",
       "    }\n",
       "\n",
       "    .dataframe thead th {\n",
       "        text-align: right;\n",
       "    }\n",
       "</style>\n",
       "<table border=\"1\" class=\"dataframe\">\n",
       "  <thead>\n",
       "    <tr style=\"text-align: right;\">\n",
       "      <th></th>\n",
       "      <th>subject_bel</th>\n",
       "      <th>relation</th>\n",
       "      <th>object_bel</th>\n",
       "      <th>pmid</th>\n",
       "    </tr>\n",
       "    <tr>\n",
       "      <th>edge_id</th>\n",
       "      <th></th>\n",
       "      <th></th>\n",
       "      <th></th>\n",
       "      <th></th>\n",
       "    </tr>\n",
       "  </thead>\n",
       "  <tbody>\n",
       "    <tr>\n",
       "      <th>#669:850</th>\n",
       "      <td>act(p(HGNC:\"ACE2\"))</td>\n",
       "      <td>negative_correlation</td>\n",
       "      <td>path(MESH:\"Lung Injury\")</td>\n",
       "      <td>32129518</td>\n",
       "    </tr>\n",
       "    <tr>\n",
       "      <th>#593:21</th>\n",
       "      <td>a(CHEBI:\"telmisartan\")</td>\n",
       "      <td>decreases</td>\n",
       "      <td>path(DO:\"kidney disease\")</td>\n",
       "      <td>32129518</td>\n",
       "    </tr>\n",
       "    <tr>\n",
       "      <th>#600:219</th>\n",
       "      <td>a(CHEBI:\"olmesartan\")</td>\n",
       "      <td>decreases</td>\n",
       "      <td>act(p(HGNC:\"AGTR1\"))</td>\n",
       "      <td>32129518</td>\n",
       "    </tr>\n",
       "    <tr>\n",
       "      <th>#565:516</th>\n",
       "      <td>a(CHEBI:\"angiotensin II\")</td>\n",
       "      <td>increases</td>\n",
       "      <td>act(p(HGNC:\"AGTR1\"))</td>\n",
       "      <td>32129518</td>\n",
       "    </tr>\n",
       "    <tr>\n",
       "      <th>#690:2161</th>\n",
       "      <td>path(DO:\"COVID-19\")</td>\n",
       "      <td>positive_correlation</td>\n",
       "      <td>a(CHEBI:\"angiotensin II\")</td>\n",
       "      <td>32129518</td>\n",
       "    </tr>\n",
       "  </tbody>\n",
       "</table>\n",
       "</div>"
      ],
      "text/plain": [
       "                         subject_bel              relation  \\\n",
       "edge_id                                                      \n",
       "#669:850         act(p(HGNC:\"ACE2\"))  negative_correlation   \n",
       "#593:21       a(CHEBI:\"telmisartan\")             decreases   \n",
       "#600:219       a(CHEBI:\"olmesartan\")             decreases   \n",
       "#565:516   a(CHEBI:\"angiotensin II\")             increases   \n",
       "#690:2161        path(DO:\"COVID-19\")  positive_correlation   \n",
       "\n",
       "                          object_bel      pmid  \n",
       "edge_id                                         \n",
       "#669:850    path(MESH:\"Lung Injury\")  32129518  \n",
       "#593:21    path(DO:\"kidney disease\")  32129518  \n",
       "#600:219        act(p(HGNC:\"AGTR1\"))  32129518  \n",
       "#565:516        act(p(HGNC:\"AGTR1\"))  32129518  \n",
       "#690:2161  a(CHEBI:\"angiotensin II\")  32129518  "
      ]
     },
     "execution_count": 26,
     "metadata": {},
     "output_type": "execute_result"
    }
   ],
   "source": [
    "g.table[:5]"
   ]
  },
  {
   "cell_type": "markdown",
   "metadata": {},
   "source": [
    "#### Table (comprehensive)"
   ]
  },
  {
   "cell_type": "code",
   "execution_count": 27,
   "metadata": {
    "ExecuteTime": {
     "end_time": "2020-10-28T14:24:15.526926Z",
     "start_time": "2020-10-28T14:24:15.501605Z"
    },
    "scrolled": false
   },
   "outputs": [
    {
     "data": {
      "text/html": [
       "<div>\n",
       "<style scoped>\n",
       "    .dataframe tbody tr th:only-of-type {\n",
       "        vertical-align: middle;\n",
       "    }\n",
       "\n",
       "    .dataframe tbody tr th {\n",
       "        vertical-align: top;\n",
       "    }\n",
       "\n",
       "    .dataframe thead th {\n",
       "        text-align: right;\n",
       "    }\n",
       "</style>\n",
       "<table border=\"1\" class=\"dataframe\">\n",
       "  <thead>\n",
       "    <tr style=\"text-align: right;\">\n",
       "      <th></th>\n",
       "      <th>subject_bel</th>\n",
       "      <th>relation</th>\n",
       "      <th>object_bel</th>\n",
       "      <th>annotation</th>\n",
       "      <th>last_author</th>\n",
       "      <th>publication_date</th>\n",
       "      <th>title</th>\n",
       "      <th>evidence</th>\n",
       "      <th>pmid</th>\n",
       "    </tr>\n",
       "    <tr>\n",
       "      <th>edge_id</th>\n",
       "      <th></th>\n",
       "      <th></th>\n",
       "      <th></th>\n",
       "      <th></th>\n",
       "      <th></th>\n",
       "      <th></th>\n",
       "      <th></th>\n",
       "      <th></th>\n",
       "      <th></th>\n",
       "    </tr>\n",
       "  </thead>\n",
       "  <tbody>\n",
       "    <tr>\n",
       "      <th>#669:850</th>\n",
       "      <td>act(p(HGNC:\"ACE2\"))</td>\n",
       "      <td>negative_correlation</td>\n",
       "      <td>path(MESH:\"Lung Injury\")</td>\n",
       "      <td>{'Custom_Disease': ['COVID-19'], 'MeSHAnatomy'...</td>\n",
       "      <td>Gurwitz D</td>\n",
       "      <td>2020-05-19</td>\n",
       "      <td>Angiotensin receptor blockers as tentative SAR...</td>\n",
       "      <td>Therefore, higher ACE2 expression following ch...</td>\n",
       "      <td>32129518</td>\n",
       "    </tr>\n",
       "    <tr>\n",
       "      <th>#593:21</th>\n",
       "      <td>a(CHEBI:\"telmisartan\")</td>\n",
       "      <td>decreases</td>\n",
       "      <td>path(DO:\"kidney disease\")</td>\n",
       "      <td>{'Custom_Disease': ['COVID-19'], 'PublicationS...</td>\n",
       "      <td>Gurwitz D</td>\n",
       "      <td>2020-05-19</td>\n",
       "      <td>Angiotensin receptor blockers as tentative SAR...</td>\n",
       "      <td>Losartan, telmisartan, olmesartan (and additio...</td>\n",
       "      <td>32129518</td>\n",
       "    </tr>\n",
       "    <tr>\n",
       "      <th>#600:219</th>\n",
       "      <td>a(CHEBI:\"olmesartan\")</td>\n",
       "      <td>decreases</td>\n",
       "      <td>act(p(HGNC:\"AGTR1\"))</td>\n",
       "      <td>{'MeSHDisease': ['Hypertension'], 'Publication...</td>\n",
       "      <td>Gurwitz D</td>\n",
       "      <td>2020-05-19</td>\n",
       "      <td>Angiotensin receptor blockers as tentative SAR...</td>\n",
       "      <td>The AT1R antagonists losartan and olmesartan, ...</td>\n",
       "      <td>32129518</td>\n",
       "    </tr>\n",
       "    <tr>\n",
       "      <th>#565:516</th>\n",
       "      <td>a(CHEBI:\"angiotensin II\")</td>\n",
       "      <td>increases</td>\n",
       "      <td>act(p(HGNC:\"AGTR1\"))</td>\n",
       "      <td>{'Custom_Disease': ['COVID-19'], 'MeSHAnatomy'...</td>\n",
       "      <td>Gurwitz D</td>\n",
       "      <td>2020-05-19</td>\n",
       "      <td>Angiotensin receptor blockers as tentative SAR...</td>\n",
       "      <td>This in turn contributes to lung injury, as an...</td>\n",
       "      <td>32129518</td>\n",
       "    </tr>\n",
       "  </tbody>\n",
       "</table>\n",
       "</div>"
      ],
      "text/plain": [
       "                        subject_bel              relation  \\\n",
       "edge_id                                                     \n",
       "#669:850        act(p(HGNC:\"ACE2\"))  negative_correlation   \n",
       "#593:21      a(CHEBI:\"telmisartan\")             decreases   \n",
       "#600:219      a(CHEBI:\"olmesartan\")             decreases   \n",
       "#565:516  a(CHEBI:\"angiotensin II\")             increases   \n",
       "\n",
       "                         object_bel  \\\n",
       "edge_id                               \n",
       "#669:850   path(MESH:\"Lung Injury\")   \n",
       "#593:21   path(DO:\"kidney disease\")   \n",
       "#600:219       act(p(HGNC:\"AGTR1\"))   \n",
       "#565:516       act(p(HGNC:\"AGTR1\"))   \n",
       "\n",
       "                                                 annotation last_author  \\\n",
       "edge_id                                                                   \n",
       "#669:850  {'Custom_Disease': ['COVID-19'], 'MeSHAnatomy'...   Gurwitz D   \n",
       "#593:21   {'Custom_Disease': ['COVID-19'], 'PublicationS...   Gurwitz D   \n",
       "#600:219  {'MeSHDisease': ['Hypertension'], 'Publication...   Gurwitz D   \n",
       "#565:516  {'Custom_Disease': ['COVID-19'], 'MeSHAnatomy'...   Gurwitz D   \n",
       "\n",
       "         publication_date                                              title  \\\n",
       "edge_id                                                                        \n",
       "#669:850       2020-05-19  Angiotensin receptor blockers as tentative SAR...   \n",
       "#593:21        2020-05-19  Angiotensin receptor blockers as tentative SAR...   \n",
       "#600:219       2020-05-19  Angiotensin receptor blockers as tentative SAR...   \n",
       "#565:516       2020-05-19  Angiotensin receptor blockers as tentative SAR...   \n",
       "\n",
       "                                                   evidence      pmid  \n",
       "edge_id                                                                \n",
       "#669:850  Therefore, higher ACE2 expression following ch...  32129518  \n",
       "#593:21   Losartan, telmisartan, olmesartan (and additio...  32129518  \n",
       "#600:219  The AT1R antagonists losartan and olmesartan, ...  32129518  \n",
       "#565:516  This in turn contributes to lung injury, as an...  32129518  "
      ]
     },
     "execution_count": 27,
     "metadata": {},
     "output_type": "execute_result"
    }
   ],
   "source": [
    "g.table_all_columns[:4]"
   ]
  },
  {
   "cell_type": "markdown",
   "metadata": {},
   "source": [
    "#### BEL graph (simplified)"
   ]
  },
  {
   "cell_type": "code",
   "execution_count": 28,
   "metadata": {
    "ExecuteTime": {
     "end_time": "2020-10-28T14:23:32.531171Z",
     "start_time": "2020-10-28T14:23:32.142220Z"
    }
   },
   "outputs": [
    {
     "ename": "ExecutableNotFound",
     "evalue": "failed to execute ['dot', '-Kdot', '-Tpng', '-O', 'bel_by_pmid'], make sure the Graphviz executables are on your systems' PATH",
     "output_type": "error",
     "traceback": [
      "\u001b[1;31m---------------------------------------------------------------------------\u001b[0m",
      "\u001b[1;31mFileNotFoundError\u001b[0m                         Traceback (most recent call last)",
      "\u001b[1;32mc:\\users\\power\\appdata\\local\\programs\\python\\python38-32\\lib\\site-packages\\graphviz\\backend.py\u001b[0m in \u001b[0;36mrun\u001b[1;34m(cmd, input, capture_output, check, encoding, quiet, **kwargs)\u001b[0m\n\u001b[0;32m    163\u001b[0m     \u001b[1;32mtry\u001b[0m\u001b[1;33m:\u001b[0m\u001b[1;33m\u001b[0m\u001b[1;33m\u001b[0m\u001b[0m\n\u001b[1;32m--> 164\u001b[1;33m         \u001b[0mproc\u001b[0m \u001b[1;33m=\u001b[0m \u001b[0msubprocess\u001b[0m\u001b[1;33m.\u001b[0m\u001b[0mPopen\u001b[0m\u001b[1;33m(\u001b[0m\u001b[0mcmd\u001b[0m\u001b[1;33m,\u001b[0m \u001b[0mstartupinfo\u001b[0m\u001b[1;33m=\u001b[0m\u001b[0mget_startupinfo\u001b[0m\u001b[1;33m(\u001b[0m\u001b[1;33m)\u001b[0m\u001b[1;33m,\u001b[0m \u001b[1;33m**\u001b[0m\u001b[0mkwargs\u001b[0m\u001b[1;33m)\u001b[0m\u001b[1;33m\u001b[0m\u001b[1;33m\u001b[0m\u001b[0m\n\u001b[0m\u001b[0;32m    165\u001b[0m     \u001b[1;32mexcept\u001b[0m \u001b[0mOSError\u001b[0m \u001b[1;32mas\u001b[0m \u001b[0me\u001b[0m\u001b[1;33m:\u001b[0m\u001b[1;33m\u001b[0m\u001b[1;33m\u001b[0m\u001b[0m\n",
      "\u001b[1;32mc:\\users\\power\\appdata\\local\\programs\\python\\python38-32\\lib\\subprocess.py\u001b[0m in \u001b[0;36m__init__\u001b[1;34m(self, args, bufsize, executable, stdin, stdout, stderr, preexec_fn, close_fds, shell, cwd, env, universal_newlines, startupinfo, creationflags, restore_signals, start_new_session, pass_fds, encoding, errors, text)\u001b[0m\n\u001b[0;32m    853\u001b[0m \u001b[1;33m\u001b[0m\u001b[0m\n\u001b[1;32m--> 854\u001b[1;33m             self._execute_child(args, executable, preexec_fn, close_fds,\n\u001b[0m\u001b[0;32m    855\u001b[0m                                 \u001b[0mpass_fds\u001b[0m\u001b[1;33m,\u001b[0m \u001b[0mcwd\u001b[0m\u001b[1;33m,\u001b[0m \u001b[0menv\u001b[0m\u001b[1;33m,\u001b[0m\u001b[1;33m\u001b[0m\u001b[1;33m\u001b[0m\u001b[0m\n",
      "\u001b[1;32mc:\\users\\power\\appdata\\local\\programs\\python\\python38-32\\lib\\subprocess.py\u001b[0m in \u001b[0;36m_execute_child\u001b[1;34m(self, args, executable, preexec_fn, close_fds, pass_fds, cwd, env, startupinfo, creationflags, shell, p2cread, p2cwrite, c2pread, c2pwrite, errread, errwrite, unused_restore_signals, unused_start_new_session)\u001b[0m\n\u001b[0;32m   1306\u001b[0m             \u001b[1;32mtry\u001b[0m\u001b[1;33m:\u001b[0m\u001b[1;33m\u001b[0m\u001b[1;33m\u001b[0m\u001b[0m\n\u001b[1;32m-> 1307\u001b[1;33m                 hp, ht, pid, tid = _winapi.CreateProcess(executable, args,\n\u001b[0m\u001b[0;32m   1308\u001b[0m                                          \u001b[1;31m# no special security\u001b[0m\u001b[1;33m\u001b[0m\u001b[1;33m\u001b[0m\u001b[1;33m\u001b[0m\u001b[0m\n",
      "\u001b[1;31mFileNotFoundError\u001b[0m: [WinError 2] The system cannot find the file specified",
      "\nDuring handling of the above exception, another exception occurred:\n",
      "\u001b[1;31mExecutableNotFound\u001b[0m                        Traceback (most recent call last)",
      "\u001b[1;32m<ipython-input-28-1bef3716a815>\u001b[0m in \u001b[0;36m<module>\u001b[1;34m\u001b[0m\n\u001b[1;32m----> 1\u001b[1;33m \u001b[0mg\u001b[0m\u001b[1;33m.\u001b[0m\u001b[0mas_graph\u001b[0m\u001b[1;33m(\u001b[0m\u001b[1;33m)\u001b[0m\u001b[1;33m\u001b[0m\u001b[1;33m\u001b[0m\u001b[0m\n\u001b[0m",
      "\u001b[1;32mc:\\users\\power\\appdata\\local\\programs\\python\\python38-32\\lib\\site-packages\\ebel_rest\\manager\\core.py\u001b[0m in \u001b[0;36mas_graph\u001b[1;34m(self)\u001b[0m\n\u001b[0;32m    225\u001b[0m     \u001b[1;32mdef\u001b[0m \u001b[0mas_graph\u001b[0m\u001b[1;33m(\u001b[0m\u001b[0mself\u001b[0m\u001b[1;33m)\u001b[0m\u001b[1;33m:\u001b[0m\u001b[1;33m\u001b[0m\u001b[1;33m\u001b[0m\u001b[0m\n\u001b[0;32m    226\u001b[0m         \u001b[1;34m\"\"\"Creates a simple graph visualization.\"\"\"\u001b[0m\u001b[1;33m\u001b[0m\u001b[1;33m\u001b[0m\u001b[0m\n\u001b[1;32m--> 227\u001b[1;33m         \u001b[0mself\u001b[0m\u001b[1;33m.\u001b[0m\u001b[0m_ebel_graph\u001b[0m\u001b[1;33m(\u001b[0m\u001b[1;32mFalse\u001b[0m\u001b[1;33m,\u001b[0m \u001b[1;32mFalse\u001b[0m\u001b[1;33m)\u001b[0m\u001b[1;33m\u001b[0m\u001b[1;33m\u001b[0m\u001b[0m\n\u001b[0m\u001b[0;32m    228\u001b[0m \u001b[1;33m\u001b[0m\u001b[0m\n\u001b[0;32m    229\u001b[0m     \u001b[1;32mdef\u001b[0m \u001b[0mas_graph_with_ids\u001b[0m\u001b[1;33m(\u001b[0m\u001b[0mself\u001b[0m\u001b[1;33m)\u001b[0m\u001b[1;33m:\u001b[0m\u001b[1;33m\u001b[0m\u001b[1;33m\u001b[0m\u001b[0m\n",
      "\u001b[1;32mc:\\users\\power\\appdata\\local\\programs\\python\\python38-32\\lib\\site-packages\\ebel_rest\\manager\\core.py\u001b[0m in \u001b[0;36m_ebel_graph\u001b[1;34m(self, with_edge_id, bel_names)\u001b[0m\n\u001b[0;32m    270\u001b[0m             \u001b[0md\u001b[0m\u001b[1;33m.\u001b[0m\u001b[0medge\u001b[0m\u001b[1;33m(\u001b[0m\u001b[0mr\u001b[0m\u001b[1;33m[\u001b[0m\u001b[1;34m'subject_id'\u001b[0m\u001b[1;33m]\u001b[0m\u001b[1;33m,\u001b[0m \u001b[0mr\u001b[0m\u001b[1;33m[\u001b[0m\u001b[1;34m'object_id'\u001b[0m\u001b[1;33m]\u001b[0m\u001b[1;33m,\u001b[0m \u001b[0medge_lable\u001b[0m\u001b[1;33m)\u001b[0m\u001b[1;33m\u001b[0m\u001b[1;33m\u001b[0m\u001b[0m\n\u001b[0;32m    271\u001b[0m \u001b[1;33m\u001b[0m\u001b[0m\n\u001b[1;32m--> 272\u001b[1;33m         \u001b[0mfile_path\u001b[0m \u001b[1;33m=\u001b[0m \u001b[0md\u001b[0m\u001b[1;33m.\u001b[0m\u001b[0mrender\u001b[0m\u001b[1;33m(\u001b[0m\u001b[0mos\u001b[0m\u001b[1;33m.\u001b[0m\u001b[0mpath\u001b[0m\u001b[1;33m.\u001b[0m\u001b[0mjoin\u001b[0m\u001b[1;33m(\u001b[0m\u001b[0mpics_path\u001b[0m\u001b[1;33m,\u001b[0m \u001b[0mself\u001b[0m\u001b[1;33m.\u001b[0m\u001b[0mfunction_name\u001b[0m\u001b[1;33m)\u001b[0m\u001b[1;33m)\u001b[0m\u001b[1;33m\u001b[0m\u001b[1;33m\u001b[0m\u001b[0m\n\u001b[0m\u001b[0;32m    273\u001b[0m         \u001b[0mdisplay\u001b[0m\u001b[1;33m(\u001b[0m\u001b[0mImage\u001b[0m\u001b[1;33m(\u001b[0m\u001b[0mfilename\u001b[0m\u001b[1;33m=\u001b[0m\u001b[0mfile_path\u001b[0m\u001b[1;33m)\u001b[0m\u001b[1;33m)\u001b[0m\u001b[1;33m\u001b[0m\u001b[1;33m\u001b[0m\u001b[0m\n\u001b[0;32m    274\u001b[0m \u001b[1;33m\u001b[0m\u001b[0m\n",
      "\u001b[1;32mc:\\users\\power\\appdata\\local\\programs\\python\\python38-32\\lib\\site-packages\\graphviz\\files.py\u001b[0m in \u001b[0;36mrender\u001b[1;34m(self, filename, directory, view, cleanup, format, renderer, formatter, quiet, quiet_view)\u001b[0m\n\u001b[0;32m    241\u001b[0m             \u001b[0mformat\u001b[0m \u001b[1;33m=\u001b[0m \u001b[0mself\u001b[0m\u001b[1;33m.\u001b[0m\u001b[0m_format\u001b[0m\u001b[1;33m\u001b[0m\u001b[1;33m\u001b[0m\u001b[0m\n\u001b[0;32m    242\u001b[0m \u001b[1;33m\u001b[0m\u001b[0m\n\u001b[1;32m--> 243\u001b[1;33m         rendered = backend.render(self._engine, format, filepath,\n\u001b[0m\u001b[0;32m    244\u001b[0m                                   \u001b[0mrenderer\u001b[0m\u001b[1;33m=\u001b[0m\u001b[0mrenderer\u001b[0m\u001b[1;33m,\u001b[0m \u001b[0mformatter\u001b[0m\u001b[1;33m=\u001b[0m\u001b[0mformatter\u001b[0m\u001b[1;33m,\u001b[0m\u001b[1;33m\u001b[0m\u001b[1;33m\u001b[0m\u001b[0m\n\u001b[0;32m    245\u001b[0m                                   quiet=quiet)\n",
      "\u001b[1;32mc:\\users\\power\\appdata\\local\\programs\\python\\python38-32\\lib\\site-packages\\graphviz\\backend.py\u001b[0m in \u001b[0;36mrender\u001b[1;34m(***failed resolving arguments***)\u001b[0m\n\u001b[0;32m    221\u001b[0m         \u001b[0mcwd\u001b[0m \u001b[1;33m=\u001b[0m \u001b[1;32mNone\u001b[0m\u001b[1;33m\u001b[0m\u001b[1;33m\u001b[0m\u001b[0m\n\u001b[0;32m    222\u001b[0m \u001b[1;33m\u001b[0m\u001b[0m\n\u001b[1;32m--> 223\u001b[1;33m     \u001b[0mrun\u001b[0m\u001b[1;33m(\u001b[0m\u001b[0mcmd\u001b[0m\u001b[1;33m,\u001b[0m \u001b[0mcapture_output\u001b[0m\u001b[1;33m=\u001b[0m\u001b[1;32mTrue\u001b[0m\u001b[1;33m,\u001b[0m \u001b[0mcwd\u001b[0m\u001b[1;33m=\u001b[0m\u001b[0mcwd\u001b[0m\u001b[1;33m,\u001b[0m \u001b[0mcheck\u001b[0m\u001b[1;33m=\u001b[0m\u001b[1;32mTrue\u001b[0m\u001b[1;33m,\u001b[0m \u001b[0mquiet\u001b[0m\u001b[1;33m=\u001b[0m\u001b[0mquiet\u001b[0m\u001b[1;33m)\u001b[0m\u001b[1;33m\u001b[0m\u001b[1;33m\u001b[0m\u001b[0m\n\u001b[0m\u001b[0;32m    224\u001b[0m     \u001b[1;32mreturn\u001b[0m \u001b[0mrendered\u001b[0m\u001b[1;33m\u001b[0m\u001b[1;33m\u001b[0m\u001b[0m\n\u001b[0;32m    225\u001b[0m \u001b[1;33m\u001b[0m\u001b[0m\n",
      "\u001b[1;32mc:\\users\\power\\appdata\\local\\programs\\python\\python38-32\\lib\\site-packages\\graphviz\\backend.py\u001b[0m in \u001b[0;36mrun\u001b[1;34m(cmd, input, capture_output, check, encoding, quiet, **kwargs)\u001b[0m\n\u001b[0;32m    165\u001b[0m     \u001b[1;32mexcept\u001b[0m \u001b[0mOSError\u001b[0m \u001b[1;32mas\u001b[0m \u001b[0me\u001b[0m\u001b[1;33m:\u001b[0m\u001b[1;33m\u001b[0m\u001b[1;33m\u001b[0m\u001b[0m\n\u001b[0;32m    166\u001b[0m         \u001b[1;32mif\u001b[0m \u001b[0me\u001b[0m\u001b[1;33m.\u001b[0m\u001b[0merrno\u001b[0m \u001b[1;33m==\u001b[0m \u001b[0merrno\u001b[0m\u001b[1;33m.\u001b[0m\u001b[0mENOENT\u001b[0m\u001b[1;33m:\u001b[0m\u001b[1;33m\u001b[0m\u001b[1;33m\u001b[0m\u001b[0m\n\u001b[1;32m--> 167\u001b[1;33m             \u001b[1;32mraise\u001b[0m \u001b[0mExecutableNotFound\u001b[0m\u001b[1;33m(\u001b[0m\u001b[0mcmd\u001b[0m\u001b[1;33m)\u001b[0m\u001b[1;33m\u001b[0m\u001b[1;33m\u001b[0m\u001b[0m\n\u001b[0m\u001b[0;32m    168\u001b[0m         \u001b[1;32melse\u001b[0m\u001b[1;33m:\u001b[0m\u001b[1;33m\u001b[0m\u001b[1;33m\u001b[0m\u001b[0m\n\u001b[0;32m    169\u001b[0m             \u001b[1;32mraise\u001b[0m\u001b[1;33m\u001b[0m\u001b[1;33m\u001b[0m\u001b[0m\n",
      "\u001b[1;31mExecutableNotFound\u001b[0m: failed to execute ['dot', '-Kdot', '-Tpng', '-O', 'bel_by_pmid'], make sure the Graphviz executables are on your systems' PATH"
     ]
    }
   ],
   "source": [
    "g.as_graph()"
   ]
  },
  {
   "cell_type": "markdown",
   "metadata": {},
   "source": [
    "#### BEL graph (simplified with edge IDs)"
   ]
  },
  {
   "cell_type": "code",
   "execution_count": null,
   "metadata": {
    "ExecuteTime": {
     "end_time": "2020-10-28T14:23:32.796543Z",
     "start_time": "2020-10-28T14:23:32.533458Z"
    }
   },
   "outputs": [],
   "source": [
    "g.as_graph_with_ids()"
   ]
  },
  {
   "cell_type": "markdown",
   "metadata": {},
   "source": [
    "#### BEL graph (with node labels as BEL)"
   ]
  },
  {
   "cell_type": "code",
   "execution_count": null,
   "metadata": {
    "ExecuteTime": {
     "end_time": "2020-10-28T14:23:33.131430Z",
     "start_time": "2020-10-28T14:23:32.798347Z"
    }
   },
   "outputs": [],
   "source": [
    "g.as_graph_bel()"
   ]
  },
  {
   "cell_type": "markdown",
   "metadata": {},
   "source": [
    "#### BEL graph (with node labels as BEL and edge IDs)"
   ]
  },
  {
   "cell_type": "code",
   "execution_count": null,
   "metadata": {
    "ExecuteTime": {
     "end_time": "2020-10-28T14:23:33.510128Z",
     "start_time": "2020-10-28T14:23:33.133154Z"
    }
   },
   "outputs": [],
   "source": [
    "g.as_graph_bel_with_ids()"
   ]
  }
 ],
 "metadata": {
  "kernelspec": {
   "display_name": "Python 3",
   "language": "python",
   "name": "python3"
  },
  "language_info": {
   "codemirror_mode": {
    "name": "ipython",
    "version": 3
   },
   "file_extension": ".py",
   "mimetype": "text/x-python",
   "name": "python",
   "nbconvert_exporter": "python",
   "pygments_lexer": "ipython3",
   "version": "3.8.2"
  },
  "toc": {
   "base_numbering": 1,
   "nav_menu": {},
   "number_sections": true,
   "sideBar": true,
   "skip_h1_title": false,
   "title_cell": "Table of Contents",
   "title_sidebar": "Contents",
   "toc_cell": false,
   "toc_position": {},
   "toc_section_display": true,
   "toc_window_display": false
  }
 },
 "nbformat": 4,
 "nbformat_minor": 2
}
