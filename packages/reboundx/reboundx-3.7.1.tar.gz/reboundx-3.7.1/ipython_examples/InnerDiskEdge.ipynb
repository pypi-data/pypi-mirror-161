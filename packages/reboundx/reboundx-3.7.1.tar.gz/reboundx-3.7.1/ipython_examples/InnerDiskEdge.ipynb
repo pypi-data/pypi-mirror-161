{
 "cells": [
  {
   "cell_type": "markdown",
   "metadata": {},
   "source": [
    "# Inner Disk Edge\n",
    "\n",
    "This provides a useful prescription for when you need an inner planet trap to halt migration (though it should not be considered a realistic model of the inner edge of a disk)."
   ]
  },
  {
   "cell_type": "code",
   "execution_count": 1,
   "metadata": {},
   "outputs": [],
   "source": [
    "import rebound\n",
    "import reboundx\n",
    "import numpy as np\n",
    "import matplotlib.pyplot as plt"
   ]
  },
  {
   "cell_type": "markdown",
   "metadata": {},
   "source": [
    "We begin by setting up a simulation similar to the [Migration.ipynb](https://github.com/dtamayo/reboundx/blob/master/ipython_examples/Migration.ipynb) example, adding semimajor axis and eccentricity damping:"
   ]
  },
  {
   "cell_type": "code",
   "execution_count": 2,
   "metadata": {},
   "outputs": [],
   "source": [
    "sim = rebound.Simulation()\n",
    "sim.units = ('yr', 'AU', 'Msun')\n",
    "sim.add(m = 1)\n",
    "sim.add(m = 1.e-4, a=0.5, e=0, inc = 0)\n",
    "sim.move_to_com()\n",
    "ps = sim.particles"
   ]
  },
  {
   "cell_type": "markdown",
   "metadata": {},
   "source": [
    "We can add an inner disk edge with either the `modify_orbits_forces` or `modify_orbits_direct` effects (depending on whether we want a force or an operator, respectively. If unsure, go with a force--see the [REBOUNDx paper](https://ui.adsabs.harvard.edu/abs/2020MNRAS.491.2885T/abstract)). You can also add an inner disk edge using Type I migration ([TypeIMigration.ipynb](https://github.com/dtamayo/reboundx/blob/master/ipython_examples/TypeIMigration.ipynb))."
   ]
  },
  {
   "cell_type": "code",
   "execution_count": 3,
   "metadata": {},
   "outputs": [],
   "source": [
    "rebx = reboundx.Extras(sim)\n",
    "mof = rebx.load_force(\"modify_orbits_forces\")\n",
    "rebx.add_force(mof)\n",
    "\n",
    "ps[1].params[\"tau_a\"] = -1e3\n",
    "ps[1].params[\"tau_e\"] = -1e2"
   ]
  },
  {
   "cell_type": "markdown",
   "metadata": {},
   "source": [
    "To set the inner disk edge (ide), we need to add two parameters to our `mof` object:\n",
    "\n",
    "* The position of the inner disk edge in code units (we chose AU above)\n",
    "* The 'width' of the inner disk edge in code units. This is the width of the region in which the migration torque flips sign, so the planet will stop within this distance scale of the inner disk edge's location"
   ]
  },
  {
   "cell_type": "code",
   "execution_count": 4,
   "metadata": {},
   "outputs": [],
   "source": [
    "mof.params[\"ide_position\"] = 0.1\n",
    "mof.params[\"ide_width\"] = 0.02                                                  #hedge = 0.03 x (dedge^0.25)"
   ]
  },
  {
   "cell_type": "markdown",
   "metadata": {},
   "source": [
    "When using an integrator with a fixed timestep like WHFast, we have to make sure that the timestep is always $\\sim 20$ times smaller than the shortest timescale in the problem, so we set it to 1/20th of the orbital period at the disk's inner edge:"
   ]
  },
  {
   "cell_type": "code",
   "execution_count": 5,
   "metadata": {},
   "outputs": [],
   "source": [
    "sim.integrator = 'whfast'\n",
    "sim.dt = mof.params[\"ide_position\"]**(3/2)/20                              #Period at inner disk edge location divided by 20"
   ]
  },
  {
   "cell_type": "markdown",
   "metadata": {},
   "source": [
    "Now we compare the numerical evolution with the analytical expectation"
   ]
  },
  {
   "cell_type": "code",
   "execution_count": 6,
   "metadata": {},
   "outputs": [],
   "source": [
    "times = np.linspace(0, 3e3, 1000)\n",
    "a_integration = np.zeros((1000))\n",
    "for i, t in enumerate(times):\n",
    "    sim.integrate(t)\n",
    "    a_integration[i] = ps[1].a\n",
    "\n",
    "a_analytical = np.maximum(0.5*np.exp(-(times)/(1e3)),0.1)"
   ]
  },
  {
   "cell_type": "code",
   "execution_count": 7,
   "metadata": {},
   "outputs": [
    {
     "data": {
      "text/plain": [
       "<matplotlib.legend.Legend at 0x7fcbf826eed0>"
      ]
     },
     "execution_count": 7,
     "metadata": {},
     "output_type": "execute_result"
    },
    {
     "name": "stderr",
     "output_type": "stream",
     "text": [
      "findfont: Font family ['serif'] not found. Falling back to DejaVu Sans.\n",
      "findfont: Generic family 'serif' not found because none of the following families were found: cm\n"
     ]
    },
    {
     "data": {
      "image/png": "[encoded data removed]",
      "text/plain": [
       "<Figure size 432x288 with 1 Axes>"
      ]
     },
     "metadata": {
      "needs_background": "light"
     },
     "output_type": "display_data"
    }
   ],
   "source": [
    "plt.plot(times*0.001, a_integration, label = 'Numerical evolution', c = 'green', linewidth = 4, alpha = 0.6) \n",
    "plt.plot(times*0.001, a_analytical, label = 'Analytical evolution', c = 'brown', linestyle = \"dashed\", linewidth = 1)\n",
    "plt.xlim(np.min(times)*0.001, np.max(times)*0.001) \n",
    "plt.xlabel('time [kyr]')\n",
    "plt.ylabel('Semi-major axis [AU]')\n",
    "plt.legend()"
   ]
  }
 ],
 "metadata": {
  "interpreter": {
   "hash": "6eb06930410e83be085203643bcd2d03be72a674d99e39bd748075bbd43593d0"
  },
  "kernelspec": {
   "display_name": "Python 3",
   "language": "python",
   "name": "python3"
  },
  "language_info": {
   "codemirror_mode": {
    "name": "ipython",
    "version": 3
   },
   "file_extension": ".py",
   "mimetype": "text/x-python",
   "name": "python",
   "nbconvert_exporter": "python",
   "pygments_lexer": "ipython3",
   "version": "3.7.12"
  }
 },
 "nbformat": 4,
 "nbformat_minor": 2
}
