{
 "cells": [
  {
   "cell_type": "markdown",
   "id": "0ea7bcf5-2a0f-4f16-a2a5-d628d7b159f7",
   "metadata": {},
   "source": [
    "# Load Data\n",
    "Here we use some minimal example data."
   ]
  },
  {
   "cell_type": "code",
   "execution_count": 1,
   "id": "87d95ffe-e5be-470e-b2f0-760dd7a4a3ca",
   "metadata": {},
   "outputs": [],
   "source": [
    "%load_ext autoreload\n",
    "%autoreload 2"
   ]
  },
  {
   "cell_type": "code",
   "execution_count": 2,
   "id": "0bb698e7-3808-42d8-976e-571c7d383849",
   "metadata": {},
   "outputs": [],
   "source": [
    "import numpy as np"
   ]
  },
  {
   "cell_type": "code",
   "execution_count": 3,
   "id": "0ac428d3-34a1-4acb-806b-fe4249e3f937",
   "metadata": {},
   "outputs": [],
   "source": [
    "# Load your data. Here we're creating random data.\n",
    "coords = np.random.randn( 20000, 3 )\n",
    "fields = np.random.random(size=coords[:,0].size)"
   ]
  },
  {
   "cell_type": "markdown",
   "id": "34ecbc6c-a09f-4017-9c0e-5768cd91276a",
   "metadata": {},
   "source": [
    "# Format Data for Firefly"
   ]
  },
  {
   "cell_type": "code",
   "execution_count": 4,
   "id": "2154b107-f405-443c-b607-737c78e37dfb",
   "metadata": {},
   "outputs": [
    {
     "name": "stdout",
     "output_type": "stream",
     "text": [
      "don't have phil's colormaps\n"
     ]
    }
   ],
   "source": [
    "from firefly.data_reader import ArrayReader"
   ]
  },
  {
   "cell_type": "code",
   "execution_count": 23,
   "id": "1a24861c-00af-4aa5-9c4c-41f439d65c1a",
   "metadata": {},
   "outputs": [
    {
     "name": "stdout",
     "output_type": "stream",
     "text": [
      "datadir is None, defaulting to /Users/agurvich/research/repos/Firefly/src/firefly/static/data/Data\n",
      "Make sure each field_array (1) has a field_filter_flag (0), assuming True.\n",
      "Make sure each field_array (1) has a field_colormap_flag (0), assuming True.\n",
      "Make sure each field_array (1) has a field_radius_flag (0), assuming False.\n",
      "PGroup_0 - 20000/20000 particles - 1 tracked fields\n"
     ]
    }
   ],
   "source": [
    "my_arrayReader = ArrayReader(\n",
    "    coords,\n",
    "    fields=fields,\n",
    "    write_to_disk=False,\n",
    "    clean_datadir=True)"
   ]
  },
  {
   "cell_type": "markdown",
   "id": "dabdb04f-71ad-4b1c-9c73-211300a75fef",
   "metadata": {},
   "source": [
    "# Display Inline"
   ]
  },
  {
   "cell_type": "code",
   "execution_count": 6,
   "id": "cf3fd1b8-f568-4558-b8f3-4c6751d4f32b",
   "metadata": {},
   "outputs": [],
   "source": [
    "from firefly.server import spawnFireflyServer,quitAllFireflyServers"
   ]
  },
  {
   "cell_type": "code",
   "execution_count": 7,
   "id": "6e2fa016-019c-482a-a039-114816ecee37",
   "metadata": {},
   "outputs": [
    {
     "name": "stdout",
     "output_type": "stream",
     "text": [
      "Waiting up to 10 seconds for background Firefly server to start."
     ]
    },
    {
     "name": "stderr",
     "output_type": "stream",
     "text": [
      " * Restarting with stat\n"
     ]
    },
    {
     "name": "stdout",
     "output_type": "stream",
     "text": [
      ".done! Your server is available at - http://localhost:5500\n"
     ]
    }
   ],
   "source": [
    "process = spawnFireflyServer()"
   ]
  },
  {
   "cell_type": "code",
   "execution_count": 22,
   "id": "0493ceed-85af-4e50-a6b4-95801a4e37ec",
   "metadata": {},
   "outputs": [
    {
     "data": {
      "text/html": [
       "\n",
       "        <iframe\n",
       "            width=\"1000\"\n",
       "            height=\"500\"\n",
       "            src=\"http://localhost:5500\"\n",
       "            frameborder=\"0\"\n",
       "            allowfullscreen\n",
       "            \n",
       "        ></iframe>\n",
       "        "
      ],
      "text/plain": [
       "<IPython.lib.display.IFrame at 0x16a758a00>"
      ]
     },
     "execution_count": 22,
     "metadata": {},
     "output_type": "execute_result"
    }
   ],
   "source": [
    "from IPython.display import IFrame\n",
    "url = \"http://localhost:5500\"\n",
    "IFrame(url, width=1000, height=500)"
   ]
  },
  {
   "cell_type": "code",
   "execution_count": 11,
   "id": "80ded4de-8c40-4061-8f39-d13b79b9c0d5",
   "metadata": {},
   "outputs": [],
   "source": [
    "del my_arrayReader.JSON"
   ]
  },
  {
   "cell_type": "code",
   "execution_count": 55,
   "id": "2261db30-3211-482a-adbc-a3f2983199fd",
   "metadata": {
    "tags": []
   },
   "outputs": [
    {
     "name": "stdout",
     "output_type": "stream",
     "text": [
      "PGroup_0 - 20000/20000 particles - 1 tracked fields\n",
      "Posting to port 5500...data posted!\n"
     ]
    }
   ],
   "source": [
    "# Send data to the server.\n",
    "# Wait until it loads to run this command\n",
    "my_arrayReader.sendDataViaFlask(5500)"
   ]
  },
  {
   "cell_type": "code",
   "execution_count": 13,
   "id": "83c11899-5ca2-4a58-91e1-6818988f3603",
   "metadata": {},
   "outputs": [
    {
     "name": "stdout",
     "output_type": "stream",
     "text": [
      "Server output:\n",
      "--------------\n"
     ]
    },
    {
     "name": "stderr",
     "output_type": "stream",
     "text": [
      "kill: 54819: No such process\n"
     ]
    }
   ],
   "source": [
    "return_code = quitAllFireflyServers()"
   ]
  },
  {
   "cell_type": "code",
   "execution_count": 34,
   "id": "96169838-32d6-45fe-9c6a-3287e8bc2621",
   "metadata": {},
   "outputs": [
    {
     "data": {
      "text/plain": [
       "'{\"\\\\/Users\\\\/agurvich\\\\/research\\\\/repos\\\\/Firefly\\\\/src\\\\/firefly\\\\/static\\\\/data\\\\/Data\\\\/DataPGroup_0000.json\":\"\\\\/Users\\\\/agurvich\\\\/research\\\\/repos\\\\/Firefly\\\\/src\\\\/firefly\\\\/static\\\\/data\\\\/Data\\\\/DataPGroup_0000.json\",\"\\\\/Users\\\\/agurvich\\\\/research\\\\/repos\\\\/Firefly\\\\/src\\\\/firefly\\\\/static\\\\/data\\\\/Data\\\\/DataSettings.json\":\"{\\\\\"maxVrange\\\\\":2000.0,\\\\\"startFly\\\\\":false,\\\\\"friction\\\\\":null,\\\\\"stereo\\\\\":false,\\\\\"stereoSep\\\\\":null,\\\\\"decimate\\\\\":null,\\\\\"start_tween\\\\\":false,\\\\\"CDmin\\\\\":null,\\\\\"CDmax\\\\\":null,\\\\\"CDlognorm\\\\\":null,\\\\\"columnDensity\\\\\":null,\\\\\"title\\\\\":\\\\\"Firefly\\\\\",\\\\\"loaded\\\\\":true,\\\\\"annotation\\\\\":null,\\\\\"showFPS\\\\\":true,\\\\\"showMemoryUsage\\\\\":true,\\\\\"memoryLimit\\\\\":2000000000.0,\\\\\"GUIExcludeList\\\\\":[],\\\\\"collapseGUIAtStart\\\\\":null,\\\\\"center\\\\\":[0.0,0.0,0.0],\\\\\"camera\\\\\":null,\\\\\"cameraRotation\\\\\":null,\\\\\"cameraUp\\\\\":[1,0,0],\\\\\"quaternion\\\\\":[0,0,0,1],\\\\\"plotNmax\\\\\":{\\\\\"PGroup_0\\\\\":null},\\\\\"color\\\\\":{\\\\\"PGroup_0\\\\\":[0.3871367083,0.0406963042,0.4872550702,1.0]},\\\\\"sizeMult\\\\\":{\\\\\"PGroup_0\\\\\":0.1},\\\\\"showParts\\\\\":{\\\\\"PGroup_0\\\\\":true},\\\\\"radiusVariable\\\\\":{\\\\\"PGroup_0\\\\\":0},\\\\\"showVel\\\\\":{\\\\\"PGroup_0\\\\\":null},\\\\\"velType\\\\\":{\\\\\"PGroup_0\\\\\":null},\\\\\"velVectorWidth\\\\\":{\\\\\"PGroup_0\\\\\":null},\\\\\"velGradient\\\\\":{\\\\\"PGroup_0\\\\\":null},\\\\\"animateVel\\\\\":{\\\\\"PGroup_0\\\\\":null},\\\\\"animateVelDt\\\\\":{\\\\\"PGroup_0\\\\\":null},\\\\\"animateVelTmax\\\\\":{\\\\\"PGroup_0\\\\\":null},\\\\\"filterLims\\\\\":{\\\\\"PGroup_0\\\\\":{\\\\\"field0\\\\\":null}},\\\\\"filterVals\\\\\":{\\\\\"PGroup_0\\\\\":{\\\\\"field0\\\\\":null}},\\\\\"invertFilter\\\\\":{\\\\\"PGroup_0\\\\\":{}},\\\\\"colormapLims\\\\\":{\\\\\"PGroup_0\\\\\":{\\\\\"field0\\\\\":null}},\\\\\"colormapVals\\\\\":{\\\\\"PGroup_0\\\\\":{\\\\\"field0\\\\\":null}},\\\\\"colormap\\\\\":{\\\\\"PGroup_0\\\\\":0.015625},\\\\\"colormapVariable\\\\\":{\\\\\"PGroup_0\\\\\":null},\\\\\"showColormap\\\\\":{\\\\\"PGroup_0\\\\\":null},\\\\\"blendingMode\\\\\":{},\\\\\"depthTest\\\\\":{}'"
      ]
     },
     "execution_count": 34,
     "metadata": {},
     "output_type": "execute_result"
    }
   ],
   "source": [
    "my_arrayReader.JSON.split('}\",\"')[-3]"
   ]
  },
  {
   "cell_type": "code",
   "execution_count": null,
   "id": "22c0a530-c17b-456f-8b2f-8f037521cf65",
   "metadata": {},
   "outputs": [],
   "source": []
  }
 ],
 "metadata": {
  "kernelspec": {
   "display_name": "Python 3 (ipykernel)",
   "language": "python",
   "name": "python3"
  },
  "language_info": {
   "codemirror_mode": {
    "name": "ipython",
    "version": 3
   },
   "file_extension": ".py",
   "mimetype": "text/x-python",
   "name": "python",
   "nbconvert_exporter": "python",
   "pygments_lexer": "ipython3",
   "version": "3.9.7"
  }
 },
 "nbformat": 4,
 "nbformat_minor": 5
}
