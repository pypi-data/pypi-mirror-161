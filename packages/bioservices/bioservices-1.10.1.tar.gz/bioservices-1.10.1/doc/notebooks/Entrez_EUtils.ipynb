{
 "cells": [
  {
   "cell_type": "markdown",
   "metadata": {},
   "source": [
    "# Examples and applications of the EUtils module     "
   ]
  },
  {
   "cell_type": "markdown",
   "metadata": {},
   "source": [
    "The example here below are extracted from (perl code)\n",
    "\n",
    "http://www.ncbi.nlm.nih.gov/books/NBK25498/#chapter3\n",
    "    \n",
    "and used here below to show how \n",
    "- to use BioServices to access to EUtils, the Entrez utilities    \n",
    "- call Etutils in a proper way (e.g., using EPost)"
   ]
  },
  {
   "cell_type": "code",
   "execution_count": 1,
   "metadata": {
    "collapsed": false
   },
   "outputs": [
    {
     "name": "stderr",
     "output_type": "stream",
     "text": [
      "INFO:root:Initialising Efetch service (REST)\n"
     ]
    }
   ],
   "source": [
    "from bioservices import EUtils\n",
    "e = EUtils()\n",
    "\n",
    "# you should provide your email in one of the 3 following ways:\n",
    "# e = EUTils(email=\"yours\")\n",
    "# e = EUtils(); e.email = \"yours\"\n",
    "# fill the ./config/bioservices/bioservices.cfg with a section\n",
    "#     [user]\n",
    "#     email = yours"
   ]
  },
  {
   "cell_type": "markdown",
   "metadata": {},
   "source": [
    "## ESearch and ESummary/EFetch example"
   ]
  },
  {
   "cell_type": "code",
   "execution_count": 5,
   "metadata": {
    "collapsed": false
   },
   "outputs": [
    {
     "ename": "Exception",
     "evalue": "(410, u'Gone')",
     "output_type": "error",
     "traceback": [
      "\u001b[1;31m---------------------------------------------------------------------------\u001b[0m",
      "\u001b[1;31mException\u001b[0m                                 Traceback (most recent call last)",
      "\u001b[1;32m<ipython-input-5-4d122a83a4dc>\u001b[0m in \u001b[0;36m<module>\u001b[1;34m()\u001b[0m\n\u001b[0;32m      5\u001b[0m \u001b[1;33m\u001b[0m\u001b[0m\n\u001b[0;32m      6\u001b[0m \u001b[1;31m# here, we use the history that will populate in results the fields called WebEnv and query_key\u001b[0m\u001b[1;33m\u001b[0m\u001b[1;33m\u001b[0m\u001b[0m\n\u001b[1;32m----> 7\u001b[1;33m \u001b[0mresults\u001b[0m \u001b[1;33m=\u001b[0m \u001b[0me\u001b[0m\u001b[1;33m.\u001b[0m\u001b[0mESearch\u001b[0m\u001b[1;33m(\u001b[0m\u001b[0mdb\u001b[0m\u001b[1;33m,\u001b[0m \u001b[0mquery\u001b[0m\u001b[1;33m,\u001b[0m \u001b[0musehistory\u001b[0m\u001b[1;33m=\u001b[0m\u001b[1;34m'y'\u001b[0m\u001b[1;33m)\u001b[0m\u001b[1;33m\u001b[0m\u001b[0m\n\u001b[0m\u001b[0;32m      8\u001b[0m \u001b[0mresults\u001b[0m\u001b[1;33m.\u001b[0m\u001b[0mWebEnv\u001b[0m\u001b[1;33m\u001b[0m\u001b[0m\n\u001b[0;32m      9\u001b[0m \u001b[0mresults\u001b[0m\u001b[1;33m.\u001b[0m\u001b[0mQueryKey\u001b[0m\u001b[1;33m\u001b[0m\u001b[0m\n",
      "\u001b[1;32m/home/cokelaer/Work/github/bioservices/src/bioservices/eutils.pyc\u001b[0m in \u001b[0;36mESearch\u001b[1;34m(self, db, term, **kargs)\u001b[0m\n\u001b[0;32m    550\u001b[0m         \u001b[1;31m# the db and term parameter must also be provided in the params\u001b[0m\u001b[1;33m\u001b[0m\u001b[1;33m\u001b[0m\u001b[0m\n\u001b[0;32m    551\u001b[0m         \u001b[1;31m# dict so that other argument are also used... wierd\u001b[0m\u001b[1;33m\u001b[0m\u001b[1;33m\u001b[0m\u001b[0m\n\u001b[1;32m--> 552\u001b[1;33m         \u001b[0mret\u001b[0m \u001b[1;33m=\u001b[0m \u001b[0mself\u001b[0m\u001b[1;33m.\u001b[0m\u001b[0mserv\u001b[0m\u001b[1;33m.\u001b[0m\u001b[0mrun_eSearch\u001b[0m\u001b[1;33m(\u001b[0m\u001b[0mdb\u001b[0m\u001b[1;33m,\u001b[0m \u001b[0mterm\u001b[0m\u001b[1;33m,\u001b[0m \u001b[0mparams\u001b[0m\u001b[1;33m)\u001b[0m\u001b[1;33m\u001b[0m\u001b[0m\n\u001b[0m\u001b[0;32m    553\u001b[0m         \u001b[1;32mreturn\u001b[0m \u001b[0mret\u001b[0m\u001b[1;33m\u001b[0m\u001b[0m\n\u001b[0;32m    554\u001b[0m \u001b[1;33m\u001b[0m\u001b[0m\n",
      "\u001b[1;32m/home/cokelaer/Work/virtualenv/lib/python2.7/site-packages/suds_jurko-0.7.dev0-py2.7.egg/suds/client.pyc\u001b[0m in \u001b[0;36m__call__\u001b[1;34m(self, *args, **kwargs)\u001b[0m\n\u001b[0;32m    564\u001b[0m         \u001b[0mclient\u001b[0m \u001b[1;33m=\u001b[0m \u001b[0mclientclass\u001b[0m\u001b[1;33m(\u001b[0m\u001b[0mself\u001b[0m\u001b[1;33m.\u001b[0m\u001b[0mclient\u001b[0m\u001b[1;33m,\u001b[0m \u001b[0mself\u001b[0m\u001b[1;33m.\u001b[0m\u001b[0mmethod\u001b[0m\u001b[1;33m)\u001b[0m\u001b[1;33m\u001b[0m\u001b[0m\n\u001b[0;32m    565\u001b[0m         \u001b[1;32mtry\u001b[0m\u001b[1;33m:\u001b[0m\u001b[1;33m\u001b[0m\u001b[0m\n\u001b[1;32m--> 566\u001b[1;33m             \u001b[1;32mreturn\u001b[0m \u001b[0mclient\u001b[0m\u001b[1;33m.\u001b[0m\u001b[0minvoke\u001b[0m\u001b[1;33m(\u001b[0m\u001b[0margs\u001b[0m\u001b[1;33m,\u001b[0m \u001b[0mkwargs\u001b[0m\u001b[1;33m)\u001b[0m\u001b[1;33m\u001b[0m\u001b[0m\n\u001b[0m\u001b[0;32m    567\u001b[0m         \u001b[1;32mexcept\u001b[0m \u001b[0mWebFault\u001b[0m\u001b[1;33m,\u001b[0m \u001b[0me\u001b[0m\u001b[1;33m:\u001b[0m\u001b[1;33m\u001b[0m\u001b[0m\n\u001b[0;32m    568\u001b[0m             \u001b[1;32mif\u001b[0m \u001b[0mself\u001b[0m\u001b[1;33m.\u001b[0m\u001b[0mfaults\u001b[0m\u001b[1;33m(\u001b[0m\u001b[1;33m)\u001b[0m\u001b[1;33m:\u001b[0m\u001b[1;33m\u001b[0m\u001b[0m\n",
      "\u001b[1;32m/home/cokelaer/Work/virtualenv/lib/python2.7/site-packages/suds_jurko-0.7.dev0-py2.7.egg/suds/client.pyc\u001b[0m in \u001b[0;36minvoke\u001b[1;34m(self, args, kwargs)\u001b[0m\n\u001b[0;32m    703\u001b[0m         \u001b[0mmetrics\u001b[0m\u001b[1;33m.\u001b[0m\u001b[0mlog\u001b[0m\u001b[1;33m.\u001b[0m\u001b[0mdebug\u001b[0m\u001b[1;33m(\u001b[0m\u001b[1;34m\"message for '%s' created: %s\"\u001b[0m\u001b[1;33m,\u001b[0m \u001b[0mmethod_name\u001b[0m\u001b[1;33m,\u001b[0m \u001b[0mtimer\u001b[0m\u001b[1;33m)\u001b[0m\u001b[1;33m\u001b[0m\u001b[0m\n\u001b[0;32m    704\u001b[0m         \u001b[0mtimer\u001b[0m\u001b[1;33m.\u001b[0m\u001b[0mstart\u001b[0m\u001b[1;33m(\u001b[0m\u001b[1;33m)\u001b[0m\u001b[1;33m\u001b[0m\u001b[0m\n\u001b[1;32m--> 705\u001b[1;33m         \u001b[0mresult\u001b[0m \u001b[1;33m=\u001b[0m \u001b[0mself\u001b[0m\u001b[1;33m.\u001b[0m\u001b[0msend\u001b[0m\u001b[1;33m(\u001b[0m\u001b[0msoapenv\u001b[0m\u001b[1;33m)\u001b[0m\u001b[1;33m\u001b[0m\u001b[0m\n\u001b[0m\u001b[0;32m    706\u001b[0m         \u001b[0mtimer\u001b[0m\u001b[1;33m.\u001b[0m\u001b[0mstop\u001b[0m\u001b[1;33m(\u001b[0m\u001b[1;33m)\u001b[0m\u001b[1;33m\u001b[0m\u001b[0m\n\u001b[0;32m    707\u001b[0m         \u001b[0mmetrics\u001b[0m\u001b[1;33m.\u001b[0m\u001b[0mlog\u001b[0m\u001b[1;33m.\u001b[0m\u001b[0mdebug\u001b[0m\u001b[1;33m(\u001b[0m\u001b[1;34m\"method '%s' invoked: %s\"\u001b[0m\u001b[1;33m,\u001b[0m \u001b[0mmethod_name\u001b[0m\u001b[1;33m,\u001b[0m \u001b[0mtimer\u001b[0m\u001b[1;33m)\u001b[0m\u001b[1;33m\u001b[0m\u001b[0m\n",
      "\u001b[1;32m/home/cokelaer/Work/virtualenv/lib/python2.7/site-packages/suds_jurko-0.7.dev0-py2.7.egg/suds/client.pyc\u001b[0m in \u001b[0;36msend\u001b[1;34m(self, soapenv)\u001b[0m\n\u001b[0;32m    750\u001b[0m         \u001b[1;32mexcept\u001b[0m \u001b[0msuds\u001b[0m\u001b[1;33m.\u001b[0m\u001b[0mtransport\u001b[0m\u001b[1;33m.\u001b[0m\u001b[0mTransportError\u001b[0m\u001b[1;33m,\u001b[0m \u001b[0me\u001b[0m\u001b[1;33m:\u001b[0m\u001b[1;33m\u001b[0m\u001b[0m\n\u001b[0;32m    751\u001b[0m             \u001b[0mcontent\u001b[0m \u001b[1;33m=\u001b[0m \u001b[0me\u001b[0m\u001b[1;33m.\u001b[0m\u001b[0mfp\u001b[0m \u001b[1;32mand\u001b[0m \u001b[0me\u001b[0m\u001b[1;33m.\u001b[0m\u001b[0mfp\u001b[0m\u001b[1;33m.\u001b[0m\u001b[0mread\u001b[0m\u001b[1;33m(\u001b[0m\u001b[1;33m)\u001b[0m \u001b[1;32mor\u001b[0m \u001b[1;34m\"\"\u001b[0m\u001b[1;33m\u001b[0m\u001b[0m\n\u001b[1;32m--> 752\u001b[1;33m             \u001b[1;32mreturn\u001b[0m \u001b[0mself\u001b[0m\u001b[1;33m.\u001b[0m\u001b[0mprocess_reply\u001b[0m\u001b[1;33m(\u001b[0m\u001b[0mcontent\u001b[0m\u001b[1;33m,\u001b[0m \u001b[0me\u001b[0m\u001b[1;33m.\u001b[0m\u001b[0mhttpcode\u001b[0m\u001b[1;33m,\u001b[0m \u001b[0mtostr\u001b[0m\u001b[1;33m(\u001b[0m\u001b[0me\u001b[0m\u001b[1;33m)\u001b[0m\u001b[1;33m)\u001b[0m\u001b[1;33m\u001b[0m\u001b[0m\n\u001b[0m\u001b[0;32m    753\u001b[0m         \u001b[1;32mreturn\u001b[0m \u001b[0mself\u001b[0m\u001b[1;33m.\u001b[0m\u001b[0mprocess_reply\u001b[0m\u001b[1;33m(\u001b[0m\u001b[0mreply\u001b[0m\u001b[1;33m.\u001b[0m\u001b[0mmessage\u001b[0m\u001b[1;33m,\u001b[0m \u001b[0mNone\u001b[0m\u001b[1;33m,\u001b[0m \u001b[0mNone\u001b[0m\u001b[1;33m)\u001b[0m\u001b[1;33m\u001b[0m\u001b[0m\n\u001b[0;32m    754\u001b[0m \u001b[1;33m\u001b[0m\u001b[0m\n",
      "\u001b[1;32m/home/cokelaer/Work/virtualenv/lib/python2.7/site-packages/suds_jurko-0.7.dev0-py2.7.egg/suds/client.pyc\u001b[0m in \u001b[0;36mprocess_reply\u001b[1;34m(self, reply, status, description)\u001b[0m\n\u001b[0;32m    817\u001b[0m             \u001b[1;32mif\u001b[0m \u001b[0mself\u001b[0m\u001b[1;33m.\u001b[0m\u001b[0moptions\u001b[0m\u001b[1;33m.\u001b[0m\u001b[0mfaults\u001b[0m\u001b[1;33m:\u001b[0m\u001b[1;33m\u001b[0m\u001b[0m\n\u001b[0;32m    818\u001b[0m                 \u001b[1;31m#TODO: Use a more specific exception class here.\u001b[0m\u001b[1;33m\u001b[0m\u001b[1;33m\u001b[0m\u001b[0m\n\u001b[1;32m--> 819\u001b[1;33m                 \u001b[1;32mraise\u001b[0m \u001b[0mException\u001b[0m\u001b[1;33m(\u001b[0m\u001b[1;33m(\u001b[0m\u001b[0mstatus\u001b[0m\u001b[1;33m,\u001b[0m \u001b[0mdescription\u001b[0m\u001b[1;33m)\u001b[0m\u001b[1;33m)\u001b[0m\u001b[1;33m\u001b[0m\u001b[0m\n\u001b[0m\u001b[0;32m    820\u001b[0m             \u001b[1;32mreturn\u001b[0m \u001b[0mstatus\u001b[0m\u001b[1;33m,\u001b[0m \u001b[0mdescription\u001b[0m\u001b[1;33m\u001b[0m\u001b[0m\n\u001b[0;32m    821\u001b[0m \u001b[1;33m\u001b[0m\u001b[0m\n",
      "\u001b[1;31mException\u001b[0m: (410, u'Gone')"
     ]
    }
   ],
   "source": [
    "# Download PubMed records that are indexed in MeSH for both asthma and \n",
    "# leukotrienes and were also published in 2009.\n",
    "query = 'asthma[mesh]+AND+leukotrienes[mesh]+AND+2009[pdat]'\n",
    "db = 'pubmed'\n",
    "\n",
    "# here, we use the history that will populate in results the fields called WebEnv and query_key\n",
    "results = e.ESearch(db, query, usehistory='y')\n",
    "results.WebEnv\n",
    "results.QueryKey"
   ]
  },
  {
   "cell_type": "code",
   "execution_count": 3,
   "metadata": {
    "collapsed": false
   },
   "outputs": [
    {
     "data": {
      "text/plain": [
       "(eSummaryRequest){\n",
       "   db = None\n",
       "   id = None\n",
       "   WebEnv = None\n",
       "   query_key = None\n",
       "   retstart = None\n",
       "   retmax = None\n",
       "   tool = \"BioServices, 1.3.8\"\n",
       "   email = \"cokelaer@ebi.ac.uk\"\n",
       " }"
      ]
     },
     "execution_count": 3,
     "metadata": {},
     "output_type": "execute_result"
    }
   ],
   "source": [
    "# How to figure out the correct parameter name for ESummary ?\n",
    "e.get_esummary_params()\n"
   ]
  },
  {
   "cell_type": "code",
   "execution_count": 4,
   "metadata": {
    "collapsed": false
   },
   "outputs": [
    {
     "ename": "NameError",
     "evalue": "name 'results' is not defined",
     "output_type": "error",
     "traceback": [
      "\u001b[1;31m---------------------------------------------------------------------------\u001b[0m",
      "\u001b[1;31mNameError\u001b[0m                                 Traceback (most recent call last)",
      "\u001b[1;32m<ipython-input-4-1cc3019103a8>\u001b[0m in \u001b[0;36m<module>\u001b[1;34m()\u001b[0m\n\u001b[0;32m      1\u001b[0m \u001b[1;31m# we can now resuse the query and webenv values\u001b[0m\u001b[1;33m\u001b[0m\u001b[1;33m\u001b[0m\u001b[0m\n\u001b[1;32m----> 2\u001b[1;33m \u001b[0mres\u001b[0m \u001b[1;33m=\u001b[0m \u001b[0me\u001b[0m\u001b[1;33m.\u001b[0m\u001b[0mESummary\u001b[0m\u001b[1;33m(\u001b[0m\u001b[0mdb\u001b[0m\u001b[1;33m,\u001b[0m  \u001b[0mquery_key\u001b[0m\u001b[1;33m=\u001b[0m\u001b[0mresults\u001b[0m\u001b[1;33m.\u001b[0m\u001b[0mQueryKey\u001b[0m\u001b[1;33m,\u001b[0m \u001b[0mWebEnv\u001b[0m\u001b[1;33m=\u001b[0m\u001b[0mresults\u001b[0m\u001b[1;33m.\u001b[0m\u001b[0mWebEnv\u001b[0m\u001b[1;33m)\u001b[0m\u001b[1;33m\u001b[0m\u001b[0m\n\u001b[0m",
      "\u001b[1;31mNameError\u001b[0m: name 'results' is not defined"
     ]
    }
   ],
   "source": [
    "# we can now resuse the query and webenv values\n",
    "res = e.ESummary(db,  query_key=results.QueryKey, WebEnv=results.WebEnv)"
   ]
  },
  {
   "cell_type": "code",
   "execution_count": 24,
   "metadata": {
    "collapsed": false
   },
   "outputs": [
    {
     "name": "stderr",
     "output_type": "stream",
     "text": [
      "INFO:requests.packages.urllib3.connectionpool:Starting new HTTP connection (1): eutils.ncbi.nlm.nih.gov\n"
     ]
    },
    {
     "name": "stdout",
     "output_type": "stream",
     "text": [
      "\n",
      "1. Zhongguo Dang Dai Er Ke Za Zhi. 2009 Nov;11(11):909-12.\n",
      "\n",
      "[Urinary leukotrience E(4) level in children with asthma].\n",
      "\n",
      "[Article in Chinese]\n",
      "\n",
      "He MJ(1), Chen Q, Liu JM.\n",
      "\n",
      "Author information: \n",
      "(1)Depart\n"
     ]
    }
   ],
   "source": [
    "data = e.EFetch(db,query_key=results.QueryKey, WebEnv=results.WebEnv, rettype=\"abstract\", retmode=\"text\")\n",
    "print(data[0:200])"
   ]
  },
  {
   "cell_type": "markdown",
   "metadata": {},
   "source": [
    "<h2>EPost and ESummary/EFetch example</h2>\n",
    "- Input: List of Entrez UIDs (integer identifiers, e.g. PMID, GI, Gene ID)\n",
    "- ESummary Output: XML Document Summaries\n",
    "- EFetch Output: Formatted data records (e.g. abstracts, FASTA)\n"
   ]
  },
  {
   "cell_type": "markdown",
   "metadata": {},
   "source": [
    " List of Entrez UIDs (integer identifiers, e.g. PMID, GI, Gene ID)"
   ]
  },
  {
   "cell_type": "code",
   "execution_count": 25,
   "metadata": {
    "collapsed": false
   },
   "outputs": [],
   "source": [
    "db = 'protein'\n",
    "id_list = '194680922,50978626,28558982,9507199,6678417'"
   ]
  },
  {
   "cell_type": "code",
   "execution_count": 26,
   "metadata": {
    "collapsed": false
   },
   "outputs": [],
   "source": [
    "results = e.EPost(db, id_list)"
   ]
  },
  {
   "cell_type": "code",
   "execution_count": 27,
   "metadata": {
    "collapsed": false
   },
   "outputs": [
    {
     "data": {
      "text/plain": [
       "(reply){\n",
       "   QueryKey = \"1\"\n",
       "   WebEnv = \"NCID_1_311096996_130.14.18.34_9001_1410196505_465456362_0MetA0_S_MegaStore_F_1\"\n",
       " }"
      ]
     },
     "execution_count": 27,
     "metadata": {},
     "output_type": "execute_result"
    }
   ],
   "source": [
    "results"
   ]
  },
  {
   "cell_type": "code",
   "execution_count": 28,
   "metadata": {
    "collapsed": false
   },
   "outputs": [],
   "source": [
    "summary = e.ESummary(db, query_key=results.QueryKey, WebEnv=results.WebEnv)"
   ]
  },
  {
   "cell_type": "code",
   "execution_count": 29,
   "metadata": {
    "collapsed": false
   },
   "outputs": [
    {
     "name": "stderr",
     "output_type": "stream",
     "text": [
      "INFO:requests.packages.urllib3.connectionpool:Resetting dropped connection: eutils.ncbi.nlm.nih.gov\n"
     ]
    }
   ],
   "source": [
    "summary = e.EFetch(db, query_key=results.QueryKey, WebEnv=results.WebEnv, retmode=\"text\", rettype=\"fasta\")"
   ]
  },
  {
   "cell_type": "code",
   "execution_count": 30,
   "metadata": {
    "collapsed": false
   },
   "outputs": [
    {
     "name": "stdout",
     "output_type": "stream",
     "text": [
      ">gi|194680922|ref|XP_603356.4| PREDICTED: similar to Thyroid peroxidase precursor (TPO) [Bos taurus]\n",
      "METAEVQKLPPTNRETRSVPSKKRGCGWVMEGHRQVLESLTPLKTTVLFTRNFMQKSQSQSLNISGPRVV\n",
      "RGRWWFGPGLVWSQLEEGLWADGARFPVISAQKRCWQMRARAVLGVVLAVTCAGAVFSFLLRPGGLLWGE\n",
      "TEESQVRGIVEASRLLVDKSVYAAMRRNLHKREVISPAQLLSFSKLPEPTSRAASRAAEVMEASVQEAAR\n",
      "RGHLRSGPSQLPTDALSEGLLSAIANLSGCLPYMLPPRCPATCLASKYRLISGACNNRDHPRWGASNTAL\n",
      "ARWLPPAYEDGISEPRGWNPHFLYKGFPLPPVREVTRRIIHASNEAVTGDDRYSDLLTAWGQYIDHDIAF\n",
      "TPQSAAPSAPWVGADCQLTCEPRSPCFPIQLPANAAGPACLPFY\n"
     ]
    }
   ],
   "source": [
    "print(summary[0:500])\n"
   ]
  },
  {
   "cell_type": "markdown",
   "metadata": {},
   "source": [
    "<h2>ELink – ESummary/Efetch</h2>\n",
    "\n",
    "- Input: List of Entrez UIDs in database A (integer identifiers, e.g. PMID, GI, Gene ID)\n",
    "- ESummary Output: Linked XML Document Summaries from database B\n",
    "- EFetch Output: Formatted data records (e.g. abstracts, FASTA) from database B"
   ]
  },
  {
   "cell_type": "code",
   "execution_count": 31,
   "metadata": {
    "collapsed": false
   },
   "outputs": [],
   "source": [
    "dbfrom = 'protein'\n",
    "db = 'gene'\n",
    "linkname = 'protein_gene'\n",
    "# here is the list of identifiers in protein database (GIs)\n",
    "id_list = '194680922,50978626,28558982,9507199,6678417'"
   ]
  },
  {
   "cell_type": "code",
   "execution_count": 32,
   "metadata": {
    "collapsed": false
   },
   "outputs": [
    {
     "data": {
      "text/plain": [
       "NCID_1_311097941_130.14.18.34_9001_1410196510_1820950996_0MetA0_S_MegaStore_F_1"
      ]
     },
     "execution_count": 32,
     "metadata": {},
     "output_type": "execute_result"
    }
   ],
   "source": [
    "results = e.ELink(dbfrom, sid=id_list, db=db, linkname=linkname, cmd=\"neighbor_history\")\n",
    "QueryKey = results.LinkSet[0].LinkSetDbHistory[0].QueryKey\n",
    "\n",
    "WebEnv = results.LinkSet[0].WebEnv\n",
    "WebEnv"
   ]
  },
  {
   "cell_type": "code",
   "execution_count": 33,
   "metadata": {
    "collapsed": false
   },
   "outputs": [],
   "source": [
    "# include the previous results (WEbEnv and querykey)  in a esummary call\n",
    "summary = e.ESummary(db=db, query_key=QueryKey, WebEnv=WebEnv)"
   ]
  },
  {
   "cell_type": "code",
   "execution_count": 34,
   "metadata": {
    "collapsed": false
   },
   "outputs": [
    {
     "data": {
      "text/plain": [
       "(ItemType){\n",
       "   _Type = \"String\"\n",
       "   _Name = \"Description\"\n",
       "   ItemContent = \"thyroid peroxidase\"\n",
       " }"
      ]
     },
     "execution_count": 34,
     "metadata": {},
     "output_type": "execute_result"
    }
   ],
   "source": [
    "# example of contenst that can be extracted:\n",
    "docsum = summary.DocSum[0]\n",
    "docsum.Item[1]"
   ]
  },
  {
   "cell_type": "code",
   "execution_count": 35,
   "metadata": {
    "collapsed": true
   },
   "outputs": [
    {
     "name": "stderr",
     "output_type": "stream",
     "text": [
      "INFO:requests.packages.urllib3.connectionpool:Resetting dropped connection: eutils.ncbi.nlm.nih.gov\n"
     ]
    }
   ],
   "source": [
    "data = e.EFetch(db=db, query_key=QueryKey, WebEnv=WebEnv, rettype=\"xml\", retmode=\"xml\")"
   ]
  },
  {
   "cell_type": "code",
   "execution_count": 36,
   "metadata": {
    "collapsed": false
   },
   "outputs": [
    {
     "data": {
      "text/plain": [
       "[<Element 'Entrezgene_track-info' at 0x5415910>,\n",
       " <Element 'Entrezgene_type' at 0x5415d10>,\n",
       " <Element 'Entrezgene_source' at 0x5415ad0>,\n",
       " <Element 'Entrezgene_gene' at 0x52f68d0>,\n",
       " <Element 'Entrezgene_prot' at 0x521f710>,\n",
       " <Element 'Entrezgene_summary' at 0x521f590>,\n",
       " <Element 'Entrezgene_location' at 0x521f390>,\n",
       " <Element 'Entrezgene_gene-source' at 0x521fa90>,\n",
       " <Element 'Entrezgene_locus' at 0x521fad0>,\n",
       " <Element 'Entrezgene_properties' at 0x45a5710>,\n",
       " <Element 'Entrezgene_homology' at 0x45cbcd0>,\n",
       " <Element 'Entrezgene_comments' at 0x4761090>,\n",
       " <Element 'Entrezgene_unique-keys' at 0x95d99d0>,\n",
       " <Element 'Entrezgene_xtra-index-terms' at 0x95d9790>,\n",
       " <Element 'Entrezgene_xtra-properties' at 0x95d9650>]"
      ]
     },
     "execution_count": 36,
     "metadata": {},
     "output_type": "execute_result"
    }
   ],
   "source": [
    "data.root.getchildren()[0].getchildren()\n"
   ]
  },
  {
   "cell_type": "markdown",
   "metadata": {},
   "source": [
    "<h2>ESearch - ELink - ESummary/EFetch</h2>\n",
    "- Input: Entrez text query in database A\n",
    "- ESummary Output: Linked XML Document Summaries from database B\n",
    "- EFetch Output: Formatted data records (e.g. abstracts, FASTA) from database B"
   ]
  },
  {
   "cell_type": "code",
   "execution_count": 37,
   "metadata": {
    "collapsed": false
   },
   "outputs": [],
   "source": [
    "# Download protein FASTA records linked to abstracts published \n",
    "# in 2009 that are indexed in MeSH for both asthma and \n",
    "# leukotrienes.\n",
    "db1 = 'pubmed'\n",
    "db2 = 'protein'\n",
    "linkname = 'pubmed_protein'\n",
    "query = 'asthma[mesh]+AND+leukotrienes[mesh]+AND+2009[pdat]'"
   ]
  },
  {
   "cell_type": "code",
   "execution_count": 38,
   "metadata": {
    "collapsed": false
   },
   "outputs": [],
   "source": [
    "results = e.ESearch(db1, term=query, usehistory='y')"
   ]
  },
  {
   "cell_type": "code",
   "execution_count": 39,
   "metadata": {
    "collapsed": false
   },
   "outputs": [],
   "source": [
    "#call ELink with previous key and env\n",
    "output = e.ELink(db1, db=db2, query_key=results.QueryKey, WebEnv=results.WebEnv, \n",
    "                 cmd=\"neighbor_history\", linkname=linkname)"
   ]
  },
  {
   "cell_type": "code",
   "execution_count": 40,
   "metadata": {
    "collapsed": false
   },
   "outputs": [],
   "source": [
    "WebEnv2 = output.LinkSet[0].WebEnv"
   ]
  },
  {
   "cell_type": "code",
   "execution_count": 41,
   "metadata": {
    "collapsed": false
   },
   "outputs": [],
   "source": [
    "QueryKey2 = output.LinkSet[0].LinkSetDbHistory[0].QueryKey"
   ]
  },
  {
   "cell_type": "code",
   "execution_count": 42,
   "metadata": {
    "collapsed": false
   },
   "outputs": [],
   "source": [
    "docsums = e.ESummary(db=db2, query_key=QueryKey2, WebEnv=WebEnv2)"
   ]
  },
  {
   "cell_type": "code",
   "execution_count": 43,
   "metadata": {
    "collapsed": false
   },
   "outputs": [
    {
     "name": "stderr",
     "output_type": "stream",
     "text": [
      "INFO:requests.packages.urllib3.connectionpool:Resetting dropped connection: eutils.ncbi.nlm.nih.gov\n"
     ]
    }
   ],
   "source": [
    "data = e.EFetch(db=db2, query_key=QueryKey2, WebEnv=WebEnv2, rettype=\"fasta\", retmode=\"text\")"
   ]
  },
  {
   "cell_type": "code",
   "execution_count": 44,
   "metadata": {
    "collapsed": false
   },
   "outputs": [
    {
     "name": "stdout",
     "output_type": "stream",
     "text": [
      ">gi|16924014|ref|NP_476492.1| C-C motif chemokine 17 precursor [Rattus norvegicus]\n",
      "MMSLQMLLLAALLLGTSLQHASAARATNVGRECCLDYFKGAIPIRKLVTWFRTSVECPKDAIVFETVQGR\n",
      "LICTDPKDKHVKKAIRHLKNQRL\n",
      "\n",
      ">gi|8392897|ref|NP_058956.1| arachidonate 5-lipoxygenase-activating protein [Rattus norvegicus]\n",
      "MDQEAVGNVVLLAIVTLISVVQNAFFAHKVELESKAQSGRSFQRTGTLAFERVYTANQNCVDAYPTFLVV\n",
      "LWTAGLLCSQVPAAFAGLMYLFVRQKYFVGYLGERTQSTPGYIFGKRIILFLFLMSLAGILNHYLIFFFG\n",
      "SDFENYIRTITTTISPLLLIP\n",
      "\n",
      "\n"
     ]
    }
   ],
   "source": [
    "print(data)"
   ]
  },
  {
   "cell_type": "markdown",
   "metadata": {},
   "source": [
    "<h2>Application1: Converting GI numbers to accession numbers </h2>\n",
    "- Goal: Starting with a list of nucleotide GI numbers, prepare a set of corresponding accession numbers.\n",
    "- Solution: Use EFetch with &retttype=acc\n",
    "- Input: $gi_list – comma-delimited list of GI numbers\n",
    "- Output: List of accession numbers."
   ]
  },
  {
   "cell_type": "code",
   "execution_count": 45,
   "metadata": {
    "collapsed": false
   },
   "outputs": [
    {
     "name": "stderr",
     "output_type": "stream",
     "text": [
      "INFO:requests.packages.urllib3.connectionpool:Resetting dropped connection: eutils.ncbi.nlm.nih.gov\n"
     ]
    }
   ],
   "source": [
    "gi_list = '24475906,224465210,50978625,9507198';\n",
    "output = e.EFetch('nucleotide', gi_list, rettype=\"acc\")\n"
   ]
  },
  {
   "cell_type": "code",
   "execution_count": 46,
   "metadata": {
    "collapsed": false
   },
   "outputs": [
    {
     "name": "stdout",
     "output_type": "stream",
     "text": [
      "NM_009417.2\n",
      "NM_000547.4\n",
      "NM_001003009.1\n",
      "NM_019353.1\n",
      "\n"
     ]
    }
   ],
   "source": [
    "print(output)"
   ]
  },
  {
   "cell_type": "code",
   "execution_count": 47,
   "metadata": {
    "collapsed": false
   },
   "outputs": [],
   "source": [
    "#  The order of the accessions in the output will be the same order as the GI numbers in $gi_list."
   ]
  },
  {
   "cell_type": "markdown",
   "metadata": {},
   "source": [
    "Application 2: Converting accession numbers to data \n",
    "- Goal: Starting with a list of protein accession numbers, return the sequences in FASTA format.\n",
    "- Solution: Create a string consisting of items separated by 'OR', where each item is an accession number followed by '[accn]'. Example: accn1[accn]+OR+accn2[accn]+OR+accn3[accn]+OR+…\n",
    "- Submit this string as a &term in ESearch, then use EFetch to retrieve the FASTA data.\n",
    "- Input: $acc_list – comma-delimited list of accessions\n",
    "- Output: FASTA data "
   ]
  },
  {
   "cell_type": "code",
   "execution_count": 48,
   "metadata": {
    "collapsed": false
   },
   "outputs": [],
   "source": [
    "acc_list = 'NM_009417,NM_000547,NM_001003009,NM_019353'\n",
    "query = \"+OR+\".join(acc_list.split(\",\"))\n"
   ]
  },
  {
   "cell_type": "code",
   "execution_count": 49,
   "metadata": {
    "collapsed": false
   },
   "outputs": [],
   "source": [
    "results = e.ESearch(db='nucleotide', term=query, usehistory='y')"
   ]
  },
  {
   "cell_type": "code",
   "execution_count": 50,
   "metadata": {
    "collapsed": false
   },
   "outputs": [
    {
     "data": {
      "text/plain": [
       "(NCID_1_311102141_130.14.18.34_9001_1410196532_664070211_0MetA0_S_MegaStore_F_1,\n",
       " 1)"
      ]
     },
     "execution_count": 50,
     "metadata": {},
     "output_type": "execute_result"
    }
   ],
   "source": [
    "results.WebEnv, results.QueryKey\n"
   ]
  },
  {
   "cell_type": "code",
   "execution_count": 51,
   "metadata": {
    "collapsed": false
   },
   "outputs": [
    {
     "name": "stderr",
     "output_type": "stream",
     "text": [
      "INFO:requests.packages.urllib3.connectionpool:Resetting dropped connection: eutils.ncbi.nlm.nih.gov\n"
     ]
    },
    {
     "name": "stdout",
     "output_type": "stream",
     "text": [
      ">gi|253735815|ref|NM_000547.5| Homo sapiens thyroid peroxidase (TPO), transcript variant 1, mRNA\n",
      "GGAAGGCAATTAAGGCGCCCATTTCAGAAGAGTTACAGCCGTGAAAATTACTCAGCAGTGCAGTTGGCTG\n",
      "AGAAGAGGAAAAAAGGTCAGAATGAGAGCGCTCGCTGTGCTGTCTGTCACGCTGGTTATGGCCTGCACAG\n",
      "AAGCCTTCTTCCCCTTCATCTCGAGAGGGAAAGAACTCCTTTGGGGAAAGCCTGAGGAGTCTCGTGTCTC\n",
      "TAGCGTCTTGGAGGAAAGCAAGCGCCTGGTGGACACCGCCATGTACGCCACGATGCAGAGAAACCTCAAG\n",
      "AAAAGAGGAATCCTTTCTCCAGCTCAGCTTCTGTCTTTTTCCAAACTTCCTGAGCCAACAAGCGGAGTGA\n",
      "TTGCCCGAGCAGCAGAGATAATGGAAACATCAATACAAGCGATGAAAA\n"
     ]
    }
   ],
   "source": [
    "# Note that there is maybe a typo on the NCBI website where protein is used in place of nucleotide. \n",
    "# If we set db=protein, we get a bd request response\n",
    "data = e.EFetch('nucleotide', sid=None, query_key=results.QueryKey, WebEnv=results.WebEnv, rettype='fasta', retmode='text')\n",
    "print(data[0:500])"
   ]
  },
  {
   "cell_type": "code",
   "execution_count": 52,
   "metadata": {
    "collapsed": false
   },
   "outputs": [
    {
     "data": {
      "text/plain": [
       "'OK'"
      ]
     },
     "execution_count": 52,
     "metadata": {},
     "output_type": "execute_result"
    }
   ],
   "source": [
    "e._efetch.last_response.reason"
   ]
  },
  {
   "cell_type": "markdown",
   "metadata": {},
   "source": [
    "<h2>Application 3: Retrieving large datasets </h2>\n",
    "- Goal: Download all chimpanzee mRNA sequences in FASTA format (>50,000 sequences).\n",
    "- Solution: First use ESearch to retrieve the GI numbers for these sequences and post them on the History server, then use multiple EFetch calls to retrieve the data in batches of 500.\n",
    "- Input: query – chimpanzee[orgn]+AND+biomol+mrna[prop]\n",
    "- Output: A file named \"chimp.fna\" containing FASTA data."
   ]
  },
  {
   "cell_type": "code",
   "execution_count": 53,
   "metadata": {
    "collapsed": false
   },
   "outputs": [],
   "source": [
    "query = 'chimpanzee[orgn]+AND+biomol+mrna[prop]'"
   ]
  },
  {
   "cell_type": "code",
   "execution_count": 54,
   "metadata": {
    "collapsed": false
   },
   "outputs": [],
   "source": [
    "output = e.ESearch(db='nucleotide', term=query, usehistory='y')"
   ]
  },
  {
   "cell_type": "code",
   "execution_count": 55,
   "metadata": {
    "collapsed": false
   },
   "outputs": [
    {
     "data": {
      "text/plain": [
       "156307"
      ]
     },
     "execution_count": 55,
     "metadata": {},
     "output_type": "execute_result"
    }
   ],
   "source": [
    "# there are lots of entries and we get only 20 by default\n",
    "output.Count"
   ]
  },
  {
   "cell_type": "code",
   "execution_count": 56,
   "metadata": {
    "collapsed": false
   },
   "outputs": [
    {
     "data": {
      "text/plain": [
       "(NCID_1_311107112_130.14.22.215_9001_1410196538_271370888_0MetA0_S_MegaStore_F_1,\n",
       " 1)"
      ]
     },
     "execution_count": 56,
     "metadata": {},
     "output_type": "execute_result"
    }
   ],
   "source": [
    "output.WebEnv, output.QueryKey"
   ]
  },
  {
   "cell_type": "code",
   "execution_count": 57,
   "metadata": {
    "collapsed": false
   },
   "outputs": [
    {
     "name": "stderr",
     "output_type": "stream",
     "text": [
      "INFO:requests.packages.urllib3.connectionpool:Resetting dropped connection: eutils.ncbi.nlm.nih.gov\n"
     ]
    },
    {
     "name": "stdout",
     "output_type": "stream",
     "text": [
      "1 batches out of 4 done\n",
      "2 batches out of 4 done\n",
      "3 batches out of 4 done\n",
      "4 batches out of 4 done\n"
     ]
    }
   ],
   "source": [
    "# very slow and large file. For demonstration, let us get only 4 batches of 500 sequences\n",
    "retmax = 500\n",
    "output.Count=1501\n",
    "with open('chimp.rna', 'w') as fh:\n",
    "    # retrieve data in batch of 500\n",
    "    for i in range(0, int(output.Count)/retmax + 1):\n",
    "        data = e.EFetch('nucleotide', WebEnv=output.WebEnv, retstart=i*retmax, query_key=output.QueryKey, \n",
    "                 retmax=retmax, retmode='text', rettype='fasta')\n",
    "        fh.write(data)\n",
    "        print(\"{0} batches out of {1} done\".format(i+1, int(output.Count)/retmax+1))\n",
    "\n",
    "# delete the file\n",
    "#import os\n",
    "#os.remove('chimp.rna')"
   ]
  },
  {
   "cell_type": "markdown",
   "metadata": {},
   "source": [
    "<h2>Application 4: Finding unique sets of linked records for each member of a large dataset</h2>\n",
    "- Goal: Download separately the SNP rs numbers (identifiers) for each current gene on human chromosome 20.\n",
    "- Solution: First use ESearch to retrieve the Gene IDs for the genes, and then assemble an ELink URL where each Gene ID is submitted as a separate &id parameter.\n",
    "- Input: query – human[orgn]+AND+20[chr]+AND+alive[prop]\n",
    "- Output: A file named \"snp_table\" containing on each line the gene id followed by a colon (\":\") followed by a comma-delimited list of the linked SNP rs numbers."
   ]
  },
  {
   "cell_type": "code",
   "execution_count": 63,
   "metadata": {
    "collapsed": false
   },
   "outputs": [],
   "source": [
    "query = 'human[orgn]+AND+20[chr]+AND+alive[prop]'\n",
    "db1 = 'gene'\n",
    "db2 = 'snp'\n",
    "linkname = 'gene_snp'"
   ]
  },
  {
   "cell_type": "markdown",
   "metadata": {},
   "source": [
    "Notes: The retmax parameter in the ESearch call is set to 5000, as this is a reasonable limit to the number of IDs to send to ELink in one request (if you send 5000 IDs, you are effectively performing 5000 ELink operations). If you need to link more than 5000 records, add &retstart to the ESearch call and repeat the entire procedure for each batch of 5000 IDs, incrementing &retstart for each batch like in application 3.\n"
   ]
  },
  {
   "cell_type": "code",
   "execution_count": 64,
   "metadata": {
    "collapsed": false
   },
   "outputs": [],
   "source": [
    "output = e.ESearch(db=db1, term=query, usehistory='y', RetMax=5000)"
   ]
  },
  {
   "cell_type": "code",
   "execution_count": 65,
   "metadata": {
    "collapsed": false
   },
   "outputs": [],
   "source": [
    "ids = output.IdList.Id[0:10]  # only 10 ids to speed up the example\n"
   ]
  },
  {
   "cell_type": "markdown",
   "metadata": {},
   "source": [
    "Here, we retrieve 200 identifiers using the ELink method, which is based on WSDL. \n",
    "THe number of identifiers is limited to 200 with this service"
   ]
  },
  {
   "cell_type": "code",
   "execution_count": 66,
   "metadata": {
    "collapsed": false
   },
   "outputs": [],
   "source": [
    "results = e.ELink(db1, db=db2, linkname=linkname, sid=ids)"
   ]
  },
  {
   "cell_type": "code",
   "execution_count": 67,
   "metadata": {
    "collapsed": false
   },
   "outputs": [
    {
     "data": {
      "text/plain": [
       "[598, 958, 1457, 1471, 1869, 2778, 4318, 5621, 6714, 6790]"
      ]
     },
     "execution_count": 67,
     "metadata": {},
     "output_type": "execute_result"
    }
   ],
   "source": [
    "results.LinkSet[0].IdList.Id  # DO NOT print the entire structure, it's very large."
   ]
  },
  {
   "cell_type": "markdown",
   "metadata": {},
   "source": [
    "On NCBI page, they use the REST service instead. You can manually call the service as follows so thast you can use HTTP POST request. With REST and a HTTP post request, you can get 5000 identifiers."
   ]
  },
  {
   "cell_type": "code",
   "execution_count": 73,
   "metadata": {
    "collapsed": false
   },
   "outputs": [
    {
     "name": "stderr",
     "output_type": "stream",
     "text": [
      "INFO:root:Initialising elink service (REST)\n"
     ]
    }
   ],
   "source": [
    "from bioservices import REST\n",
    "elink = REST(\"elink\", url = 'http://eutils.ncbi.nlm.nih.gov/entrez/eutils/')"
   ]
  },
  {
   "cell_type": "code",
   "execution_count": 74,
   "metadata": {
    "collapsed": false
   },
   "outputs": [
    {
     "name": "stderr",
     "output_type": "stream",
     "text": [
      "INFO:requests.packages.urllib3.connectionpool:Starting new HTTP connection (1): eutils.ncbi.nlm.nih.gov\n"
     ]
    }
   ],
   "source": [
    "ids = output.IdList.Id[0:00]\n",
    "\n",
    "res = elink.http_post(\"elink.fcgi\", frmt='xml', \n",
    "                params={'dbfrom':db1, 'db':db2, 'id':ids, 'linkname':linkname, 'retmode':'text'}, \n",
    "                headers={'Content-Type': 'application/x-www-form-urlencoded', 'User-Agent':'elink'} )"
   ]
  },
  {
   "cell_type": "code",
   "execution_count": null,
   "metadata": {
    "collapsed": false
   },
   "outputs": [],
   "source": [
    "res = elink.easyXML(res)"
   ]
  },
  {
   "cell_type": "code",
   "execution_count": null,
   "metadata": {
    "collapsed": false
   },
   "outputs": [],
   "source": [
    "identifiers = {}\n",
    "\n",
    "for link in res.root.getchildren():\n",
    "    this_id = link.getchildren()[1].getchildren()[0].text\n",
    "    links = [this.find('Id').text for this in link.find('LinkSetDb').findall('Link')]\n",
    "    identifiers[this_id] = links[:]\n"
   ]
  },
  {
   "cell_type": "code",
   "execution_count": null,
   "metadata": {
    "collapsed": false
   },
   "outputs": [],
   "source": [
    "identifiers.keys()[0:10]\n",
    "\n"
   ]
  },
  {
   "cell_type": "code",
   "execution_count": 124,
   "metadata": {
    "collapsed": false
   },
   "outputs": [
    {
     "data": {
      "text/plain": [
       "487"
      ]
     },
     "execution_count": 124,
     "metadata": {},
     "output_type": "execute_result"
    }
   ],
   "source": [
    "len(identifiers['4318'])"
   ]
  },
  {
   "cell_type": "code",
   "execution_count": 126,
   "metadata": {
    "collapsed": false
   },
   "outputs": [
    {
     "name": "stdout",
     "output_type": "stream",
     "text": [
      "Populating the interactive namespace from numpy and matplotlib\n"
     ]
    },
    {
     "name": "stderr",
     "output_type": "stream",
     "text": [
      "WARNING: pylab import has clobbered these variables: ['e']\n",
      "`%matplotlib` prevents importing * from pylab and numpy\n"
     ]
    }
   ],
   "source": [
    "# plot the histogram of the number of links for each identifier\n",
    "%pylab inline"
   ]
  },
  {
   "cell_type": "code",
   "execution_count": 129,
   "metadata": {
    "collapsed": false
   },
   "outputs": [
    {
     "data": {
      "image/png": "[encoded data removed]",
      "text/plain": [
       "<matplotlib.figure.Figure at 0xcc5e5e50>"
      ]
     },
     "metadata": {},
     "output_type": "display_data"
    }
   ],
   "source": [
    "_ = hist([len(identifiers[k]) for k in identifiers.keys()], 50)"
   ]
  },
  {
   "cell_type": "code",
   "execution_count": null,
   "metadata": {
    "collapsed": false
   },
   "outputs": [],
   "source": []
  }
 ],
 "metadata": {
  "kernelspec": {
   "display_name": "Python 2",
   "language": "python",
   "name": "python2"
  },
  "language_info": {
   "codemirror_mode": {
    "name": "ipython",
    "version": 2
   },
   "file_extension": ".py",
   "mimetype": "text/x-python",
   "name": "python",
   "nbconvert_exporter": "python",
   "pygments_lexer": "ipython2",
   "version": "2.7.5"
  }
 },
 "nbformat": 4,
 "nbformat_minor": 0
}
