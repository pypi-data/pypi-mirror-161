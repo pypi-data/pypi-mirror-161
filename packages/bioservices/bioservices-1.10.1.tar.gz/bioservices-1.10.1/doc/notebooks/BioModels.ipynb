{
 "cells": [
  {
   "cell_type": "markdown",
   "metadata": {},
   "source": [
    "# BioModels service from BioServices"
   ]
  },
  {
   "cell_type": "code",
   "execution_count": 1,
   "metadata": {},
   "outputs": [
    {
     "name": "stdout",
     "output_type": "stream",
     "text": [
      "Populating the interactive namespace from numpy and matplotlib\n"
     ]
    }
   ],
   "source": [
    "from bioservices import *\n",
    "%pylab inline\n",
    "matplotlib.rcParams['figure.dpi'] = 2 * matplotlib.rcParams['figure.dpi'] \n",
    "        \n",
    "        "
   ]
  },
  {
   "cell_type": "code",
   "execution_count": 2,
   "metadata": {},
   "outputs": [
    {
     "name": "stderr",
     "output_type": "stream",
     "text": [
      "INFO    [bioservices:BioModels]:  Initialising BioModels service (REST)\n"
     ]
    }
   ],
   "source": [
    "s = BioModels()"
   ]
  },
  {
   "cell_type": "markdown",
   "metadata": {},
   "source": [
    "Let us look at a model that represents signalling pathways"
   ]
  },
  {
   "cell_type": "code",
   "execution_count": 3,
   "metadata": {},
   "outputs": [],
   "source": [
    "biomodel = s.get_model(\"MODEL1305240000\") "
   ]
  },
  {
   "cell_type": "markdown",
   "metadata": {},
   "source": [
    "and save it in a local file"
   ]
  },
  {
   "cell_type": "code",
   "execution_count": 4,
   "metadata": {},
   "outputs": [
    {
     "name": "stderr",
     "output_type": "stream",
     "text": [
      "INFO    [bioservices:BioModels]:  Saving MODEL1305240000_urn.xml\n"
     ]
    }
   ],
   "source": [
    "biomodel = s.get_model_download(\"MODEL1305240000\", \"MODEL1305240000_urn.xml\")\n"
   ]
  },
  {
   "cell_type": "markdown",
   "metadata": {},
   "source": [
    "<b>Here below is a piece of code not provided within bioservices that illustrates what could be done with the output of the biomodels downloaded here above</b> Requires the package cellnopt.core (version 0.6) available on pypi. "
   ]
  },
  {
   "cell_type": "code",
   "execution_count": 5,
   "metadata": {},
   "outputs": [],
   "source": [
    "from cno import *"
   ]
  },
  {
   "cell_type": "code",
   "execution_count": 6,
   "metadata": {},
   "outputs": [
    {
     "data": {
      "text/plain": [
       "SIF object\n",
       "- 33 reactions.\n",
       "- 30 species."
      ]
     },
     "execution_count": 6,
     "metadata": {},
     "output_type": "execute_result"
    }
   ],
   "source": [
    "model = SIF(); \n",
    "model.read_sbmlqual(\"MODEL1305240000_urn.xml\")"
   ]
  },
  {
   "cell_type": "code",
   "execution_count": 7,
   "metadata": {},
   "outputs": [],
   "source": [
    "data = cnodata(\"MD-ToyPB.csv\")"
   ]
  },
  {
   "cell_type": "code",
   "execution_count": 8,
   "metadata": {},
   "outputs": [
    {
     "name": "stderr",
     "output_type": "stream",
     "text": [
      "WARNING [root]:  The signals ap1 was found in the MIDAS file but is not present in the model. Adding that node to your model\n",
      "WARNING [root]:  The signals erk was found in the MIDAS file but is not present in the model. Adding that node to your model\n",
      "WARNING [root]:  The signals gsk3 was found in the MIDAS file but is not present in the model. Adding that node to your model\n",
      "WARNING [root]:  The signals nfkb was found in the MIDAS file but is not present in the model. Adding that node to your model\n",
      "WARNING [root]:  The signals p38 was found in the MIDAS file but is not present in the model. Adding that node to your model\n",
      "WARNING [root]:  The signals raf1 was found in the MIDAS file but is not present in the model. Adding that node to your model\n"
     ]
    }
   ],
   "source": [
    "c = CNOGraph(model, data)"
   ]
  },
  {
   "cell_type": "code",
   "execution_count": 9,
   "metadata": {},
   "outputs": [
    {
     "data": {
      "image/png": "[encoded data removed]",
      "text/plain": [
       "<matplotlib.figure.Figure at 0x7f9a02c983c8>"
      ]
     },
     "metadata": {},
     "output_type": "display_data"
    }
   ],
   "source": [
    "c.plot()"
   ]
  },
  {
   "cell_type": "markdown",
   "metadata": {},
   "source": [
    "<hr>\n",
    "For more information, please see <a href=\"http://pythonhosted.org//bioservices/references.html?bioservices.biomodels.BioModels#module-bioservices.biomodels\" target=\"_blank\">bioservices.biomodels module documentation.</a>"
   ]
  },
  {
   "cell_type": "code",
   "execution_count": null,
   "metadata": {},
   "outputs": [],
   "source": []
  }
 ],
 "metadata": {
  "kernelspec": {
   "display_name": "Python 3",
   "language": "python",
   "name": "python3"
  },
  "language_info": {
   "codemirror_mode": {
    "name": "ipython",
    "version": 3
   },
   "file_extension": ".py",
   "mimetype": "text/x-python",
   "name": "python",
   "nbconvert_exporter": "python",
   "pygments_lexer": "ipython3",
   "version": "3.5.5"
  }
 },
 "nbformat": 4,
 "nbformat_minor": 1
}
