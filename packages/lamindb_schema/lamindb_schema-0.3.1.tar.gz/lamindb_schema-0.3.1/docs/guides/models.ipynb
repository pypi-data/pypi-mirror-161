{
 "cells": [
  {
   "cell_type": "markdown",
   "id": "2ee23aa0-22e1-45ae-8fe4-392702f95de5",
   "metadata": {},
   "source": [
    "# All models"
   ]
  },
  {
   "cell_type": "code",
   "execution_count": null,
   "id": "9667c97e-8f2f-4fc9-9a97-9eed0361919d",
   "metadata": {},
   "outputs": [],
   "source": [
    "import lndb_schema_core as schema_core"
   ]
  },
  {
   "cell_type": "code",
   "execution_count": null,
   "id": "bd86ad4e",
   "metadata": {},
   "outputs": [],
   "source": [
    "import lndb_schema_bionty as schema_bionty"
   ]
  },
  {
   "cell_type": "code",
   "execution_count": null,
   "id": "003ac822",
   "metadata": {},
   "outputs": [],
   "source": [
    "import lndb_schema_wetlab as schema_wetlab"
   ]
  },
  {
   "cell_type": "code",
   "execution_count": null,
   "id": "47f8d878",
   "metadata": {},
   "outputs": [],
   "source": [
    "from lamindb_schema import id"
   ]
  }
 ],
 "metadata": {
  "kernelspec": {
   "display_name": "Python 3.9.12 ('base1')",
   "language": "python",
   "name": "python3"
  },
  "language_info": {
   "codemirror_mode": {
    "name": "ipython",
    "version": 3
   },
   "file_extension": ".py",
   "mimetype": "text/x-python",
   "name": "python",
   "nbconvert_exporter": "python",
   "pygments_lexer": "ipython3",
   "version": "3.9.12"
  },
  "vscode": {
   "interpreter": {
    "hash": "2775e555cdc2d728c54aa22130c79afb1fa4da64f22f2fc6dcc2aa346c4e0672"
   }
  }
 },
 "nbformat": 4,
 "nbformat_minor": 5
}
