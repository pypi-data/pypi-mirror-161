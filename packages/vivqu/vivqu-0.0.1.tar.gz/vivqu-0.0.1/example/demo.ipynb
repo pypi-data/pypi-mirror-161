{
 "cells": [
  {
   "cell_type": "markdown",
   "metadata": {},
   "source": [
    "# Vivqu Demo: data quality check for post monitoring"
   ]
  },
  {
   "cell_type": "markdown",
   "metadata": {},
   "source": [
    "## 1. Background and Goal"
   ]
  },
  {
   "cell_type": "markdown",
   "metadata": {},
   "source": [
    "Feature quality is of great important to machine learing model performance, in order to insure the intactness of data that come from multiple upstream data sources, I deviced a data quality checking library for post monitoring, which is named **vivqu**. \n",
    "\n",
    "Based on PyDeequ, it gives data scientists deep insight into the data quality, and enable them to check whichever metrics they are insterested in. It also simplifies the intricate process when using PyDeequ directly and make users able to do the checking job within a few lines of code.\n",
    "\n",
    "Vivqu consists of several parts:\n",
    "1. QualityChecker: provides several interfaces to measure the quality of current dataframe.\n",
    "2. DataLoader: provides different ways to load data from multiple sources.\n",
    "3. Visualizer: provides visualization for analysis or profile results.\n",
    "\n",
    "I will show you how to use vivqu in a pyspark-notebook container, and run an example to demonstrate the convenience of using vivqu."
   ]
  },
  {
   "cell_type": "markdown",
   "metadata": {},
   "source": [
    "## 2. Environment configuration"
   ]
  },
  {
   "cell_type": "markdown",
   "metadata": {},
   "source": [
    "\n",
    "I run this notebook in a pyspark-notebook container with the following command:\n",
    "\n",
    "```\n",
    "docker run -it -p 8888:8888 -v /Users/yangding/Documents/code/risk-data-quality-check/vivqu:/home/jovyan/vivqu jupyter/pyspark-notebook:a0a544e6dc6e\n",
    "```\n",
    "\n",
    "I didn't choose the latest version of pyspark-notebook image because the latest pydeequ (version = 1.0.1) only support pyspark version = 3.0, 2.6, 2.4."
   ]
  },
  {
   "cell_type": "markdown",
   "metadata": {},
   "source": [
    "## 3. Metrics"
   ]
  },
  {
   "cell_type": "markdown",
   "metadata": {},
   "source": [
    "### 3.1 Analysis Metrics"
   ]
  },
  {
   "cell_type": "markdown",
   "metadata": {},
   "source": [
    "\n",
    "| Metric | Description | Example |\n",
    "| ----   | -----       | ----    |\n",
    "|ApproxCountDistinct | Approximate number of distinct value, computed with HyperLogLogPlusPlus sketches. | `ApproxCountDistinct(\"review_id\")` |\n",
    "| ApproxQuantile | Approximate quantile of a distribution. | `ApproxQuantile(\"star_rating\", quantile = 0.5)`\n",
    "| ApproxQuantiles | Approximate quantiles of a distribution. | `ApproxQuantiles(\"star_rating\", quantiles = [0.1, 0.5, 0.9])`\n",
    "| Completeness | Fraction of non-null values in a column. | `Completeness(\"review_id\")`\n",
    "| Compliance | Compliance | `Compliance(\"volume\", \"volume >= 28\")`\n",
    "| CountDistinct| Number of distinct values.| `CountDistinct(\"review_id\")`\n",
    "| Correlation | Pearson correlation coefficient, measures the linear correlation between two columns. The result is in the range [-1, 1], where 1 means positive linear correlation, -1 means negative linear correlation, and 0 means no correlation.| `Correlation(\"total_votes\", \"star_rating\")`\n",
    "| DataType | Distribution of data types such as Boolean, Fractional, Integral, and String. The resulting histogram allows filtering by relative or absolute fractions. | `DataType(\"year\")`\n",
    "| Distinctness | Fraction of distinct values of a column over the number of all values of a column. Distinct values occur at least once. Example: [a, a, b] contains two distinct values a and b, so distinctness is 2/3. | `Distinctness(\"review_id\")`\n",
    "| Entropy | Entropy is a measure of the level of information contained in an event (value in a column) when considering all possible events (values in a column). It is measured in nats (natural units of information). Entropy is estimated using observed value counts as the negative sum of (value_count/total_count) * log(value_count/total_count). Example: [a, b, b, c, c] has three distinct values with counts [1, 2, 2]. Entropy is then (-1/5\\*log(1/5)-2/5\\*log(2/5)-2/5\\*log(2/5)) = 1.055. | `Entropy(\"star_rating\")`\n",
    "| Maximum | Maximum value. | `Maximum(\"star_rating\")`\n",
    "| Mean | Mean value; null values are excluded. | `Mean(\"star_rating\")`\n",
    "| Minimum | Minimum value. | `Minimum(\"star_rating\")`\n",
    "| MutualInformation | Mutual information describes how much information about one column (one random variable) can be inferred from another column (another random variable). If the two columns are independent, mutual information is zero. If one column is a function of the other column, mutual information is the entropy of the column. Mutual information is symmetric and nonnegative. | `MutualInformation(Seq(\"total_votes\", \"star_rating\"))`\n",
    "| Size | Number of rows in a DataFrame. | `Size()`\n",
    "| Sum | Sum of all values of a column.| `Sum(\"total_votes\")`\n",
    "| UniqueValueRatio | Fraction of unique values over the number of all distinct values of a column. Unique values occur exactly once; distinct values occur at least once. Example: [a, a, b] contains one unique value b, and two distinct values a and b, so the unique value ratio is 1/2. | `UniqueValueRatio(\"star_rating\")`\n",
    "| Uniqueness | Fraction of unique values over the number of all values of a column. Unique values occur exactly once. Example: [a, a, b] contains one unique value b, so uniqueness is 1/3. | `Uniqueness(\"star_rating\")`\n",
    "\n",
    "\n",
    "\n"
   ]
  },
  {
   "cell_type": "markdown",
   "metadata": {},
   "source": [
    "## 4. Example"
   ]
  },
  {
   "cell_type": "markdown",
   "metadata": {},
   "source": [
    "### 4.1 Load needed modules"
   ]
  },
  {
   "cell_type": "markdown",
   "metadata": {},
   "source": [
    "Before using vivqu, you need to install pydeequ, default verison is 1.0.1."
   ]
  },
  {
   "cell_type": "code",
   "execution_count": 2,
   "metadata": {},
   "outputs": [],
   "source": [
    "# install pydeequ, latest version should be 1.0.1\n",
    "# !pip install pydeequ"
   ]
  },
  {
   "cell_type": "code",
   "execution_count": 3,
   "metadata": {},
   "outputs": [
    {
     "name": "stderr",
     "output_type": "stream",
     "text": [
      "Please set env variable SPARK_VERSION\n"
     ]
    }
   ],
   "source": [
    "import pyspark\n",
    "from pyspark.sql import SparkSession\n",
    "import pydeequ\n",
    "from pydeequ.analyzers import *"
   ]
  },
  {
   "cell_type": "code",
   "execution_count": 4,
   "metadata": {},
   "outputs": [],
   "source": [
    "import sys\n",
    "sys.path.append(\"..\")\n",
    "from vivqu import *"
   ]
  },
  {
   "cell_type": "code",
   "execution_count": 5,
   "metadata": {},
   "outputs": [],
   "source": [
    "plt.rcParams['font.sans-serif'] = ['Arial Unicode MS']\n",
    "\n",
    "%matplotlib inline\n",
    "%config InlineBackend.figure_format = 'svg'"
   ]
  },
  {
   "cell_type": "code",
   "execution_count": 6,
   "metadata": {},
   "outputs": [
    {
     "name": "stderr",
     "output_type": "stream",
     "text": [
      "WARNING: An illegal reflective access operation has occurred\n",
      "WARNING: Illegal reflective access by org.apache.spark.unsafe.Platform (file:/Users/yangding/opt/anaconda3/envs/spark/lib/python3.9/site-packages/pyspark/jars/spark-unsafe_2.12-3.0.2.jar) to constructor java.nio.DirectByteBuffer(long,int)\n",
      "WARNING: Please consider reporting this to the maintainers of org.apache.spark.unsafe.Platform\n",
      "WARNING: Use --illegal-access=warn to enable warnings of further illegal reflective access operations\n",
      "WARNING: All illegal access operations will be denied in a future release\n",
      "Ivy Default Cache set to: /Users/yangding/.ivy2/cache\n",
      "The jars for the packages stored in: /Users/yangding/.ivy2/jars\n",
      ":: loading settings :: url = jar:file:/Users/yangding/opt/anaconda3/envs/spark/lib/python3.9/site-packages/pyspark/jars/ivy-2.4.0.jar!/org/apache/ivy/core/settings/ivysettings.xml\n",
      "com.amazon.deequ#deequ added as a dependency\n",
      ":: resolving dependencies :: org.apache.spark#spark-submit-parent-3953defd-10c9-4ec2-aef9-4e863fbafbf0;1.0\n",
      "\tconfs: [default]\n",
      "\tfound com.amazon.deequ#deequ;1.2.2-spark-3.0 in central\n",
      "\tfound org.scalanlp#breeze_2.12;0.13.2 in central\n",
      "\tfound org.scalanlp#breeze-macros_2.12;0.13.2 in central\n",
      "\tfound org.scala-lang#scala-reflect;2.12.1 in central\n",
      "\tfound com.github.fommil.netlib#core;1.1.2 in central\n",
      "\tfound net.sf.opencsv#opencsv;2.3 in central\n",
      "\tfound com.github.rwl#jtransforms;2.4.0 in central\n",
      "\tfound junit#junit;4.8.2 in central\n",
      "\tfound org.apache.commons#commons-math3;3.2 in central\n",
      "\tfound org.spire-math#spire_2.12;0.13.0 in central\n",
      "\tfound org.spire-math#spire-macros_2.12;0.13.0 in central\n",
      "\tfound org.typelevel#machinist_2.12;0.6.1 in central\n",
      "\tfound com.chuusai#shapeless_2.12;2.3.2 in central\n",
      "\tfound org.typelevel#macro-compat_2.12;1.1.1 in central\n",
      "\tfound org.slf4j#slf4j-api;1.7.5 in central\n",
      ":: resolution report :: resolve 512ms :: artifacts dl 14ms\n",
      "\t:: modules in use:\n",
      "\tcom.amazon.deequ#deequ;1.2.2-spark-3.0 from central in [default]\n",
      "\tcom.chuusai#shapeless_2.12;2.3.2 from central in [default]\n",
      "\tcom.github.fommil.netlib#core;1.1.2 from central in [default]\n",
      "\tcom.github.rwl#jtransforms;2.4.0 from central in [default]\n",
      "\tjunit#junit;4.8.2 from central in [default]\n",
      "\tnet.sf.opencsv#opencsv;2.3 from central in [default]\n",
      "\torg.apache.commons#commons-math3;3.2 from central in [default]\n",
      "\torg.scala-lang#scala-reflect;2.12.1 from central in [default]\n",
      "\torg.scalanlp#breeze-macros_2.12;0.13.2 from central in [default]\n",
      "\torg.scalanlp#breeze_2.12;0.13.2 from central in [default]\n",
      "\torg.slf4j#slf4j-api;1.7.5 from central in [default]\n",
      "\torg.spire-math#spire-macros_2.12;0.13.0 from central in [default]\n",
      "\torg.spire-math#spire_2.12;0.13.0 from central in [default]\n",
      "\torg.typelevel#machinist_2.12;0.6.1 from central in [default]\n",
      "\torg.typelevel#macro-compat_2.12;1.1.1 from central in [default]\n",
      "\t:: evicted modules:\n",
      "\torg.scala-lang#scala-reflect;2.12.0 by [org.scala-lang#scala-reflect;2.12.1] in [default]\n",
      "\t---------------------------------------------------------------------\n",
      "\t|                  |            modules            ||   artifacts   |\n",
      "\t|       conf       | number| search|dwnlded|evicted|| number|dwnlded|\n",
      "\t---------------------------------------------------------------------\n",
      "\t|      default     |   16  |   0   |   0   |   1   ||   15  |   0   |\n",
      "\t---------------------------------------------------------------------\n",
      ":: retrieving :: org.apache.spark#spark-submit-parent-3953defd-10c9-4ec2-aef9-4e863fbafbf0\n",
      "\tconfs: [default]\n",
      "\t0 artifacts copied, 15 already retrieved (0kB/10ms)\n",
      "22/08/02 09:50:49 WARN NativeCodeLoader: Unable to load native-hadoop library for your platform... using builtin-java classes where applicable\n",
      "Using Spark's default log4j profile: org/apache/spark/log4j-defaults.properties\n",
      "Setting default log level to \"WARN\".\n",
      "To adjust logging level use sc.setLogLevel(newLevel). For SparkR, use setLogLevel(newLevel).\n"
     ]
    }
   ],
   "source": [
    "# create spark session locally\n",
    "# it may cost a lot time on first run\n",
    "spark_session = (\n",
    "    SparkSession.builder\n",
    "    .config(\"spark.jars.packages\", pydeequ.deequ_maven_coord)\n",
    "    .config(\"spark.jars.excludes\", pydeequ.f2j_maven_coord)\n",
    "    .getOrCreate()\n",
    "    )"
   ]
  },
  {
   "cell_type": "markdown",
   "metadata": {},
   "source": [
    "### 4.2 DataLoader"
   ]
  },
  {
   "cell_type": "markdown",
   "metadata": {},
   "source": [
    "Provide three mothods to various data sources:\n",
    "+ load_list()      # load from existing python list\n",
    "+ load_csv()       # load from csv file\n",
    "+ load_bigquery()  # haven't been implemented"
   ]
  },
  {
   "cell_type": "code",
   "execution_count": 7,
   "metadata": {},
   "outputs": [],
   "source": [
    "# load data from sample csv\n",
    "loader = DataLoader(spark_session)"
   ]
  },
  {
   "cell_type": "code",
   "execution_count": 8,
   "metadata": {},
   "outputs": [
    {
     "name": "stdout",
     "output_type": "stream",
     "text": [
      "root\n",
      " |-- ID: string (nullable = true)\n",
      " |-- Booking_account_ID: string (nullable = true)\n",
      " |-- Booking_Legal_Entity_ID: string (nullable = true)\n",
      " |-- Booking_Legal_Entity_Name_Local: string (nullable = true)\n",
      " |-- Booking_Legal_Entity_Name_English: string (nullable = true)\n",
      " |-- Booking_Legal_Entity_Owningentity: string (nullable = true)\n",
      " |-- Booking_account_Owner_Org_Level: string (nullable = true)\n",
      " |-- Transaction_Domain: string (nullable = true)\n",
      " |-- Transaction_Type_Raw: string (nullable = true)\n",
      " |-- Transaction_Direction: string (nullable = true)\n",
      " |-- Originator_internal_account_ID: string (nullable = true)\n",
      " |-- Originator_Legal_Entitiy_ID: string (nullable = true)\n",
      " |-- Beneficiary_internal_account_ID: string (nullable = true)\n",
      " |-- Beneficiary_Legal_Entity_ID: string (nullable = true)\n",
      " |-- Transaction_Status_Raw: string (nullable = true)\n",
      " |-- Datetime_created: timestamp (nullable = true)\n",
      " |-- Transaction_method: string (nullable = true)\n",
      " |-- Transaction_moneyhouse: string (nullable = true)\n",
      " |-- Transaction_ID: string (nullable = true)\n",
      " |-- Transaction_reference: string (nullable = true)\n",
      " |-- Transaction_reason: string (nullable = true)\n",
      " |-- Credit_amount_USD: string (nullable = true)\n",
      " |-- Credit_amount_currency: string (nullable = true)\n",
      " |-- Credit_amount_orig_ccy: string (nullable = true)\n",
      " |-- Credit_Inverse_USD: string (nullable = true)\n",
      " |-- Original_amount_USD: double (nullable = true)\n",
      " |-- Original_amount_currency: string (nullable = true)\n",
      " |-- Original_amount_orig_ccy: double (nullable = true)\n",
      " |-- Original_Inverse_USD: double (nullable = true)\n",
      " |-- Originator_full_name: string (nullable = true)\n",
      " |-- Originator_standardized_full_name: string (nullable = true)\n",
      " |-- Originator_cleansed_full_name: string (nullable = true)\n",
      " |-- Originator_type: string (nullable = true)\n",
      " |-- Originator_country: string (nullable = true)\n",
      " |-- Originator_address: string (nullable = true)\n",
      " |-- Originator_bank_country: string (nullable = true)\n",
      " |-- Originator_bank_name: string (nullable = true)\n",
      " |-- Originator_external_bank_account_number: string (nullable = true)\n",
      " |-- Originator_card_scheme: string (nullable = true)\n",
      " |-- Originator_Card_BIN: string (nullable = true)\n",
      " |-- Originator_Card_last_4_digits: string (nullable = true)\n",
      " |-- Originator_card_type: string (nullable = true)\n",
      " |-- Originator_card_Fingerprint: string (nullable = true)\n",
      " |-- Originator_category_code: integer (nullable = true)\n",
      " |-- Beneficiary_full_name: string (nullable = true)\n",
      " |-- Beneficiary_standardized_full_name: string (nullable = true)\n",
      " |-- Beneficiary_type: string (nullable = true)\n",
      " |-- Beneficiary_Country: string (nullable = true)\n",
      " |-- Beneficiary_address: string (nullable = true)\n",
      " |-- Beneficiary_bank_country: string (nullable = true)\n",
      " |-- Beneficiary_bank_name: string (nullable = true)\n",
      " |-- Beneficiary_external_Bank_Account_Number: string (nullable = true)\n",
      " |-- Beneficiary_IBAN: string (nullable = true)\n",
      " |-- Beneficiary_card_scheme: string (nullable = true)\n",
      " |-- Beneficiary_Card_BIN: integer (nullable = true)\n",
      " |-- Beneficiary_Card_last_4_digits: string (nullable = true)\n",
      " |-- Beneficiary_card_type: string (nullable = true)\n",
      " |-- Beneficiary_card_Fingerprint: string (nullable = true)\n",
      " |-- Beneficiary_category_code: string (nullable = true)\n",
      " |-- GTPN_inChannelWhiteList: string (nullable = true)\n",
      " |-- GTPN_sameClientSign: string (nullable = true)\n",
      " |-- GlobalAccountId: string (nullable = true)\n",
      " |-- PA_providerOriginalResponseCode: string (nullable = true)\n",
      " |-- ISS_Request_authcode: string (nullable = true)\n",
      " |-- ISS_i2c_transaction_id: string (nullable = true)\n",
      " |-- Normalized_amount_USD: double (nullable = true)\n",
      " |-- Realtime_RFI: string (nullable = true)\n",
      " |-- Realtime_result: string (nullable = true)\n",
      "\n"
     ]
    }
   ],
   "source": [
    "df = loader.load_csv(\"risk_unified_transaction_100.csv\")\n",
    "df.printSchema()"
   ]
  },
  {
   "cell_type": "markdown",
   "metadata": {},
   "source": [
    "### 4.3 QualityChecker"
   ]
  },
  {
   "cell_type": "code",
   "execution_count": 9,
   "metadata": {},
   "outputs": [],
   "source": [
    "# create quality checker\n",
    "checker = QualityChecker(spark_session)"
   ]
  },
  {
   "cell_type": "markdown",
   "metadata": {},
   "source": [
    "#### 4.3.1 QualityChecker.analyze()"
   ]
  },
  {
   "cell_type": "code",
   "execution_count": 10,
   "metadata": {},
   "outputs": [
    {
     "name": "stderr",
     "output_type": "stream",
     "text": [
      "22/08/02 09:50:58 WARN package: Truncated the string representation of a plan since it was too large. This behavior can be adjusted by setting 'spark.sql.debug.maxToStringFields'.\n",
      "                                                                                \r"
     ]
    },
    {
     "data": {
      "text/html": [
       "<div>\n",
       "<style scoped>\n",
       "    .dataframe tbody tr th:only-of-type {\n",
       "        vertical-align: middle;\n",
       "    }\n",
       "\n",
       "    .dataframe tbody tr th {\n",
       "        vertical-align: top;\n",
       "    }\n",
       "\n",
       "    .dataframe thead th {\n",
       "        text-align: right;\n",
       "    }\n",
       "</style>\n",
       "<table border=\"1\" class=\"dataframe\">\n",
       "  <thead>\n",
       "    <tr style=\"text-align: right;\">\n",
       "      <th></th>\n",
       "      <th>entity</th>\n",
       "      <th>instance</th>\n",
       "      <th>name</th>\n",
       "      <th>value</th>\n",
       "    </tr>\n",
       "  </thead>\n",
       "  <tbody>\n",
       "    <tr>\n",
       "      <th>0</th>\n",
       "      <td>Column</td>\n",
       "      <td>Original_amount_currency</td>\n",
       "      <td>Completeness</td>\n",
       "      <td>1.000000</td>\n",
       "    </tr>\n",
       "    <tr>\n",
       "      <th>1</th>\n",
       "      <td>Column</td>\n",
       "      <td>Beneficiary_bank_name</td>\n",
       "      <td>CountDistinct</td>\n",
       "      <td>61.000000</td>\n",
       "    </tr>\n",
       "    <tr>\n",
       "      <th>2</th>\n",
       "      <td>Column</td>\n",
       "      <td>Transaction_reason</td>\n",
       "      <td>Histogram.bins</td>\n",
       "      <td>18.000000</td>\n",
       "    </tr>\n",
       "    <tr>\n",
       "      <th>3</th>\n",
       "      <td>Column</td>\n",
       "      <td>Transaction_reason</td>\n",
       "      <td>Histogram.abs.Seller Never Shipped</td>\n",
       "      <td>4.000000</td>\n",
       "    </tr>\n",
       "    <tr>\n",
       "      <th>4</th>\n",
       "      <td>Column</td>\n",
       "      <td>Transaction_reason</td>\n",
       "      <td>Histogram.ratio.Seller Never Shipped</td>\n",
       "      <td>0.040000</td>\n",
       "    </tr>\n",
       "    <tr>\n",
       "      <th>...</th>\n",
       "      <td>...</td>\n",
       "      <td>...</td>\n",
       "      <td>...</td>\n",
       "      <td>...</td>\n",
       "    </tr>\n",
       "    <tr>\n",
       "      <th>192</th>\n",
       "      <td>Column</td>\n",
       "      <td>Original_amount_USD</td>\n",
       "      <td>Minimum</td>\n",
       "      <td>0.155841</td>\n",
       "    </tr>\n",
       "    <tr>\n",
       "      <th>193</th>\n",
       "      <td>Column</td>\n",
       "      <td>Original_amount_USD</td>\n",
       "      <td>ApproxQuantiles-0.25</td>\n",
       "      <td>1.000000</td>\n",
       "    </tr>\n",
       "    <tr>\n",
       "      <th>194</th>\n",
       "      <td>Column</td>\n",
       "      <td>Original_amount_USD</td>\n",
       "      <td>ApproxQuantiles-0.5</td>\n",
       "      <td>1.912845</td>\n",
       "    </tr>\n",
       "    <tr>\n",
       "      <th>195</th>\n",
       "      <td>Column</td>\n",
       "      <td>Original_amount_USD</td>\n",
       "      <td>ApproxQuantiles-0.75</td>\n",
       "      <td>6.070000</td>\n",
       "    </tr>\n",
       "    <tr>\n",
       "      <th>196</th>\n",
       "      <td>Column</td>\n",
       "      <td>Beneficiary_bank_name</td>\n",
       "      <td>Completeness</td>\n",
       "      <td>0.890000</td>\n",
       "    </tr>\n",
       "  </tbody>\n",
       "</table>\n",
       "<p>197 rows × 4 columns</p>\n",
       "</div>"
      ],
      "text/plain": [
       "     entity                  instance                                  name  \\\n",
       "0    Column  Original_amount_currency                          Completeness   \n",
       "1    Column     Beneficiary_bank_name                         CountDistinct   \n",
       "2    Column        Transaction_reason                        Histogram.bins   \n",
       "3    Column        Transaction_reason    Histogram.abs.Seller Never Shipped   \n",
       "4    Column        Transaction_reason  Histogram.ratio.Seller Never Shipped   \n",
       "..      ...                       ...                                   ...   \n",
       "192  Column       Original_amount_USD                               Minimum   \n",
       "193  Column       Original_amount_USD                  ApproxQuantiles-0.25   \n",
       "194  Column       Original_amount_USD                   ApproxQuantiles-0.5   \n",
       "195  Column       Original_amount_USD                  ApproxQuantiles-0.75   \n",
       "196  Column     Beneficiary_bank_name                          Completeness   \n",
       "\n",
       "         value  \n",
       "0     1.000000  \n",
       "1    61.000000  \n",
       "2    18.000000  \n",
       "3     4.000000  \n",
       "4     0.040000  \n",
       "..         ...  \n",
       "192   0.155841  \n",
       "193   1.000000  \n",
       "194   1.912845  \n",
       "195   6.070000  \n",
       "196   0.890000  \n",
       "\n",
       "[197 rows x 4 columns]"
      ]
     },
     "execution_count": 10,
     "metadata": {},
     "output_type": "execute_result"
    }
   ],
   "source": [
    "# use three customized metrics to analyze\n",
    "analyze_result = checker.analyze(\n",
    "                    df, [ \n",
    "                    Default(\"Transaction_reason\"),\n",
    "                    Default(\"Original_amount_currency\"),\n",
    "                    Default(\"Beneficiary_bank_name\"),\n",
    "                    Default(\"Original_amount_USD\"),\n",
    "                    Default(\"Original_amount_orig_ccy\"),\n",
    "                    Default(\"Original_Inverse_USD\"),\n",
    "                    ]\n",
    "                )\n",
    "                \n",
    "analyze_result"
   ]
  },
  {
   "cell_type": "markdown",
   "metadata": {},
   "source": [
    "### 4.4 Visualizer"
   ]
  },
  {
   "cell_type": "code",
   "execution_count": 14,
   "metadata": {},
   "outputs": [
    {
     "name": "stdout",
     "output_type": "stream",
     "text": [
      "{\n",
      "    \"Original_amount_currency\": {\n",
      "        \"Completeness\": 1.0,\n",
      "        \"CountDistinct\": 5.0,\n",
      "        \"Category\": [\n",
      "            \"HKD\",\n",
      "            \"AUD\",\n",
      "            \"GBP\",\n",
      "            \"USD\",\n",
      "            \"EUR\"\n",
      "        ],\n",
      "        \"Data\": [\n",
      "            1.0,\n",
      "            1.0,\n",
      "            11.0,\n",
      "            82.0,\n",
      "            5.0\n",
      "        ]\n",
      "    },\n",
      "    \"Beneficiary_bank_name\": {\n",
      "        \"CountDistinct\": 61.0,\n",
      "        \"Category\": [\n",
      "            \"BANQUE FEDERATIVE DU CREDIT MUTUEL (BFCM)\",\n",
      "            \"BANK OF MONTREAL\",\n",
      "            \"CREDIT ANDORRA\",\n",
      "            \"VISA AUSTRIA\",\n",
      "            \"HSBC BANK PLC\",\n",
      "            \"HALIFAX PLC\",\n",
      "            \"DZ BANK AG DEUTSCHE ZENTRAL-GE\",\n",
      "            \"TNG (ASIA) LIMITED\",\n",
      "            \"BANQUE SAUDI FRANSI\",\n",
      "            \"SYNCHRONY BANK\",\n",
      "            \"N26 GMBH\",\n",
      "            \"STANDARD CHARTERED BANK (HONG KONG), LTD.\",\n",
      "            \"NullValue\",\n",
      "            \"COOPERATIEVE RABOBANK U.A.\",\n",
      "            \"UBS SWITZERLAND AG\",\n",
      "            \"BRANCH BANKING AND TRUST COMPANY\",\n",
      "            \"WESTPAC NEW ZEALAND LIMITED\",\n",
      "            \"WELLS FARGO BANK, N.A.\",\n",
      "            \"ING-DIBA AG\",\n",
      "            \"NATIONWIDE BUILDING SOCIETY\",\n",
      "            \"DKB\",\n",
      "            \"REVOLUT, LTD.\",\n",
      "            \"SPAREBANK 1 KREDITT AS\",\n",
      "            \"WESTPAC BANKING CORPORATION\",\n",
      "            \"U.S. BANK NATIONAL ASSOCIATION\",\n",
      "            \"CITIBANK\",\n",
      "            \"WISE PAYMENTS LIMITED\",\n",
      "            \"CAPITEC BANK LIMITED\",\n",
      "            \"THE HONGKONG AND SHANGHAI BANKING CORPORATION LIMITED\",\n",
      "            \"BANK LEUMI LE-ISRAEL BM\",\n",
      "            \"STANDARD CHARTERED BANK\",\n",
      "            \"UNITED OVERSEAS BANK, LTD.\",\n",
      "            \"BANCO SANTANDER S.A.\",\n",
      "            \"CITIBANK (HONG KONG) LIMITED\",\n",
      "            \"STANDARD CHARTERED BANK (HONG\",\n",
      "            \"CAPITAL ONE BANK (USA), NATIONAL ASSOCIATION\",\n",
      "            \"BNP PARIBAS\",\n",
      "            \"CITIGROUP PTY LIMITED\",\n",
      "            \"BANK OF AMERICA, N.A.\",\n",
      "            \"FIRSTRAND BANK, LTD.\",\n",
      "            \"CAPITAL ONE (EUROPE) PLC\",\n",
      "            \"HONG KONG AND SHANGHAI BANKING CORP., LTD.\",\n",
      "            \"CITIBANK N.A.\",\n",
      "            \"BANCO DE CREDITO DEL PERU\",\n",
      "            \"STARLING BANK LIMITED\",\n",
      "            \"NATIXIS\",\n",
      "            \"THE HONGKONG AND SHANGHAI BANK\",\n",
      "            \"LLOYDS BANK PLC\",\n",
      "            \"JPMORGAN CHASE BANK, N.A.\",\n",
      "            \"CHINA MERCHANTS BANK\",\n",
      "            \"BARCLAYS BANK PLC\",\n",
      "            \"MASTERCAJAS S.A.\",\n",
      "            \"HANG SENG BANK, LTD.\",\n",
      "            \"CAISSE CENTRALE DE CREDIT MUTUEL\",\n",
      "            \"HSBC BANK USA, NATIONAL ASSOCIATION\",\n",
      "            \"TESCO PERSONAL FINANCE LIMITED\",\n",
      "            \"CAPITAL ONE BANK (USA), N.A.\",\n",
      "            \"BARCLAYS BANK PLC.\",\n",
      "            \"SANTANDER UK PLC\",\n",
      "            \"NATIONAL WESTMINSTER BANK PLC\",\n",
      "            \"NU PAGAMENTOS SA\",\n",
      "            \"CHASE BANK USA, N.A.\"\n",
      "        ],\n",
      "        \"Data\": [\n",
      "            1.0,\n",
      "            1.0,\n",
      "            1.0,\n",
      "            1.0,\n",
      "            1.0,\n",
      "            1.0,\n",
      "            1.0,\n",
      "            1.0,\n",
      "            1.0,\n",
      "            1.0,\n",
      "            1.0,\n",
      "            1.0,\n",
      "            11.0,\n",
      "            1.0,\n",
      "            1.0,\n",
      "            1.0,\n",
      "            1.0,\n",
      "            1.0,\n",
      "            2.0,\n",
      "            1.0,\n",
      "            2.0,\n",
      "            2.0,\n",
      "            1.0,\n",
      "            1.0,\n",
      "            1.0,\n",
      "            1.0,\n",
      "            2.0,\n",
      "            1.0,\n",
      "            10.0,\n",
      "            1.0,\n",
      "            1.0,\n",
      "            1.0,\n",
      "            1.0,\n",
      "            1.0,\n",
      "            1.0,\n",
      "            2.0,\n",
      "            1.0,\n",
      "            2.0,\n",
      "            2.0,\n",
      "            1.0,\n",
      "            1.0,\n",
      "            1.0,\n",
      "            5.0,\n",
      "            1.0,\n",
      "            1.0,\n",
      "            1.0,\n",
      "            1.0,\n",
      "            2.0,\n",
      "            1.0,\n",
      "            2.0,\n",
      "            1.0,\n",
      "            1.0,\n",
      "            1.0,\n",
      "            1.0,\n",
      "            1.0,\n",
      "            1.0,\n",
      "            1.0,\n",
      "            2.0,\n",
      "            1.0,\n",
      "            2.0,\n",
      "            1.0,\n",
      "            5.0\n",
      "        ],\n",
      "        \"Completeness\": 0.89\n",
      "    },\n",
      "    \"Transaction_reason\": {\n",
      "        \"Category\": [\n",
      "            \"Seller Never Shipped\",\n",
      "            \"Overseas - Seller Can't Ship To Warehouse\",\n",
      "            \"NullValue\",\n",
      "            \"Returns\",\n",
      "            \"Customer Cancellation\",\n",
      "            \"Duplicated: \",\n",
      "            \"refund\",\n",
      "            \"40p\",\n",
      "            \"Chinese ID Required\",\n",
      "            \"COVID-19 Never Shipped\",\n",
      "            \"Others: \",\n",
      "            \"Requested by customer: \",\n",
      "            \"Item Out Of Stock\",\n",
      "            \"Can't Ship To Beijing\",\n",
      "            \"Contact Failed\",\n",
      "            \"Overseas - Rejected By Warehouse\",\n",
      "            \"Unreliable Seller\",\n",
      "            \"other\"\n",
      "        ],\n",
      "        \"Data\": [\n",
      "            4.0,\n",
      "            2.0,\n",
      "            1.0,\n",
      "            5.0,\n",
      "            25.0,\n",
      "            2.0,\n",
      "            1.0,\n",
      "            1.0,\n",
      "            4.0,\n",
      "            1.0,\n",
      "            8.0,\n",
      "            10.0,\n",
      "            19.0,\n",
      "            1.0,\n",
      "            4.0,\n",
      "            8.0,\n",
      "            2.0,\n",
      "            2.0\n",
      "        ],\n",
      "        \"Completeness\": 0.99,\n",
      "        \"CountDistinct\": 17.0\n",
      "    },\n",
      "    \"Original_amount_orig_ccy\": {\n",
      "        \"Completeness\": 1.0,\n",
      "        \"Maximum\": 790.9168930713,\n",
      "        \"Minimum\": 1.0,\n",
      "        \"ApproxQuantiles\": [\n",
      "            5.888552436,\n",
      "            11.601481881,\n",
      "            19.00689859596\n",
      "        ]\n",
      "    },\n",
      "    \"Original_Inverse_USD\": {\n",
      "        \"Completeness\": 1.0,\n",
      "        \"Maximum\": 1.3887833249958332,\n",
      "        \"Minimum\": 0.008806829791666667,\n",
      "        \"ApproxQuantiles\": [\n",
      "            0.15392530109330932,\n",
      "            0.15700906464166664,\n",
      "            0.6994212083333333\n",
      "        ]\n",
      "    },\n",
      "    \"Original_amount_USD\": {\n",
      "        \"Completeness\": 1.0,\n",
      "        \"Maximum\": 122.68854082473005,\n",
      "        \"Minimum\": 0.1558414930840902,\n",
      "        \"ApproxQuantiles\": [\n",
      "            1.0,\n",
      "            1.9128451401149285,\n",
      "            6.07\n",
      "        ]\n",
      "    }\n",
      "}\n"
     ]
    }
   ],
   "source": [
    "dic = convert_df_to_dict(analyze_result)\n",
    "print(json.dumps(dic, indent=4))"
   ]
  },
  {
   "cell_type": "code",
   "execution_count": 12,
   "metadata": {},
   "outputs": [
    {
     "data": {
      "image/svg+xml": "<?xml version=\"1.0\" encoding=\"utf-8\" standalone=\"no\"?>\n<!DOCTYPE svg PUBLIC \"-//W3C//DTD SVG 1.1//EN\"\n  \"http://www.w3.org/Graphics/SVG/1.1/DTD/svg11.dtd\">\n<svg xmlns:xlink=\"http://www.w3.org/1999/xlink\" width=\"933.940625pt\" height=\"576.235625pt\" viewBox=\"0 0 933.940625 576.235625\" xmlns=\"http://www.w3.org/2000/svg\" version=\"1.1\">\n <metadata>\n  <rdf:RDF xmlns:dc=\"http://purl.org/dc/elements/1.1/\" xmlns:cc=\"http://creativecommons.org/ns#\" xmlns:rdf=\"http://www.w3.org/1999/02/22-rdf-syntax-ns#\">\n   <cc:Work>\n    <dc:type rdf:resource=\"http://purl.org/dc/dcmitype/StillImage\"/>\n    <dc:date>2022-08-02T09:51:08.816475</dc:date>\n    <dc:format>image/svg+xml</dc:format>\n    <dc:creator>\n     <cc:Agent>\n      <dc:title>Matplotlib v3.5.1, https://matplotlib.org/</dc:title>\n     </cc:Agent>\n    </dc:creator>\n   </cc:Work>\n  </rdf:RDF>\n </metadata>\n <defs>\n  <style type=\"text/css\">*{stroke-linejoin: round; stroke-linecap: butt}</style>\n </defs>\n <g id=\"figure_1\">\n  <g id=\"patch_1\">\n   <path d=\"M 0 576.235625 \nL 933.940625 576.235625 \nL 933.940625 0 \nL 0 0 \nL 0 576.235625 \nz\n\" style=\"fill: none\"/>\n  </g>\n  <g id=\"axes_1\">\n   <g id=\"patch_2\">\n    <path d=\"M 43.086151 269.026534 \nL 218.882055 269.026534 \nL 218.882055 21.935625 \nL 43.086151 21.935625 \nz\n\" style=\"fill: #ffffff\"/>\n   </g>\n   <g id=\"patch_3\">\n    <path d=\"M 179.816299 199.196495 \nC 179.816299 193.94366 178.968735 188.72507 177.306333 183.74223 \nC 175.643932 178.759389 173.188369 174.077269 170.034461 169.876657 \nC 166.880553 165.676045 163.069422 162.011714 158.748227 159.025152 \nC 154.427032 156.038591 149.652116 153.76874 144.607852 152.303246 \nC 139.563588 150.837751 134.315746 150.195722 129.066961 150.401947 \nC 123.818176 150.608172 118.636885 151.659964 113.723151 153.516709 \nC 108.809418 155.373453 104.227312 158.010942 100.153761 161.327334 \nC 96.08021 164.643726 92.568327 168.59578 89.753718 173.030895 \nC 86.939108 177.46601 84.858469 182.326359 83.592142 187.424269 \nC 82.325814 192.522179 81.890309 197.791181 82.302441 203.027823 \nC 82.714574 208.264465 83.968971 213.400469 86.017196 218.237518 \nC 88.065422 223.074568 90.88077 227.549594 94.354532 231.489804 \nC 97.828294 235.430013 101.915176 238.784031 106.457373 241.422349 \nC 110.99957 244.060668 115.937857 245.948885 121.081553 247.014094 \nC 126.225248 248.079302 131.507286 248.307612 136.72371 247.690208 \nC 141.940135 247.072803 147.022932 245.617735 151.775839 243.381187 \nL 130.984103 199.196495 \nL 179.816299 199.196495 \nz\n\" style=\"fill: #1f77b4\"/>\n   </g>\n   <g id=\"patch_4\">\n    <path d=\"M 151.775839 243.381187 \nC 156.878179 240.980208 161.526287 237.713464 165.513678 233.726073 \nC 169.50107 229.738682 172.767814 225.090575 175.168794 219.988234 \nL 130.984103 199.196495 \nL 151.775839 243.381187 \nz\n\" style=\"fill: #ff7f0e\"/>\n   </g>\n   <g id=\"patch_5\">\n    <path d=\"M 175.168794 219.988234 \nC 176.258006 217.673541 177.163647 215.276831 177.877352 212.820245 \nC 178.591056 210.363659 179.110619 207.854783 179.431242 205.316794 \nL 130.984103 199.196495 \nL 175.168794 219.988234 \nz\n\" style=\"fill: #2ca02c\"/>\n   </g>\n   <g id=\"patch_6\">\n    <path d=\"M 179.431242 205.316794 \nC 179.495335 204.809446 179.551454 204.301123 179.59958 203.792012 \nC 179.647705 203.282902 179.68783 202.773067 179.719939 202.262696 \nL 130.984103 199.196495 \nL 179.431242 205.316794 \nz\n\" style=\"fill: #9467bd\"/>\n   </g>\n   <g id=\"patch_7\">\n    <path d=\"M 179.719939 202.262696 \nC 179.752049 201.752325 179.77614 201.241481 179.792203 200.730353 \nC 179.808266 200.219225 179.816299 199.707877 179.816299 199.196497 \nL 130.984103 199.196495 \nL 179.719939 202.262696 \nz\n\" style=\"fill: #8c564b\"/>\n   </g>\n   <g id=\"patch_8\">\n    <path d=\"M 165.16664 199.196495 \nC 165.16664 194.707685 164.282442 190.262523 162.564649 186.115404 \nC 160.846856 181.968285 158.328875 178.199859 155.154807 175.025791 \nC 151.980739 171.851723 148.212313 169.333741 144.065194 167.615948 \nC 139.918074 165.898155 135.472913 165.013958 130.984103 165.013958 \nC 126.495294 165.013958 122.050132 165.898155 117.903013 167.615948 \nC 113.755893 169.333741 109.987467 171.851723 106.8134 175.025791 \nC 103.639332 178.199859 101.12135 181.968285 99.403557 186.115404 \nC 97.685764 190.262523 96.801566 194.707685 96.801566 199.196495 \nC 96.801566 203.685304 97.685764 208.130466 99.403557 212.277585 \nC 101.12135 216.424704 103.639332 220.19313 106.8134 223.367198 \nC 109.987467 226.541266 113.755893 229.059248 117.903013 230.777041 \nC 122.050132 232.494834 126.495294 233.379031 130.984103 233.379031 \nC 135.472913 233.379031 139.918074 232.494834 144.065194 230.777041 \nC 148.212313 229.059248 151.980739 226.541266 155.154807 223.367198 \nC 158.328875 220.19313 160.846856 216.424704 162.564649 212.277585 \nC 164.282442 208.130466 165.16664 203.685304 165.16664 199.196495 \nM 130.984103 199.196495 \nM 165.16664 199.196495 \nz\n\" style=\"fill: #ffffff\"/>\n   </g>\n   <g id=\"PathCollection_1\">\n    <defs>\n     <path id=\"me7339bc3c1\" d=\"M 0 3 \nC 0.795609 3 1.55874 2.683901 2.12132 2.12132 \nC 2.683901 1.55874 3 0.795609 3 0 \nC 3 -0.795609 2.683901 -1.55874 2.12132 -2.12132 \nC 1.55874 -2.683901 0.795609 -3 0 -3 \nC -0.795609 -3 -1.55874 -2.683901 -2.12132 -2.12132 \nC -2.683901 -1.55874 -3 -0.795609 -3 0 \nC -3 0.795609 -2.683901 1.55874 -2.12132 2.12132 \nC -1.55874 2.683901 -0.795609 3 0 3 \nz\n\" style=\"stroke: #ffffff\"/>\n    </defs>\n    <g clip-path=\"url(#pf7552c499f)\">\n     <use xlink:href=\"#me7339bc3c1\" x=\"130.984103\" y=\"33.16703\" style=\"fill: #ffffff; stroke: #ffffff\"/>\n     <use xlink:href=\"#me7339bc3c1\" x=\"130.984103\" y=\"257.795129\" style=\"fill: #ffffff; stroke: #ffffff\"/>\n    </g>\n   </g>\n   <g id=\"patch_9\">\n    <path d=\"M 43.086151 269.026534 \nL 43.086151 21.935625 \n\" style=\"fill: none; stroke: #000000; stroke-width: 0.8; stroke-linejoin: miter; stroke-linecap: square\"/>\n   </g>\n   <g id=\"patch_10\">\n    <path d=\"M 218.882055 269.026534 \nL 218.882055 21.935625 \n\" style=\"fill: none; stroke: #000000; stroke-width: 0.8; stroke-linejoin: miter; stroke-linecap: square\"/>\n   </g>\n   <g id=\"patch_11\">\n    <path d=\"M 43.086151 269.026534 \nL 218.882055 269.026534 \n\" style=\"fill: none; stroke: #000000; stroke-width: 0.8; stroke-linejoin: miter; stroke-linecap: square\"/>\n   </g>\n   <g id=\"patch_12\">\n    <path d=\"M 43.086151 21.935625 \nL 218.882055 21.935625 \n\" style=\"fill: none; stroke: #000000; stroke-width: 0.8; stroke-linejoin: miter; stroke-linecap: square\"/>\n   </g>\n   <g id=\"text_1\">\n    <!-- 82.00% -->\n    <g transform=\"translate(62.48909 169.072307)scale(0.1 -0.1)\">\n     <defs>\n      <path id=\"ArialUnicodeMS-38\" d=\"M 2425 2478 \nQ 3284 2203 3284 1306 \nQ 3284 716 2862 319 \nQ 2441 -78 1778 -78 \nQ 1109 -78 689 322 \nQ 269 722 269 1325 \nQ 269 1759 505 2084 \nQ 741 2409 1141 2478 \nL 1141 2491 \nQ 453 2703 453 3419 \nQ 453 3925 815 4264 \nQ 1178 4603 1766 4603 \nQ 2363 4603 2730 4253 \nQ 3097 3903 3097 3406 \nQ 3097 2731 2425 2491 \nL 2425 2478 \nz\nM 1778 2700 \nQ 2094 2700 2308 2901 \nQ 2522 3103 2522 3406 \nQ 2522 3716 2305 3928 \nQ 2088 4141 1772 4141 \nQ 1450 4141 1240 3931 \nQ 1031 3722 1031 3438 \nQ 1031 3097 1247 2898 \nQ 1463 2700 1778 2700 \nz\nM 1778 384 \nQ 2175 384 2440 640 \nQ 2706 897 2706 1306 \nQ 2706 1716 2432 1978 \nQ 2159 2241 1766 2241 \nQ 1356 2241 1100 1970 \nQ 844 1700 844 1319 \nQ 844 922 1108 653 \nQ 1372 384 1778 384 \nz\n\" transform=\"scale(0.015625)\"/>\n      <path id=\"ArialUnicodeMS-32\" d=\"M 3231 0 \nL 197 0 \nQ 197 388 467 784 \nQ 738 1181 1478 1778 \nQ 1931 2141 2287 2539 \nQ 2644 2938 2644 3341 \nQ 2644 3688 2398 3914 \nQ 2153 4141 1778 4141 \nQ 1400 4141 1144 3908 \nQ 888 3675 884 3213 \nL 306 3278 \nQ 359 3922 764 4262 \nQ 1169 4603 1791 4603 \nQ 2466 4603 2842 4229 \nQ 3219 3856 3219 3328 \nQ 3219 2888 2901 2436 \nQ 2584 1984 1638 1228 \nQ 1141 831 978 544 \nL 3231 544 \nL 3231 0 \nz\n\" transform=\"scale(0.015625)\"/>\n      <path id=\"ArialUnicodeMS-2e\" d=\"M 1209 0 \nL 569 0 \nL 569 641 \nL 1209 641 \nL 1209 0 \nz\n\" transform=\"scale(0.015625)\"/>\n      <path id=\"ArialUnicodeMS-30\" d=\"M 1778 4603 \nQ 3272 4603 3272 2259 \nQ 3272 1075 2886 498 \nQ 2500 -78 1778 -78 \nQ 288 -78 288 2259 \nQ 288 3444 673 4023 \nQ 1059 4603 1778 4603 \nz\nM 1778 384 \nQ 2231 384 2462 823 \nQ 2694 1263 2694 2259 \nQ 2694 2953 2592 3351 \nQ 2491 3750 2286 3945 \nQ 2081 4141 1772 4141 \nQ 1319 4141 1091 3694 \nQ 863 3247 863 2259 \nQ 863 1575 966 1175 \nQ 1069 775 1272 579 \nQ 1475 384 1778 384 \nz\n\" transform=\"scale(0.015625)\"/>\n      <path id=\"ArialUnicodeMS-25\" d=\"M 4325 4659 \nL 1838 -159 \nL 1369 -159 \nL 3872 4659 \nL 4325 4659 \nz\nM 1428 4653 \nQ 1856 4653 2137 4343 \nQ 2419 4034 2419 3438 \nQ 2419 2850 2131 2539 \nQ 1844 2228 1434 2228 \nQ 1009 2228 739 2540 \nQ 469 2853 469 3475 \nQ 469 3984 722 4318 \nQ 975 4653 1428 4653 \nz\nM 1441 2619 \nQ 1931 2619 1931 3463 \nQ 1931 4269 1441 4269 \nQ 953 4269 953 3419 \nQ 953 2619 1441 2619 \nz\nM 4250 2253 \nQ 4681 2253 4961 1943 \nQ 5241 1634 5241 1038 \nQ 5241 600 5087 328 \nQ 4934 56 4709 -58 \nQ 4484 -172 4256 -172 \nQ 3831 -172 3561 140 \nQ 3291 453 3291 1075 \nQ 3291 1584 3544 1918 \nQ 3797 2253 4250 2253 \nz\nM 4263 219 \nQ 4756 219 4756 1063 \nQ 4756 1869 4263 1869 \nQ 3775 1869 3775 1019 \nQ 3775 219 4263 219 \nz\n\" transform=\"scale(0.015625)\"/>\n     </defs>\n     <use xlink:href=\"#ArialUnicodeMS-38\"/>\n     <use xlink:href=\"#ArialUnicodeMS-32\" x=\"55.615234\"/>\n     <use xlink:href=\"#ArialUnicodeMS-2e\" x=\"111.230469\"/>\n     <use xlink:href=\"#ArialUnicodeMS-30\" x=\"139.013672\"/>\n     <use xlink:href=\"#ArialUnicodeMS-30\" x=\"194.628906\"/>\n     <use xlink:href=\"#ArialUnicodeMS-25\" x=\"250.244141\"/>\n    </g>\n   </g>\n   <g id=\"text_2\">\n    <!-- 11.00% -->\n    <g transform=\"translate(157.189041 244.94128)scale(0.1 -0.1)\">\n     <defs>\n      <path id=\"ArialUnicodeMS-31\" d=\"M 2400 0 \nL 1838 0 \nL 1838 3584 \nQ 1416 3184 709 2906 \nL 709 3450 \nQ 1681 3916 2034 4603 \nL 2400 4603 \nL 2400 0 \nz\n\" transform=\"scale(0.015625)\"/>\n     </defs>\n     <use xlink:href=\"#ArialUnicodeMS-31\"/>\n     <use xlink:href=\"#ArialUnicodeMS-31\" x=\"55.615234\"/>\n     <use xlink:href=\"#ArialUnicodeMS-2e\" x=\"111.230469\"/>\n     <use xlink:href=\"#ArialUnicodeMS-30\" x=\"139.013672\"/>\n     <use xlink:href=\"#ArialUnicodeMS-30\" x=\"194.628906\"/>\n     <use xlink:href=\"#ArialUnicodeMS-25\" x=\"250.244141\"/>\n    </g>\n   </g>\n   <g id=\"text_3\">\n    <!-- 5.00% -->\n    <g transform=\"translate(175.424101 218.808995)scale(0.1 -0.1)\">\n     <defs>\n      <path id=\"ArialUnicodeMS-35\" d=\"M 1013 2753 \nQ 1431 3041 1881 3041 \nQ 2453 3041 2878 2636 \nQ 3303 2231 3303 1556 \nQ 3303 875 2872 398 \nQ 2441 -78 1741 -78 \nQ 1169 -78 750 245 \nQ 331 569 269 1203 \nL 856 1247 \nQ 928 813 1162 598 \nQ 1397 384 1741 384 \nQ 2169 384 2434 707 \nQ 2700 1031 2700 1503 \nQ 2700 1984 2428 2262 \nQ 2156 2541 1728 2541 \nQ 1188 2541 897 2100 \nL 366 2163 \nL 813 4519 \nL 3084 4519 \nL 3084 3975 \nL 1259 3975 \nL 1013 2753 \nz\n\" transform=\"scale(0.015625)\"/>\n     </defs>\n     <use xlink:href=\"#ArialUnicodeMS-35\"/>\n     <use xlink:href=\"#ArialUnicodeMS-2e\" x=\"55.615234\"/>\n     <use xlink:href=\"#ArialUnicodeMS-30\" x=\"83.398438\"/>\n     <use xlink:href=\"#ArialUnicodeMS-30\" x=\"139.013672\"/>\n     <use xlink:href=\"#ArialUnicodeMS-25\" x=\"194.628906\"/>\n    </g>\n   </g>\n   <g id=\"text_4\">\n    <!-- 1.00% -->\n    <g transform=\"translate(177.576886 207.523704)scale(0.1 -0.1)\">\n     <use xlink:href=\"#ArialUnicodeMS-31\"/>\n     <use xlink:href=\"#ArialUnicodeMS-2e\" x=\"55.615234\"/>\n     <use xlink:href=\"#ArialUnicodeMS-30\" x=\"83.398438\"/>\n     <use xlink:href=\"#ArialUnicodeMS-30\" x=\"139.013672\"/>\n     <use xlink:href=\"#ArialUnicodeMS-25\" x=\"194.628906\"/>\n    </g>\n   </g>\n   <g id=\"text_5\">\n    <!-- 1.00% -->\n    <g transform=\"translate(177.817665 203.69663)scale(0.1 -0.1)\">\n     <use xlink:href=\"#ArialUnicodeMS-31\"/>\n     <use xlink:href=\"#ArialUnicodeMS-2e\" x=\"55.615234\"/>\n     <use xlink:href=\"#ArialUnicodeMS-30\" x=\"83.398438\"/>\n     <use xlink:href=\"#ArialUnicodeMS-30\" x=\"139.013672\"/>\n     <use xlink:href=\"#ArialUnicodeMS-25\" x=\"194.628906\"/>\n    </g>\n   </g>\n   <g id=\"text_6\">\n    <!-- Completness: 1.00 -->\n    <g transform=\"translate(82.151908 115.366639)scale(0.1 -0.1)\">\n     <defs>\n      <path id=\"ArialUnicodeMS-43\" d=\"M 4372 1453 \nQ 4172 681 3673 301 \nQ 3175 -78 2478 -78 \nQ 1353 -78 839 626 \nQ 325 1331 325 2322 \nQ 325 3419 929 4039 \nQ 1534 4659 2484 4659 \nQ 3153 4659 3628 4318 \nQ 4103 3978 4294 3322 \nL 3700 3181 \nQ 3550 3659 3244 3900 \nQ 2938 4141 2478 4141 \nQ 1728 4141 1340 3648 \nQ 953 3156 953 2328 \nQ 953 1372 1361 906 \nQ 1769 441 2425 441 \nQ 2963 441 3298 731 \nQ 3634 1022 3769 1606 \nL 4372 1453 \nz\n\" transform=\"scale(0.015625)\"/>\n      <path id=\"ArialUnicodeMS-6f\" d=\"M 1778 3391 \nQ 2450 3391 2892 2953 \nQ 3334 2516 3334 1709 \nQ 3334 731 2856 326 \nQ 2378 -78 1778 -78 \nQ 1150 -78 687 337 \nQ 225 753 225 1656 \nQ 225 2531 672 2961 \nQ 1119 3391 1778 3391 \nz\nM 1778 384 \nQ 2259 384 2509 740 \nQ 2759 1097 2759 1678 \nQ 2759 2300 2476 2615 \nQ 2194 2931 1778 2931 \nQ 1350 2931 1075 2611 \nQ 800 2291 800 1656 \nQ 800 1025 1079 704 \nQ 1359 384 1778 384 \nz\n\" transform=\"scale(0.015625)\"/>\n      <path id=\"ArialUnicodeMS-6d\" d=\"M 4922 0 \nL 4359 0 \nL 4359 2094 \nQ 4359 2325 4328 2489 \nQ 4297 2653 4167 2779 \nQ 4038 2906 3763 2906 \nQ 3431 2906 3190 2675 \nQ 2950 2444 2950 1925 \nL 2950 0 \nL 2388 0 \nL 2388 2156 \nQ 2388 2588 2236 2747 \nQ 2084 2906 1806 2906 \nQ 1444 2906 1211 2656 \nQ 978 2406 978 1722 \nL 978 0 \nL 416 0 \nL 416 3316 \nL 922 3316 \nL 922 2853 \nL 934 2853 \nQ 1272 3391 1925 3391 \nQ 2291 3391 2527 3245 \nQ 2763 3100 2869 2809 \nQ 3238 3391 3891 3391 \nQ 4406 3391 4664 3112 \nQ 4922 2834 4922 2278 \nL 4922 0 \nz\n\" transform=\"scale(0.015625)\"/>\n      <path id=\"ArialUnicodeMS-70\" d=\"M 959 2888 \nQ 1275 3391 1906 3391 \nQ 2559 3391 2937 2917 \nQ 3316 2444 3316 1684 \nQ 3316 875 2897 398 \nQ 2478 -78 1869 -78 \nQ 1334 -78 1013 347 \nL 997 347 \nL 997 -1275 \nL 434 -1275 \nL 434 3316 \nL 947 3316 \nL 947 2888 \nL 959 2888 \nz\nM 1831 384 \nQ 2225 384 2483 711 \nQ 2741 1038 2741 1684 \nQ 2741 2294 2492 2622 \nQ 2244 2950 1856 2950 \nQ 1456 2950 1198 2584 \nQ 941 2219 941 1638 \nQ 941 1022 1187 703 \nQ 1434 384 1831 384 \nz\n\" transform=\"scale(0.015625)\"/>\n      <path id=\"ArialUnicodeMS-6c\" d=\"M 991 0 \nL 428 0 \nL 428 4581 \nL 991 4581 \nL 991 0 \nz\n\" transform=\"scale(0.015625)\"/>\n      <path id=\"ArialUnicodeMS-65\" d=\"M 3309 1516 \nL 825 1516 \nQ 859 966 1139 675 \nQ 1419 384 1838 384 \nQ 2159 384 2378 554 \nQ 2597 725 2713 1069 \nL 3291 997 \nQ 3150 478 2775 200 \nQ 2400 -78 1838 -78 \nQ 1091 -78 670 380 \nQ 250 838 250 1631 \nQ 250 2416 658 2903 \nQ 1066 3391 1806 3391 \nQ 2169 3391 2505 3231 \nQ 2841 3072 3075 2689 \nQ 3309 2306 3309 1516 \nz\nM 2731 1978 \nQ 2697 2484 2417 2707 \nQ 2138 2931 1806 2931 \nQ 1409 2931 1153 2665 \nQ 897 2400 856 1978 \nL 2731 1978 \nz\n\" transform=\"scale(0.015625)\"/>\n      <path id=\"ArialUnicodeMS-74\" d=\"M 1722 6 \nQ 1472 -44 1300 -44 \nQ 931 -44 762 86 \nQ 594 216 556 416 \nQ 519 616 519 972 \nL 519 2881 \nL 109 2881 \nL 109 3316 \nL 519 3316 \nL 519 4141 \nL 1081 4481 \nL 1081 3316 \nL 1644 3316 \nL 1644 2881 \nL 1081 2881 \nL 1081 941 \nQ 1081 691 1132 586 \nQ 1184 481 1394 481 \nQ 1516 481 1644 506 \nL 1722 6 \nz\n\" transform=\"scale(0.015625)\"/>\n      <path id=\"ArialUnicodeMS-6e\" d=\"M 3138 0 \nL 2572 0 \nL 2572 2016 \nQ 2572 2525 2389 2715 \nQ 2206 2906 1881 2906 \nQ 1631 2906 1407 2784 \nQ 1184 2663 1090 2441 \nQ 997 2219 997 1813 \nL 997 0 \nL 434 0 \nL 434 3316 \nL 941 3316 \nL 941 2847 \nL 953 2847 \nQ 1131 3119 1392 3255 \nQ 1653 3391 1997 3391 \nQ 2259 3391 2515 3297 \nQ 2772 3203 2917 3015 \nQ 3063 2828 3100 2615 \nQ 3138 2403 3138 2041 \nL 3138 0 \nz\n\" transform=\"scale(0.015625)\"/>\n      <path id=\"ArialUnicodeMS-73\" d=\"M 2278 2388 \nQ 2241 2659 2058 2795 \nQ 1875 2931 1550 2931 \nQ 1228 2931 1029 2822 \nQ 831 2713 831 2503 \nQ 831 2306 989 2222 \nQ 1147 2138 1613 2016 \nQ 2138 1881 2398 1778 \nQ 2659 1675 2804 1489 \nQ 2950 1303 2950 972 \nQ 2950 528 2587 225 \nQ 2225 -78 1619 -78 \nQ 988 -78 633 189 \nQ 278 456 197 991 \nL 756 1075 \nQ 800 728 1014 556 \nQ 1228 384 1613 384 \nQ 1981 384 2178 539 \nQ 2375 694 2375 916 \nQ 2375 1066 2284 1156 \nQ 2194 1247 2058 1292 \nQ 1922 1338 1447 1453 \nQ 741 1622 514 1862 \nQ 288 2103 288 2438 \nQ 288 2853 619 3122 \nQ 950 3391 1509 3391 \nQ 2103 3391 2433 3158 \nQ 2763 2925 2828 2463 \nL 2278 2388 \nz\n\" transform=\"scale(0.015625)\"/>\n      <path id=\"ArialUnicodeMS-3a\" d=\"M 1216 2675 \nL 575 2675 \nL 575 3316 \nL 1216 3316 \nL 1216 2675 \nz\nM 1216 0 \nL 575 0 \nL 575 641 \nL 1216 641 \nL 1216 0 \nz\n\" transform=\"scale(0.015625)\"/>\n      <path id=\"ArialUnicodeMS-20\" transform=\"scale(0.015625)\"/>\n     </defs>\n     <use xlink:href=\"#ArialUnicodeMS-43\"/>\n     <use xlink:href=\"#ArialUnicodeMS-6f\" x=\"72.216797\"/>\n     <use xlink:href=\"#ArialUnicodeMS-6d\" x=\"127.832031\"/>\n     <use xlink:href=\"#ArialUnicodeMS-70\" x=\"211.132812\"/>\n     <use xlink:href=\"#ArialUnicodeMS-6c\" x=\"266.748047\"/>\n     <use xlink:href=\"#ArialUnicodeMS-65\" x=\"288.964844\"/>\n     <use xlink:href=\"#ArialUnicodeMS-74\" x=\"344.580078\"/>\n     <use xlink:href=\"#ArialUnicodeMS-6e\" x=\"372.363281\"/>\n     <use xlink:href=\"#ArialUnicodeMS-65\" x=\"427.978516\"/>\n     <use xlink:href=\"#ArialUnicodeMS-73\" x=\"483.59375\"/>\n     <use xlink:href=\"#ArialUnicodeMS-73\" x=\"533.59375\"/>\n     <use xlink:href=\"#ArialUnicodeMS-3a\" x=\"583.59375\"/>\n     <use xlink:href=\"#ArialUnicodeMS-20\" x=\"611.376953\"/>\n     <use xlink:href=\"#ArialUnicodeMS-31\" x=\"639.160156\"/>\n     <use xlink:href=\"#ArialUnicodeMS-2e\" x=\"694.775391\"/>\n     <use xlink:href=\"#ArialUnicodeMS-30\" x=\"722.558594\"/>\n     <use xlink:href=\"#ArialUnicodeMS-30\" x=\"778.173828\"/>\n    </g>\n    <!-- Distinct values: 5 -->\n    <g transform=\"translate(82.151908 125.948201)scale(0.1 -0.1)\">\n     <defs>\n      <path id=\"ArialUnicodeMS-44\" d=\"M 513 4581 \nL 2094 4581 \nQ 2509 4581 2809 4539 \nQ 3109 4497 3382 4333 \nQ 3656 4169 3861 3881 \nQ 4066 3594 4183 3220 \nQ 4300 2847 4300 2316 \nQ 4300 1303 3819 651 \nQ 3338 0 2163 0 \nL 513 0 \nL 513 4581 \nz\nM 1119 544 \nL 2100 544 \nQ 2400 544 2636 581 \nQ 2872 619 3114 784 \nQ 3356 950 3515 1328 \nQ 3675 1706 3675 2328 \nQ 3675 2672 3614 2970 \nQ 3553 3269 3389 3514 \nQ 3225 3759 3012 3873 \nQ 2800 3988 2598 4013 \nQ 2397 4038 2081 4038 \nL 1119 4038 \nL 1119 544 \nz\n\" transform=\"scale(0.015625)\"/>\n      <path id=\"ArialUnicodeMS-69\" d=\"M 991 0 \nL 428 0 \nL 428 3316 \nL 991 3316 \nL 991 0 \nz\nM 991 3944 \nL 428 3944 \nL 428 4581 \nL 991 4581 \nL 991 3944 \nz\n\" transform=\"scale(0.015625)\"/>\n      <path id=\"ArialUnicodeMS-63\" d=\"M 3144 1147 \nQ 3034 513 2643 217 \nQ 2253 -78 1759 -78 \nQ 1038 -78 644 395 \nQ 250 869 250 1650 \nQ 250 2297 476 2686 \nQ 703 3075 1043 3233 \nQ 1384 3391 1759 3391 \nQ 2272 3391 2636 3125 \nQ 3000 2859 3084 2344 \nL 2541 2259 \nQ 2456 2594 2267 2762 \nQ 2078 2931 1784 2931 \nQ 1313 2931 1069 2597 \nQ 825 2263 825 1663 \nQ 825 1050 1064 717 \nQ 1303 384 1753 384 \nQ 2116 384 2323 592 \nQ 2531 800 2584 1216 \nL 3144 1147 \nz\n\" transform=\"scale(0.015625)\"/>\n      <path id=\"ArialUnicodeMS-76\" d=\"M 3122 3316 \nL 1869 0 \nL 1344 0 \nL 84 3316 \nL 678 3316 \nL 1363 1397 \nQ 1556 853 1594 659 \nL 1606 659 \nQ 1656 859 1778 1197 \nL 2547 3316 \nL 3122 3316 \nz\n\" transform=\"scale(0.015625)\"/>\n      <path id=\"ArialUnicodeMS-61\" d=\"M 3303 0 \nL 2713 0 \nQ 2631 156 2597 409 \nQ 2031 -78 1375 -78 \nQ 850 -78 547 184 \nQ 244 447 244 878 \nQ 244 1291 536 1558 \nQ 828 1825 1550 1913 \nL 2075 1991 \nQ 2369 2038 2559 2106 \nQ 2559 2359 2543 2464 \nQ 2528 2569 2451 2681 \nQ 2375 2794 2206 2862 \nQ 2038 2931 1753 2931 \nQ 1391 2931 1180 2797 \nQ 969 2663 891 2297 \nL 341 2369 \nQ 431 2878 806 3134 \nQ 1181 3391 1838 3391 \nQ 2434 3391 2714 3214 \nQ 2994 3038 3058 2788 \nQ 3122 2538 3122 2144 \nL 3122 1388 \nQ 3122 697 3148 461 \nQ 3175 225 3303 0 \nz\nM 2559 1459 \nL 2559 1663 \nQ 2119 1516 1481 1430 \nQ 844 1344 844 891 \nQ 844 663 1016 514 \nQ 1188 366 1509 366 \nQ 1925 366 2242 614 \nQ 2559 863 2559 1459 \nz\n\" transform=\"scale(0.015625)\"/>\n      <path id=\"ArialUnicodeMS-75\" d=\"M 3116 0 \nL 2613 0 \nL 2613 488 \nL 2597 488 \nQ 2216 -78 1556 -78 \nQ 1209 -78 914 83 \nQ 619 244 520 526 \nQ 422 809 422 1259 \nL 422 3316 \nL 984 3316 \nL 984 1478 \nQ 984 1038 1026 847 \nQ 1069 656 1247 532 \nQ 1425 409 1672 409 \nQ 1991 409 2272 629 \nQ 2553 850 2553 1544 \nL 2553 3316 \nL 3116 3316 \nL 3116 0 \nz\n\" transform=\"scale(0.015625)\"/>\n     </defs>\n     <use xlink:href=\"#ArialUnicodeMS-44\"/>\n     <use xlink:href=\"#ArialUnicodeMS-69\" x=\"72.216797\"/>\n     <use xlink:href=\"#ArialUnicodeMS-73\" x=\"94.433594\"/>\n     <use xlink:href=\"#ArialUnicodeMS-74\" x=\"144.433594\"/>\n     <use xlink:href=\"#ArialUnicodeMS-69\" x=\"172.216797\"/>\n     <use xlink:href=\"#ArialUnicodeMS-6e\" x=\"194.433594\"/>\n     <use xlink:href=\"#ArialUnicodeMS-63\" x=\"250.048828\"/>\n     <use xlink:href=\"#ArialUnicodeMS-74\" x=\"300.048828\"/>\n     <use xlink:href=\"#ArialUnicodeMS-20\" x=\"327.832031\"/>\n     <use xlink:href=\"#ArialUnicodeMS-76\" x=\"355.615234\"/>\n     <use xlink:href=\"#ArialUnicodeMS-61\" x=\"405.615234\"/>\n     <use xlink:href=\"#ArialUnicodeMS-6c\" x=\"461.230469\"/>\n     <use xlink:href=\"#ArialUnicodeMS-75\" x=\"483.447266\"/>\n     <use xlink:href=\"#ArialUnicodeMS-65\" x=\"539.0625\"/>\n     <use xlink:href=\"#ArialUnicodeMS-73\" x=\"594.677734\"/>\n     <use xlink:href=\"#ArialUnicodeMS-3a\" x=\"644.677734\"/>\n     <use xlink:href=\"#ArialUnicodeMS-20\" x=\"672.460938\"/>\n     <use xlink:href=\"#ArialUnicodeMS-35\" x=\"700.244141\"/>\n    </g>\n   </g>\n   <g id=\"text_7\">\n    <!-- Original_amount_currency -->\n    <g transform=\"translate(61.294103 15.935625)scale(0.12 -0.12)\">\n     <defs>\n      <path id=\"ArialUnicodeMS-4f\" d=\"M 2497 4659 \nQ 3459 4659 4071 4006 \nQ 4684 3353 4684 2284 \nQ 4684 1219 4068 570 \nQ 3453 -78 2497 -78 \nQ 1506 -78 903 594 \nQ 300 1266 300 2234 \nQ 300 3363 911 4011 \nQ 1522 4659 2497 4659 \nz\nM 2491 441 \nQ 3188 441 3620 928 \nQ 4053 1416 4056 2284 \nQ 4056 3178 3614 3659 \nQ 3172 4141 2503 4141 \nQ 1816 4141 1372 3669 \nQ 928 3197 928 2222 \nQ 928 1425 1362 933 \nQ 1797 441 2491 441 \nz\n\" transform=\"scale(0.015625)\"/>\n      <path id=\"ArialUnicodeMS-72\" d=\"M 2216 3213 \nL 2022 2694 \nQ 1813 2816 1613 2816 \nQ 1297 2816 1134 2533 \nQ 972 2250 972 1741 \nL 972 0 \nL 409 0 \nL 409 3316 \nL 922 3316 \nL 922 2816 \nL 934 2816 \nQ 1203 3391 1638 3391 \nQ 1925 3391 2216 3213 \nz\n\" transform=\"scale(0.015625)\"/>\n      <path id=\"ArialUnicodeMS-67\" d=\"M 3144 447 \nQ 3144 -259 3003 -607 \nQ 2863 -956 2503 -1150 \nQ 2144 -1344 1644 -1344 \nQ 1081 -1344 706 -1094 \nQ 331 -844 331 -275 \nL 878 -359 \nQ 909 -622 1098 -753 \nQ 1288 -884 1638 -884 \nQ 2075 -884 2278 -706 \nQ 2481 -528 2526 -272 \nQ 2572 -16 2572 434 \nQ 2206 0 1650 0 \nQ 1003 0 611 478 \nQ 219 956 219 1684 \nQ 219 2416 600 2903 \nQ 981 3391 1656 3391 \nQ 2244 3391 2613 2919 \nL 2625 2919 \nL 2625 3316 \nL 3144 3316 \nL 3144 447 \nz\nM 1703 459 \nQ 2063 459 2341 745 \nQ 2619 1031 2619 1703 \nQ 2619 2297 2353 2614 \nQ 2088 2931 1697 2931 \nQ 1297 2931 1045 2606 \nQ 794 2281 794 1716 \nQ 794 1063 1058 761 \nQ 1322 459 1703 459 \nz\n\" transform=\"scale(0.015625)\"/>\n      <path id=\"ArialUnicodeMS-5f\" d=\"M 3238 -800 \nL -38 -800 \nL -38 -481 \nL 3238 -481 \nL 3238 -800 \nz\n\" transform=\"scale(0.015625)\"/>\n      <path id=\"ArialUnicodeMS-79\" d=\"M 3150 3316 \nL 1881 -56 \nQ 1878 -63 1875 -78 \nQ 1694 -641 1451 -992 \nQ 1209 -1344 763 -1344 \nQ 613 -1344 397 -1281 \nL 341 -750 \nQ 503 -800 659 -800 \nQ 972 -800 1092 -628 \nQ 1213 -456 1363 -6 \nL 103 3316 \nL 709 3316 \nL 1491 1144 \nQ 1559 944 1638 628 \nL 1650 628 \nQ 1728 991 1850 1319 \nL 2578 3316 \nL 3150 3316 \nz\n\" transform=\"scale(0.015625)\"/>\n     </defs>\n     <use xlink:href=\"#ArialUnicodeMS-4f\"/>\n     <use xlink:href=\"#ArialUnicodeMS-72\" x=\"77.783203\"/>\n     <use xlink:href=\"#ArialUnicodeMS-69\" x=\"111.083984\"/>\n     <use xlink:href=\"#ArialUnicodeMS-67\" x=\"133.300781\"/>\n     <use xlink:href=\"#ArialUnicodeMS-69\" x=\"188.916016\"/>\n     <use xlink:href=\"#ArialUnicodeMS-6e\" x=\"211.132812\"/>\n     <use xlink:href=\"#ArialUnicodeMS-61\" x=\"266.748047\"/>\n     <use xlink:href=\"#ArialUnicodeMS-6c\" x=\"322.363281\"/>\n     <use xlink:href=\"#ArialUnicodeMS-5f\" x=\"344.580078\"/>\n     <use xlink:href=\"#ArialUnicodeMS-61\" x=\"394.580078\"/>\n     <use xlink:href=\"#ArialUnicodeMS-6d\" x=\"450.195312\"/>\n     <use xlink:href=\"#ArialUnicodeMS-6f\" x=\"533.496094\"/>\n     <use xlink:href=\"#ArialUnicodeMS-75\" x=\"589.111328\"/>\n     <use xlink:href=\"#ArialUnicodeMS-6e\" x=\"644.726562\"/>\n     <use xlink:href=\"#ArialUnicodeMS-74\" x=\"700.341797\"/>\n     <use xlink:href=\"#ArialUnicodeMS-5f\" x=\"728.125\"/>\n     <use xlink:href=\"#ArialUnicodeMS-63\" x=\"778.125\"/>\n     <use xlink:href=\"#ArialUnicodeMS-75\" x=\"828.125\"/>\n     <use xlink:href=\"#ArialUnicodeMS-72\" x=\"883.740234\"/>\n     <use xlink:href=\"#ArialUnicodeMS-72\" x=\"917.041016\"/>\n     <use xlink:href=\"#ArialUnicodeMS-65\" x=\"950.341797\"/>\n     <use xlink:href=\"#ArialUnicodeMS-6e\" x=\"1005.957031\"/>\n     <use xlink:href=\"#ArialUnicodeMS-63\" x=\"1061.572266\"/>\n     <use xlink:href=\"#ArialUnicodeMS-79\" x=\"1111.572266\"/>\n    </g>\n   </g>\n   <g id=\"legend_1\">\n    <g id=\"patch_13\">\n     <path d=\"M 104.424728 100.685625 \nL 157.543478 100.685625 \nQ 159.543478 100.685625 159.543478 98.685625 \nL 159.543478 28.935625 \nQ 159.543478 26.935625 157.543478 26.935625 \nL 104.424728 26.935625 \nQ 102.424728 26.935625 102.424728 28.935625 \nL 102.424728 98.685625 \nQ 102.424728 100.685625 104.424728 100.685625 \nz\n\" style=\"fill: #ffffff; opacity: 0.8; stroke: #cccccc; stroke-linejoin: miter\"/>\n    </g>\n    <g id=\"patch_14\">\n     <path d=\"M 106.424728 38.093437 \nL 126.424728 38.093437 \nL 126.424728 31.093437 \nL 106.424728 31.093437 \nz\n\" style=\"fill: #1f77b4\"/>\n    </g>\n    <g id=\"text_8\">\n     <!-- USD -->\n     <g transform=\"translate(134.424728 38.093437)scale(0.1 -0.1)\">\n      <defs>\n       <path id=\"ArialUnicodeMS-55\" d=\"M 4109 1931 \nQ 4109 1578 4070 1278 \nQ 4031 978 3864 661 \nQ 3697 344 3320 133 \nQ 2944 -78 2316 -78 \nQ 1703 -78 1328 109 \nQ 953 297 778 594 \nQ 603 891 554 1212 \nQ 506 1534 506 1931 \nL 506 4581 \nL 1113 4581 \nL 1113 1941 \nQ 1113 1528 1172 1229 \nQ 1231 931 1484 700 \nQ 1738 469 2266 469 \nQ 2800 469 3069 653 \nQ 3338 838 3419 1145 \nQ 3500 1453 3500 1941 \nL 3500 4581 \nL 4109 4581 \nL 4109 1931 \nz\n\" transform=\"scale(0.015625)\"/>\n       <path id=\"ArialUnicodeMS-53\" d=\"M 3213 3238 \nQ 3175 3675 2897 3895 \nQ 2619 4116 2100 4116 \nQ 1631 4116 1337 3941 \nQ 1044 3766 1044 3431 \nQ 1044 3134 1270 2989 \nQ 1497 2844 2138 2700 \nQ 2706 2575 3065 2444 \nQ 3425 2313 3681 2036 \nQ 3938 1759 3938 1294 \nQ 3938 703 3467 312 \nQ 2997 -78 2241 -78 \nQ 1275 -78 795 353 \nQ 316 784 288 1472 \nL 863 1522 \nQ 903 972 1287 720 \nQ 1672 469 2216 469 \nQ 2725 469 3039 678 \nQ 3353 888 3353 1247 \nQ 3353 1622 3025 1794 \nQ 2697 1966 1923 2133 \nQ 1150 2300 809 2603 \nQ 469 2906 469 3391 \nQ 469 3941 900 4300 \nQ 1331 4659 2075 4659 \nQ 2838 4659 3302 4301 \nQ 3766 3944 3794 3284 \nL 3213 3238 \nz\n\" transform=\"scale(0.015625)\"/>\n      </defs>\n      <use xlink:href=\"#ArialUnicodeMS-55\"/>\n      <use xlink:href=\"#ArialUnicodeMS-53\" x=\"72.216797\"/>\n      <use xlink:href=\"#ArialUnicodeMS-44\" x=\"138.916016\"/>\n     </g>\n    </g>\n    <g id=\"patch_15\">\n     <path d=\"M 106.424728 52.243437 \nL 126.424728 52.243437 \nL 126.424728 45.243437 \nL 106.424728 45.243437 \nz\n\" style=\"fill: #ff7f0e\"/>\n    </g>\n    <g id=\"text_9\">\n     <!-- GBP -->\n     <g transform=\"translate(134.424728 52.243437)scale(0.1 -0.1)\">\n      <defs>\n       <path id=\"ArialUnicodeMS-47\" d=\"M 4569 641 \nQ 3703 -78 2675 -78 \nQ 1622 -78 976 564 \nQ 331 1206 331 2272 \nQ 331 2922 595 3483 \nQ 859 4044 1373 4351 \nQ 1888 4659 2631 4659 \nQ 3403 4659 3870 4320 \nQ 4338 3981 4500 3303 \nL 3956 3150 \nQ 3828 3644 3497 3892 \nQ 3166 4141 2631 4141 \nQ 1803 4141 1381 3634 \nQ 959 3128 959 2309 \nQ 959 1697 1164 1290 \nQ 1369 884 1770 676 \nQ 2172 469 2644 469 \nQ 3363 469 3981 941 \nL 3981 1791 \nL 2631 1791 \nL 2631 2338 \nL 4569 2338 \nL 4569 641 \nz\n\" transform=\"scale(0.015625)\"/>\n       <path id=\"ArialUnicodeMS-42\" d=\"M 3078 2438 \nQ 3509 2306 3723 2011 \nQ 3938 1716 3938 1331 \nQ 3938 947 3744 625 \nQ 3550 303 3194 151 \nQ 2838 0 2228 0 \nL 475 0 \nL 475 4581 \nL 2194 4581 \nQ 3028 4581 3370 4218 \nQ 3713 3856 3713 3413 \nQ 3713 3113 3555 2858 \nQ 3397 2603 3078 2438 \nz\nM 1081 2663 \nL 2075 2663 \nQ 2381 2663 2589 2697 \nQ 2797 2731 2956 2878 \nQ 3116 3025 3116 3334 \nQ 3116 3659 2955 3814 \nQ 2794 3969 2570 4003 \nQ 2347 4038 1997 4038 \nL 1081 4038 \nL 1081 2663 \nz\nM 1081 544 \nL 2222 544 \nQ 2834 544 3071 753 \nQ 3309 963 3309 1331 \nQ 3309 1703 3056 1911 \nQ 2803 2119 2144 2119 \nL 1081 2119 \nL 1081 544 \nz\n\" transform=\"scale(0.015625)\"/>\n       <path id=\"ArialUnicodeMS-50\" d=\"M 494 4581 \nL 2222 4581 \nQ 2631 4581 2926 4540 \nQ 3222 4500 3475 4329 \nQ 3728 4159 3858 3867 \nQ 3988 3575 3988 3256 \nQ 3988 2622 3580 2239 \nQ 3172 1856 2272 1856 \nL 1100 1856 \nL 1100 0 \nL 494 0 \nL 494 4581 \nz\nM 1100 2400 \nL 2278 2400 \nQ 3359 2400 3359 3238 \nQ 3359 3513 3218 3723 \nQ 3078 3934 2873 3986 \nQ 2669 4038 2266 4038 \nL 1100 4038 \nL 1100 2400 \nz\n\" transform=\"scale(0.015625)\"/>\n      </defs>\n      <use xlink:href=\"#ArialUnicodeMS-47\"/>\n      <use xlink:href=\"#ArialUnicodeMS-42\" x=\"77.783203\"/>\n      <use xlink:href=\"#ArialUnicodeMS-50\" x=\"144.482422\"/>\n     </g>\n    </g>\n    <g id=\"patch_16\">\n     <path d=\"M 106.424728 66.393437 \nL 126.424728 66.393437 \nL 126.424728 59.393437 \nL 106.424728 59.393437 \nz\n\" style=\"fill: #2ca02c\"/>\n    </g>\n    <g id=\"text_10\">\n     <!-- EUR -->\n     <g transform=\"translate(134.424728 66.393437)scale(0.1 -0.1)\">\n      <defs>\n       <path id=\"ArialUnicodeMS-45\" d=\"M 3928 0 \nL 506 0 \nL 506 4581 \nL 3822 4581 \nL 3822 4038 \nL 1113 4038 \nL 1113 2638 \nL 3647 2638 \nL 3647 2094 \nL 1113 2094 \nL 1113 544 \nL 3928 544 \nL 3928 0 \nz\n\" transform=\"scale(0.015625)\"/>\n       <path id=\"ArialUnicodeMS-52\" d=\"M 4550 0 \nL 3788 0 \nQ 3103 1081 2937 1328 \nQ 2772 1575 2589 1751 \nQ 2406 1928 2245 1975 \nQ 2084 2022 1819 2022 \nL 1119 2022 \nL 1119 0 \nL 513 0 \nL 513 4581 \nL 2541 4581 \nQ 2956 4581 3237 4528 \nQ 3519 4475 3731 4304 \nQ 3944 4134 4058 3875 \nQ 4172 3616 4172 3328 \nQ 4172 2809 3844 2493 \nQ 3516 2178 2888 2094 \nL 2888 2081 \nQ 3347 1878 3750 1247 \nL 4550 0 \nz\nM 1119 2566 \nL 2419 2566 \nQ 2813 2566 3042 2633 \nQ 3272 2700 3409 2894 \nQ 3547 3088 3547 3328 \nQ 3547 3641 3319 3859 \nQ 3091 4078 2566 4078 \nL 1119 4078 \nL 1119 2566 \nz\n\" transform=\"scale(0.015625)\"/>\n      </defs>\n      <use xlink:href=\"#ArialUnicodeMS-45\"/>\n      <use xlink:href=\"#ArialUnicodeMS-55\" x=\"66.699219\"/>\n      <use xlink:href=\"#ArialUnicodeMS-52\" x=\"138.916016\"/>\n     </g>\n    </g>\n    <g id=\"patch_17\">\n     <path d=\"M 106.424728 80.543437 \nL 126.424728 80.543437 \nL 126.424728 73.543437 \nL 106.424728 73.543437 \nz\n\" style=\"fill: #9467bd\"/>\n    </g>\n    <g id=\"text_11\">\n     <!-- AUD -->\n     <g transform=\"translate(134.424728 80.543437)scale(0.1 -0.1)\">\n      <defs>\n       <path id=\"ArialUnicodeMS-41\" d=\"M 4275 0 \nL 3591 0 \nL 3053 1394 \nL 1141 1394 \nL 634 0 \nL -6 0 \nL 1753 4581 \nL 2406 4581 \nL 4275 0 \nz\nM 2869 1875 \nQ 2306 3363 2234 3564 \nQ 2163 3766 2075 4103 \nL 2059 4103 \nQ 1972 3641 1825 3247 \nL 1313 1875 \nL 2869 1875 \nz\n\" transform=\"scale(0.015625)\"/>\n      </defs>\n      <use xlink:href=\"#ArialUnicodeMS-41\"/>\n      <use xlink:href=\"#ArialUnicodeMS-55\" x=\"66.699219\"/>\n      <use xlink:href=\"#ArialUnicodeMS-44\" x=\"138.916016\"/>\n     </g>\n    </g>\n    <g id=\"patch_18\">\n     <path d=\"M 106.424728 94.693437 \nL 126.424728 94.693437 \nL 126.424728 87.693437 \nL 106.424728 87.693437 \nz\n\" style=\"fill: #8c564b\"/>\n    </g>\n    <g id=\"text_12\">\n     <!-- HKD -->\n     <g transform=\"translate(134.424728 94.693437)scale(0.1 -0.1)\">\n      <defs>\n       <path id=\"ArialUnicodeMS-48\" d=\"M 4109 0 \nL 3500 0 \nL 3500 2156 \nL 1119 2156 \nL 1119 0 \nL 513 0 \nL 513 4581 \nL 1119 4581 \nL 1119 2700 \nL 3500 2700 \nL 3500 4581 \nL 4109 4581 \nL 4109 0 \nz\n\" transform=\"scale(0.015625)\"/>\n       <path id=\"ArialUnicodeMS-4b\" d=\"M 4256 0 \nL 3456 0 \nL 1831 2316 \nL 1075 1588 \nL 1075 0 \nL 469 0 \nL 469 4581 \nL 1075 4581 \nL 1075 2309 \nL 3353 4581 \nL 4172 4581 \nL 2253 2725 \nL 4256 0 \nz\n\" transform=\"scale(0.015625)\"/>\n      </defs>\n      <use xlink:href=\"#ArialUnicodeMS-48\"/>\n      <use xlink:href=\"#ArialUnicodeMS-4b\" x=\"72.216797\"/>\n      <use xlink:href=\"#ArialUnicodeMS-44\" x=\"138.916016\"/>\n     </g>\n    </g>\n   </g>\n  </g>\n  <g id=\"axes_2\">\n   <g id=\"patch_19\">\n    <path d=\"M 275.990499 269.026534 \nL 451.786403 269.026534 \nL 451.786403 21.935625 \nL 275.990499 21.935625 \nz\n\" style=\"fill: #ffffff\"/>\n   </g>\n   <g id=\"patch_20\">\n    <path d=\"M 412.720647 199.196495 \nC 412.720647 193.557472 411.743876 187.960827 409.833725 182.655178 \nC 407.923574 177.34953 405.108753 172.414624 401.514304 168.069682 \nL 363.888451 199.196495 \nL 412.720647 199.196495 \nz\n\" style=\"fill: #d62728\"/>\n   </g>\n   <g id=\"patch_21\">\n    <path d=\"M 401.514304 168.069682 \nC 398.248025 164.121428 394.380544 160.711785 390.05405 157.966108 \nC 385.727555 155.220431 380.995726 153.172786 376.032524 151.898452 \nL 363.888451 199.196495 \nL 401.514304 168.069682 \nz\n\" style=\"fill: #1f77b4\"/>\n   </g>\n   <g id=\"patch_22\">\n    <path d=\"M 376.032524 151.898452 \nC 373.554732 151.262263 371.030774 150.821762 368.483966 150.581018 \nC 365.937158 150.340274 363.375365 150.30003 360.822252 150.460658 \nL 363.888451 199.196495 \nL 376.032524 151.898452 \nz\n\" style=\"fill: #ff7f0e\"/>\n   </g>\n   <g id=\"patch_23\">\n    <path d=\"M 360.822252 150.460658 \nC 358.269138 150.621287 355.73259 150.982291 353.236037 151.540337 \nC 350.739484 152.098382 348.290639 152.851746 345.91212 153.793468 \nL 363.888451 199.196495 \nL 360.822252 150.460658 \nz\n\" style=\"fill: #2ca02c\"/>\n   </g>\n   <g id=\"patch_24\">\n    <path d=\"M 345.91212 153.793468 \nC 337.660599 157.060476 330.453718 162.515943 325.069573 169.570864 \nC 319.685427 176.625785 316.325018 185.016787 315.351155 193.837928 \nC 314.377292 202.659069 315.826332 211.581038 319.541826 219.640569 \nC 323.257321 227.7001 329.100564 234.596313 336.440686 239.584655 \nC 343.780808 244.572997 352.343786 247.467241 361.205113 247.954909 \nC 370.066441 248.442578 378.895305 246.505464 386.738491 242.35271 \nC 394.581678 238.199957 401.146385 231.986594 405.723848 224.383452 \nC 410.301312 216.78031 412.720647 208.071231 412.720647 199.196495 \nL 363.888451 199.196495 \nL 345.91212 153.793468 \nz\n\" style=\"fill: #9467bd\"/>\n   </g>\n   <g id=\"patch_25\">\n    <path d=\"M 398.070988 199.196495 \nC 398.070988 194.707685 397.18679 190.262523 395.468997 186.115404 \nC 393.751204 181.968285 391.233222 178.199859 388.059155 175.025791 \nC 384.885087 171.851723 381.116661 169.333741 376.969542 167.615948 \nC 372.822422 165.898155 368.377261 165.013958 363.888451 165.013958 \nC 359.399641 165.013958 354.95448 165.898155 350.807361 167.615948 \nC 346.660241 169.333741 342.891815 171.851723 339.717747 175.025791 \nC 336.54368 178.199859 334.025698 181.968285 332.307905 186.115404 \nC 330.590112 190.262523 329.705914 194.707685 329.705914 199.196495 \nC 329.705914 203.685304 330.590112 208.130466 332.307905 212.277585 \nC 334.025698 216.424704 336.54368 220.19313 339.717747 223.367198 \nC 342.891815 226.541266 346.660241 229.059248 350.807361 230.777041 \nC 354.95448 232.494834 359.399641 233.379031 363.888451 233.379031 \nC 368.377261 233.379031 372.822422 232.494834 376.969542 230.777041 \nC 381.116661 229.059248 384.885087 226.541266 388.059155 223.367198 \nC 391.233222 220.19313 393.751204 216.424704 395.468997 212.277585 \nC 397.18679 208.130466 398.070988 203.685304 398.070988 199.196495 \nM 363.888451 199.196495 \nM 398.070988 199.196495 \nz\n\" style=\"fill: #ffffff\"/>\n   </g>\n   <g id=\"PathCollection_2\">\n    <g clip-path=\"url(#p5d39ec6a8d)\">\n     <use xlink:href=\"#me7339bc3c1\" x=\"363.888451\" y=\"33.16703\" style=\"fill: #ffffff; stroke: #ffffff\"/>\n     <use xlink:href=\"#me7339bc3c1\" x=\"363.888451\" y=\"257.795129\" style=\"fill: #ffffff; stroke: #ffffff\"/>\n    </g>\n   </g>\n   <g id=\"patch_26\">\n    <path d=\"M 275.990499 269.026534 \nL 275.990499 21.935625 \n\" style=\"fill: none; stroke: #000000; stroke-width: 0.8; stroke-linejoin: miter; stroke-linecap: square\"/>\n   </g>\n   <g id=\"patch_27\">\n    <path d=\"M 451.786403 269.026534 \nL 451.786403 21.935625 \n\" style=\"fill: none; stroke: #000000; stroke-width: 0.8; stroke-linejoin: miter; stroke-linecap: square\"/>\n   </g>\n   <g id=\"patch_28\">\n    <path d=\"M 275.990499 269.026534 \nL 451.786403 269.026534 \n\" style=\"fill: none; stroke: #000000; stroke-width: 0.8; stroke-linejoin: miter; stroke-linecap: square\"/>\n   </g>\n   <g id=\"patch_29\">\n    <path d=\"M 275.990499 21.935625 \nL 451.786403 21.935625 \n\" style=\"fill: none; stroke: #000000; stroke-width: 0.8; stroke-linejoin: miter; stroke-linecap: square\"/>\n   </g>\n   <g id=\"text_13\">\n    <!-- 11.00% -->\n    <g transform=\"translate(404.363012 181.102662)scale(0.1 -0.1)\">\n     <use xlink:href=\"#ArialUnicodeMS-31\"/>\n     <use xlink:href=\"#ArialUnicodeMS-31\" x=\"55.615234\"/>\n     <use xlink:href=\"#ArialUnicodeMS-2e\" x=\"111.230469\"/>\n     <use xlink:href=\"#ArialUnicodeMS-30\" x=\"139.013672\"/>\n     <use xlink:href=\"#ArialUnicodeMS-30\" x=\"194.628906\"/>\n     <use xlink:href=\"#ArialUnicodeMS-25\" x=\"250.244141\"/>\n    </g>\n   </g>\n   <g id=\"text_14\">\n    <!-- 10.00% -->\n    <g transform=\"translate(379.638418 150.241324)scale(0.1 -0.1)\">\n     <use xlink:href=\"#ArialUnicodeMS-31\"/>\n     <use xlink:href=\"#ArialUnicodeMS-30\" x=\"55.615234\"/>\n     <use xlink:href=\"#ArialUnicodeMS-2e\" x=\"111.230469\"/>\n     <use xlink:href=\"#ArialUnicodeMS-30\" x=\"139.013672\"/>\n     <use xlink:href=\"#ArialUnicodeMS-30\" x=\"194.628906\"/>\n     <use xlink:href=\"#ArialUnicodeMS-25\" x=\"250.244141\"/>\n    </g>\n   </g>\n   <g id=\"text_15\">\n    <!-- 5.00% -->\n    <g transform=\"translate(355.456283 141.009961)scale(0.1 -0.1)\">\n     <use xlink:href=\"#ArialUnicodeMS-35\"/>\n     <use xlink:href=\"#ArialUnicodeMS-2e\" x=\"55.615234\"/>\n     <use xlink:href=\"#ArialUnicodeMS-30\" x=\"83.398438\"/>\n     <use xlink:href=\"#ArialUnicodeMS-30\" x=\"139.013672\"/>\n     <use xlink:href=\"#ArialUnicodeMS-25\" x=\"194.628906\"/>\n    </g>\n   </g>\n   <g id=\"text_16\">\n    <!-- 5.00% -->\n    <g transform=\"translate(336.396371 142.20911)scale(0.1 -0.1)\">\n     <use xlink:href=\"#ArialUnicodeMS-35\"/>\n     <use xlink:href=\"#ArialUnicodeMS-2e\" x=\"55.615234\"/>\n     <use xlink:href=\"#ArialUnicodeMS-30\" x=\"83.398438\"/>\n     <use xlink:href=\"#ArialUnicodeMS-30\" x=\"139.013672\"/>\n     <use xlink:href=\"#ArialUnicodeMS-25\" x=\"194.628906\"/>\n    </g>\n   </g>\n   <g id=\"text_17\">\n    <!-- 69.00% -->\n    <g transform=\"translate(312.621713 252.264508)scale(0.1 -0.1)\">\n     <defs>\n      <path id=\"ArialUnicodeMS-36\" d=\"M 838 2363 \nQ 1225 2969 1941 2969 \nQ 2503 2969 2897 2553 \nQ 3291 2138 3291 1491 \nQ 3291 838 2898 380 \nQ 2506 -78 1856 -78 \nQ 1197 -78 733 409 \nQ 269 897 269 2144 \nQ 269 3369 689 3986 \nQ 1109 4603 1906 4603 \nQ 2422 4603 2778 4315 \nQ 3134 4028 3213 3463 \nL 2650 3413 \nQ 2497 4141 1875 4141 \nQ 1444 4141 1134 3712 \nQ 825 3284 825 2363 \nL 838 2363 \nz\nM 1844 384 \nQ 2231 384 2472 696 \nQ 2713 1009 2713 1453 \nQ 2713 1897 2472 2187 \nQ 2231 2478 1825 2478 \nQ 1453 2478 1184 2204 \nQ 916 1931 916 1484 \nQ 916 1028 1180 706 \nQ 1444 384 1844 384 \nz\n\" transform=\"scale(0.015625)\"/>\n      <path id=\"ArialUnicodeMS-39\" d=\"M 2713 2156 \nQ 2547 1888 2258 1722 \nQ 1969 1556 1631 1556 \nQ 1066 1556 670 1970 \nQ 275 2384 275 3053 \nQ 275 3734 678 4168 \nQ 1081 4603 1716 4603 \nQ 2353 4603 2818 4106 \nQ 3284 3609 3284 2388 \nQ 3284 1147 2859 534 \nQ 2434 -78 1644 -78 \nQ 1128 -78 781 205 \nQ 434 488 359 1063 \nL 897 1106 \nQ 1025 384 1656 384 \nQ 2175 384 2450 857 \nQ 2725 1331 2725 2156 \nL 2713 2156 \nz\nM 1766 2047 \nQ 2178 2047 2420 2339 \nQ 2663 2631 2663 3078 \nQ 2663 3531 2414 3836 \nQ 2166 4141 1778 4141 \nQ 1388 4141 1119 3817 \nQ 850 3494 850 3034 \nQ 850 2600 1114 2323 \nQ 1378 2047 1766 2047 \nz\n\" transform=\"scale(0.015625)\"/>\n     </defs>\n     <use xlink:href=\"#ArialUnicodeMS-36\"/>\n     <use xlink:href=\"#ArialUnicodeMS-39\" x=\"55.615234\"/>\n     <use xlink:href=\"#ArialUnicodeMS-2e\" x=\"111.230469\"/>\n     <use xlink:href=\"#ArialUnicodeMS-30\" x=\"139.013672\"/>\n     <use xlink:href=\"#ArialUnicodeMS-30\" x=\"194.628906\"/>\n     <use xlink:href=\"#ArialUnicodeMS-25\" x=\"250.244141\"/>\n    </g>\n   </g>\n   <g id=\"text_18\">\n    <!-- Completness: 0.89 -->\n    <g transform=\"translate(315.056256 115.366639)scale(0.1 -0.1)\">\n     <use xlink:href=\"#ArialUnicodeMS-43\"/>\n     <use xlink:href=\"#ArialUnicodeMS-6f\" x=\"72.216797\"/>\n     <use xlink:href=\"#ArialUnicodeMS-6d\" x=\"127.832031\"/>\n     <use xlink:href=\"#ArialUnicodeMS-70\" x=\"211.132812\"/>\n     <use xlink:href=\"#ArialUnicodeMS-6c\" x=\"266.748047\"/>\n     <use xlink:href=\"#ArialUnicodeMS-65\" x=\"288.964844\"/>\n     <use xlink:href=\"#ArialUnicodeMS-74\" x=\"344.580078\"/>\n     <use xlink:href=\"#ArialUnicodeMS-6e\" x=\"372.363281\"/>\n     <use xlink:href=\"#ArialUnicodeMS-65\" x=\"427.978516\"/>\n     <use xlink:href=\"#ArialUnicodeMS-73\" x=\"483.59375\"/>\n     <use xlink:href=\"#ArialUnicodeMS-73\" x=\"533.59375\"/>\n     <use xlink:href=\"#ArialUnicodeMS-3a\" x=\"583.59375\"/>\n     <use xlink:href=\"#ArialUnicodeMS-20\" x=\"611.376953\"/>\n     <use xlink:href=\"#ArialUnicodeMS-30\" x=\"639.160156\"/>\n     <use xlink:href=\"#ArialUnicodeMS-2e\" x=\"694.775391\"/>\n     <use xlink:href=\"#ArialUnicodeMS-38\" x=\"722.558594\"/>\n     <use xlink:href=\"#ArialUnicodeMS-39\" x=\"778.173828\"/>\n    </g>\n    <!-- Distinct values: 61 -->\n    <g transform=\"translate(315.056256 125.948201)scale(0.1 -0.1)\">\n     <use xlink:href=\"#ArialUnicodeMS-44\"/>\n     <use xlink:href=\"#ArialUnicodeMS-69\" x=\"72.216797\"/>\n     <use xlink:href=\"#ArialUnicodeMS-73\" x=\"94.433594\"/>\n     <use xlink:href=\"#ArialUnicodeMS-74\" x=\"144.433594\"/>\n     <use xlink:href=\"#ArialUnicodeMS-69\" x=\"172.216797\"/>\n     <use xlink:href=\"#ArialUnicodeMS-6e\" x=\"194.433594\"/>\n     <use xlink:href=\"#ArialUnicodeMS-63\" x=\"250.048828\"/>\n     <use xlink:href=\"#ArialUnicodeMS-74\" x=\"300.048828\"/>\n     <use xlink:href=\"#ArialUnicodeMS-20\" x=\"327.832031\"/>\n     <use xlink:href=\"#ArialUnicodeMS-76\" x=\"355.615234\"/>\n     <use xlink:href=\"#ArialUnicodeMS-61\" x=\"405.615234\"/>\n     <use xlink:href=\"#ArialUnicodeMS-6c\" x=\"461.230469\"/>\n     <use xlink:href=\"#ArialUnicodeMS-75\" x=\"483.447266\"/>\n     <use xlink:href=\"#ArialUnicodeMS-65\" x=\"539.0625\"/>\n     <use xlink:href=\"#ArialUnicodeMS-73\" x=\"594.677734\"/>\n     <use xlink:href=\"#ArialUnicodeMS-3a\" x=\"644.677734\"/>\n     <use xlink:href=\"#ArialUnicodeMS-20\" x=\"672.460938\"/>\n     <use xlink:href=\"#ArialUnicodeMS-36\" x=\"700.244141\"/>\n     <use xlink:href=\"#ArialUnicodeMS-31\" x=\"755.859375\"/>\n    </g>\n   </g>\n   <g id=\"text_19\">\n    <!-- Beneficiary_bank_name -->\n    <g transform=\"translate(300.191889 15.935625)scale(0.12 -0.12)\">\n     <defs>\n      <path id=\"ArialUnicodeMS-66\" d=\"M 1991 4603 \nL 1906 4109 \nQ 1738 4141 1575 4141 \nQ 1372 4141 1242 4055 \nQ 1113 3969 1113 3628 \nL 1113 3316 \nL 1753 3316 \nL 1753 2881 \nL 1113 2881 \nL 1113 0 \nL 550 0 \nL 550 2881 \nL 50 2881 \nL 50 3316 \nL 550 3316 \nL 550 3675 \nQ 550 3925 597 4128 \nQ 644 4331 845 4495 \nQ 1047 4659 1466 4659 \nQ 1716 4659 1991 4603 \nz\n\" transform=\"scale(0.015625)\"/>\n      <path id=\"ArialUnicodeMS-62\" d=\"M 1006 2944 \nQ 1319 3391 1900 3391 \nQ 2541 3391 2925 2925 \nQ 3309 2459 3309 1709 \nQ 3309 844 2879 383 \nQ 2450 -78 1875 -78 \nQ 1291 -78 966 416 \nL 953 416 \nL 953 0 \nL 428 0 \nL 428 4581 \nL 991 4581 \nL 991 2944 \nL 1006 2944 \nz\nM 1831 384 \nQ 2222 384 2476 720 \nQ 2731 1056 2731 1663 \nQ 2731 2247 2497 2589 \nQ 2263 2931 1850 2931 \nQ 1444 2931 1195 2578 \nQ 947 2225 947 1684 \nQ 947 1156 1050 932 \nQ 1153 709 1361 546 \nQ 1569 384 1831 384 \nz\n\" transform=\"scale(0.015625)\"/>\n      <path id=\"ArialUnicodeMS-6b\" d=\"M 3175 0 \nL 2484 0 \nL 1381 1697 \nL 984 1319 \nL 984 0 \nL 422 0 \nL 422 4581 \nL 984 4581 \nL 984 1972 \nL 2316 3316 \nL 3047 3316 \nL 1778 2088 \nL 3175 0 \nz\n\" transform=\"scale(0.015625)\"/>\n     </defs>\n     <use xlink:href=\"#ArialUnicodeMS-42\"/>\n     <use xlink:href=\"#ArialUnicodeMS-65\" x=\"66.699219\"/>\n     <use xlink:href=\"#ArialUnicodeMS-6e\" x=\"122.314453\"/>\n     <use xlink:href=\"#ArialUnicodeMS-65\" x=\"177.929688\"/>\n     <use xlink:href=\"#ArialUnicodeMS-66\" x=\"233.544922\"/>\n     <use xlink:href=\"#ArialUnicodeMS-69\" x=\"261.328125\"/>\n     <use xlink:href=\"#ArialUnicodeMS-63\" x=\"283.544922\"/>\n     <use xlink:href=\"#ArialUnicodeMS-69\" x=\"333.544922\"/>\n     <use xlink:href=\"#ArialUnicodeMS-61\" x=\"355.761719\"/>\n     <use xlink:href=\"#ArialUnicodeMS-72\" x=\"411.376953\"/>\n     <use xlink:href=\"#ArialUnicodeMS-79\" x=\"444.677734\"/>\n     <use xlink:href=\"#ArialUnicodeMS-5f\" x=\"494.677734\"/>\n     <use xlink:href=\"#ArialUnicodeMS-62\" x=\"544.677734\"/>\n     <use xlink:href=\"#ArialUnicodeMS-61\" x=\"600.292969\"/>\n     <use xlink:href=\"#ArialUnicodeMS-6e\" x=\"655.908203\"/>\n     <use xlink:href=\"#ArialUnicodeMS-6b\" x=\"711.523438\"/>\n     <use xlink:href=\"#ArialUnicodeMS-5f\" x=\"761.523438\"/>\n     <use xlink:href=\"#ArialUnicodeMS-6e\" x=\"811.523438\"/>\n     <use xlink:href=\"#ArialUnicodeMS-61\" x=\"867.138672\"/>\n     <use xlink:href=\"#ArialUnicodeMS-6d\" x=\"922.753906\"/>\n     <use xlink:href=\"#ArialUnicodeMS-65\" x=\"1006.054688\"/>\n    </g>\n   </g>\n   <g id=\"legend_2\">\n    <g id=\"patch_30\">\n     <path d=\"M 278.991576 100.685625 \nL 448.785326 100.685625 \nQ 450.785326 100.685625 450.785326 98.685625 \nL 450.785326 28.935625 \nQ 450.785326 26.935625 448.785326 26.935625 \nL 278.991576 26.935625 \nQ 276.991576 26.935625 276.991576 28.935625 \nL 276.991576 98.685625 \nQ 276.991576 100.685625 278.991576 100.685625 \nz\n\" style=\"fill: #ffffff; opacity: 0.8; stroke: #cccccc; stroke-linejoin: miter\"/>\n    </g>\n    <g id=\"patch_31\">\n     <path d=\"M 280.991576 38.093437 \nL 300.991576 38.093437 \nL 300.991576 31.093437 \nL 280.991576 31.093437 \nz\n\" style=\"fill: #d62728\"/>\n    </g>\n    <g id=\"text_20\">\n     <!-- NullValue -->\n     <g transform=\"translate(308.991576 38.093437)scale(0.1 -0.1)\">\n      <defs>\n       <path id=\"ArialUnicodeMS-4e\" d=\"M 4109 0 \nL 3488 0 \nL 1094 3597 \nL 1081 3597 \nL 1081 0 \nL 506 0 \nL 506 4581 \nL 1125 4581 \nL 3519 984 \nL 3531 984 \nL 3531 4581 \nL 4109 4581 \nL 4109 0 \nz\n\" transform=\"scale(0.015625)\"/>\n       <path id=\"ArialUnicodeMS-56\" d=\"M 4225 4581 \nL 2431 0 \nL 1813 0 \nL 38 4581 \nL 691 4581 \nL 1881 1253 \nQ 2016 934 2119 506 \nL 2131 506 \nQ 2225 872 2369 1253 \nL 3609 4581 \nL 4225 4581 \nz\n\" transform=\"scale(0.015625)\"/>\n      </defs>\n      <use xlink:href=\"#ArialUnicodeMS-4e\"/>\n      <use xlink:href=\"#ArialUnicodeMS-75\" x=\"72.216797\"/>\n      <use xlink:href=\"#ArialUnicodeMS-6c\" x=\"127.832031\"/>\n      <use xlink:href=\"#ArialUnicodeMS-6c\" x=\"150.048828\"/>\n      <use xlink:href=\"#ArialUnicodeMS-56\" x=\"172.265625\"/>\n      <use xlink:href=\"#ArialUnicodeMS-61\" x=\"238.964844\"/>\n      <use xlink:href=\"#ArialUnicodeMS-6c\" x=\"294.580078\"/>\n      <use xlink:href=\"#ArialUnicodeMS-75\" x=\"316.796875\"/>\n      <use xlink:href=\"#ArialUnicodeMS-65\" x=\"372.412109\"/>\n     </g>\n    </g>\n    <g id=\"patch_32\">\n     <path d=\"M 280.991576 52.243437 \nL 300.991576 52.243437 \nL 300.991576 45.243437 \nL 280.991576 45.243437 \nz\n\" style=\"fill: #1f77b4\"/>\n    </g>\n    <g id=\"text_21\">\n     <!-- THE HONGKONG AND SHA... -->\n     <g transform=\"translate(308.991576 52.243437)scale(0.1 -0.1)\">\n      <defs>\n       <path id=\"ArialUnicodeMS-54\" d=\"M 3769 4038 \nL 2253 4038 \nL 2253 0 \nL 1644 0 \nL 1644 4038 \nL 141 4038 \nL 141 4581 \nL 3769 4581 \nL 3769 4038 \nz\n\" transform=\"scale(0.015625)\"/>\n      </defs>\n      <use xlink:href=\"#ArialUnicodeMS-54\"/>\n      <use xlink:href=\"#ArialUnicodeMS-48\" x=\"61.083984\"/>\n      <use xlink:href=\"#ArialUnicodeMS-45\" x=\"133.300781\"/>\n      <use xlink:href=\"#ArialUnicodeMS-20\" x=\"200\"/>\n      <use xlink:href=\"#ArialUnicodeMS-48\" x=\"227.783203\"/>\n      <use xlink:href=\"#ArialUnicodeMS-4f\" x=\"300\"/>\n      <use xlink:href=\"#ArialUnicodeMS-4e\" x=\"377.783203\"/>\n      <use xlink:href=\"#ArialUnicodeMS-47\" x=\"450\"/>\n      <use xlink:href=\"#ArialUnicodeMS-4b\" x=\"527.783203\"/>\n      <use xlink:href=\"#ArialUnicodeMS-4f\" x=\"594.482422\"/>\n      <use xlink:href=\"#ArialUnicodeMS-4e\" x=\"672.265625\"/>\n      <use xlink:href=\"#ArialUnicodeMS-47\" x=\"744.482422\"/>\n      <use xlink:href=\"#ArialUnicodeMS-20\" x=\"822.265625\"/>\n      <use xlink:href=\"#ArialUnicodeMS-41\" x=\"850.048828\"/>\n      <use xlink:href=\"#ArialUnicodeMS-4e\" x=\"916.748047\"/>\n      <use xlink:href=\"#ArialUnicodeMS-44\" x=\"988.964844\"/>\n      <use xlink:href=\"#ArialUnicodeMS-20\" x=\"1061.181641\"/>\n      <use xlink:href=\"#ArialUnicodeMS-53\" x=\"1088.964844\"/>\n      <use xlink:href=\"#ArialUnicodeMS-48\" x=\"1155.664062\"/>\n      <use xlink:href=\"#ArialUnicodeMS-41\" x=\"1227.880859\"/>\n      <use xlink:href=\"#ArialUnicodeMS-2e\" x=\"1294.580078\"/>\n      <use xlink:href=\"#ArialUnicodeMS-2e\" x=\"1322.363281\"/>\n      <use xlink:href=\"#ArialUnicodeMS-2e\" x=\"1350.146484\"/>\n     </g>\n    </g>\n    <g id=\"patch_33\">\n     <path d=\"M 280.991576 66.393437 \nL 300.991576 66.393437 \nL 300.991576 59.393437 \nL 280.991576 59.393437 \nz\n\" style=\"fill: #ff7f0e\"/>\n    </g>\n    <g id=\"text_22\">\n     <!-- CHASE BANK USA, N.A. -->\n     <g transform=\"translate(308.991576 66.393437)scale(0.1 -0.1)\">\n      <defs>\n       <path id=\"ArialUnicodeMS-2c\" d=\"M 1216 0 \nQ 1216 -397 1064 -606 \nQ 913 -816 691 -903 \nL 538 -666 \nQ 888 -516 891 0 \nL 575 0 \nL 575 641 \nL 1216 641 \nL 1216 0 \nz\n\" transform=\"scale(0.015625)\"/>\n      </defs>\n      <use xlink:href=\"#ArialUnicodeMS-43\"/>\n      <use xlink:href=\"#ArialUnicodeMS-48\" x=\"72.216797\"/>\n      <use xlink:href=\"#ArialUnicodeMS-41\" x=\"144.433594\"/>\n      <use xlink:href=\"#ArialUnicodeMS-53\" x=\"211.132812\"/>\n      <use xlink:href=\"#ArialUnicodeMS-45\" x=\"277.832031\"/>\n      <use xlink:href=\"#ArialUnicodeMS-20\" x=\"344.53125\"/>\n      <use xlink:href=\"#ArialUnicodeMS-42\" x=\"372.314453\"/>\n      <use xlink:href=\"#ArialUnicodeMS-41\" x=\"439.013672\"/>\n      <use xlink:href=\"#ArialUnicodeMS-4e\" x=\"505.712891\"/>\n      <use xlink:href=\"#ArialUnicodeMS-4b\" x=\"577.929688\"/>\n      <use xlink:href=\"#ArialUnicodeMS-20\" x=\"644.628906\"/>\n      <use xlink:href=\"#ArialUnicodeMS-55\" x=\"672.412109\"/>\n      <use xlink:href=\"#ArialUnicodeMS-53\" x=\"744.628906\"/>\n      <use xlink:href=\"#ArialUnicodeMS-41\" x=\"811.328125\"/>\n      <use xlink:href=\"#ArialUnicodeMS-2c\" x=\"878.027344\"/>\n      <use xlink:href=\"#ArialUnicodeMS-20\" x=\"905.810547\"/>\n      <use xlink:href=\"#ArialUnicodeMS-4e\" x=\"933.59375\"/>\n      <use xlink:href=\"#ArialUnicodeMS-2e\" x=\"1005.810547\"/>\n      <use xlink:href=\"#ArialUnicodeMS-41\" x=\"1033.59375\"/>\n      <use xlink:href=\"#ArialUnicodeMS-2e\" x=\"1100.292969\"/>\n     </g>\n    </g>\n    <g id=\"patch_34\">\n     <path d=\"M 280.991576 80.543437 \nL 300.991576 80.543437 \nL 300.991576 73.543437 \nL 280.991576 73.543437 \nz\n\" style=\"fill: #2ca02c\"/>\n    </g>\n    <g id=\"text_23\">\n     <!-- CITIBANK N.A. -->\n     <g transform=\"translate(308.991576 80.543437)scale(0.1 -0.1)\">\n      <defs>\n       <path id=\"ArialUnicodeMS-49\" d=\"M 1197 0 \nL 588 0 \nL 588 4581 \nL 1197 4581 \nL 1197 0 \nz\n\" transform=\"scale(0.015625)\"/>\n      </defs>\n      <use xlink:href=\"#ArialUnicodeMS-43\"/>\n      <use xlink:href=\"#ArialUnicodeMS-49\" x=\"72.216797\"/>\n      <use xlink:href=\"#ArialUnicodeMS-54\" x=\"100\"/>\n      <use xlink:href=\"#ArialUnicodeMS-49\" x=\"161.083984\"/>\n      <use xlink:href=\"#ArialUnicodeMS-42\" x=\"188.867188\"/>\n      <use xlink:href=\"#ArialUnicodeMS-41\" x=\"255.566406\"/>\n      <use xlink:href=\"#ArialUnicodeMS-4e\" x=\"322.265625\"/>\n      <use xlink:href=\"#ArialUnicodeMS-4b\" x=\"394.482422\"/>\n      <use xlink:href=\"#ArialUnicodeMS-20\" x=\"461.181641\"/>\n      <use xlink:href=\"#ArialUnicodeMS-4e\" x=\"488.964844\"/>\n      <use xlink:href=\"#ArialUnicodeMS-2e\" x=\"561.181641\"/>\n      <use xlink:href=\"#ArialUnicodeMS-41\" x=\"588.964844\"/>\n      <use xlink:href=\"#ArialUnicodeMS-2e\" x=\"655.664062\"/>\n     </g>\n    </g>\n    <g id=\"patch_35\">\n     <path d=\"M 280.991576 94.693437 \nL 300.991576 94.693437 \nL 300.991576 87.693437 \nL 280.991576 87.693437 \nz\n\" style=\"fill: #9467bd\"/>\n    </g>\n    <g id=\"text_24\">\n     <!-- OtherValues -->\n     <g transform=\"translate(308.991576 94.693437)scale(0.1 -0.1)\">\n      <defs>\n       <path id=\"ArialUnicodeMS-68\" d=\"M 3138 0 \nL 2572 0 \nL 2572 2094 \nQ 2572 2500 2397 2703 \nQ 2222 2906 1875 2906 \nQ 1531 2906 1261 2667 \nQ 991 2428 991 1813 \nL 991 0 \nL 428 0 \nL 428 4581 \nL 991 4581 \nL 991 2938 \nQ 1391 3391 1991 3391 \nQ 2313 3391 2606 3259 \nQ 2900 3128 3019 2856 \nQ 3138 2584 3138 2100 \nL 3138 0 \nz\n\" transform=\"scale(0.015625)\"/>\n      </defs>\n      <use xlink:href=\"#ArialUnicodeMS-4f\"/>\n      <use xlink:href=\"#ArialUnicodeMS-74\" x=\"77.783203\"/>\n      <use xlink:href=\"#ArialUnicodeMS-68\" x=\"105.566406\"/>\n      <use xlink:href=\"#ArialUnicodeMS-65\" x=\"161.181641\"/>\n      <use xlink:href=\"#ArialUnicodeMS-72\" x=\"216.796875\"/>\n      <use xlink:href=\"#ArialUnicodeMS-56\" x=\"250.097656\"/>\n      <use xlink:href=\"#ArialUnicodeMS-61\" x=\"316.796875\"/>\n      <use xlink:href=\"#ArialUnicodeMS-6c\" x=\"372.412109\"/>\n      <use xlink:href=\"#ArialUnicodeMS-75\" x=\"394.628906\"/>\n      <use xlink:href=\"#ArialUnicodeMS-65\" x=\"450.244141\"/>\n      <use xlink:href=\"#ArialUnicodeMS-73\" x=\"505.859375\"/>\n     </g>\n    </g>\n   </g>\n  </g>\n  <g id=\"axes_3\">\n   <g id=\"patch_36\">\n    <path d=\"M 508.894847 269.026534 \nL 684.690751 269.026534 \nL 684.690751 21.935625 \nL 508.894847 21.935625 \nz\n\" style=\"fill: #ffffff\"/>\n   </g>\n   <g id=\"patch_37\">\n    <path d=\"M 645.624994 199.196495 \nC 645.624994 198.685115 645.616961 198.173766 645.600899 197.662638 \nC 645.584836 197.151511 645.560745 196.640667 645.528635 196.130296 \nL 596.792799 199.196495 \nL 645.624994 199.196495 \nz\n\" style=\"fill: #d62728\"/>\n   </g>\n   <g id=\"patch_38\">\n    <path d=\"M 645.528635 196.130296 \nC 644.715741 183.209706 638.797149 171.128358 629.086109 162.566924 \nC 619.375069 154.005491 606.64719 149.647764 593.7266 150.460658 \nL 596.792799 199.196495 \nL 645.528635 196.130296 \nz\n\" style=\"fill: #1f77b4\"/>\n   </g>\n   <g id=\"patch_39\">\n    <path d=\"M 593.7266 150.460658 \nC 583.95836 151.075224 574.596887 154.61263 566.863202 160.61149 \nC 559.129518 166.610351 553.375142 174.797999 550.350621 184.106516 \nL 596.792799 199.196495 \nL 593.7266 150.460658 \nz\n\" style=\"fill: #ff7f0e\"/>\n   </g>\n   <g id=\"patch_40\">\n    <path d=\"M 550.350621 184.106516 \nC 548.76716 188.979907 547.960604 194.072307 547.960603 199.196494 \nC 547.960603 204.320681 548.76716 209.413081 550.350621 214.286473 \nL 596.792799 199.196495 \nL 550.350621 184.106516 \nz\n\" style=\"fill: #2ca02c\"/>\n   </g>\n   <g id=\"patch_41\">\n    <path d=\"M 550.350621 214.286473 \nC 553.942693 225.341734 561.366795 234.759163 571.278046 240.832785 \nC 581.189296 246.906408 592.950759 249.245908 604.431835 247.427485 \nC 615.912912 245.609062 626.375782 239.749574 633.92509 230.910471 \nC 641.474397 222.071368 645.624993 210.820688 645.624994 199.196499 \nL 596.792799 199.196495 \nL 550.350621 214.286473 \nz\n\" style=\"fill: #9467bd\"/>\n   </g>\n   <g id=\"patch_42\">\n    <path d=\"M 630.975336 199.196495 \nC 630.975336 194.707685 630.091138 190.262523 628.373345 186.115404 \nC 626.655552 181.968285 624.13757 178.199859 620.963503 175.025791 \nC 617.789435 171.851723 614.021009 169.333741 609.873889 167.615948 \nC 605.72677 165.898155 601.281609 165.013958 596.792799 165.013958 \nC 592.303989 165.013958 587.858828 165.898155 583.711708 167.615948 \nC 579.564589 169.333741 575.796163 171.851723 572.622095 175.025791 \nC 569.448028 178.199859 566.930046 181.968285 565.212253 186.115404 \nC 563.49446 190.262523 562.610262 194.707685 562.610262 199.196495 \nC 562.610262 203.685304 563.49446 208.130466 565.212253 212.277585 \nC 566.930046 216.424704 569.448028 220.19313 572.622095 223.367198 \nC 575.796163 226.541266 579.564589 229.059248 583.711708 230.777041 \nC 587.858828 232.494834 592.303989 233.379031 596.792799 233.379031 \nC 601.281609 233.379031 605.72677 232.494834 609.873889 230.777041 \nC 614.021009 229.059248 617.789435 226.541266 620.963503 223.367198 \nC 624.13757 220.19313 626.655552 216.424704 628.373345 212.277585 \nC 630.091138 208.130466 630.975336 203.685304 630.975336 199.196495 \nM 596.792799 199.196495 \nM 630.975336 199.196495 \nz\n\" style=\"fill: #ffffff\"/>\n   </g>\n   <g id=\"PathCollection_3\">\n    <g clip-path=\"url(#p4aa74cc50d)\">\n     <use xlink:href=\"#me7339bc3c1\" x=\"596.792799\" y=\"33.16703\" style=\"fill: #ffffff; stroke: #ffffff\"/>\n     <use xlink:href=\"#me7339bc3c1\" x=\"596.792799\" y=\"257.795129\" style=\"fill: #ffffff; stroke: #ffffff\"/>\n    </g>\n   </g>\n   <g id=\"patch_43\">\n    <path d=\"M 508.894847 269.026534 \nL 508.894847 21.935625 \n\" style=\"fill: none; stroke: #000000; stroke-width: 0.8; stroke-linejoin: miter; stroke-linecap: square\"/>\n   </g>\n   <g id=\"patch_44\">\n    <path d=\"M 684.690751 269.026534 \nL 684.690751 21.935625 \n\" style=\"fill: none; stroke: #000000; stroke-width: 0.8; stroke-linejoin: miter; stroke-linecap: square\"/>\n   </g>\n   <g id=\"patch_45\">\n    <path d=\"M 508.894847 269.026534 \nL 684.690751 269.026534 \n\" style=\"fill: none; stroke: #000000; stroke-width: 0.8; stroke-linejoin: miter; stroke-linecap: square\"/>\n   </g>\n   <g id=\"patch_46\">\n    <path d=\"M 508.894847 21.935625 \nL 684.690751 21.935625 \n\" style=\"fill: none; stroke: #000000; stroke-width: 0.8; stroke-linejoin: miter; stroke-linecap: square\"/>\n   </g>\n   <g id=\"text_25\">\n    <!-- 1.00% -->\n    <g transform=\"translate(643.626361 199.861987)scale(0.1 -0.1)\">\n     <use xlink:href=\"#ArialUnicodeMS-31\"/>\n     <use xlink:href=\"#ArialUnicodeMS-2e\" x=\"55.615234\"/>\n     <use xlink:href=\"#ArialUnicodeMS-30\" x=\"83.398438\"/>\n     <use xlink:href=\"#ArialUnicodeMS-30\" x=\"139.013672\"/>\n     <use xlink:href=\"#ArialUnicodeMS-25\" x=\"194.628906\"/>\n    </g>\n   </g>\n   <g id=\"text_26\">\n    <!-- 25.00% -->\n    <g transform=\"translate(620.202406 155.992344)scale(0.1 -0.1)\">\n     <use xlink:href=\"#ArialUnicodeMS-32\"/>\n     <use xlink:href=\"#ArialUnicodeMS-35\" x=\"55.615234\"/>\n     <use xlink:href=\"#ArialUnicodeMS-2e\" x=\"111.230469\"/>\n     <use xlink:href=\"#ArialUnicodeMS-30\" x=\"139.013672\"/>\n     <use xlink:href=\"#ArialUnicodeMS-30\" x=\"194.628906\"/>\n     <use xlink:href=\"#ArialUnicodeMS-25\" x=\"250.244141\"/>\n    </g>\n   </g>\n   <g id=\"text_27\">\n    <!-- 19.00% -->\n    <g transform=\"translate(542.423772 153.548052)scale(0.1 -0.1)\">\n     <use xlink:href=\"#ArialUnicodeMS-31\"/>\n     <use xlink:href=\"#ArialUnicodeMS-39\" x=\"55.615234\"/>\n     <use xlink:href=\"#ArialUnicodeMS-2e\" x=\"111.230469\"/>\n     <use xlink:href=\"#ArialUnicodeMS-30\" x=\"139.013672\"/>\n     <use xlink:href=\"#ArialUnicodeMS-30\" x=\"194.628906\"/>\n     <use xlink:href=\"#ArialUnicodeMS-25\" x=\"250.244141\"/>\n    </g>\n   </g>\n   <g id=\"text_28\">\n    <!-- 10.00% -->\n    <g transform=\"translate(518.795523 201.779306)scale(0.1 -0.1)\">\n     <use xlink:href=\"#ArialUnicodeMS-31\"/>\n     <use xlink:href=\"#ArialUnicodeMS-30\" x=\"55.615234\"/>\n     <use xlink:href=\"#ArialUnicodeMS-2e\" x=\"111.230469\"/>\n     <use xlink:href=\"#ArialUnicodeMS-30\" x=\"139.013672\"/>\n     <use xlink:href=\"#ArialUnicodeMS-30\" x=\"194.628906\"/>\n     <use xlink:href=\"#ArialUnicodeMS-25\" x=\"250.244141\"/>\n    </g>\n   </g>\n   <g id=\"text_29\">\n    <!-- 45.00% -->\n    <g transform=\"translate(589.384563 262.068045)scale(0.1 -0.1)\">\n     <defs>\n      <path id=\"ArialUnicodeMS-34\" d=\"M 3263 1094 \nL 2644 1094 \nL 2644 0 \nL 2081 0 \nL 2081 1094 \nL 97 1094 \nL 97 1613 \nL 2181 4581 \nL 2644 4581 \nL 2644 1613 \nL 3263 1613 \nL 3263 1094 \nz\nM 2081 1613 \nL 2081 3681 \nL 2069 3681 \nL 647 1613 \nL 2081 1613 \nz\n\" transform=\"scale(0.015625)\"/>\n     </defs>\n     <use xlink:href=\"#ArialUnicodeMS-34\"/>\n     <use xlink:href=\"#ArialUnicodeMS-35\" x=\"55.615234\"/>\n     <use xlink:href=\"#ArialUnicodeMS-2e\" x=\"111.230469\"/>\n     <use xlink:href=\"#ArialUnicodeMS-30\" x=\"139.013672\"/>\n     <use xlink:href=\"#ArialUnicodeMS-30\" x=\"194.628906\"/>\n     <use xlink:href=\"#ArialUnicodeMS-25\" x=\"250.244141\"/>\n    </g>\n   </g>\n   <g id=\"text_30\">\n    <!-- Completness: 0.99 -->\n    <g transform=\"translate(547.960603 115.366639)scale(0.1 -0.1)\">\n     <use xlink:href=\"#ArialUnicodeMS-43\"/>\n     <use xlink:href=\"#ArialUnicodeMS-6f\" x=\"72.216797\"/>\n     <use xlink:href=\"#ArialUnicodeMS-6d\" x=\"127.832031\"/>\n     <use xlink:href=\"#ArialUnicodeMS-70\" x=\"211.132812\"/>\n     <use xlink:href=\"#ArialUnicodeMS-6c\" x=\"266.748047\"/>\n     <use xlink:href=\"#ArialUnicodeMS-65\" x=\"288.964844\"/>\n     <use xlink:href=\"#ArialUnicodeMS-74\" x=\"344.580078\"/>\n     <use xlink:href=\"#ArialUnicodeMS-6e\" x=\"372.363281\"/>\n     <use xlink:href=\"#ArialUnicodeMS-65\" x=\"427.978516\"/>\n     <use xlink:href=\"#ArialUnicodeMS-73\" x=\"483.59375\"/>\n     <use xlink:href=\"#ArialUnicodeMS-73\" x=\"533.59375\"/>\n     <use xlink:href=\"#ArialUnicodeMS-3a\" x=\"583.59375\"/>\n     <use xlink:href=\"#ArialUnicodeMS-20\" x=\"611.376953\"/>\n     <use xlink:href=\"#ArialUnicodeMS-30\" x=\"639.160156\"/>\n     <use xlink:href=\"#ArialUnicodeMS-2e\" x=\"694.775391\"/>\n     <use xlink:href=\"#ArialUnicodeMS-39\" x=\"722.558594\"/>\n     <use xlink:href=\"#ArialUnicodeMS-39\" x=\"778.173828\"/>\n    </g>\n    <!-- Distinct values: 17 -->\n    <g transform=\"translate(547.960603 125.948201)scale(0.1 -0.1)\">\n     <defs>\n      <path id=\"ArialUnicodeMS-37\" d=\"M 3272 4084 \nQ 2597 3344 2103 2253 \nQ 1609 1163 1522 0 \nL 947 0 \nQ 969 934 1408 2051 \nQ 1847 3169 2547 3975 \nL 306 3975 \nL 306 4519 \nL 3272 4519 \nL 3272 4084 \nz\n\" transform=\"scale(0.015625)\"/>\n     </defs>\n     <use xlink:href=\"#ArialUnicodeMS-44\"/>\n     <use xlink:href=\"#ArialUnicodeMS-69\" x=\"72.216797\"/>\n     <use xlink:href=\"#ArialUnicodeMS-73\" x=\"94.433594\"/>\n     <use xlink:href=\"#ArialUnicodeMS-74\" x=\"144.433594\"/>\n     <use xlink:href=\"#ArialUnicodeMS-69\" x=\"172.216797\"/>\n     <use xlink:href=\"#ArialUnicodeMS-6e\" x=\"194.433594\"/>\n     <use xlink:href=\"#ArialUnicodeMS-63\" x=\"250.048828\"/>\n     <use xlink:href=\"#ArialUnicodeMS-74\" x=\"300.048828\"/>\n     <use xlink:href=\"#ArialUnicodeMS-20\" x=\"327.832031\"/>\n     <use xlink:href=\"#ArialUnicodeMS-76\" x=\"355.615234\"/>\n     <use xlink:href=\"#ArialUnicodeMS-61\" x=\"405.615234\"/>\n     <use xlink:href=\"#ArialUnicodeMS-6c\" x=\"461.230469\"/>\n     <use xlink:href=\"#ArialUnicodeMS-75\" x=\"483.447266\"/>\n     <use xlink:href=\"#ArialUnicodeMS-65\" x=\"539.0625\"/>\n     <use xlink:href=\"#ArialUnicodeMS-73\" x=\"594.677734\"/>\n     <use xlink:href=\"#ArialUnicodeMS-3a\" x=\"644.677734\"/>\n     <use xlink:href=\"#ArialUnicodeMS-20\" x=\"672.460938\"/>\n     <use xlink:href=\"#ArialUnicodeMS-31\" x=\"700.244141\"/>\n     <use xlink:href=\"#ArialUnicodeMS-37\" x=\"755.859375\"/>\n    </g>\n   </g>\n   <g id=\"text_31\">\n    <!-- Transaction_reason -->\n    <g transform=\"translate(544.103424 15.935625)scale(0.12 -0.12)\">\n     <use xlink:href=\"#ArialUnicodeMS-54\"/>\n     <use xlink:href=\"#ArialUnicodeMS-72\" x=\"61.083984\"/>\n     <use xlink:href=\"#ArialUnicodeMS-61\" x=\"94.384766\"/>\n     <use xlink:href=\"#ArialUnicodeMS-6e\" x=\"150\"/>\n     <use xlink:href=\"#ArialUnicodeMS-73\" x=\"205.615234\"/>\n     <use xlink:href=\"#ArialUnicodeMS-61\" x=\"255.615234\"/>\n     <use xlink:href=\"#ArialUnicodeMS-63\" x=\"311.230469\"/>\n     <use xlink:href=\"#ArialUnicodeMS-74\" x=\"361.230469\"/>\n     <use xlink:href=\"#ArialUnicodeMS-69\" x=\"389.013672\"/>\n     <use xlink:href=\"#ArialUnicodeMS-6f\" x=\"411.230469\"/>\n     <use xlink:href=\"#ArialUnicodeMS-6e\" x=\"466.845703\"/>\n     <use xlink:href=\"#ArialUnicodeMS-5f\" x=\"522.460938\"/>\n     <use xlink:href=\"#ArialUnicodeMS-72\" x=\"572.460938\"/>\n     <use xlink:href=\"#ArialUnicodeMS-65\" x=\"605.761719\"/>\n     <use xlink:href=\"#ArialUnicodeMS-61\" x=\"661.376953\"/>\n     <use xlink:href=\"#ArialUnicodeMS-73\" x=\"716.992188\"/>\n     <use xlink:href=\"#ArialUnicodeMS-6f\" x=\"766.992188\"/>\n     <use xlink:href=\"#ArialUnicodeMS-6e\" x=\"822.607422\"/>\n    </g>\n   </g>\n   <g id=\"legend_3\">\n    <g id=\"patch_47\">\n     <path d=\"M 525.488893 100.793437 \nL 668.096705 100.793437 \nQ 670.096705 100.793437 670.096705 98.793437 \nL 670.096705 28.935625 \nQ 670.096705 26.935625 668.096705 26.935625 \nL 525.488893 26.935625 \nQ 523.488893 26.935625 523.488893 28.935625 \nL 523.488893 98.793437 \nQ 523.488893 100.793437 525.488893 100.793437 \nz\n\" style=\"fill: #ffffff; opacity: 0.8; stroke: #cccccc; stroke-linejoin: miter\"/>\n    </g>\n    <g id=\"patch_48\">\n     <path d=\"M 527.488893 38.093437 \nL 547.488893 38.093437 \nL 547.488893 31.093437 \nL 527.488893 31.093437 \nz\n\" style=\"fill: #d62728\"/>\n    </g>\n    <g id=\"text_32\">\n     <!-- NullValue -->\n     <g transform=\"translate(555.488893 38.093437)scale(0.1 -0.1)\">\n      <use xlink:href=\"#ArialUnicodeMS-4e\"/>\n      <use xlink:href=\"#ArialUnicodeMS-75\" x=\"72.216797\"/>\n      <use xlink:href=\"#ArialUnicodeMS-6c\" x=\"127.832031\"/>\n      <use xlink:href=\"#ArialUnicodeMS-6c\" x=\"150.048828\"/>\n      <use xlink:href=\"#ArialUnicodeMS-56\" x=\"172.265625\"/>\n      <use xlink:href=\"#ArialUnicodeMS-61\" x=\"238.964844\"/>\n      <use xlink:href=\"#ArialUnicodeMS-6c\" x=\"294.580078\"/>\n      <use xlink:href=\"#ArialUnicodeMS-75\" x=\"316.796875\"/>\n      <use xlink:href=\"#ArialUnicodeMS-65\" x=\"372.412109\"/>\n     </g>\n    </g>\n    <g id=\"patch_49\">\n     <path d=\"M 527.488893 52.243437 \nL 547.488893 52.243437 \nL 547.488893 45.243437 \nL 527.488893 45.243437 \nz\n\" style=\"fill: #1f77b4\"/>\n    </g>\n    <g id=\"text_33\">\n     <!-- Customer Cancellatio... -->\n     <g transform=\"translate(555.488893 52.243437)scale(0.1 -0.1)\">\n      <use xlink:href=\"#ArialUnicodeMS-43\"/>\n      <use xlink:href=\"#ArialUnicodeMS-75\" x=\"72.216797\"/>\n      <use xlink:href=\"#ArialUnicodeMS-73\" x=\"127.832031\"/>\n      <use xlink:href=\"#ArialUnicodeMS-74\" x=\"177.832031\"/>\n      <use xlink:href=\"#ArialUnicodeMS-6f\" x=\"205.615234\"/>\n      <use xlink:href=\"#ArialUnicodeMS-6d\" x=\"261.230469\"/>\n      <use xlink:href=\"#ArialUnicodeMS-65\" x=\"344.53125\"/>\n      <use xlink:href=\"#ArialUnicodeMS-72\" x=\"400.146484\"/>\n      <use xlink:href=\"#ArialUnicodeMS-20\" x=\"433.447266\"/>\n      <use xlink:href=\"#ArialUnicodeMS-43\" x=\"461.230469\"/>\n      <use xlink:href=\"#ArialUnicodeMS-61\" x=\"533.447266\"/>\n      <use xlink:href=\"#ArialUnicodeMS-6e\" x=\"589.0625\"/>\n      <use xlink:href=\"#ArialUnicodeMS-63\" x=\"644.677734\"/>\n      <use xlink:href=\"#ArialUnicodeMS-65\" x=\"694.677734\"/>\n      <use xlink:href=\"#ArialUnicodeMS-6c\" x=\"750.292969\"/>\n      <use xlink:href=\"#ArialUnicodeMS-6c\" x=\"772.509766\"/>\n      <use xlink:href=\"#ArialUnicodeMS-61\" x=\"794.726562\"/>\n      <use xlink:href=\"#ArialUnicodeMS-74\" x=\"850.341797\"/>\n      <use xlink:href=\"#ArialUnicodeMS-69\" x=\"878.125\"/>\n      <use xlink:href=\"#ArialUnicodeMS-6f\" x=\"900.341797\"/>\n      <use xlink:href=\"#ArialUnicodeMS-2e\" x=\"955.957031\"/>\n      <use xlink:href=\"#ArialUnicodeMS-2e\" x=\"983.740234\"/>\n      <use xlink:href=\"#ArialUnicodeMS-2e\" x=\"1011.523438\"/>\n     </g>\n    </g>\n    <g id=\"patch_50\">\n     <path d=\"M 527.488893 66.393437 \nL 547.488893 66.393437 \nL 547.488893 59.393437 \nL 527.488893 59.393437 \nz\n\" style=\"fill: #ff7f0e\"/>\n    </g>\n    <g id=\"text_34\">\n     <!-- Item Out Of Stock -->\n     <g transform=\"translate(555.488893 66.393437)scale(0.1 -0.1)\">\n      <use xlink:href=\"#ArialUnicodeMS-49\"/>\n      <use xlink:href=\"#ArialUnicodeMS-74\" x=\"27.783203\"/>\n      <use xlink:href=\"#ArialUnicodeMS-65\" x=\"55.566406\"/>\n      <use xlink:href=\"#ArialUnicodeMS-6d\" x=\"111.181641\"/>\n      <use xlink:href=\"#ArialUnicodeMS-20\" x=\"194.482422\"/>\n      <use xlink:href=\"#ArialUnicodeMS-4f\" x=\"222.265625\"/>\n      <use xlink:href=\"#ArialUnicodeMS-75\" x=\"300.048828\"/>\n      <use xlink:href=\"#ArialUnicodeMS-74\" x=\"355.664062\"/>\n      <use xlink:href=\"#ArialUnicodeMS-20\" x=\"383.447266\"/>\n      <use xlink:href=\"#ArialUnicodeMS-4f\" x=\"411.230469\"/>\n      <use xlink:href=\"#ArialUnicodeMS-66\" x=\"489.013672\"/>\n      <use xlink:href=\"#ArialUnicodeMS-20\" x=\"516.796875\"/>\n      <use xlink:href=\"#ArialUnicodeMS-53\" x=\"544.580078\"/>\n      <use xlink:href=\"#ArialUnicodeMS-74\" x=\"611.279297\"/>\n      <use xlink:href=\"#ArialUnicodeMS-6f\" x=\"639.0625\"/>\n      <use xlink:href=\"#ArialUnicodeMS-63\" x=\"694.677734\"/>\n      <use xlink:href=\"#ArialUnicodeMS-6b\" x=\"744.677734\"/>\n     </g>\n    </g>\n    <g id=\"patch_51\">\n     <path d=\"M 527.488893 80.543437 \nL 547.488893 80.543437 \nL 547.488893 73.543437 \nL 527.488893 73.543437 \nz\n\" style=\"fill: #2ca02c\"/>\n    </g>\n    <g id=\"text_35\">\n     <!-- Requested by custome... -->\n     <g transform=\"translate(555.488893 80.543437)scale(0.1 -0.1)\">\n      <defs>\n       <path id=\"ArialUnicodeMS-71\" d=\"M 3122 -1275 \nL 2559 -1275 \nL 2559 347 \nL 2547 347 \nQ 2222 -78 1691 -78 \nQ 1078 -78 661 398 \nQ 244 875 244 1684 \nQ 244 2444 622 2917 \nQ 1000 3391 1650 3391 \nQ 2281 3391 2597 2888 \nL 2613 2888 \nL 2613 3316 \nL 3122 3316 \nL 3122 -1275 \nz\nM 1728 384 \nQ 2125 384 2372 703 \nQ 2619 1022 2619 1638 \nQ 2619 2219 2362 2584 \nQ 2106 2950 1703 2950 \nQ 1316 2950 1067 2622 \nQ 819 2294 819 1684 \nQ 819 1256 934 965 \nQ 1050 675 1262 529 \nQ 1475 384 1728 384 \nz\n\" transform=\"scale(0.015625)\"/>\n       <path id=\"ArialUnicodeMS-64\" d=\"M 3109 0 \nL 2584 0 \nL 2584 422 \nL 2572 422 \nQ 2269 -78 1656 -78 \nQ 1047 -78 639 405 \nQ 231 888 231 1656 \nQ 231 2459 615 2925 \nQ 1000 3391 1631 3391 \nQ 2225 3391 2534 2938 \nL 2547 2938 \nL 2547 4581 \nL 3109 4581 \nL 3109 0 \nz\nM 1716 384 \nQ 2084 384 2340 687 \nQ 2597 991 2597 1606 \nQ 2597 2213 2362 2572 \nQ 2128 2931 1691 2931 \nQ 1253 2931 1029 2579 \nQ 806 2228 806 1656 \nQ 806 1244 926 958 \nQ 1047 672 1262 528 \nQ 1478 384 1716 384 \nz\n\" transform=\"scale(0.015625)\"/>\n      </defs>\n      <use xlink:href=\"#ArialUnicodeMS-52\"/>\n      <use xlink:href=\"#ArialUnicodeMS-65\" x=\"72.216797\"/>\n      <use xlink:href=\"#ArialUnicodeMS-71\" x=\"127.832031\"/>\n      <use xlink:href=\"#ArialUnicodeMS-75\" x=\"183.447266\"/>\n      <use xlink:href=\"#ArialUnicodeMS-65\" x=\"239.0625\"/>\n      <use xlink:href=\"#ArialUnicodeMS-73\" x=\"294.677734\"/>\n      <use xlink:href=\"#ArialUnicodeMS-74\" x=\"344.677734\"/>\n      <use xlink:href=\"#ArialUnicodeMS-65\" x=\"372.460938\"/>\n      <use xlink:href=\"#ArialUnicodeMS-64\" x=\"428.076172\"/>\n      <use xlink:href=\"#ArialUnicodeMS-20\" x=\"483.691406\"/>\n      <use xlink:href=\"#ArialUnicodeMS-62\" x=\"511.474609\"/>\n      <use xlink:href=\"#ArialUnicodeMS-79\" x=\"567.089844\"/>\n      <use xlink:href=\"#ArialUnicodeMS-20\" x=\"617.089844\"/>\n      <use xlink:href=\"#ArialUnicodeMS-63\" x=\"644.873047\"/>\n      <use xlink:href=\"#ArialUnicodeMS-75\" x=\"694.873047\"/>\n      <use xlink:href=\"#ArialUnicodeMS-73\" x=\"750.488281\"/>\n      <use xlink:href=\"#ArialUnicodeMS-74\" x=\"800.488281\"/>\n      <use xlink:href=\"#ArialUnicodeMS-6f\" x=\"828.271484\"/>\n      <use xlink:href=\"#ArialUnicodeMS-6d\" x=\"883.886719\"/>\n      <use xlink:href=\"#ArialUnicodeMS-65\" x=\"967.1875\"/>\n      <use xlink:href=\"#ArialUnicodeMS-2e\" x=\"1022.802734\"/>\n      <use xlink:href=\"#ArialUnicodeMS-2e\" x=\"1050.585938\"/>\n      <use xlink:href=\"#ArialUnicodeMS-2e\" x=\"1078.369141\"/>\n     </g>\n    </g>\n    <g id=\"patch_52\">\n     <path d=\"M 527.488893 94.80125 \nL 547.488893 94.80125 \nL 547.488893 87.80125 \nL 527.488893 87.80125 \nz\n\" style=\"fill: #9467bd\"/>\n    </g>\n    <g id=\"text_36\">\n     <!-- OtherValues -->\n     <g transform=\"translate(555.488893 94.80125)scale(0.1 -0.1)\">\n      <use xlink:href=\"#ArialUnicodeMS-4f\"/>\n      <use xlink:href=\"#ArialUnicodeMS-74\" x=\"77.783203\"/>\n      <use xlink:href=\"#ArialUnicodeMS-68\" x=\"105.566406\"/>\n      <use xlink:href=\"#ArialUnicodeMS-65\" x=\"161.181641\"/>\n      <use xlink:href=\"#ArialUnicodeMS-72\" x=\"216.796875\"/>\n      <use xlink:href=\"#ArialUnicodeMS-56\" x=\"250.097656\"/>\n      <use xlink:href=\"#ArialUnicodeMS-61\" x=\"316.796875\"/>\n      <use xlink:href=\"#ArialUnicodeMS-6c\" x=\"372.412109\"/>\n      <use xlink:href=\"#ArialUnicodeMS-75\" x=\"394.628906\"/>\n      <use xlink:href=\"#ArialUnicodeMS-65\" x=\"450.244141\"/>\n      <use xlink:href=\"#ArialUnicodeMS-73\" x=\"505.859375\"/>\n     </g>\n    </g>\n   </g>\n  </g>\n  <g id=\"axes_4\">\n   <g id=\"patch_53\">\n    <path d=\"M 732.653668 269.026534 \nL 926.740625 269.026534 \nL 926.740625 21.935625 \nL 732.653668 21.935625 \nz\n\" style=\"fill: #ffffff\"/>\n   </g>\n   <g id=\"patch_54\">\n    <path d=\"M 760.380377 252.302285 \nL 815.833793 252.302285 \nL 815.833793 248.640389 \nL 760.380377 248.640389 \nL 760.380377 252.302285 \nz\n\" clip-path=\"url(#p16d3550d83)\" style=\"fill: none; stroke: #000000; stroke-linejoin: miter\"/>\n   </g>\n   <g id=\"PathCollection_4\">\n    <defs>\n     <path id=\"C0_0_9330c23848\" d=\"M 0 3 \nC 0.795609 3 1.55874 2.683901 2.12132 2.12132 \nC 2.683901 1.55874 3 0.795609 3 -0 \nC 3 -0.795609 2.683901 -1.55874 2.12132 -2.12132 \nC 1.55874 -2.683901 0.795609 -3 0 -3 \nC -0.795609 -3 -1.55874 -2.683901 -2.12132 -2.12132 \nC -2.683901 -1.55874 -3 -0.795609 -3 0 \nC -3 0.795609 -2.683901 1.55874 -2.12132 2.12132 \nC -1.55874 2.683901 -0.795609 3 0 3 \nz\n\"/>\n    </defs>\n    <g clip-path=\"url(#p16d3550d83)\">\n     <use xlink:href=\"#C0_0_9330c23848\" x=\"788.107085\" y=\"253.666891\" style=\"fill: none; stroke: #0000ff\"/>\n    </g>\n    <g clip-path=\"url(#p16d3550d83)\">\n     <use xlink:href=\"#C0_0_9330c23848\" x=\"788.107085\" y=\"33.16703\" style=\"fill: none; stroke: #0000ff\"/>\n    </g>\n   </g>\n   <g id=\"matplotlib.axis_1\">\n    <g id=\"ytick_1\">\n     <g id=\"line2d_1\">\n      <defs>\n       <path id=\"m00568a2d06\" d=\"M 0 0 \nL -3.5 0 \n\" style=\"stroke: #000000; stroke-width: 0.8\"/>\n      </defs>\n      <g>\n       <use xlink:href=\"#m00568a2d06\" x=\"732.653668\" y=\"253.946034\" style=\"stroke: #000000; stroke-width: 0.8\"/>\n      </g>\n     </g>\n     <g id=\"text_37\">\n      <!-- 0 -->\n      <g transform=\"translate(720.092731 257.52494)scale(0.1 -0.1)\">\n       <use xlink:href=\"#ArialUnicodeMS-30\"/>\n      </g>\n     </g>\n    </g>\n    <g id=\"ytick_2\">\n     <g id=\"line2d_2\">\n      <g>\n       <use xlink:href=\"#m00568a2d06\" x=\"732.653668\" y=\"226.031723\" style=\"stroke: #000000; stroke-width: 0.8\"/>\n      </g>\n     </g>\n     <g id=\"text_38\">\n      <!-- 100 -->\n      <g transform=\"translate(708.970856 229.610629)scale(0.1 -0.1)\">\n       <use xlink:href=\"#ArialUnicodeMS-31\"/>\n       <use xlink:href=\"#ArialUnicodeMS-30\" x=\"55.615234\"/>\n       <use xlink:href=\"#ArialUnicodeMS-30\" x=\"111.230469\"/>\n      </g>\n     </g>\n    </g>\n    <g id=\"ytick_3\">\n     <g id=\"line2d_3\">\n      <g>\n       <use xlink:href=\"#m00568a2d06\" x=\"732.653668\" y=\"198.117411\" style=\"stroke: #000000; stroke-width: 0.8\"/>\n      </g>\n     </g>\n     <g id=\"text_39\">\n      <!-- 200 -->\n      <g transform=\"translate(708.970856 201.696318)scale(0.1 -0.1)\">\n       <use xlink:href=\"#ArialUnicodeMS-32\"/>\n       <use xlink:href=\"#ArialUnicodeMS-30\" x=\"55.615234\"/>\n       <use xlink:href=\"#ArialUnicodeMS-30\" x=\"111.230469\"/>\n      </g>\n     </g>\n    </g>\n    <g id=\"ytick_4\">\n     <g id=\"line2d_4\">\n      <g>\n       <use xlink:href=\"#m00568a2d06\" x=\"732.653668\" y=\"170.2031\" style=\"stroke: #000000; stroke-width: 0.8\"/>\n      </g>\n     </g>\n     <g id=\"text_40\">\n      <!-- 300 -->\n      <g transform=\"translate(708.970856 173.782006)scale(0.1 -0.1)\">\n       <defs>\n        <path id=\"ArialUnicodeMS-33\" d=\"M 2425 2478 \nQ 2850 2397 3067 2067 \nQ 3284 1738 3284 1350 \nQ 3284 725 2829 323 \nQ 2375 -78 1741 -78 \nQ 1134 -78 740 275 \nQ 347 628 281 1209 \nL 844 1288 \nQ 928 834 1151 609 \nQ 1375 384 1741 384 \nQ 2134 384 2407 661 \nQ 2681 938 2681 1338 \nQ 2681 1722 2432 1975 \nQ 2184 2228 1784 2228 \nQ 1622 2228 1388 2169 \nL 1453 2663 \nQ 1678 2663 1809 2684 \nQ 1941 2706 2103 2790 \nQ 2266 2875 2372 3033 \nQ 2478 3191 2478 3425 \nQ 2478 3766 2251 3953 \nQ 2025 4141 1728 4141 \nQ 1388 4141 1173 3925 \nQ 959 3709 903 3309 \nL 341 3413 \nQ 450 4009 823 4306 \nQ 1197 4603 1716 4603 \nQ 2288 4603 2670 4258 \nQ 3053 3913 3053 3413 \nQ 3053 2772 2425 2491 \nL 2425 2478 \nz\n\" transform=\"scale(0.015625)\"/>\n       </defs>\n       <use xlink:href=\"#ArialUnicodeMS-33\"/>\n       <use xlink:href=\"#ArialUnicodeMS-30\" x=\"55.615234\"/>\n       <use xlink:href=\"#ArialUnicodeMS-30\" x=\"111.230469\"/>\n      </g>\n     </g>\n    </g>\n    <g id=\"ytick_5\">\n     <g id=\"line2d_5\">\n      <g>\n       <use xlink:href=\"#m00568a2d06\" x=\"732.653668\" y=\"142.288789\" style=\"stroke: #000000; stroke-width: 0.8\"/>\n      </g>\n     </g>\n     <g id=\"text_41\">\n      <!-- 400 -->\n      <g transform=\"translate(708.970856 145.867695)scale(0.1 -0.1)\">\n       <use xlink:href=\"#ArialUnicodeMS-34\"/>\n       <use xlink:href=\"#ArialUnicodeMS-30\" x=\"55.615234\"/>\n       <use xlink:href=\"#ArialUnicodeMS-30\" x=\"111.230469\"/>\n      </g>\n     </g>\n    </g>\n    <g id=\"ytick_6\">\n     <g id=\"line2d_6\">\n      <g>\n       <use xlink:href=\"#m00568a2d06\" x=\"732.653668\" y=\"114.374477\" style=\"stroke: #000000; stroke-width: 0.8\"/>\n      </g>\n     </g>\n     <g id=\"text_42\">\n      <!-- 500 -->\n      <g transform=\"translate(708.970856 117.953384)scale(0.1 -0.1)\">\n       <use xlink:href=\"#ArialUnicodeMS-35\"/>\n       <use xlink:href=\"#ArialUnicodeMS-30\" x=\"55.615234\"/>\n       <use xlink:href=\"#ArialUnicodeMS-30\" x=\"111.230469\"/>\n      </g>\n     </g>\n    </g>\n    <g id=\"ytick_7\">\n     <g id=\"line2d_7\">\n      <g>\n       <use xlink:href=\"#m00568a2d06\" x=\"732.653668\" y=\"86.460166\" style=\"stroke: #000000; stroke-width: 0.8\"/>\n      </g>\n     </g>\n     <g id=\"text_43\">\n      <!-- 600 -->\n      <g transform=\"translate(708.970856 90.039072)scale(0.1 -0.1)\">\n       <use xlink:href=\"#ArialUnicodeMS-36\"/>\n       <use xlink:href=\"#ArialUnicodeMS-30\" x=\"55.615234\"/>\n       <use xlink:href=\"#ArialUnicodeMS-30\" x=\"111.230469\"/>\n      </g>\n     </g>\n    </g>\n    <g id=\"ytick_8\">\n     <g id=\"line2d_8\">\n      <g>\n       <use xlink:href=\"#m00568a2d06\" x=\"732.653668\" y=\"58.545855\" style=\"stroke: #000000; stroke-width: 0.8\"/>\n      </g>\n     </g>\n     <g id=\"text_44\">\n      <!-- 700 -->\n      <g transform=\"translate(708.970856 62.124761)scale(0.1 -0.1)\">\n       <use xlink:href=\"#ArialUnicodeMS-37\"/>\n       <use xlink:href=\"#ArialUnicodeMS-30\" x=\"55.615234\"/>\n       <use xlink:href=\"#ArialUnicodeMS-30\" x=\"111.230469\"/>\n      </g>\n     </g>\n    </g>\n    <g id=\"ytick_9\">\n     <g id=\"line2d_9\">\n      <g>\n       <use xlink:href=\"#m00568a2d06\" x=\"732.653668\" y=\"30.631543\" style=\"stroke: #000000; stroke-width: 0.8\"/>\n      </g>\n     </g>\n     <g id=\"text_45\">\n      <!-- 800 -->\n      <g transform=\"translate(708.970856 34.210449)scale(0.1 -0.1)\">\n       <use xlink:href=\"#ArialUnicodeMS-38\"/>\n       <use xlink:href=\"#ArialUnicodeMS-30\" x=\"55.615234\"/>\n       <use xlink:href=\"#ArialUnicodeMS-30\" x=\"111.230469\"/>\n      </g>\n     </g>\n    </g>\n   </g>\n   <g id=\"line2d_10\">\n    <path d=\"M 788.107085 257.795129 \nL 788.107085 252.302285 \n\" clip-path=\"url(#p16d3550d83)\" style=\"fill: none; stroke: #000000; stroke-linecap: square\"/>\n   </g>\n   <g id=\"line2d_11\">\n    <path d=\"M 788.107085 248.640389 \nL 788.107085 243.147545 \n\" clip-path=\"url(#p16d3550d83)\" style=\"fill: none; stroke: #000000; stroke-linecap: square\"/>\n   </g>\n   <g id=\"line2d_12\">\n    <path d=\"M 760.380377 250.70756 \nL 815.833793 250.70756 \n\" clip-path=\"url(#p16d3550d83)\" style=\"fill: none; stroke: #ffa500; stroke-linecap: square\"/>\n   </g>\n   <g id=\"line2d_13\">\n    <path d=\"M 774.243731 257.795129 \nL 801.970439 257.795129 \n\" clip-path=\"url(#p16d3550d83)\" style=\"fill: none; stroke: #000000; stroke-linecap: square\"/>\n   </g>\n   <g id=\"line2d_14\">\n    <path d=\"M 774.243731 243.147545 \nL 801.970439 243.147545 \n\" clip-path=\"url(#p16d3550d83)\" style=\"fill: none; stroke: #000000; stroke-linecap: square\"/>\n   </g>\n   <g id=\"patch_55\">\n    <path d=\"M 732.653668 269.026534 \nL 732.653668 21.935625 \n\" style=\"fill: none; stroke: #000000; stroke-width: 0.8; stroke-linejoin: miter; stroke-linecap: square\"/>\n   </g>\n   <g id=\"patch_56\">\n    <path d=\"M 926.740625 269.026534 \nL 926.740625 21.935625 \n\" style=\"fill: none; stroke: #000000; stroke-width: 0.8; stroke-linejoin: miter; stroke-linecap: square\"/>\n   </g>\n   <g id=\"patch_57\">\n    <path d=\"M 732.653668 269.026534 \nL 926.740625 269.026534 \n\" style=\"fill: none; stroke: #000000; stroke-width: 0.8; stroke-linejoin: miter; stroke-linecap: square\"/>\n   </g>\n   <g id=\"patch_58\">\n    <path d=\"M 732.653668 21.935625 \nL 926.740625 21.935625 \n\" style=\"fill: none; stroke: #000000; stroke-width: 0.8; stroke-linejoin: miter; stroke-linecap: square\"/>\n   </g>\n   <g id=\"text_46\">\n    <!-- Completness: 1.00 -->\n    <g transform=\"translate(832.469818 50.247017)scale(0.1 -0.1)\">\n     <use xlink:href=\"#ArialUnicodeMS-43\"/>\n     <use xlink:href=\"#ArialUnicodeMS-6f\" x=\"72.216797\"/>\n     <use xlink:href=\"#ArialUnicodeMS-6d\" x=\"127.832031\"/>\n     <use xlink:href=\"#ArialUnicodeMS-70\" x=\"211.132812\"/>\n     <use xlink:href=\"#ArialUnicodeMS-6c\" x=\"266.748047\"/>\n     <use xlink:href=\"#ArialUnicodeMS-65\" x=\"288.964844\"/>\n     <use xlink:href=\"#ArialUnicodeMS-74\" x=\"344.580078\"/>\n     <use xlink:href=\"#ArialUnicodeMS-6e\" x=\"372.363281\"/>\n     <use xlink:href=\"#ArialUnicodeMS-65\" x=\"427.978516\"/>\n     <use xlink:href=\"#ArialUnicodeMS-73\" x=\"483.59375\"/>\n     <use xlink:href=\"#ArialUnicodeMS-73\" x=\"533.59375\"/>\n     <use xlink:href=\"#ArialUnicodeMS-3a\" x=\"583.59375\"/>\n     <use xlink:href=\"#ArialUnicodeMS-20\" x=\"611.376953\"/>\n     <use xlink:href=\"#ArialUnicodeMS-31\" x=\"639.160156\"/>\n     <use xlink:href=\"#ArialUnicodeMS-2e\" x=\"694.775391\"/>\n     <use xlink:href=\"#ArialUnicodeMS-30\" x=\"722.558594\"/>\n     <use xlink:href=\"#ArialUnicodeMS-30\" x=\"778.173828\"/>\n    </g>\n    <!--  -->\n    <g transform=\"translate(832.469818 60.82858)scale(0.1 -0.1)\"/>\n    <!-- Max:      790.92 -->\n    <g transform=\"translate(832.469818 71.410142)scale(0.1 -0.1)\">\n     <defs>\n      <path id=\"ArialUnicodeMS-4d\" d=\"M 4844 0 \nL 4269 0 \nL 4269 3834 \nL 4256 3834 \nL 2938 0 \nL 2394 0 \nL 1081 3897 \nL 1063 3897 \nL 1063 0 \nL 488 0 \nL 488 4581 \nL 1394 4581 \nL 2478 1338 \nQ 2659 797 2688 659 \nL 2700 659 \nQ 2784 925 2944 1394 \nL 4038 4581 \nL 4844 4581 \nL 4844 0 \nz\n\" transform=\"scale(0.015625)\"/>\n      <path id=\"ArialUnicodeMS-78\" d=\"M 3156 0 \nL 2463 0 \nL 1600 1313 \nL 728 0 \nL 44 0 \nL 1259 1728 \nL 141 3316 \nL 838 3316 \nQ 1519 2288 1581 2169 \nL 2394 3316 \nL 3066 3316 \nL 1919 1759 \nL 3156 0 \nz\n\" transform=\"scale(0.015625)\"/>\n     </defs>\n     <use xlink:href=\"#ArialUnicodeMS-4d\"/>\n     <use xlink:href=\"#ArialUnicodeMS-61\" x=\"83.300781\"/>\n     <use xlink:href=\"#ArialUnicodeMS-78\" x=\"138.916016\"/>\n     <use xlink:href=\"#ArialUnicodeMS-3a\" x=\"188.916016\"/>\n     <use xlink:href=\"#ArialUnicodeMS-20\" x=\"216.699219\"/>\n     <use xlink:href=\"#ArialUnicodeMS-20\" x=\"244.482422\"/>\n     <use xlink:href=\"#ArialUnicodeMS-20\" x=\"272.265625\"/>\n     <use xlink:href=\"#ArialUnicodeMS-20\" x=\"300.048828\"/>\n     <use xlink:href=\"#ArialUnicodeMS-20\" x=\"327.832031\"/>\n     <use xlink:href=\"#ArialUnicodeMS-20\" x=\"355.615234\"/>\n     <use xlink:href=\"#ArialUnicodeMS-37\" x=\"383.398438\"/>\n     <use xlink:href=\"#ArialUnicodeMS-39\" x=\"439.013672\"/>\n     <use xlink:href=\"#ArialUnicodeMS-30\" x=\"494.628906\"/>\n     <use xlink:href=\"#ArialUnicodeMS-2e\" x=\"550.244141\"/>\n     <use xlink:href=\"#ArialUnicodeMS-39\" x=\"578.027344\"/>\n     <use xlink:href=\"#ArialUnicodeMS-32\" x=\"633.642578\"/>\n    </g>\n    <!--  -->\n    <g transform=\"translate(832.469818 81.991705)scale(0.1 -0.1)\"/>\n    <!-- Q-75%:  19.01 -->\n    <g transform=\"translate(832.469818 92.573267)scale(0.1 -0.1)\">\n     <defs>\n      <path id=\"ArialUnicodeMS-51\" d=\"M 4769 63 \nL 4588 -359 \nQ 4056 -156 3609 206 \nQ 3091 -78 2484 -78 \nQ 1525 -78 912 586 \nQ 300 1250 300 2291 \nQ 300 3322 894 3990 \nQ 1488 4659 2497 4659 \nQ 3456 4659 4070 4006 \nQ 4684 3353 4684 2297 \nQ 4684 1166 3994 494 \nQ 4381 216 4769 63 \nz\nM 3519 825 \nQ 4056 1322 4056 2291 \nQ 4056 3156 3623 3648 \nQ 3191 4141 2497 4141 \nQ 1803 4141 1365 3669 \nQ 928 3197 928 2291 \nQ 928 1403 1365 922 \nQ 1803 441 2497 441 \nQ 2838 441 3109 563 \nQ 2806 756 2509 825 \nL 2656 1269 \nQ 3216 1109 3519 825 \nz\n\" transform=\"scale(0.015625)\"/>\n      <path id=\"ArialUnicodeMS-2d\" d=\"M 1925 1375 \nL 206 1375 \nL 206 1941 \nL 1925 1941 \nL 1925 1375 \nz\n\" transform=\"scale(0.015625)\"/>\n     </defs>\n     <use xlink:href=\"#ArialUnicodeMS-51\"/>\n     <use xlink:href=\"#ArialUnicodeMS-2d\" x=\"77.783203\"/>\n     <use xlink:href=\"#ArialUnicodeMS-37\" x=\"111.083984\"/>\n     <use xlink:href=\"#ArialUnicodeMS-35\" x=\"166.699219\"/>\n     <use xlink:href=\"#ArialUnicodeMS-25\" x=\"222.314453\"/>\n     <use xlink:href=\"#ArialUnicodeMS-3a\" x=\"311.230469\"/>\n     <use xlink:href=\"#ArialUnicodeMS-20\" x=\"339.013672\"/>\n     <use xlink:href=\"#ArialUnicodeMS-20\" x=\"366.796875\"/>\n     <use xlink:href=\"#ArialUnicodeMS-31\" x=\"394.580078\"/>\n     <use xlink:href=\"#ArialUnicodeMS-39\" x=\"450.195312\"/>\n     <use xlink:href=\"#ArialUnicodeMS-2e\" x=\"505.810547\"/>\n     <use xlink:href=\"#ArialUnicodeMS-30\" x=\"533.59375\"/>\n     <use xlink:href=\"#ArialUnicodeMS-31\" x=\"589.208984\"/>\n    </g>\n    <!-- Q-50%:  11.60 -->\n    <g transform=\"translate(832.469818 103.15483)scale(0.1 -0.1)\">\n     <use xlink:href=\"#ArialUnicodeMS-51\"/>\n     <use xlink:href=\"#ArialUnicodeMS-2d\" x=\"77.783203\"/>\n     <use xlink:href=\"#ArialUnicodeMS-35\" x=\"111.083984\"/>\n     <use xlink:href=\"#ArialUnicodeMS-30\" x=\"166.699219\"/>\n     <use xlink:href=\"#ArialUnicodeMS-25\" x=\"222.314453\"/>\n     <use xlink:href=\"#ArialUnicodeMS-3a\" x=\"311.230469\"/>\n     <use xlink:href=\"#ArialUnicodeMS-20\" x=\"339.013672\"/>\n     <use xlink:href=\"#ArialUnicodeMS-20\" x=\"366.796875\"/>\n     <use xlink:href=\"#ArialUnicodeMS-31\" x=\"394.580078\"/>\n     <use xlink:href=\"#ArialUnicodeMS-31\" x=\"450.195312\"/>\n     <use xlink:href=\"#ArialUnicodeMS-2e\" x=\"505.810547\"/>\n     <use xlink:href=\"#ArialUnicodeMS-36\" x=\"533.59375\"/>\n     <use xlink:href=\"#ArialUnicodeMS-30\" x=\"589.208984\"/>\n    </g>\n    <!-- Q-25%:  5.89 -->\n    <g transform=\"translate(832.469818 113.736392)scale(0.1 -0.1)\">\n     <use xlink:href=\"#ArialUnicodeMS-51\"/>\n     <use xlink:href=\"#ArialUnicodeMS-2d\" x=\"77.783203\"/>\n     <use xlink:href=\"#ArialUnicodeMS-32\" x=\"111.083984\"/>\n     <use xlink:href=\"#ArialUnicodeMS-35\" x=\"166.699219\"/>\n     <use xlink:href=\"#ArialUnicodeMS-25\" x=\"222.314453\"/>\n     <use xlink:href=\"#ArialUnicodeMS-3a\" x=\"311.230469\"/>\n     <use xlink:href=\"#ArialUnicodeMS-20\" x=\"339.013672\"/>\n     <use xlink:href=\"#ArialUnicodeMS-20\" x=\"366.796875\"/>\n     <use xlink:href=\"#ArialUnicodeMS-35\" x=\"394.580078\"/>\n     <use xlink:href=\"#ArialUnicodeMS-2e\" x=\"450.195312\"/>\n     <use xlink:href=\"#ArialUnicodeMS-38\" x=\"477.978516\"/>\n     <use xlink:href=\"#ArialUnicodeMS-39\" x=\"533.59375\"/>\n    </g>\n    <!--  -->\n    <g transform=\"translate(832.469818 124.317955)scale(0.1 -0.1)\"/>\n    <!-- Min:      1.00 -->\n    <g transform=\"translate(832.469818 134.899517)scale(0.1 -0.1)\">\n     <use xlink:href=\"#ArialUnicodeMS-4d\"/>\n     <use xlink:href=\"#ArialUnicodeMS-69\" x=\"83.300781\"/>\n     <use xlink:href=\"#ArialUnicodeMS-6e\" x=\"105.517578\"/>\n     <use xlink:href=\"#ArialUnicodeMS-3a\" x=\"161.132812\"/>\n     <use xlink:href=\"#ArialUnicodeMS-20\" x=\"188.916016\"/>\n     <use xlink:href=\"#ArialUnicodeMS-20\" x=\"216.699219\"/>\n     <use xlink:href=\"#ArialUnicodeMS-20\" x=\"244.482422\"/>\n     <use xlink:href=\"#ArialUnicodeMS-20\" x=\"272.265625\"/>\n     <use xlink:href=\"#ArialUnicodeMS-20\" x=\"300.048828\"/>\n     <use xlink:href=\"#ArialUnicodeMS-20\" x=\"327.832031\"/>\n     <use xlink:href=\"#ArialUnicodeMS-31\" x=\"355.615234\"/>\n     <use xlink:href=\"#ArialUnicodeMS-2e\" x=\"411.230469\"/>\n     <use xlink:href=\"#ArialUnicodeMS-30\" x=\"439.013672\"/>\n     <use xlink:href=\"#ArialUnicodeMS-30\" x=\"494.628906\"/>\n    </g>\n    <!--  -->\n    <g transform=\"translate(832.469818 145.48108)scale(0.1 -0.1)\"/>\n   </g>\n   <g id=\"text_47\">\n    <!-- Original_amount_orig_ccy -->\n    <g transform=\"translate(761.008397 15.935625)scale(0.12 -0.12)\">\n     <use xlink:href=\"#ArialUnicodeMS-4f\"/>\n     <use xlink:href=\"#ArialUnicodeMS-72\" x=\"77.783203\"/>\n     <use xlink:href=\"#ArialUnicodeMS-69\" x=\"111.083984\"/>\n     <use xlink:href=\"#ArialUnicodeMS-67\" x=\"133.300781\"/>\n     <use xlink:href=\"#ArialUnicodeMS-69\" x=\"188.916016\"/>\n     <use xlink:href=\"#ArialUnicodeMS-6e\" x=\"211.132812\"/>\n     <use xlink:href=\"#ArialUnicodeMS-61\" x=\"266.748047\"/>\n     <use xlink:href=\"#ArialUnicodeMS-6c\" x=\"322.363281\"/>\n     <use xlink:href=\"#ArialUnicodeMS-5f\" x=\"344.580078\"/>\n     <use xlink:href=\"#ArialUnicodeMS-61\" x=\"394.580078\"/>\n     <use xlink:href=\"#ArialUnicodeMS-6d\" x=\"450.195312\"/>\n     <use xlink:href=\"#ArialUnicodeMS-6f\" x=\"533.496094\"/>\n     <use xlink:href=\"#ArialUnicodeMS-75\" x=\"589.111328\"/>\n     <use xlink:href=\"#ArialUnicodeMS-6e\" x=\"644.726562\"/>\n     <use xlink:href=\"#ArialUnicodeMS-74\" x=\"700.341797\"/>\n     <use xlink:href=\"#ArialUnicodeMS-5f\" x=\"728.125\"/>\n     <use xlink:href=\"#ArialUnicodeMS-6f\" x=\"778.125\"/>\n     <use xlink:href=\"#ArialUnicodeMS-72\" x=\"833.740234\"/>\n     <use xlink:href=\"#ArialUnicodeMS-69\" x=\"867.041016\"/>\n     <use xlink:href=\"#ArialUnicodeMS-67\" x=\"889.257812\"/>\n     <use xlink:href=\"#ArialUnicodeMS-5f\" x=\"944.873047\"/>\n     <use xlink:href=\"#ArialUnicodeMS-63\" x=\"994.873047\"/>\n     <use xlink:href=\"#ArialUnicodeMS-63\" x=\"1044.873047\"/>\n     <use xlink:href=\"#ArialUnicodeMS-79\" x=\"1094.873047\"/>\n    </g>\n   </g>\n  </g>\n  <g id=\"axes_5\">\n   <g id=\"patch_59\">\n    <path d=\"M 33.940625 565.535625 \nL 228.027582 565.535625 \nL 228.027582 318.444716 \nL 33.940625 318.444716 \nz\n\" style=\"fill: #ffffff\"/>\n   </g>\n   <g id=\"patch_60\">\n    <path d=\"M 61.667333 470.068683 \nL 117.120749 470.068683 \nL 117.120749 413.911658 \nL 61.667333 413.911658 \nL 61.667333 470.068683 \nz\n\" clip-path=\"url(#pecc40c9af2)\" style=\"fill: none; stroke: #000000; stroke-linejoin: miter\"/>\n   </g>\n   <g id=\"PathCollection_5\">\n    <defs>\n     <path id=\"C1_0_12fe208a0c\" d=\"M 0 3 \nC 0.795609 3 1.55874 2.683901 2.12132 2.12132 \nC 2.683901 1.55874 3 0.795609 3 -0 \nC 3 -0.795609 2.683901 -1.55874 2.12132 -2.12132 \nC 1.55874 -2.683901 0.795609 -3 0 -3 \nC -0.795609 -3 -1.55874 -2.683901 -2.12132 -2.12132 \nC -2.683901 -1.55874 -3 -0.795609 -3 0 \nC -3 0.795609 -2.683901 1.55874 -2.12132 2.12132 \nC -1.55874 2.683901 -0.795609 3 0 3 \nz\n\"/>\n    </defs>\n    <g clip-path=\"url(#pecc40c9af2)\">\n     <use xlink:href=\"#C1_0_12fe208a0c\" x=\"89.394041\" y=\"485.008156\" style=\"fill: none; stroke: #0000ff\"/>\n    </g>\n    <g clip-path=\"url(#pecc40c9af2)\">\n     <use xlink:href=\"#C1_0_12fe208a0c\" x=\"89.394041\" y=\"342.944076\" style=\"fill: none; stroke: #0000ff\"/>\n    </g>\n   </g>\n   <g id=\"matplotlib.axis_2\">\n    <g id=\"ytick_10\">\n     <g id=\"line2d_15\">\n      <g>\n       <use xlink:href=\"#m00568a2d06\" x=\"33.940625\" y=\"537.38816\" style=\"stroke: #000000; stroke-width: 0.8\"/>\n      </g>\n     </g>\n     <g id=\"text_48\">\n      <!-- −0.5 -->\n      <g transform=\"translate(7.2 540.967066)scale(0.1 -0.1)\">\n       <defs>\n        <path id=\"ArialUnicodeMS-2212\" d=\"M 3384 1997 \nL 353 1997 \nL 353 2522 \nL 3384 2522 \nL 3384 1997 \nz\n\" transform=\"scale(0.015625)\"/>\n       </defs>\n       <use xlink:href=\"#ArialUnicodeMS-2212\"/>\n       <use xlink:href=\"#ArialUnicodeMS-30\" x=\"58.398438\"/>\n       <use xlink:href=\"#ArialUnicodeMS-2e\" x=\"114.013672\"/>\n       <use xlink:href=\"#ArialUnicodeMS-35\" x=\"141.796875\"/>\n      </g>\n     </g>\n    </g>\n    <g id=\"ytick_11\">\n     <g id=\"line2d_16\">\n      <g>\n       <use xlink:href=\"#m00568a2d06\" x=\"33.940625\" y=\"485.914791\" style=\"stroke: #000000; stroke-width: 0.8\"/>\n      </g>\n     </g>\n     <g id=\"text_49\">\n      <!-- 0.0 -->\n      <g transform=\"translate(13.040625 489.493697)scale(0.1 -0.1)\">\n       <use xlink:href=\"#ArialUnicodeMS-30\"/>\n       <use xlink:href=\"#ArialUnicodeMS-2e\" x=\"55.615234\"/>\n       <use xlink:href=\"#ArialUnicodeMS-30\" x=\"83.398438\"/>\n      </g>\n     </g>\n    </g>\n    <g id=\"ytick_12\">\n     <g id=\"line2d_17\">\n      <g>\n       <use xlink:href=\"#m00568a2d06\" x=\"33.940625\" y=\"434.441421\" style=\"stroke: #000000; stroke-width: 0.8\"/>\n      </g>\n     </g>\n     <g id=\"text_50\">\n      <!-- 0.5 -->\n      <g transform=\"translate(13.040625 438.020327)scale(0.1 -0.1)\">\n       <use xlink:href=\"#ArialUnicodeMS-30\"/>\n       <use xlink:href=\"#ArialUnicodeMS-2e\" x=\"55.615234\"/>\n       <use xlink:href=\"#ArialUnicodeMS-35\" x=\"83.398438\"/>\n      </g>\n     </g>\n    </g>\n    <g id=\"ytick_13\">\n     <g id=\"line2d_18\">\n      <g>\n       <use xlink:href=\"#m00568a2d06\" x=\"33.940625\" y=\"382.968052\" style=\"stroke: #000000; stroke-width: 0.8\"/>\n      </g>\n     </g>\n     <g id=\"text_51\">\n      <!-- 1.0 -->\n      <g transform=\"translate(13.040625 386.546958)scale(0.1 -0.1)\">\n       <use xlink:href=\"#ArialUnicodeMS-31\"/>\n       <use xlink:href=\"#ArialUnicodeMS-2e\" x=\"55.615234\"/>\n       <use xlink:href=\"#ArialUnicodeMS-30\" x=\"83.398438\"/>\n      </g>\n     </g>\n    </g>\n    <g id=\"ytick_14\">\n     <g id=\"line2d_19\">\n      <g>\n       <use xlink:href=\"#m00568a2d06\" x=\"33.940625\" y=\"331.494682\" style=\"stroke: #000000; stroke-width: 0.8\"/>\n      </g>\n     </g>\n     <g id=\"text_52\">\n      <!-- 1.5 -->\n      <g transform=\"translate(13.040625 335.073588)scale(0.1 -0.1)\">\n       <use xlink:href=\"#ArialUnicodeMS-31\"/>\n       <use xlink:href=\"#ArialUnicodeMS-2e\" x=\"55.615234\"/>\n       <use xlink:href=\"#ArialUnicodeMS-35\" x=\"83.398438\"/>\n      </g>\n     </g>\n    </g>\n   </g>\n   <g id=\"line2d_20\">\n    <path d=\"M 89.394041 554.30422 \nL 89.394041 470.068683 \n\" clip-path=\"url(#pecc40c9af2)\" style=\"fill: none; stroke: #000000; stroke-linecap: square\"/>\n   </g>\n   <g id=\"line2d_21\">\n    <path d=\"M 89.394041 413.911658 \nL 89.394041 329.676121 \n\" clip-path=\"url(#pecc40c9af2)\" style=\"fill: none; stroke: #000000; stroke-linecap: square\"/>\n   </g>\n   <g id=\"line2d_22\">\n    <path d=\"M 61.667333 469.751219 \nL 117.120749 469.751219 \n\" clip-path=\"url(#pecc40c9af2)\" style=\"fill: none; stroke: #ffa500; stroke-linecap: square\"/>\n   </g>\n   <g id=\"line2d_23\">\n    <path d=\"M 75.530687 554.30422 \nL 103.257395 554.30422 \n\" clip-path=\"url(#pecc40c9af2)\" style=\"fill: none; stroke: #000000; stroke-linecap: square\"/>\n   </g>\n   <g id=\"line2d_24\">\n    <path d=\"M 75.530687 329.676121 \nL 103.257395 329.676121 \n\" clip-path=\"url(#pecc40c9af2)\" style=\"fill: none; stroke: #000000; stroke-linecap: square\"/>\n   </g>\n   <g id=\"patch_61\">\n    <path d=\"M 33.940625 565.535625 \nL 33.940625 318.444716 \n\" style=\"fill: none; stroke: #000000; stroke-width: 0.8; stroke-linejoin: miter; stroke-linecap: square\"/>\n   </g>\n   <g id=\"patch_62\">\n    <path d=\"M 228.027582 565.535625 \nL 228.027582 318.444716 \n\" style=\"fill: none; stroke: #000000; stroke-width: 0.8; stroke-linejoin: miter; stroke-linecap: square\"/>\n   </g>\n   <g id=\"patch_63\">\n    <path d=\"M 33.940625 565.535625 \nL 228.027582 565.535625 \n\" style=\"fill: none; stroke: #000000; stroke-width: 0.8; stroke-linejoin: miter; stroke-linecap: square\"/>\n   </g>\n   <g id=\"patch_64\">\n    <path d=\"M 33.940625 318.444716 \nL 228.027582 318.444716 \n\" style=\"fill: none; stroke: #000000; stroke-width: 0.8; stroke-linejoin: miter; stroke-linecap: square\"/>\n   </g>\n   <g id=\"text_53\">\n    <!-- Completness: 1.00 -->\n    <g transform=\"translate(133.756774 346.756108)scale(0.1 -0.1)\">\n     <use xlink:href=\"#ArialUnicodeMS-43\"/>\n     <use xlink:href=\"#ArialUnicodeMS-6f\" x=\"72.216797\"/>\n     <use xlink:href=\"#ArialUnicodeMS-6d\" x=\"127.832031\"/>\n     <use xlink:href=\"#ArialUnicodeMS-70\" x=\"211.132812\"/>\n     <use xlink:href=\"#ArialUnicodeMS-6c\" x=\"266.748047\"/>\n     <use xlink:href=\"#ArialUnicodeMS-65\" x=\"288.964844\"/>\n     <use xlink:href=\"#ArialUnicodeMS-74\" x=\"344.580078\"/>\n     <use xlink:href=\"#ArialUnicodeMS-6e\" x=\"372.363281\"/>\n     <use xlink:href=\"#ArialUnicodeMS-65\" x=\"427.978516\"/>\n     <use xlink:href=\"#ArialUnicodeMS-73\" x=\"483.59375\"/>\n     <use xlink:href=\"#ArialUnicodeMS-73\" x=\"533.59375\"/>\n     <use xlink:href=\"#ArialUnicodeMS-3a\" x=\"583.59375\"/>\n     <use xlink:href=\"#ArialUnicodeMS-20\" x=\"611.376953\"/>\n     <use xlink:href=\"#ArialUnicodeMS-31\" x=\"639.160156\"/>\n     <use xlink:href=\"#ArialUnicodeMS-2e\" x=\"694.775391\"/>\n     <use xlink:href=\"#ArialUnicodeMS-30\" x=\"722.558594\"/>\n     <use xlink:href=\"#ArialUnicodeMS-30\" x=\"778.173828\"/>\n    </g>\n    <!--  -->\n    <g transform=\"translate(133.756774 357.33767)scale(0.1 -0.1)\"/>\n    <!-- Max:      1.39 -->\n    <g transform=\"translate(133.756774 367.919233)scale(0.1 -0.1)\">\n     <use xlink:href=\"#ArialUnicodeMS-4d\"/>\n     <use xlink:href=\"#ArialUnicodeMS-61\" x=\"83.300781\"/>\n     <use xlink:href=\"#ArialUnicodeMS-78\" x=\"138.916016\"/>\n     <use xlink:href=\"#ArialUnicodeMS-3a\" x=\"188.916016\"/>\n     <use xlink:href=\"#ArialUnicodeMS-20\" x=\"216.699219\"/>\n     <use xlink:href=\"#ArialUnicodeMS-20\" x=\"244.482422\"/>\n     <use xlink:href=\"#ArialUnicodeMS-20\" x=\"272.265625\"/>\n     <use xlink:href=\"#ArialUnicodeMS-20\" x=\"300.048828\"/>\n     <use xlink:href=\"#ArialUnicodeMS-20\" x=\"327.832031\"/>\n     <use xlink:href=\"#ArialUnicodeMS-20\" x=\"355.615234\"/>\n     <use xlink:href=\"#ArialUnicodeMS-31\" x=\"383.398438\"/>\n     <use xlink:href=\"#ArialUnicodeMS-2e\" x=\"439.013672\"/>\n     <use xlink:href=\"#ArialUnicodeMS-33\" x=\"466.796875\"/>\n     <use xlink:href=\"#ArialUnicodeMS-39\" x=\"522.412109\"/>\n    </g>\n    <!--  -->\n    <g transform=\"translate(133.756774 378.500795)scale(0.1 -0.1)\"/>\n    <!-- Q-75%:  0.70 -->\n    <g transform=\"translate(133.756774 389.082358)scale(0.1 -0.1)\">\n     <use xlink:href=\"#ArialUnicodeMS-51\"/>\n     <use xlink:href=\"#ArialUnicodeMS-2d\" x=\"77.783203\"/>\n     <use xlink:href=\"#ArialUnicodeMS-37\" x=\"111.083984\"/>\n     <use xlink:href=\"#ArialUnicodeMS-35\" x=\"166.699219\"/>\n     <use xlink:href=\"#ArialUnicodeMS-25\" x=\"222.314453\"/>\n     <use xlink:href=\"#ArialUnicodeMS-3a\" x=\"311.230469\"/>\n     <use xlink:href=\"#ArialUnicodeMS-20\" x=\"339.013672\"/>\n     <use xlink:href=\"#ArialUnicodeMS-20\" x=\"366.796875\"/>\n     <use xlink:href=\"#ArialUnicodeMS-30\" x=\"394.580078\"/>\n     <use xlink:href=\"#ArialUnicodeMS-2e\" x=\"450.195312\"/>\n     <use xlink:href=\"#ArialUnicodeMS-37\" x=\"477.978516\"/>\n     <use xlink:href=\"#ArialUnicodeMS-30\" x=\"533.59375\"/>\n    </g>\n    <!-- Q-50%:  0.16 -->\n    <g transform=\"translate(133.756774 399.66392)scale(0.1 -0.1)\">\n     <use xlink:href=\"#ArialUnicodeMS-51\"/>\n     <use xlink:href=\"#ArialUnicodeMS-2d\" x=\"77.783203\"/>\n     <use xlink:href=\"#ArialUnicodeMS-35\" x=\"111.083984\"/>\n     <use xlink:href=\"#ArialUnicodeMS-30\" x=\"166.699219\"/>\n     <use xlink:href=\"#ArialUnicodeMS-25\" x=\"222.314453\"/>\n     <use xlink:href=\"#ArialUnicodeMS-3a\" x=\"311.230469\"/>\n     <use xlink:href=\"#ArialUnicodeMS-20\" x=\"339.013672\"/>\n     <use xlink:href=\"#ArialUnicodeMS-20\" x=\"366.796875\"/>\n     <use xlink:href=\"#ArialUnicodeMS-30\" x=\"394.580078\"/>\n     <use xlink:href=\"#ArialUnicodeMS-2e\" x=\"450.195312\"/>\n     <use xlink:href=\"#ArialUnicodeMS-31\" x=\"477.978516\"/>\n     <use xlink:href=\"#ArialUnicodeMS-36\" x=\"533.59375\"/>\n    </g>\n    <!-- Q-25%:  0.15 -->\n    <g transform=\"translate(133.756774 410.245483)scale(0.1 -0.1)\">\n     <use xlink:href=\"#ArialUnicodeMS-51\"/>\n     <use xlink:href=\"#ArialUnicodeMS-2d\" x=\"77.783203\"/>\n     <use xlink:href=\"#ArialUnicodeMS-32\" x=\"111.083984\"/>\n     <use xlink:href=\"#ArialUnicodeMS-35\" x=\"166.699219\"/>\n     <use xlink:href=\"#ArialUnicodeMS-25\" x=\"222.314453\"/>\n     <use xlink:href=\"#ArialUnicodeMS-3a\" x=\"311.230469\"/>\n     <use xlink:href=\"#ArialUnicodeMS-20\" x=\"339.013672\"/>\n     <use xlink:href=\"#ArialUnicodeMS-20\" x=\"366.796875\"/>\n     <use xlink:href=\"#ArialUnicodeMS-30\" x=\"394.580078\"/>\n     <use xlink:href=\"#ArialUnicodeMS-2e\" x=\"450.195312\"/>\n     <use xlink:href=\"#ArialUnicodeMS-31\" x=\"477.978516\"/>\n     <use xlink:href=\"#ArialUnicodeMS-35\" x=\"533.59375\"/>\n    </g>\n    <!--  -->\n    <g transform=\"translate(133.756774 420.827045)scale(0.1 -0.1)\"/>\n    <!-- Min:      0.01 -->\n    <g transform=\"translate(133.756774 431.408608)scale(0.1 -0.1)\">\n     <use xlink:href=\"#ArialUnicodeMS-4d\"/>\n     <use xlink:href=\"#ArialUnicodeMS-69\" x=\"83.300781\"/>\n     <use xlink:href=\"#ArialUnicodeMS-6e\" x=\"105.517578\"/>\n     <use xlink:href=\"#ArialUnicodeMS-3a\" x=\"161.132812\"/>\n     <use xlink:href=\"#ArialUnicodeMS-20\" x=\"188.916016\"/>\n     <use xlink:href=\"#ArialUnicodeMS-20\" x=\"216.699219\"/>\n     <use xlink:href=\"#ArialUnicodeMS-20\" x=\"244.482422\"/>\n     <use xlink:href=\"#ArialUnicodeMS-20\" x=\"272.265625\"/>\n     <use xlink:href=\"#ArialUnicodeMS-20\" x=\"300.048828\"/>\n     <use xlink:href=\"#ArialUnicodeMS-20\" x=\"327.832031\"/>\n     <use xlink:href=\"#ArialUnicodeMS-30\" x=\"355.615234\"/>\n     <use xlink:href=\"#ArialUnicodeMS-2e\" x=\"411.230469\"/>\n     <use xlink:href=\"#ArialUnicodeMS-30\" x=\"439.013672\"/>\n     <use xlink:href=\"#ArialUnicodeMS-31\" x=\"494.628906\"/>\n    </g>\n    <!--  -->\n    <g transform=\"translate(133.756774 441.99017)scale(0.1 -0.1)\"/>\n   </g>\n   <g id=\"text_54\">\n    <!-- Original_Inverse_USD -->\n    <g transform=\"translate(71.967541 312.444716)scale(0.12 -0.12)\">\n     <use xlink:href=\"#ArialUnicodeMS-4f\"/>\n     <use xlink:href=\"#ArialUnicodeMS-72\" x=\"77.783203\"/>\n     <use xlink:href=\"#ArialUnicodeMS-69\" x=\"111.083984\"/>\n     <use xlink:href=\"#ArialUnicodeMS-67\" x=\"133.300781\"/>\n     <use xlink:href=\"#ArialUnicodeMS-69\" x=\"188.916016\"/>\n     <use xlink:href=\"#ArialUnicodeMS-6e\" x=\"211.132812\"/>\n     <use xlink:href=\"#ArialUnicodeMS-61\" x=\"266.748047\"/>\n     <use xlink:href=\"#ArialUnicodeMS-6c\" x=\"322.363281\"/>\n     <use xlink:href=\"#ArialUnicodeMS-5f\" x=\"344.580078\"/>\n     <use xlink:href=\"#ArialUnicodeMS-49\" x=\"394.580078\"/>\n     <use xlink:href=\"#ArialUnicodeMS-6e\" x=\"422.363281\"/>\n     <use xlink:href=\"#ArialUnicodeMS-76\" x=\"477.978516\"/>\n     <use xlink:href=\"#ArialUnicodeMS-65\" x=\"527.978516\"/>\n     <use xlink:href=\"#ArialUnicodeMS-72\" x=\"583.59375\"/>\n     <use xlink:href=\"#ArialUnicodeMS-73\" x=\"616.894531\"/>\n     <use xlink:href=\"#ArialUnicodeMS-65\" x=\"666.894531\"/>\n     <use xlink:href=\"#ArialUnicodeMS-5f\" x=\"722.509766\"/>\n     <use xlink:href=\"#ArialUnicodeMS-55\" x=\"772.509766\"/>\n     <use xlink:href=\"#ArialUnicodeMS-53\" x=\"844.726562\"/>\n     <use xlink:href=\"#ArialUnicodeMS-44\" x=\"911.425781\"/>\n    </g>\n   </g>\n  </g>\n  <g id=\"axes_6\">\n   <g id=\"patch_65\">\n    <path d=\"M 266.844973 565.535625 \nL 460.931929 565.535625 \nL 460.931929 318.444716 \nL 266.844973 318.444716 \nz\n\" style=\"fill: #ffffff\"/>\n   </g>\n   <g id=\"patch_66\">\n    <path d=\"M 294.571681 541.091675 \nL 350.025097 541.091675 \nL 350.025097 532.283312 \nL 294.571681 532.283312 \nL 294.571681 541.091675 \nz\n\" clip-path=\"url(#p5842383e44)\" style=\"fill: none; stroke: #000000; stroke-linejoin: miter\"/>\n   </g>\n   <g id=\"PathCollection_6\">\n    <defs>\n     <path id=\"C2_0_ee195a4a60\" d=\"M 0 3 \nC 0.795609 3 1.55874 2.683901 2.12132 2.12132 \nC 2.683901 1.55874 3 0.795609 3 -0 \nC 3 -0.795609 2.683901 -1.55874 2.12132 -2.12132 \nC 1.55874 -2.683901 0.795609 -3 0 -3 \nC -0.795609 -3 -1.55874 -2.683901 -2.12132 -2.12132 \nC -2.683901 -1.55874 -3 -0.795609 -3 0 \nC -3 0.795609 -2.683901 1.55874 -2.12132 2.12132 \nC -1.55874 2.683901 -0.795609 3 0 3 \nz\n\"/>\n    </defs>\n    <g clip-path=\"url(#p5842383e44)\">\n     <use xlink:href=\"#C2_0_ee195a4a60\" x=\"322.298389\" y=\"542.558274\" style=\"fill: none; stroke: #0000ff\"/>\n    </g>\n    <g clip-path=\"url(#p5842383e44)\">\n     <use xlink:href=\"#C2_0_ee195a4a60\" x=\"322.298389\" y=\"329.676121\" style=\"fill: none; stroke: #0000ff\"/>\n    </g>\n   </g>\n   <g id=\"matplotlib.axis_3\">\n    <g id=\"ytick_15\">\n     <g id=\"line2d_25\">\n      <g>\n       <use xlink:href=\"#m00568a2d06\" x=\"266.844973\" y=\"542.829025\" style=\"stroke: #000000; stroke-width: 0.8\"/>\n      </g>\n     </g>\n     <g id=\"text_55\">\n      <!-- 0 -->\n      <g transform=\"translate(254.284035 546.407931)scale(0.1 -0.1)\">\n       <use xlink:href=\"#ArialUnicodeMS-30\"/>\n      </g>\n     </g>\n    </g>\n    <g id=\"ytick_16\">\n     <g id=\"line2d_26\">\n      <g>\n       <use xlink:href=\"#m00568a2d06\" x=\"266.844973\" y=\"508.08203\" style=\"stroke: #000000; stroke-width: 0.8\"/>\n      </g>\n     </g>\n     <g id=\"text_56\">\n      <!-- 20 -->\n      <g transform=\"translate(248.723098 511.660937)scale(0.1 -0.1)\">\n       <use xlink:href=\"#ArialUnicodeMS-32\"/>\n       <use xlink:href=\"#ArialUnicodeMS-30\" x=\"55.615234\"/>\n      </g>\n     </g>\n    </g>\n    <g id=\"ytick_17\">\n     <g id=\"line2d_27\">\n      <g>\n       <use xlink:href=\"#m00568a2d06\" x=\"266.844973\" y=\"473.335036\" style=\"stroke: #000000; stroke-width: 0.8\"/>\n      </g>\n     </g>\n     <g id=\"text_57\">\n      <!-- 40 -->\n      <g transform=\"translate(248.723098 476.913942)scale(0.1 -0.1)\">\n       <use xlink:href=\"#ArialUnicodeMS-34\"/>\n       <use xlink:href=\"#ArialUnicodeMS-30\" x=\"55.615234\"/>\n      </g>\n     </g>\n    </g>\n    <g id=\"ytick_18\">\n     <g id=\"line2d_28\">\n      <g>\n       <use xlink:href=\"#m00568a2d06\" x=\"266.844973\" y=\"438.588041\" style=\"stroke: #000000; stroke-width: 0.8\"/>\n      </g>\n     </g>\n     <g id=\"text_58\">\n      <!-- 60 -->\n      <g transform=\"translate(248.723098 442.166947)scale(0.1 -0.1)\">\n       <use xlink:href=\"#ArialUnicodeMS-36\"/>\n       <use xlink:href=\"#ArialUnicodeMS-30\" x=\"55.615234\"/>\n      </g>\n     </g>\n    </g>\n    <g id=\"ytick_19\">\n     <g id=\"line2d_29\">\n      <g>\n       <use xlink:href=\"#m00568a2d06\" x=\"266.844973\" y=\"403.841046\" style=\"stroke: #000000; stroke-width: 0.8\"/>\n      </g>\n     </g>\n     <g id=\"text_59\">\n      <!-- 80 -->\n      <g transform=\"translate(248.723098 407.419952)scale(0.1 -0.1)\">\n       <use xlink:href=\"#ArialUnicodeMS-38\"/>\n       <use xlink:href=\"#ArialUnicodeMS-30\" x=\"55.615234\"/>\n      </g>\n     </g>\n    </g>\n    <g id=\"ytick_20\">\n     <g id=\"line2d_30\">\n      <g>\n       <use xlink:href=\"#m00568a2d06\" x=\"266.844973\" y=\"369.094051\" style=\"stroke: #000000; stroke-width: 0.8\"/>\n      </g>\n     </g>\n     <g id=\"text_60\">\n      <!-- 100 -->\n      <g transform=\"translate(243.16216 372.672958)scale(0.1 -0.1)\">\n       <use xlink:href=\"#ArialUnicodeMS-31\"/>\n       <use xlink:href=\"#ArialUnicodeMS-30\" x=\"55.615234\"/>\n       <use xlink:href=\"#ArialUnicodeMS-30\" x=\"111.230469\"/>\n      </g>\n     </g>\n    </g>\n    <g id=\"ytick_21\">\n     <g id=\"line2d_31\">\n      <g>\n       <use xlink:href=\"#m00568a2d06\" x=\"266.844973\" y=\"334.347057\" style=\"stroke: #000000; stroke-width: 0.8\"/>\n      </g>\n     </g>\n     <g id=\"text_61\">\n      <!-- 120 -->\n      <g transform=\"translate(243.16216 337.925963)scale(0.1 -0.1)\">\n       <use xlink:href=\"#ArialUnicodeMS-31\"/>\n       <use xlink:href=\"#ArialUnicodeMS-32\" x=\"55.615234\"/>\n       <use xlink:href=\"#ArialUnicodeMS-30\" x=\"111.230469\"/>\n      </g>\n     </g>\n    </g>\n   </g>\n   <g id=\"line2d_32\">\n    <path d=\"M 322.298389 554.30422 \nL 322.298389 541.091675 \n\" clip-path=\"url(#p5842383e44)\" style=\"fill: none; stroke: #000000; stroke-linecap: square\"/>\n   </g>\n   <g id=\"line2d_33\">\n    <path d=\"M 322.298389 532.283312 \nL 322.298389 519.070767 \n\" clip-path=\"url(#p5842383e44)\" style=\"fill: none; stroke: #000000; stroke-linecap: square\"/>\n   </g>\n   <g id=\"line2d_34\">\n    <path d=\"M 294.571681 539.505744 \nL 350.025097 539.505744 \n\" clip-path=\"url(#p5842383e44)\" style=\"fill: none; stroke: #ffa500; stroke-linecap: square\"/>\n   </g>\n   <g id=\"line2d_35\">\n    <path d=\"M 308.435035 554.30422 \nL 336.161743 554.30422 \n\" clip-path=\"url(#p5842383e44)\" style=\"fill: none; stroke: #000000; stroke-linecap: square\"/>\n   </g>\n   <g id=\"line2d_36\">\n    <path d=\"M 308.435035 519.070767 \nL 336.161743 519.070767 \n\" clip-path=\"url(#p5842383e44)\" style=\"fill: none; stroke: #000000; stroke-linecap: square\"/>\n   </g>\n   <g id=\"patch_67\">\n    <path d=\"M 266.844973 565.535625 \nL 266.844973 318.444716 \n\" style=\"fill: none; stroke: #000000; stroke-width: 0.8; stroke-linejoin: miter; stroke-linecap: square\"/>\n   </g>\n   <g id=\"patch_68\">\n    <path d=\"M 460.931929 565.535625 \nL 460.931929 318.444716 \n\" style=\"fill: none; stroke: #000000; stroke-width: 0.8; stroke-linejoin: miter; stroke-linecap: square\"/>\n   </g>\n   <g id=\"patch_69\">\n    <path d=\"M 266.844973 565.535625 \nL 460.931929 565.535625 \n\" style=\"fill: none; stroke: #000000; stroke-width: 0.8; stroke-linejoin: miter; stroke-linecap: square\"/>\n   </g>\n   <g id=\"patch_70\">\n    <path d=\"M 266.844973 318.444716 \nL 460.931929 318.444716 \n\" style=\"fill: none; stroke: #000000; stroke-width: 0.8; stroke-linejoin: miter; stroke-linecap: square\"/>\n   </g>\n   <g id=\"text_62\">\n    <!-- Completness: 1.00 -->\n    <g transform=\"translate(366.661122 346.756108)scale(0.1 -0.1)\">\n     <use xlink:href=\"#ArialUnicodeMS-43\"/>\n     <use xlink:href=\"#ArialUnicodeMS-6f\" x=\"72.216797\"/>\n     <use xlink:href=\"#ArialUnicodeMS-6d\" x=\"127.832031\"/>\n     <use xlink:href=\"#ArialUnicodeMS-70\" x=\"211.132812\"/>\n     <use xlink:href=\"#ArialUnicodeMS-6c\" x=\"266.748047\"/>\n     <use xlink:href=\"#ArialUnicodeMS-65\" x=\"288.964844\"/>\n     <use xlink:href=\"#ArialUnicodeMS-74\" x=\"344.580078\"/>\n     <use xlink:href=\"#ArialUnicodeMS-6e\" x=\"372.363281\"/>\n     <use xlink:href=\"#ArialUnicodeMS-65\" x=\"427.978516\"/>\n     <use xlink:href=\"#ArialUnicodeMS-73\" x=\"483.59375\"/>\n     <use xlink:href=\"#ArialUnicodeMS-73\" x=\"533.59375\"/>\n     <use xlink:href=\"#ArialUnicodeMS-3a\" x=\"583.59375\"/>\n     <use xlink:href=\"#ArialUnicodeMS-20\" x=\"611.376953\"/>\n     <use xlink:href=\"#ArialUnicodeMS-31\" x=\"639.160156\"/>\n     <use xlink:href=\"#ArialUnicodeMS-2e\" x=\"694.775391\"/>\n     <use xlink:href=\"#ArialUnicodeMS-30\" x=\"722.558594\"/>\n     <use xlink:href=\"#ArialUnicodeMS-30\" x=\"778.173828\"/>\n    </g>\n    <!--  -->\n    <g transform=\"translate(366.661122 357.33767)scale(0.1 -0.1)\"/>\n    <!-- Max:      122.69 -->\n    <g transform=\"translate(366.661122 367.919233)scale(0.1 -0.1)\">\n     <use xlink:href=\"#ArialUnicodeMS-4d\"/>\n     <use xlink:href=\"#ArialUnicodeMS-61\" x=\"83.300781\"/>\n     <use xlink:href=\"#ArialUnicodeMS-78\" x=\"138.916016\"/>\n     <use xlink:href=\"#ArialUnicodeMS-3a\" x=\"188.916016\"/>\n     <use xlink:href=\"#ArialUnicodeMS-20\" x=\"216.699219\"/>\n     <use xlink:href=\"#ArialUnicodeMS-20\" x=\"244.482422\"/>\n     <use xlink:href=\"#ArialUnicodeMS-20\" x=\"272.265625\"/>\n     <use xlink:href=\"#ArialUnicodeMS-20\" x=\"300.048828\"/>\n     <use xlink:href=\"#ArialUnicodeMS-20\" x=\"327.832031\"/>\n     <use xlink:href=\"#ArialUnicodeMS-20\" x=\"355.615234\"/>\n     <use xlink:href=\"#ArialUnicodeMS-31\" x=\"383.398438\"/>\n     <use xlink:href=\"#ArialUnicodeMS-32\" x=\"439.013672\"/>\n     <use xlink:href=\"#ArialUnicodeMS-32\" x=\"494.628906\"/>\n     <use xlink:href=\"#ArialUnicodeMS-2e\" x=\"550.244141\"/>\n     <use xlink:href=\"#ArialUnicodeMS-36\" x=\"578.027344\"/>\n     <use xlink:href=\"#ArialUnicodeMS-39\" x=\"633.642578\"/>\n    </g>\n    <!--  -->\n    <g transform=\"translate(366.661122 378.500795)scale(0.1 -0.1)\"/>\n    <!-- Q-75%:  6.07 -->\n    <g transform=\"translate(366.661122 389.082358)scale(0.1 -0.1)\">\n     <use xlink:href=\"#ArialUnicodeMS-51\"/>\n     <use xlink:href=\"#ArialUnicodeMS-2d\" x=\"77.783203\"/>\n     <use xlink:href=\"#ArialUnicodeMS-37\" x=\"111.083984\"/>\n     <use xlink:href=\"#ArialUnicodeMS-35\" x=\"166.699219\"/>\n     <use xlink:href=\"#ArialUnicodeMS-25\" x=\"222.314453\"/>\n     <use xlink:href=\"#ArialUnicodeMS-3a\" x=\"311.230469\"/>\n     <use xlink:href=\"#ArialUnicodeMS-20\" x=\"339.013672\"/>\n     <use xlink:href=\"#ArialUnicodeMS-20\" x=\"366.796875\"/>\n     <use xlink:href=\"#ArialUnicodeMS-36\" x=\"394.580078\"/>\n     <use xlink:href=\"#ArialUnicodeMS-2e\" x=\"450.195312\"/>\n     <use xlink:href=\"#ArialUnicodeMS-30\" x=\"477.978516\"/>\n     <use xlink:href=\"#ArialUnicodeMS-37\" x=\"533.59375\"/>\n    </g>\n    <!-- Q-50%:  1.91 -->\n    <g transform=\"translate(366.661122 399.66392)scale(0.1 -0.1)\">\n     <use xlink:href=\"#ArialUnicodeMS-51\"/>\n     <use xlink:href=\"#ArialUnicodeMS-2d\" x=\"77.783203\"/>\n     <use xlink:href=\"#ArialUnicodeMS-35\" x=\"111.083984\"/>\n     <use xlink:href=\"#ArialUnicodeMS-30\" x=\"166.699219\"/>\n     <use xlink:href=\"#ArialUnicodeMS-25\" x=\"222.314453\"/>\n     <use xlink:href=\"#ArialUnicodeMS-3a\" x=\"311.230469\"/>\n     <use xlink:href=\"#ArialUnicodeMS-20\" x=\"339.013672\"/>\n     <use xlink:href=\"#ArialUnicodeMS-20\" x=\"366.796875\"/>\n     <use xlink:href=\"#ArialUnicodeMS-31\" x=\"394.580078\"/>\n     <use xlink:href=\"#ArialUnicodeMS-2e\" x=\"450.195312\"/>\n     <use xlink:href=\"#ArialUnicodeMS-39\" x=\"477.978516\"/>\n     <use xlink:href=\"#ArialUnicodeMS-31\" x=\"533.59375\"/>\n    </g>\n    <!-- Q-25%:  1.00 -->\n    <g transform=\"translate(366.661122 410.245483)scale(0.1 -0.1)\">\n     <use xlink:href=\"#ArialUnicodeMS-51\"/>\n     <use xlink:href=\"#ArialUnicodeMS-2d\" x=\"77.783203\"/>\n     <use xlink:href=\"#ArialUnicodeMS-32\" x=\"111.083984\"/>\n     <use xlink:href=\"#ArialUnicodeMS-35\" x=\"166.699219\"/>\n     <use xlink:href=\"#ArialUnicodeMS-25\" x=\"222.314453\"/>\n     <use xlink:href=\"#ArialUnicodeMS-3a\" x=\"311.230469\"/>\n     <use xlink:href=\"#ArialUnicodeMS-20\" x=\"339.013672\"/>\n     <use xlink:href=\"#ArialUnicodeMS-20\" x=\"366.796875\"/>\n     <use xlink:href=\"#ArialUnicodeMS-31\" x=\"394.580078\"/>\n     <use xlink:href=\"#ArialUnicodeMS-2e\" x=\"450.195312\"/>\n     <use xlink:href=\"#ArialUnicodeMS-30\" x=\"477.978516\"/>\n     <use xlink:href=\"#ArialUnicodeMS-30\" x=\"533.59375\"/>\n    </g>\n    <!--  -->\n    <g transform=\"translate(366.661122 420.827045)scale(0.1 -0.1)\"/>\n    <!-- Min:      0.16 -->\n    <g transform=\"translate(366.661122 431.408608)scale(0.1 -0.1)\">\n     <use xlink:href=\"#ArialUnicodeMS-4d\"/>\n     <use xlink:href=\"#ArialUnicodeMS-69\" x=\"83.300781\"/>\n     <use xlink:href=\"#ArialUnicodeMS-6e\" x=\"105.517578\"/>\n     <use xlink:href=\"#ArialUnicodeMS-3a\" x=\"161.132812\"/>\n     <use xlink:href=\"#ArialUnicodeMS-20\" x=\"188.916016\"/>\n     <use xlink:href=\"#ArialUnicodeMS-20\" x=\"216.699219\"/>\n     <use xlink:href=\"#ArialUnicodeMS-20\" x=\"244.482422\"/>\n     <use xlink:href=\"#ArialUnicodeMS-20\" x=\"272.265625\"/>\n     <use xlink:href=\"#ArialUnicodeMS-20\" x=\"300.048828\"/>\n     <use xlink:href=\"#ArialUnicodeMS-20\" x=\"327.832031\"/>\n     <use xlink:href=\"#ArialUnicodeMS-30\" x=\"355.615234\"/>\n     <use xlink:href=\"#ArialUnicodeMS-2e\" x=\"411.230469\"/>\n     <use xlink:href=\"#ArialUnicodeMS-31\" x=\"439.013672\"/>\n     <use xlink:href=\"#ArialUnicodeMS-36\" x=\"494.628906\"/>\n    </g>\n    <!--  -->\n    <g transform=\"translate(366.661122 441.99017)scale(0.1 -0.1)\"/>\n   </g>\n   <g id=\"text_63\">\n    <!-- Original_amount_USD -->\n    <g transform=\"translate(304.535326 312.444716)scale(0.12 -0.12)\">\n     <use xlink:href=\"#ArialUnicodeMS-4f\"/>\n     <use xlink:href=\"#ArialUnicodeMS-72\" x=\"77.783203\"/>\n     <use xlink:href=\"#ArialUnicodeMS-69\" x=\"111.083984\"/>\n     <use xlink:href=\"#ArialUnicodeMS-67\" x=\"133.300781\"/>\n     <use xlink:href=\"#ArialUnicodeMS-69\" x=\"188.916016\"/>\n     <use xlink:href=\"#ArialUnicodeMS-6e\" x=\"211.132812\"/>\n     <use xlink:href=\"#ArialUnicodeMS-61\" x=\"266.748047\"/>\n     <use xlink:href=\"#ArialUnicodeMS-6c\" x=\"322.363281\"/>\n     <use xlink:href=\"#ArialUnicodeMS-5f\" x=\"344.580078\"/>\n     <use xlink:href=\"#ArialUnicodeMS-61\" x=\"394.580078\"/>\n     <use xlink:href=\"#ArialUnicodeMS-6d\" x=\"450.195312\"/>\n     <use xlink:href=\"#ArialUnicodeMS-6f\" x=\"533.496094\"/>\n     <use xlink:href=\"#ArialUnicodeMS-75\" x=\"589.111328\"/>\n     <use xlink:href=\"#ArialUnicodeMS-6e\" x=\"644.726562\"/>\n     <use xlink:href=\"#ArialUnicodeMS-74\" x=\"700.341797\"/>\n     <use xlink:href=\"#ArialUnicodeMS-5f\" x=\"728.125\"/>\n     <use xlink:href=\"#ArialUnicodeMS-55\" x=\"778.125\"/>\n     <use xlink:href=\"#ArialUnicodeMS-53\" x=\"850.341797\"/>\n     <use xlink:href=\"#ArialUnicodeMS-44\" x=\"917.041016\"/>\n    </g>\n   </g>\n  </g>\n  <g id=\"axes_7\"/>\n  <g id=\"axes_8\"/>\n </g>\n <defs>\n  <clipPath id=\"pf7552c499f\">\n   <rect x=\"43.086151\" y=\"21.935625\" width=\"175.795904\" height=\"247.090909\"/>\n  </clipPath>\n  <clipPath id=\"p5d39ec6a8d\">\n   <rect x=\"275.990499\" y=\"21.935625\" width=\"175.795904\" height=\"247.090909\"/>\n  </clipPath>\n  <clipPath id=\"p4aa74cc50d\">\n   <rect x=\"508.894847\" y=\"21.935625\" width=\"175.795904\" height=\"247.090909\"/>\n  </clipPath>\n  <clipPath id=\"p16d3550d83\">\n   <rect x=\"732.653668\" y=\"21.935625\" width=\"194.086957\" height=\"247.090909\"/>\n  </clipPath>\n  <clipPath id=\"pecc40c9af2\">\n   <rect x=\"33.940625\" y=\"318.444716\" width=\"194.086957\" height=\"247.090909\"/>\n  </clipPath>\n  <clipPath id=\"p5842383e44\">\n   <rect x=\"266.844973\" y=\"318.444716\" width=\"194.086957\" height=\"247.090909\"/>\n  </clipPath>\n </defs>\n</svg>\n",
      "text/plain": [
       "<Figure size 1152x720 with 8 Axes>"
      ]
     },
     "metadata": {
      "needs_background": "light"
     },
     "output_type": "display_data"
    }
   ],
   "source": [
    "vis(analyze_result)"
   ]
  },
  {
   "cell_type": "markdown",
   "metadata": {},
   "source": [
    "## 3. Q&A"
   ]
  },
  {
   "cell_type": "markdown",
   "metadata": {},
   "source": [
    "1. How to improve the interface of QualityChecker, DataLoader and so on?\n",
    "\n",
    "2. Do I need to provide profile interface, constraint suggestion and constraint verification interface?\n",
    "\n",
    "3. Do I need to implement the visualization method? If so, does the above visualization example from kaggle appropriate? "
   ]
  },
  {
   "cell_type": "markdown",
   "metadata": {},
   "source": [
    "## 4. TODO"
   ]
  },
  {
   "cell_type": "markdown",
   "metadata": {},
   "source": [
    "calculate the difference of two or more dataframes\n",
    "\n",
    "use heatmap to show difference of metrics in a period of continuous time \n",
    "\n",
    "cut large datarframe to slices (weekly, daily or by some specific value)\n",
    "\n",
    "set threshold of analysis value to give alerts"
   ]
  }
 ],
 "metadata": {
  "kernelspec": {
   "display_name": "Python 3",
   "language": "python",
   "name": "python3"
  },
  "language_info": {
   "codemirror_mode": {
    "name": "ipython",
    "version": 3
   },
   "file_extension": ".py",
   "mimetype": "text/x-python",
   "name": "python",
   "nbconvert_exporter": "python",
   "pygments_lexer": "ipython3",
   "version": "3.9.12"
  },
  "orig_nbformat": 4,
  "vscode": {
   "interpreter": {
    "hash": "553ae6e143957d26ebd31e2a2a024ae448030105963c0ffafff9f85e0a915833"
   }
  }
 },
 "nbformat": 4,
 "nbformat_minor": 2
}
