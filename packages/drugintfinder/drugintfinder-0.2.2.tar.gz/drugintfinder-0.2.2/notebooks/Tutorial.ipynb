{
 "cells": [
  {
   "cell_type": "markdown",
   "id": "048f0220",
   "metadata": {
    "pycharm": {
     "name": "#%% md\n"
    }
   },
   "source": [
    "# Interactor Finder\n",
    "The `InteractorFinder` class is used to identify specifically linked nodes to your starting case. Here, we show how one initializes this class by choosing the MAPT protein with phosphorylation modification, and finds all causally linked neighbors."
   ]
  },
  {
   "cell_type": "code",
   "execution_count": 1,
   "id": "d5507142",
   "metadata": {
    "ExecuteTime": {
     "end_time": "2021-12-06T09:09:20.179225Z",
     "start_time": "2021-12-06T09:07:56.474635Z"
    },
    "pycharm": {
     "name": "#%%\n"
    }
   },
   "outputs": [
    {
     "data": {
      "text/plain": "          id pmod_type                                         target_bel  \\\n0          1       pho  p(HGNC:\"MAPT\",loc(MESHA:\"Cerebrospinal Fluid\")...   \n1          4       pho                      p(HGNC:\"MAPT\",pmod(Ph,S,357))   \n2          5       pho                      p(HGNC:\"MAPT\",pmod(Ph,S,357))   \n3          6       pho                      p(HGNC:\"MAPT\",pmod(Ph,S,199))   \n4          7       pho                      p(HGNC:\"MAPT\",pmod(Ph,S,199))   \n...      ...       ...                                                ...   \n36986  44072      None                          p(HGNC:\"MAPT\",pmod(Ph,T))   \n36987  44073      None                          p(HGNC:\"MAPT\",pmod(Ph,T))   \n36988  44074      None                          p(HGNC:\"MAPT\",pmod(Ph,T))   \n36989  44075      None         p(HGNC:\"MAPT\",loc(MESHA:\"Brain\"),pmod(Ph))   \n36990  44076      None                      p(HGNC:\"MAPT\",pmod(Ph,S,352))   \n\n      target_symbol target_type       relation_type  \\\n0              MAPT     protein           increases   \n1              MAPT     protein           increases   \n2              MAPT     protein           increases   \n3              MAPT     protein           increases   \n4              MAPT     protein           increases   \n...             ...         ...                 ...   \n36986          MAPT     protein           increases   \n36987          MAPT     protein           decreases   \n36988          MAPT     protein           decreases   \n36989          MAPT     protein           increases   \n36990          MAPT     protein  directly_increases   \n\n                          interactor_bel interactor_name interactor_type  \\\n0      p(HGNC:\"TREM2\",var(\"p.Arg47His\"))           TREM2         protein   \n1           act(p(HGNC:\"GSK3B\"),ma(kin))            None        activity   \n2           act(p(HGNC:\"GSK3B\"),ma(kin))            None        activity   \n3                 a(MESHC:\"calyculin A\")     calyculin A       abundance   \n4            act(p(HGNC:\"CDK5\"),ma(kin))            None        activity   \n...                                  ...             ...             ...   \n36986        act(p(HGNC:\"CDK5\"),ma(kin))            None        activity   \n36987                     p(HGNC:\"PIN1\")            PIN1         protein   \n36988     act(p(HGNC:\"PPP2CA\"),ma(phos))            None        activity   \n36989           p(HGNC:\"TREM2\",var(\"?\"))           TREM2         protein   \n36990       act(p(HGNC:\"MARK2\"),ma(kin))            None        activity   \n\n           pmid         pmc  target_species  \n0      28768545  PMC5541421            9606  \n1      17389597        None            9606  \n2      17360711        None            9606  \n3      21297267        None            9606  \n4      12387894        None            9606  \n...         ...         ...             ...  \n36986  23362255  PMC3597833            9606  \n36987  23362255  PMC3597833            9606  \n36988  23362255  PMC3597833            9606  \n36989  28768545  PMC5541421            9606  \n36990  24251416        None               0  \n\n[36991 rows x 12 columns]",
      "text/html": "<div>\n<style scoped>\n    .dataframe tbody tr th:only-of-type {\n        vertical-align: middle;\n    }\n\n    .dataframe tbody tr th {\n        vertical-align: top;\n    }\n\n    .dataframe thead th {\n        text-align: right;\n    }\n</style>\n<table border=\"1\" class=\"dataframe\">\n  <thead>\n    <tr style=\"text-align: right;\">\n      <th></th>\n      <th>id</th>\n      <th>pmod_type</th>\n      <th>target_bel</th>\n      <th>target_symbol</th>\n      <th>target_type</th>\n      <th>relation_type</th>\n      <th>interactor_bel</th>\n      <th>interactor_name</th>\n      <th>interactor_type</th>\n      <th>pmid</th>\n      <th>pmc</th>\n      <th>target_species</th>\n    </tr>\n  </thead>\n  <tbody>\n    <tr>\n      <th>0</th>\n      <td>1</td>\n      <td>pho</td>\n      <td>p(HGNC:\"MAPT\",loc(MESHA:\"Cerebrospinal Fluid\")...</td>\n      <td>MAPT</td>\n      <td>protein</td>\n      <td>increases</td>\n      <td>p(HGNC:\"TREM2\",var(\"p.Arg47His\"))</td>\n      <td>TREM2</td>\n      <td>protein</td>\n      <td>28768545</td>\n      <td>PMC5541421</td>\n      <td>9606</td>\n    </tr>\n    <tr>\n      <th>1</th>\n      <td>4</td>\n      <td>pho</td>\n      <td>p(HGNC:\"MAPT\",pmod(Ph,S,357))</td>\n      <td>MAPT</td>\n      <td>protein</td>\n      <td>increases</td>\n      <td>act(p(HGNC:\"GSK3B\"),ma(kin))</td>\n      <td>None</td>\n      <td>activity</td>\n      <td>17389597</td>\n      <td>None</td>\n      <td>9606</td>\n    </tr>\n    <tr>\n      <th>2</th>\n      <td>5</td>\n      <td>pho</td>\n      <td>p(HGNC:\"MAPT\",pmod(Ph,S,357))</td>\n      <td>MAPT</td>\n      <td>protein</td>\n      <td>increases</td>\n      <td>act(p(HGNC:\"GSK3B\"),ma(kin))</td>\n      <td>None</td>\n      <td>activity</td>\n      <td>17360711</td>\n      <td>None</td>\n      <td>9606</td>\n    </tr>\n    <tr>\n      <th>3</th>\n      <td>6</td>\n      <td>pho</td>\n      <td>p(HGNC:\"MAPT\",pmod(Ph,S,199))</td>\n      <td>MAPT</td>\n      <td>protein</td>\n      <td>increases</td>\n      <td>a(MESHC:\"calyculin A\")</td>\n      <td>calyculin A</td>\n      <td>abundance</td>\n      <td>21297267</td>\n      <td>None</td>\n      <td>9606</td>\n    </tr>\n    <tr>\n      <th>4</th>\n      <td>7</td>\n      <td>pho</td>\n      <td>p(HGNC:\"MAPT\",pmod(Ph,S,199))</td>\n      <td>MAPT</td>\n      <td>protein</td>\n      <td>increases</td>\n      <td>act(p(HGNC:\"CDK5\"),ma(kin))</td>\n      <td>None</td>\n      <td>activity</td>\n      <td>12387894</td>\n      <td>None</td>\n      <td>9606</td>\n    </tr>\n    <tr>\n      <th>...</th>\n      <td>...</td>\n      <td>...</td>\n      <td>...</td>\n      <td>...</td>\n      <td>...</td>\n      <td>...</td>\n      <td>...</td>\n      <td>...</td>\n      <td>...</td>\n      <td>...</td>\n      <td>...</td>\n      <td>...</td>\n    </tr>\n    <tr>\n      <th>36986</th>\n      <td>44072</td>\n      <td>None</td>\n      <td>p(HGNC:\"MAPT\",pmod(Ph,T))</td>\n      <td>MAPT</td>\n      <td>protein</td>\n      <td>increases</td>\n      <td>act(p(HGNC:\"CDK5\"),ma(kin))</td>\n      <td>None</td>\n      <td>activity</td>\n      <td>23362255</td>\n      <td>PMC3597833</td>\n      <td>9606</td>\n    </tr>\n    <tr>\n      <th>36987</th>\n      <td>44073</td>\n      <td>None</td>\n      <td>p(HGNC:\"MAPT\",pmod(Ph,T))</td>\n      <td>MAPT</td>\n      <td>protein</td>\n      <td>decreases</td>\n      <td>p(HGNC:\"PIN1\")</td>\n      <td>PIN1</td>\n      <td>protein</td>\n      <td>23362255</td>\n      <td>PMC3597833</td>\n      <td>9606</td>\n    </tr>\n    <tr>\n      <th>36988</th>\n      <td>44074</td>\n      <td>None</td>\n      <td>p(HGNC:\"MAPT\",pmod(Ph,T))</td>\n      <td>MAPT</td>\n      <td>protein</td>\n      <td>decreases</td>\n      <td>act(p(HGNC:\"PPP2CA\"),ma(phos))</td>\n      <td>None</td>\n      <td>activity</td>\n      <td>23362255</td>\n      <td>PMC3597833</td>\n      <td>9606</td>\n    </tr>\n    <tr>\n      <th>36989</th>\n      <td>44075</td>\n      <td>None</td>\n      <td>p(HGNC:\"MAPT\",loc(MESHA:\"Brain\"),pmod(Ph))</td>\n      <td>MAPT</td>\n      <td>protein</td>\n      <td>increases</td>\n      <td>p(HGNC:\"TREM2\",var(\"?\"))</td>\n      <td>TREM2</td>\n      <td>protein</td>\n      <td>28768545</td>\n      <td>PMC5541421</td>\n      <td>9606</td>\n    </tr>\n    <tr>\n      <th>36990</th>\n      <td>44076</td>\n      <td>None</td>\n      <td>p(HGNC:\"MAPT\",pmod(Ph,S,352))</td>\n      <td>MAPT</td>\n      <td>protein</td>\n      <td>directly_increases</td>\n      <td>act(p(HGNC:\"MARK2\"),ma(kin))</td>\n      <td>None</td>\n      <td>activity</td>\n      <td>24251416</td>\n      <td>None</td>\n      <td>0</td>\n    </tr>\n  </tbody>\n</table>\n<p>36991 rows × 12 columns</p>\n</div>"
     },
     "execution_count": 1,
     "metadata": {},
     "output_type": "execute_result"
    }
   ],
   "source": [
    "#!pip install drugintfinder\n",
    "from drugintfinder.finder import InteractorFinder\n",
    "\n",
    "import pandas as pd\n",
    "\n",
    "# Initialize with base information\n",
    "finder = InteractorFinder(node_name=\"MAPT\", node_type=\"protein\", neighbor_edge_type=\"causal\", print_sql=True)\n",
    "\n",
    "# Select for matching starting protein nodes (i.e. MAPT protein) and find all interactors\n",
    "neighbors = finder.find_interactors()\n",
    "neighbors"
   ]
  },
  {
   "cell_type": "markdown",
   "id": "79078343",
   "metadata": {
    "pycharm": {
     "name": "#%% md\n"
    }
   },
   "source": [
    "### Druggable Interactors\n",
    "While knowing the neighbors of select nodes is useful, knowing which ones can be targeted by drugs and compounds is even more informative. The InteractorFinder class has a method for searching out those special neighbors. By default, these neighbors are isolated to proteins as the KG restricts drug-target interactions to those occurring between proteins and compounds."
   ]
  },
  {
   "cell_type": "code",
   "execution_count": 2,
   "id": "176a87ce",
   "metadata": {
    "ExecuteTime": {
     "end_time": "2021-12-06T09:14:31.420305Z",
     "start_time": "2021-12-06T09:14:10.856319Z"
    },
    "pycharm": {
     "name": "#%%\n"
    }
   },
   "outputs": [
    {
     "data": {
      "text/plain": "          id                                               drug drugbank_id  \\\n0          1  N'-(Pyrrolidino[2,1-B]Isoindolin-4-On-8-Yl)-N-...     DB04186   \n1          2  1-(3,5-DICHLOROPHENYL)-5-METHYL-1H-1,2,4-TRIAZ...     DB07852   \n2          3                          N(6)-dimethylallyladenine     DB08768   \n3          4  (5E)-2-Amino-5-(2-pyridinylmethylene)-1,3-thia...     DB07529   \n4          5  4-{5-[(Z)-(2-IMINO-4-OXO-1,3-THIAZOLIDIN-5-YLI...     DB07534   \n...      ...                                                ...         ...   \n57951  57952                                          Bufexamac     DB13346   \n57952  57953                                         Debio-1347        None   \n57953  57954                              indirubin-3'-monoxime        None   \n57954  57955                                          quercetin        None   \n57955  57956                                           GW441756        None   \n\n          chembl_id  pubchem_id interactor_type   interactor_bel  \\\n0      CHEMBL141247    445840.0         protein   p(HGNC:\"CDK2\")   \n1              None   2763754.0         protein   p(HGNC:\"CDK2\")   \n2      CHEMBL476189     92180.0         protein   p(HGNC:\"CDK2\")   \n3              None  46937079.0         protein   p(HGNC:\"CDK2\")   \n4      CHEMBL233149   5729339.0         protein   p(HGNC:\"CDK2\")   \n...             ...         ...             ...              ...   \n57951   CHEMBL94394      2466.0         protein  p(HGNC:\"HDAC6\")   \n57952          None        None         protein  p(HGNC:\"HDAC6\")   \n57953          None        None         protein  p(HGNC:\"HDAC6\")   \n57954          None        None         protein  p(HGNC:\"HDAC6\")   \n57955          None        None         protein  p(HGNC:\"HDAC6\")   \n\n      interactor_name capsule_interactor_bel capsule_interactor_type  ...  \\\n0                CDK2                   None                    None  ...   \n1                CDK2                   None                    None  ...   \n2                CDK2                   None                    None  ...   \n3                CDK2                   None                    None  ...   \n4                CDK2                   None                    None  ...   \n...               ...                    ...                     ...  ...   \n57951           HDAC6        p(HGNC:\"HDAC6\")                 protein  ...   \n57952           HDAC6        p(HGNC:\"HDAC6\")                 protein  ...   \n57953           HDAC6        p(HGNC:\"HDAC6\")                 protein  ...   \n57954           HDAC6        p(HGNC:\"HDAC6\")                 protein  ...   \n57955           HDAC6        p(HGNC:\"HDAC6\")                 protein  ...   \n\n                          target_bel target_symbol target_type  \\\n0      p(HGNC:\"MAPT\",pmod(Ph,S,199))          MAPT     protein   \n1      p(HGNC:\"MAPT\",pmod(Ph,S,199))          MAPT     protein   \n2      p(HGNC:\"MAPT\",pmod(Ph,S,199))          MAPT     protein   \n3      p(HGNC:\"MAPT\",pmod(Ph,S,199))          MAPT     protein   \n4      p(HGNC:\"MAPT\",pmod(Ph,S,199))          MAPT     protein   \n...                              ...           ...         ...   \n57951  p(HGNC:\"MAPT\",pmod(Ph,S,369))          MAPT     protein   \n57952  p(HGNC:\"MAPT\",pmod(Ph,S,369))          MAPT     protein   \n57953  p(HGNC:\"MAPT\",pmod(Ph,S,369))          MAPT     protein   \n57954  p(HGNC:\"MAPT\",pmod(Ph,S,369))          MAPT     protein   \n57955  p(HGNC:\"MAPT\",pmod(Ph,S,369))          MAPT     protein   \n\n            relation_type pmod_type      pmid         pmc   rel_rid  \\\n0      directly_increases       pho   8282104        None   #570:10   \n1      directly_increases       pho   8282104        None   #570:10   \n2      directly_increases       pho   8282104        None   #570:10   \n3      directly_increases       pho   8282104        None   #570:10   \n4      directly_increases       pho   8282104        None   #570:10   \n...                   ...       ...       ...         ...       ...   \n57951           increases       pho  30935091  PMC6480207  #557:788   \n57952           increases       pho  30935091  PMC6480207  #557:788   \n57953           increases       pho  30935091  PMC6480207  #557:788   \n57954           increases       pho  30935091  PMC6480207  #557:788   \n57955           increases       pho  30935091  PMC6480207  #557:788   \n\n      drug_rel_rid drug_rel_actions  \n0      #1898:10624             None  \n1      #1898:10917             None  \n2      #1898:11306             None  \n3      #1898:11332             None  \n4      #1899:10523             None  \n...            ...              ...  \n57951  #1900:11395        inhibitor  \n57952  #1911:11461        inhibitor  \n57953  #1912:11461        inhibitor  \n57954  #1913:11461        inhibitor  \n57955  #1898:11465        inhibitor  \n\n[57956 rows x 21 columns]",
      "text/html": "<div>\n<style scoped>\n    .dataframe tbody tr th:only-of-type {\n        vertical-align: middle;\n    }\n\n    .dataframe tbody tr th {\n        vertical-align: top;\n    }\n\n    .dataframe thead th {\n        text-align: right;\n    }\n</style>\n<table border=\"1\" class=\"dataframe\">\n  <thead>\n    <tr style=\"text-align: right;\">\n      <th></th>\n      <th>id</th>\n      <th>drug</th>\n      <th>drugbank_id</th>\n      <th>chembl_id</th>\n      <th>pubchem_id</th>\n      <th>interactor_type</th>\n      <th>interactor_bel</th>\n      <th>interactor_name</th>\n      <th>capsule_interactor_bel</th>\n      <th>capsule_interactor_type</th>\n      <th>...</th>\n      <th>target_bel</th>\n      <th>target_symbol</th>\n      <th>target_type</th>\n      <th>relation_type</th>\n      <th>pmod_type</th>\n      <th>pmid</th>\n      <th>pmc</th>\n      <th>rel_rid</th>\n      <th>drug_rel_rid</th>\n      <th>drug_rel_actions</th>\n    </tr>\n  </thead>\n  <tbody>\n    <tr>\n      <th>0</th>\n      <td>1</td>\n      <td>N'-(Pyrrolidino[2,1-B]Isoindolin-4-On-8-Yl)-N-...</td>\n      <td>DB04186</td>\n      <td>CHEMBL141247</td>\n      <td>445840.0</td>\n      <td>protein</td>\n      <td>p(HGNC:\"CDK2\")</td>\n      <td>CDK2</td>\n      <td>None</td>\n      <td>None</td>\n      <td>...</td>\n      <td>p(HGNC:\"MAPT\",pmod(Ph,S,199))</td>\n      <td>MAPT</td>\n      <td>protein</td>\n      <td>directly_increases</td>\n      <td>pho</td>\n      <td>8282104</td>\n      <td>None</td>\n      <td>#570:10</td>\n      <td>#1898:10624</td>\n      <td>None</td>\n    </tr>\n    <tr>\n      <th>1</th>\n      <td>2</td>\n      <td>1-(3,5-DICHLOROPHENYL)-5-METHYL-1H-1,2,4-TRIAZ...</td>\n      <td>DB07852</td>\n      <td>None</td>\n      <td>2763754.0</td>\n      <td>protein</td>\n      <td>p(HGNC:\"CDK2\")</td>\n      <td>CDK2</td>\n      <td>None</td>\n      <td>None</td>\n      <td>...</td>\n      <td>p(HGNC:\"MAPT\",pmod(Ph,S,199))</td>\n      <td>MAPT</td>\n      <td>protein</td>\n      <td>directly_increases</td>\n      <td>pho</td>\n      <td>8282104</td>\n      <td>None</td>\n      <td>#570:10</td>\n      <td>#1898:10917</td>\n      <td>None</td>\n    </tr>\n    <tr>\n      <th>2</th>\n      <td>3</td>\n      <td>N(6)-dimethylallyladenine</td>\n      <td>DB08768</td>\n      <td>CHEMBL476189</td>\n      <td>92180.0</td>\n      <td>protein</td>\n      <td>p(HGNC:\"CDK2\")</td>\n      <td>CDK2</td>\n      <td>None</td>\n      <td>None</td>\n      <td>...</td>\n      <td>p(HGNC:\"MAPT\",pmod(Ph,S,199))</td>\n      <td>MAPT</td>\n      <td>protein</td>\n      <td>directly_increases</td>\n      <td>pho</td>\n      <td>8282104</td>\n      <td>None</td>\n      <td>#570:10</td>\n      <td>#1898:11306</td>\n      <td>None</td>\n    </tr>\n    <tr>\n      <th>3</th>\n      <td>4</td>\n      <td>(5E)-2-Amino-5-(2-pyridinylmethylene)-1,3-thia...</td>\n      <td>DB07529</td>\n      <td>None</td>\n      <td>46937079.0</td>\n      <td>protein</td>\n      <td>p(HGNC:\"CDK2\")</td>\n      <td>CDK2</td>\n      <td>None</td>\n      <td>None</td>\n      <td>...</td>\n      <td>p(HGNC:\"MAPT\",pmod(Ph,S,199))</td>\n      <td>MAPT</td>\n      <td>protein</td>\n      <td>directly_increases</td>\n      <td>pho</td>\n      <td>8282104</td>\n      <td>None</td>\n      <td>#570:10</td>\n      <td>#1898:11332</td>\n      <td>None</td>\n    </tr>\n    <tr>\n      <th>4</th>\n      <td>5</td>\n      <td>4-{5-[(Z)-(2-IMINO-4-OXO-1,3-THIAZOLIDIN-5-YLI...</td>\n      <td>DB07534</td>\n      <td>CHEMBL233149</td>\n      <td>5729339.0</td>\n      <td>protein</td>\n      <td>p(HGNC:\"CDK2\")</td>\n      <td>CDK2</td>\n      <td>None</td>\n      <td>None</td>\n      <td>...</td>\n      <td>p(HGNC:\"MAPT\",pmod(Ph,S,199))</td>\n      <td>MAPT</td>\n      <td>protein</td>\n      <td>directly_increases</td>\n      <td>pho</td>\n      <td>8282104</td>\n      <td>None</td>\n      <td>#570:10</td>\n      <td>#1899:10523</td>\n      <td>None</td>\n    </tr>\n    <tr>\n      <th>...</th>\n      <td>...</td>\n      <td>...</td>\n      <td>...</td>\n      <td>...</td>\n      <td>...</td>\n      <td>...</td>\n      <td>...</td>\n      <td>...</td>\n      <td>...</td>\n      <td>...</td>\n      <td>...</td>\n      <td>...</td>\n      <td>...</td>\n      <td>...</td>\n      <td>...</td>\n      <td>...</td>\n      <td>...</td>\n      <td>...</td>\n      <td>...</td>\n      <td>...</td>\n      <td>...</td>\n    </tr>\n    <tr>\n      <th>57951</th>\n      <td>57952</td>\n      <td>Bufexamac</td>\n      <td>DB13346</td>\n      <td>CHEMBL94394</td>\n      <td>2466.0</td>\n      <td>protein</td>\n      <td>p(HGNC:\"HDAC6\")</td>\n      <td>HDAC6</td>\n      <td>p(HGNC:\"HDAC6\")</td>\n      <td>protein</td>\n      <td>...</td>\n      <td>p(HGNC:\"MAPT\",pmod(Ph,S,369))</td>\n      <td>MAPT</td>\n      <td>protein</td>\n      <td>increases</td>\n      <td>pho</td>\n      <td>30935091</td>\n      <td>PMC6480207</td>\n      <td>#557:788</td>\n      <td>#1900:11395</td>\n      <td>inhibitor</td>\n    </tr>\n    <tr>\n      <th>57952</th>\n      <td>57953</td>\n      <td>Debio-1347</td>\n      <td>None</td>\n      <td>None</td>\n      <td>None</td>\n      <td>protein</td>\n      <td>p(HGNC:\"HDAC6\")</td>\n      <td>HDAC6</td>\n      <td>p(HGNC:\"HDAC6\")</td>\n      <td>protein</td>\n      <td>...</td>\n      <td>p(HGNC:\"MAPT\",pmod(Ph,S,369))</td>\n      <td>MAPT</td>\n      <td>protein</td>\n      <td>increases</td>\n      <td>pho</td>\n      <td>30935091</td>\n      <td>PMC6480207</td>\n      <td>#557:788</td>\n      <td>#1911:11461</td>\n      <td>inhibitor</td>\n    </tr>\n    <tr>\n      <th>57953</th>\n      <td>57954</td>\n      <td>indirubin-3'-monoxime</td>\n      <td>None</td>\n      <td>None</td>\n      <td>None</td>\n      <td>protein</td>\n      <td>p(HGNC:\"HDAC6\")</td>\n      <td>HDAC6</td>\n      <td>p(HGNC:\"HDAC6\")</td>\n      <td>protein</td>\n      <td>...</td>\n      <td>p(HGNC:\"MAPT\",pmod(Ph,S,369))</td>\n      <td>MAPT</td>\n      <td>protein</td>\n      <td>increases</td>\n      <td>pho</td>\n      <td>30935091</td>\n      <td>PMC6480207</td>\n      <td>#557:788</td>\n      <td>#1912:11461</td>\n      <td>inhibitor</td>\n    </tr>\n    <tr>\n      <th>57954</th>\n      <td>57955</td>\n      <td>quercetin</td>\n      <td>None</td>\n      <td>None</td>\n      <td>None</td>\n      <td>protein</td>\n      <td>p(HGNC:\"HDAC6\")</td>\n      <td>HDAC6</td>\n      <td>p(HGNC:\"HDAC6\")</td>\n      <td>protein</td>\n      <td>...</td>\n      <td>p(HGNC:\"MAPT\",pmod(Ph,S,369))</td>\n      <td>MAPT</td>\n      <td>protein</td>\n      <td>increases</td>\n      <td>pho</td>\n      <td>30935091</td>\n      <td>PMC6480207</td>\n      <td>#557:788</td>\n      <td>#1913:11461</td>\n      <td>inhibitor</td>\n    </tr>\n    <tr>\n      <th>57955</th>\n      <td>57956</td>\n      <td>GW441756</td>\n      <td>None</td>\n      <td>None</td>\n      <td>None</td>\n      <td>protein</td>\n      <td>p(HGNC:\"HDAC6\")</td>\n      <td>HDAC6</td>\n      <td>p(HGNC:\"HDAC6\")</td>\n      <td>protein</td>\n      <td>...</td>\n      <td>p(HGNC:\"MAPT\",pmod(Ph,S,369))</td>\n      <td>MAPT</td>\n      <td>protein</td>\n      <td>increases</td>\n      <td>pho</td>\n      <td>30935091</td>\n      <td>PMC6480207</td>\n      <td>#557:788</td>\n      <td>#1898:11465</td>\n      <td>inhibitor</td>\n    </tr>\n  </tbody>\n</table>\n<p>57956 rows × 21 columns</p>\n</div>"
     },
     "execution_count": 2,
     "metadata": {},
     "output_type": "execute_result"
    }
   ],
   "source": [
    "druggable_ints = finder.druggable_interactors()\n",
    "druggable_ints"
   ]
  },
  {
   "cell_type": "markdown",
   "id": "4f8cbb86",
   "metadata": {
    "pycharm": {
     "name": "#%% md\n"
    }
   },
   "source": [
    "# Ranker\n",
    "The `Ranker` class is used to generate useful statistics about identified druggable interactors. Because this scoring is restricted to druggable interactors, only the starting node and pmods are needed to initialize.  \n",
    "\n",
    "The ranking algorithm requires a bit of information to score everything, the first time it is used, it will need to download information on BioAssays and other resources which it will then store in a locally made SQLite database. The total space used is less than 100 MB.  \n",
    "\n",
    "The download will take a couple of minutes during the first ranking, but subsequent rankings will be much faster."
   ]
  },
  {
   "cell_type": "code",
   "execution_count": 3,
   "id": "ffcc5bd7",
   "metadata": {
    "ExecuteTime": {
     "end_time": "2021-12-06T09:19:05.740057Z",
     "start_time": "2021-12-06T09:14:57.167220Z"
    },
    "pycharm": {
     "name": "#%%\n"
    }
   },
   "outputs": [
    {
     "name": "stderr",
     "output_type": "stream",
     "text": [
      "Counting edges: 100%|██████████| 80/80 [00:00<00:00, 734.57it/s]\n"
     ]
    },
    {
     "data": {
      "text/plain": "                                                  Drug  Target Synergizes  \\\n0                                         Procyclidine   CHRM1        N/A   \n1    (2R)-1-[4-({6-[(2,6-Difluorophenyl)amino]-4-py...    CDK2        N/A   \n2                                          Olopatadine   S100B        N/A   \n3                                           Methyldopa     DDC        N/A   \n4    2-{[(6-OXO-1,6-DIHYDROPYRIDIN-3-YL)METHYL]AMIN...    ABL1        N/A   \n..                                                 ...     ...        ...   \n853                                  Lithium carbonate   GSK3B        N/A   \n854                                        Semaglutide   GLP1R        Yes   \n855  5-[1-(4-methoxyphenyl)-1H-benzimidazol-6-yl]-1...   GSK3B        N/A   \n856                                        Resveratrol    SNCA        N/A   \n857  6-[4-(2-fluorophenyl)-1,3-oxazol-5-yl]-N-(1-me...  MAPK14        N/A   \n\n     Number of BioAssays for Target  Number of Causal Edges for Target  \\\n0                              1115                                  9   \n1                              1518                                 15   \n2                                 6                                 16   \n3                                 8                                  2   \n4                              1929                                 10   \n..                              ...                                ...   \n853                            1197                                115   \n854                             120                                  6   \n855                            1197                                115   \n856                              64                                 47   \n857                            1490                                  7   \n\n    Drug Patent Ongoing Generic Version of Drug Available  \\\n0                    No                               Yes   \n1                    No                                No   \n2                    No                               Yes   \n3                    No                               Yes   \n4                    No                                No   \n..                  ...                               ...   \n853                  No                               Yes   \n854                  No                                No   \n855                  No                                No   \n856                  No                                No   \n857                  No                                No   \n\n    Number of Drug Targets  \n0                        4  \n1                        1  \n2                        8  \n3                        2  \n4                        1  \n..                     ...  \n853                      4  \n854                      1  \n855                      1  \n856                     26  \n857                      1  \n\n[858 rows x 8 columns]",
      "text/html": "<div>\n<style scoped>\n    .dataframe tbody tr th:only-of-type {\n        vertical-align: middle;\n    }\n\n    .dataframe tbody tr th {\n        vertical-align: top;\n    }\n\n    .dataframe thead th {\n        text-align: right;\n    }\n</style>\n<table border=\"1\" class=\"dataframe\">\n  <thead>\n    <tr style=\"text-align: right;\">\n      <th></th>\n      <th>Drug</th>\n      <th>Target</th>\n      <th>Synergizes</th>\n      <th>Number of BioAssays for Target</th>\n      <th>Number of Causal Edges for Target</th>\n      <th>Drug Patent Ongoing</th>\n      <th>Generic Version of Drug Available</th>\n      <th>Number of Drug Targets</th>\n    </tr>\n  </thead>\n  <tbody>\n    <tr>\n      <th>0</th>\n      <td>Procyclidine</td>\n      <td>CHRM1</td>\n      <td>N/A</td>\n      <td>1115</td>\n      <td>9</td>\n      <td>No</td>\n      <td>Yes</td>\n      <td>4</td>\n    </tr>\n    <tr>\n      <th>1</th>\n      <td>(2R)-1-[4-({6-[(2,6-Difluorophenyl)amino]-4-py...</td>\n      <td>CDK2</td>\n      <td>N/A</td>\n      <td>1518</td>\n      <td>15</td>\n      <td>No</td>\n      <td>No</td>\n      <td>1</td>\n    </tr>\n    <tr>\n      <th>2</th>\n      <td>Olopatadine</td>\n      <td>S100B</td>\n      <td>N/A</td>\n      <td>6</td>\n      <td>16</td>\n      <td>No</td>\n      <td>Yes</td>\n      <td>8</td>\n    </tr>\n    <tr>\n      <th>3</th>\n      <td>Methyldopa</td>\n      <td>DDC</td>\n      <td>N/A</td>\n      <td>8</td>\n      <td>2</td>\n      <td>No</td>\n      <td>Yes</td>\n      <td>2</td>\n    </tr>\n    <tr>\n      <th>4</th>\n      <td>2-{[(6-OXO-1,6-DIHYDROPYRIDIN-3-YL)METHYL]AMIN...</td>\n      <td>ABL1</td>\n      <td>N/A</td>\n      <td>1929</td>\n      <td>10</td>\n      <td>No</td>\n      <td>No</td>\n      <td>1</td>\n    </tr>\n    <tr>\n      <th>...</th>\n      <td>...</td>\n      <td>...</td>\n      <td>...</td>\n      <td>...</td>\n      <td>...</td>\n      <td>...</td>\n      <td>...</td>\n      <td>...</td>\n    </tr>\n    <tr>\n      <th>853</th>\n      <td>Lithium carbonate</td>\n      <td>GSK3B</td>\n      <td>N/A</td>\n      <td>1197</td>\n      <td>115</td>\n      <td>No</td>\n      <td>Yes</td>\n      <td>4</td>\n    </tr>\n    <tr>\n      <th>854</th>\n      <td>Semaglutide</td>\n      <td>GLP1R</td>\n      <td>Yes</td>\n      <td>120</td>\n      <td>6</td>\n      <td>No</td>\n      <td>No</td>\n      <td>1</td>\n    </tr>\n    <tr>\n      <th>855</th>\n      <td>5-[1-(4-methoxyphenyl)-1H-benzimidazol-6-yl]-1...</td>\n      <td>GSK3B</td>\n      <td>N/A</td>\n      <td>1197</td>\n      <td>115</td>\n      <td>No</td>\n      <td>No</td>\n      <td>1</td>\n    </tr>\n    <tr>\n      <th>856</th>\n      <td>Resveratrol</td>\n      <td>SNCA</td>\n      <td>N/A</td>\n      <td>64</td>\n      <td>47</td>\n      <td>No</td>\n      <td>No</td>\n      <td>26</td>\n    </tr>\n    <tr>\n      <th>857</th>\n      <td>6-[4-(2-fluorophenyl)-1,3-oxazol-5-yl]-N-(1-me...</td>\n      <td>MAPK14</td>\n      <td>N/A</td>\n      <td>1490</td>\n      <td>7</td>\n      <td>No</td>\n      <td>No</td>\n      <td>1</td>\n    </tr>\n  </tbody>\n</table>\n<p>858 rows × 8 columns</p>\n</div>"
     },
     "execution_count": 3,
     "metadata": {},
     "output_type": "execute_result"
    }
   ],
   "source": [
    "from drugintfinder.ranker import Ranker\n",
    "\n",
    "ranker = Ranker(symbol=\"MAPT\", pmods=[\"pho\"], reward=1, penalty=-1)\n",
    "ranker.rank()  # Performs the ranking\n",
    "summary = ranker.summarize()  # Create a summary os the statistics\n",
    "summary"
   ]
  },
  {
   "cell_type": "code",
   "execution_count": 4,
   "id": "e0dab569",
   "metadata": {
    "ExecuteTime": {
     "end_time": "2021-12-06T09:34:57.287676Z",
     "start_time": "2021-12-06T09:34:57.234674Z"
    },
    "pycharm": {
     "name": "#%%\n"
    }
   },
   "outputs": [
    {
     "data": {
      "text/plain": "    Protein  BioAssays per Drug\n70       F2                1096\n57    STAT3                 587\n74  RPS6KB1                 383\n76   CSNK1D                 362\n35    GSK3A                 356\n41   MAPK11                 233\n52   MAPK13                 205\n43   CDK5R1                 196\n24    HDAC6                 193\n77    MARK1                 185",
      "text/html": "<div>\n<style scoped>\n    .dataframe tbody tr th:only-of-type {\n        vertical-align: middle;\n    }\n\n    .dataframe tbody tr th {\n        vertical-align: top;\n    }\n\n    .dataframe thead th {\n        text-align: right;\n    }\n</style>\n<table border=\"1\" class=\"dataframe\">\n  <thead>\n    <tr style=\"text-align: right;\">\n      <th></th>\n      <th>Protein</th>\n      <th>BioAssays per Drug</th>\n    </tr>\n  </thead>\n  <tbody>\n    <tr>\n      <th>70</th>\n      <td>F2</td>\n      <td>1096</td>\n    </tr>\n    <tr>\n      <th>57</th>\n      <td>STAT3</td>\n      <td>587</td>\n    </tr>\n    <tr>\n      <th>74</th>\n      <td>RPS6KB1</td>\n      <td>383</td>\n    </tr>\n    <tr>\n      <th>76</th>\n      <td>CSNK1D</td>\n      <td>362</td>\n    </tr>\n    <tr>\n      <th>35</th>\n      <td>GSK3A</td>\n      <td>356</td>\n    </tr>\n    <tr>\n      <th>41</th>\n      <td>MAPK11</td>\n      <td>233</td>\n    </tr>\n    <tr>\n      <th>52</th>\n      <td>MAPK13</td>\n      <td>205</td>\n    </tr>\n    <tr>\n      <th>43</th>\n      <td>CDK5R1</td>\n      <td>196</td>\n    </tr>\n    <tr>\n      <th>24</th>\n      <td>HDAC6</td>\n      <td>193</td>\n    </tr>\n    <tr>\n      <th>77</th>\n      <td>MARK1</td>\n      <td>185</td>\n    </tr>\n  </tbody>\n</table>\n</div>"
     },
     "execution_count": 4,
     "metadata": {},
     "output_type": "execute_result"
    }
   ],
   "source": [
    "bioassays_per_drug = []\n",
    "\n",
    "for interactor in summary.Target.unique():\n",
    "    drugs = len(summary[summary.Target == interactor].Drug.unique())\n",
    "    bioassays = summary[summary.Target == interactor][\"Number of BioAssays for Target\"].iloc[0]\n",
    "    bioassays_per_drug.append({\"Protein\": interactor, \"BioAssays per Drug\": bioassays // drugs})\n",
    "\n",
    "ratio_df = pd.DataFrame(bioassays_per_drug)\n",
    "ratio_df.sort_values(\"BioAssays per Drug\", ascending=False)[:10]"
   ]
  },
  {
   "cell_type": "code",
   "execution_count": 5,
   "id": "1c434d6e",
   "metadata": {
    "ExecuteTime": {
     "end_time": "2021-12-06T09:34:03.996914Z",
     "start_time": "2021-12-06T09:34:03.981913Z"
    },
    "pycharm": {
     "name": "#%%\n"
    }
   },
   "outputs": [
    {
     "data": {
      "text/plain": "1127"
     },
     "execution_count": 5,
     "metadata": {},
     "output_type": "execute_result"
    }
   ],
   "source": [
    "import pandas as pd\n",
    "summary[summary.Target == \"APP\"][\"Number of BioAssays for Target\"].iloc[0]"
   ]
  },
  {
   "cell_type": "code",
   "execution_count": 7,
   "id": "63920910",
   "metadata": {
    "ExecuteTime": {
     "end_time": "2021-12-06T09:27:43.996431Z",
     "start_time": "2021-12-06T09:27:43.973404Z"
    },
    "pycharm": {
     "name": "#%%\n"
    }
   },
   "outputs": [
    {
     "data": {
      "text/plain": "                                                  Drug  Target Synergizes  \\\n327                                         Romidepsin   HDAC6        N/A   \n497                                          quercetin   HDAC6        N/A   \n651                              indirubin-3'-monoxime   HDAC6        N/A   \n382                                       Panobinostat   HDAC6        N/A   \n740                                        Pracinostat   HDAC6        N/A   \n..                                                 ...     ...        ...   \n586     N,N-Bis(3-(D-gluconamido)propyl)deoxycholamide    IGF1        N/A   \n261                     Zinc sulfate, unspecified form    APOB        N/A   \n845  N-Dodecyl-N,N-Dimethyl-3-Ammonio-1-Propanesulf...    IGF1        N/A   \n476                                           Thiamine    TPK1        N/A   \n102                                          Vitamin E  PPP2CB        N/A   \n\n     Number of BioAssays for Target  Number of Causal Edges for Target  \\\n327                            1938                                180   \n497                            1938                                180   \n651                            1938                                180   \n382                            1938                                180   \n740                            1938                                180   \n..                              ...                                ...   \n586                               1                                 59   \n261                               1                                  0   \n845                               1                                 59   \n476                               1                                  0   \n102                               1                                  1   \n\n    Drug Patent Ongoing Generic Version of Drug Available  \\\n327                 Yes                               Yes   \n497                  No                                No   \n651                  No                                No   \n382                  No                                No   \n740                  No                                No   \n..                  ...                               ...   \n586                  No                                No   \n261                  No                                No   \n845                  No                                No   \n476                  No                               Yes   \n102                  No                               Yes   \n\n    Number of Drug Targets  \n327                      5  \n497                    N/A  \n651                    N/A  \n382                     11  \n740                      4  \n..                     ...  \n586                      2  \n261                     97  \n845                      2  \n476                      1  \n102                     10  \n\n[858 rows x 8 columns]",
      "text/html": "<div>\n<style scoped>\n    .dataframe tbody tr th:only-of-type {\n        vertical-align: middle;\n    }\n\n    .dataframe tbody tr th {\n        vertical-align: top;\n    }\n\n    .dataframe thead th {\n        text-align: right;\n    }\n</style>\n<table border=\"1\" class=\"dataframe\">\n  <thead>\n    <tr style=\"text-align: right;\">\n      <th></th>\n      <th>Drug</th>\n      <th>Target</th>\n      <th>Synergizes</th>\n      <th>Number of BioAssays for Target</th>\n      <th>Number of Causal Edges for Target</th>\n      <th>Drug Patent Ongoing</th>\n      <th>Generic Version of Drug Available</th>\n      <th>Number of Drug Targets</th>\n    </tr>\n  </thead>\n  <tbody>\n    <tr>\n      <th>327</th>\n      <td>Romidepsin</td>\n      <td>HDAC6</td>\n      <td>N/A</td>\n      <td>1938</td>\n      <td>180</td>\n      <td>Yes</td>\n      <td>Yes</td>\n      <td>5</td>\n    </tr>\n    <tr>\n      <th>497</th>\n      <td>quercetin</td>\n      <td>HDAC6</td>\n      <td>N/A</td>\n      <td>1938</td>\n      <td>180</td>\n      <td>No</td>\n      <td>No</td>\n      <td>N/A</td>\n    </tr>\n    <tr>\n      <th>651</th>\n      <td>indirubin-3'-monoxime</td>\n      <td>HDAC6</td>\n      <td>N/A</td>\n      <td>1938</td>\n      <td>180</td>\n      <td>No</td>\n      <td>No</td>\n      <td>N/A</td>\n    </tr>\n    <tr>\n      <th>382</th>\n      <td>Panobinostat</td>\n      <td>HDAC6</td>\n      <td>N/A</td>\n      <td>1938</td>\n      <td>180</td>\n      <td>No</td>\n      <td>No</td>\n      <td>11</td>\n    </tr>\n    <tr>\n      <th>740</th>\n      <td>Pracinostat</td>\n      <td>HDAC6</td>\n      <td>N/A</td>\n      <td>1938</td>\n      <td>180</td>\n      <td>No</td>\n      <td>No</td>\n      <td>4</td>\n    </tr>\n    <tr>\n      <th>...</th>\n      <td>...</td>\n      <td>...</td>\n      <td>...</td>\n      <td>...</td>\n      <td>...</td>\n      <td>...</td>\n      <td>...</td>\n      <td>...</td>\n    </tr>\n    <tr>\n      <th>586</th>\n      <td>N,N-Bis(3-(D-gluconamido)propyl)deoxycholamide</td>\n      <td>IGF1</td>\n      <td>N/A</td>\n      <td>1</td>\n      <td>59</td>\n      <td>No</td>\n      <td>No</td>\n      <td>2</td>\n    </tr>\n    <tr>\n      <th>261</th>\n      <td>Zinc sulfate, unspecified form</td>\n      <td>APOB</td>\n      <td>N/A</td>\n      <td>1</td>\n      <td>0</td>\n      <td>No</td>\n      <td>No</td>\n      <td>97</td>\n    </tr>\n    <tr>\n      <th>845</th>\n      <td>N-Dodecyl-N,N-Dimethyl-3-Ammonio-1-Propanesulf...</td>\n      <td>IGF1</td>\n      <td>N/A</td>\n      <td>1</td>\n      <td>59</td>\n      <td>No</td>\n      <td>No</td>\n      <td>2</td>\n    </tr>\n    <tr>\n      <th>476</th>\n      <td>Thiamine</td>\n      <td>TPK1</td>\n      <td>N/A</td>\n      <td>1</td>\n      <td>0</td>\n      <td>No</td>\n      <td>Yes</td>\n      <td>1</td>\n    </tr>\n    <tr>\n      <th>102</th>\n      <td>Vitamin E</td>\n      <td>PPP2CB</td>\n      <td>N/A</td>\n      <td>1</td>\n      <td>1</td>\n      <td>No</td>\n      <td>Yes</td>\n      <td>10</td>\n    </tr>\n  </tbody>\n</table>\n<p>858 rows × 8 columns</p>\n</div>"
     },
     "execution_count": 7,
     "metadata": {},
     "output_type": "execute_result"
    }
   ],
   "source": [
    "summary.sort_values(by=\"Number of BioAssays for Target\", ascending=False)"
   ]
  },
  {
   "cell_type": "markdown",
   "id": "2d7e196d",
   "metadata": {
    "pycharm": {
     "name": "#%% md\n"
    }
   },
   "source": [
    "# PPI Analysis\n",
    "Next, we perform an analysis of the identified proteins using information gathered by [e(BE:L)](https://github.com/e-bel/ebel).\n",
    "The following commands will download data from 4 major PPI databases: BioGRID, Pathway Commons, StringDB, and IntAct,\n",
    "and check which pathways/interactions are known for every identified secondary target."
   ]
  },
  {
   "cell_type": "code",
   "execution_count": 8,
   "id": "afe6b98c",
   "metadata": {
    "pycharm": {
     "name": "#%%\n"
    }
   },
   "outputs": [
    {
     "ename": "ModuleNotFoundError",
     "evalue": "No module named 'ebel'",
     "output_type": "error",
     "traceback": [
      "\u001B[0;31m---------------------------------------------------------------------------\u001B[0m",
      "\u001B[0;31mModuleNotFoundError\u001B[0m                       Traceback (most recent call last)",
      "Input \u001B[0;32mIn [8]\u001B[0m, in \u001B[0;36m<cell line: 5>\u001B[0;34m()\u001B[0m\n\u001B[1;32m      1\u001B[0m \u001B[38;5;66;03m# Uncomment the following line if you need to install e(BE:L)\u001B[39;00m\n\u001B[1;32m      2\u001B[0m \u001B[38;5;66;03m#!pip install ebel git+https://github.com/orientechnologies/pyorient\u001B[39;00m\n\u001B[1;32m      4\u001B[0m \u001B[38;5;28;01mimport\u001B[39;00m \u001B[38;5;21;01mpandas\u001B[39;00m \u001B[38;5;28;01mas\u001B[39;00m \u001B[38;5;21;01mpd\u001B[39;00m\n\u001B[0;32m----> 5\u001B[0m \u001B[38;5;28;01mfrom\u001B[39;00m \u001B[38;5;21;01mebel\u001B[39;00m \u001B[38;5;28;01mimport\u001B[39;00m Bel\n\u001B[1;32m      6\u001B[0m bel \u001B[38;5;241m=\u001B[39m Bel()\n",
      "\u001B[0;31mModuleNotFoundError\u001B[0m: No module named 'ebel'"
     ]
    }
   ],
   "source": [
    "# Uncomment the following line if you need to install e(BE:L)\n",
    "#!pip install ebel git+https://github.com/orientechnologies/pyorient\n",
    "\n",
    "import pandas as pd\n",
    "from ebel import Bel\n",
    "bel = Bel()"
   ]
  },
  {
   "cell_type": "markdown",
   "id": "95c1793d",
   "metadata": {
    "pycharm": {
     "name": "#%% md\n"
    }
   },
   "source": [
    "## Download PPI Information\n",
    "The following cell downloads information from the PPI databases and inserts into a RDBMS (SQLlite [default] or MySQL).  \n",
    "**WARNING** This step may take awhile."
   ]
  },
  {
   "cell_type": "code",
   "execution_count": null,
   "id": "c93c7640",
   "metadata": {
    "pycharm": {
     "name": "#%%\n"
    }
   },
   "outputs": [],
   "source": [
    "bel.biogrid.update()\n",
    "bel.intact.update()\n",
    "bel.stringdb.update()\n",
    "bel.pathway_commons.update()"
   ]
  },
  {
   "cell_type": "markdown",
   "id": "86a160e3",
   "metadata": {
    "pycharm": {
     "name": "#%% md\n"
    }
   },
   "source": [
    "## Gather Hits\n",
    "Now we check each PPI database for associated information on each secondary target."
   ]
  },
  {
   "cell_type": "code",
   "execution_count": null,
   "id": "2b7476fd",
   "metadata": {
    "pycharm": {
     "name": "#%%\n"
    }
   },
   "outputs": [],
   "source": [
    "proteins = list(summary.Target.unique())"
   ]
  },
  {
   "cell_type": "markdown",
   "id": "6d42612b",
   "metadata": {
    "pycharm": {
     "name": "#%% md\n"
    }
   },
   "source": [
    "### Pathway Commons"
   ]
  },
  {
   "cell_type": "code",
   "execution_count": null,
   "id": "722461b2",
   "metadata": {
    "pycharm": {
     "name": "#%%\n"
    }
   },
   "outputs": [],
   "source": [
    "sql = f\"\"\"Select\n",
    "    pc.participant_a a,\n",
    "    pc.interaction_type int_type,\n",
    "    pc.participant_b b,\n",
    "    group_concat(distinct pn.name) pathway_names,\n",
    "    group_concat(distinct s.source) sources,\n",
    "    group_concat(distinct p.pmid) pmids\n",
    "from\n",
    "    pathway_commons pc left join\n",
    "    pathway_commons__pathway_name pc_pn on (pc.id=pc_pn.pathway_commons_id) left join\n",
    "    pathway_commons_pathway_name pn on (pc_pn.pathway_commons_pathway_name_id = pn.id) left join\n",
    "    pathway_commons__source pc_s on (pc.id=pc_s.pathway_commons_id) left join\n",
    "    pathway_commons_source s on (pc_s.pathway_commons_source_id=s.id) left join\n",
    "    pathway_commons_pmid p on (p.pathway_commons_id=pc.id)\n",
    "where\n",
    "    (pc.participant_a in {proteins} and pc.participant_b = 'MAPT') or\n",
    "    (pc.participant_b in {proteins} and pc.participant_a = 'MAPT')\n",
    "group by\n",
    "    pc.participant_a, pc.interaction_type, pc.participant_b\"\"\"\n",
    "\n",
    "pc_hits = pd.read_sql(sql, engine)"
   ]
  },
  {
   "cell_type": "markdown",
   "id": "95d849ed",
   "metadata": {
    "pycharm": {
     "name": "#%% md\n"
    }
   },
   "source": [
    "### BioGRID"
   ]
  },
  {
   "cell_type": "code",
   "execution_count": null,
   "id": "a7b5fe4d",
   "metadata": {
    "pycharm": {
     "name": "#%%\n"
    }
   },
   "outputs": [],
   "source": [
    "sql = f\"\"\"Select\n",
    "    ia.symbol a,\n",
    "    ib.symbol b,\n",
    "    bes.experimental_system,\n",
    "    bes.experimental_system_type\n",
    "from\n",
    "    biogrid b inner join\n",
    "    biogrid_interactor ia on (b.biogrid_a_id=ia.biogrid_id) inner join\n",
    "    biogrid_interactor ib on (b.biogrid_b_id=ib.biogrid_id) inner join\n",
    "    biogrid_experimental_system bes on (b.experimental_system_id=bes.id)\n",
    "where\n",
    "    (ia.symbol = 'MAPT' and ib.symbol in {proteins}) or\n",
    "    (ib.symbol = 'MAPT' and ia.symbol in {proteins})\"\"\"\n",
    "\n",
    "biogrid_hits = pd.read_sql(sql, engine)"
   ]
  },
  {
   "cell_type": "markdown",
   "id": "9f7fffcf",
   "metadata": {
    "pycharm": {
     "name": "#%% md\n"
    }
   },
   "source": [
    "### IntAct"
   ]
  },
  {
   "cell_type": "code",
   "execution_count": null,
   "id": "fa77bf4e",
   "metadata": {
    "pycharm": {
     "name": "#%%\n"
    }
   },
   "outputs": [],
   "source": [
    "sql = f\"\"\"Select\n",
    "    ha.symbol as symbol_a,\n",
    "    hb.symbol as symbol_b,\n",
    "    i.confidence_value, \n",
    "    i.detection_method, \n",
    "    i.interaction_type, \n",
    "    i.pmid\n",
    "from \n",
    "    intact i inner join \n",
    "    hgnc_uniprot hua on (i.int_a_uniprot_id=hua.accession) inner join \n",
    "    hgnc ha on (hua.hgnc_id=ha.id) inner join \n",
    "    hgnc_uniprot hub on (i.int_b_uniprot_id=hub.accession) inner join \n",
    "    hgnc hb on (hub.hgnc_id=hb.id)\n",
    "where \n",
    "    (ha.symbol='MAPT' and hb.symbol in {proteins}) or\n",
    "    (hb.symbol='MAPT' and ha.symbol in {proteins})\n",
    "order by confidence_value desc\n",
    "\"\"\"\n",
    "intact_hits = pd.read_sql(sql, engine)"
   ]
  },
  {
   "cell_type": "markdown",
   "id": "fb4d1f5e",
   "metadata": {
    "pycharm": {
     "name": "#%% md\n"
    }
   },
   "source": [
    "### StringDB"
   ]
  },
  {
   "cell_type": "code",
   "execution_count": null,
   "id": "f3527343",
   "metadata": {
    "pycharm": {
     "name": "#%%\n"
    }
   },
   "outputs": [],
   "source": [
    "sql = f\"\"\"Select * \n",
    "from \n",
    "    stringdb \n",
    "where \n",
    "    (symbol1='MAPT' and symbol2 in {proteins}) or\n",
    "    (symbol2='MAPT' and symbol1 in {proteins})\n",
    "order by combined_score desc\n",
    "\"\"\"\n",
    "stringdb_hits = pd.read_sql(sql, engine)"
   ]
  },
  {
   "cell_type": "markdown",
   "id": "aa57a3ca",
   "metadata": {
    "pycharm": {
     "name": "#%% md\n"
    }
   },
   "source": [
    "# Connecting to a Different Knowledge Graph\n",
    "By default, this package connects to the Alzheimer's Disease based Knowledge Graph (KG) developed under the MAVO project, available at https://graphstore.scai.fraunhofer.de. There are other KGs available, however, and here you can choose to connect to a different one if desired.\n",
    "\n",
    "The commented out code shows how one can connect instead to the COVID KG."
   ]
  },
  {
   "cell_type": "code",
   "execution_count": null,
   "id": "b6604375",
   "metadata": {
    "pycharm": {
     "name": "#%%\n"
    }
   },
   "outputs": [],
   "source": [
    "from ebel_rest import connect\n",
    "connect(user=\"covid_user\", password=\"covid\", db_name=\"covid\", server=\"https://graphstore.scai.fraunhofer.de\")"
   ]
  }
 ],
 "metadata": {
  "kernelspec": {
   "display_name": "Python 3 (ipykernel)",
   "language": "python",
   "name": "python3"
  },
  "language_info": {
   "codemirror_mode": {
    "name": "ipython",
    "version": 3
   },
   "file_extension": ".py",
   "mimetype": "text/x-python",
   "name": "python",
   "nbconvert_exporter": "python",
   "pygments_lexer": "ipython3",
   "version": "3.9.7"
  }
 },
 "nbformat": 4,
 "nbformat_minor": 5
}