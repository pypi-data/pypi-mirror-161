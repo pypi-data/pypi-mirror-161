{
 "cells": [
  {
   "cell_type": "code",
   "execution_count": 1,
   "metadata": {},
   "outputs": [],
   "source": [
    "import sys\n",
    "import os\n",
    "sys.path.append(os.path.dirname(os.path.dirname(os.path.abspath('./introduction.ipynb'))))"
   ]
  },
  {
   "cell_type": "code",
   "execution_count": 2,
   "metadata": {},
   "outputs": [],
   "source": [
    "import pandas as pd\n",
    "import numpy as np\n",
    "import matplotlib.pyplot as plt\n",
    "import matplotlib\n",
    "\n",
    "from itertools import product\n",
    "from sklearn.ensemble import RandomForestRegressor,RandomForestClassifier\n",
    "from sklearn.preprocessing import PolynomialFeatures\n",
    "\n",
    "from ylearn.exp_dataset.exp_data import single_continuous_treatment, single_binary_treatment, multi_continuous_treatment\n",
    "from ylearn.estimator_model.double_ml import DML4CATE"
   ]
  },
  {
   "cell_type": "code",
   "execution_count": 3,
   "metadata": {},
   "outputs": [],
   "source": [
    "train, val, treatment_effect = single_continuous_treatment()\n",
    "\n",
    "adjustment = train.columns[:-4]\n",
    "covariate = 'c_0'\n",
    "outcome = 'outcome'\n",
    "treatment = 'treatment'\n",
    "\n",
    "def exp_te(x): return np.exp(2*x)\n",
    "dat = np.array(list(product(np.arange(0, 1, 0.01), repeat=1))).ravel()\n",
    "data_test = pd.DataFrame({'c_0': dat})\n",
    "true_te = np.array([exp_te(xi) for xi in data_test[covariate]])"
   ]
  },
  {
   "cell_type": "code",
   "execution_count": 4,
   "metadata": {},
   "outputs": [],
   "source": [
    "adjustment = train.columns[:-4]\n",
    "covariate = 'c_0'\n",
    "outcome = 'outcome'\n",
    "treatment = 'treatment'"
   ]
  },
  {
   "cell_type": "code",
   "execution_count": 5,
   "metadata": {},
   "outputs": [
    {
     "name": "stdout",
     "output_type": "stream",
     "text": [
      "06-02 17:38:03 I ylearn.e.double_ml.py 670 - _fit_1st_stage: fitting x_model RandomForestRegressor\n",
      "06-02 17:38:05 I ylearn.e.double_ml.py 676 - _fit_1st_stage: fitting y_model RandomForestRegressor\n",
      "06-02 17:38:07 I ylearn.e.double_ml.py 702 - _fit_2nd_stage: fitting yx_model LinearRegression\n"
     ]
    },
    {
     "data": {
      "text/plain": [
       "Double Machine Learning Estimator"
      ]
     },
     "execution_count": 5,
     "metadata": {},
     "output_type": "execute_result"
    }
   ],
   "source": [
    "dml = DML4CATE(\n",
    "    x_model=RandomForestRegressor(),\n",
    "    y_model=RandomForestRegressor(),\n",
    "    cf_fold=1,\n",
    "    covariate_transformer = PolynomialFeatures(degree=3,include_bias=False)\n",
    ")\n",
    "dml.fit(\n",
    "    train,\n",
    "    outcome,\n",
    "    treatment,\n",
    "    adjustment,\n",
    "    covariate, \n",
    ")"
   ]
  },
  {
   "cell_type": "code",
   "execution_count": 6,
   "metadata": {},
   "outputs": [],
   "source": [
    "from ylearn.effect_interpreter.ce_interpreter import CEInterpreter"
   ]
  },
  {
   "cell_type": "code",
   "execution_count": 7,
   "metadata": {},
   "outputs": [
    {
     "data": {
      "text/plain": [
       "<ylearn.effect_interpreter.ce_interpreter.CEInterpreter at 0x7fd23e2cf7c0>"
      ]
     },
     "execution_count": 7,
     "metadata": {},
     "output_type": "execute_result"
    }
   ],
   "source": [
    "cei = CEInterpreter(max_depth=2,)\n",
    "cei.fit(data=data_test, est_model=dml)"
   ]
  },
  {
   "cell_type": "code",
   "execution_count": 8,
   "metadata": {},
   "outputs": [
    {
     "data": {
      "image/png": "[encoded data removed]",
      "text/plain": [
       "<Figure size 432x288 with 1 Axes>"
      ]
     },
     "metadata": {
      "needs_background": "light"
     },
     "output_type": "display_data"
    }
   ],
   "source": [
    "cei.plot(feature_names=['a', 'b', 'c'])\n",
    "plt.show()"
   ]
  },
  {
   "cell_type": "code",
   "execution_count": 9,
   "metadata": {},
   "outputs": [],
   "source": [
    "interpret_result = cei.interpret(data=data_test[4:6])"
   ]
  },
  {
   "cell_type": "code",
   "execution_count": 10,
   "metadata": {},
   "outputs": [
    {
     "name": "stdout",
     "output_type": "stream",
     "text": [
      "decision node 0: (covariate [0, 1] = 0.0015999999595806003) <= 0.44225001335144043 \n",
      "decision node 1: (covariate [0, 2] = 6.399999983841553e-05) <= 0.0664605014026165 \n",
      "\n"
     ]
    }
   ],
   "source": [
    "print(interpret_result['sample_0'])"
   ]
  }
 ],
 "metadata": {
  "interpreter": {
   "hash": "e0ecfad75f99b8578830c76494b15e8b8f0ed30d484e3d7b0b2aac43eb800e14"
  },
  "kernelspec": {
   "display_name": "Python 3.8.12 ('causal')",
   "language": "python",
   "name": "python3"
  },
  "language_info": {
   "codemirror_mode": {
    "name": "ipython",
    "version": 3
   },
   "file_extension": ".py",
   "mimetype": "text/x-python",
   "name": "python",
   "nbconvert_exporter": "python",
   "pygments_lexer": "ipython3",
   "version": "3.8.12"
  },
  "orig_nbformat": 4
 },
 "nbformat": 4,
 "nbformat_minor": 2
}
